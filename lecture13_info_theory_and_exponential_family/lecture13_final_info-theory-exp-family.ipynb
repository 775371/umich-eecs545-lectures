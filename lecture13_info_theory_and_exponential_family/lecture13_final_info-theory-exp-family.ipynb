{
 "cells": [
  {
   "cell_type": "markdown",
   "metadata": {
    "slideshow": {
     "slide_type": "skip"
    }
   },
   "source": [
    "$$ \\LaTeX \\text{ command declarations here.}\n",
    "\\newcommand{\\R}{\\mathbb{R}}\n",
    "\\renewcommand{\\vec}[1]{\\mathbf{#1}}\n",
    "\\newcommand{\\X}{\\mathcal{X}}\n",
    "\\newcommand{\\D}{\\mathcal{D}}\n",
    "$$"
   ]
  },
  {
   "cell_type": "code",
   "execution_count": 1,
   "metadata": {
    "collapsed": false,
    "slideshow": {
     "slide_type": "skip"
    }
   },
   "outputs": [],
   "source": [
    "from __future__ import division\n",
    "\n",
    "# plotting\n",
    "%matplotlib inline\n",
    "from matplotlib import pyplot as plt;\n",
    "\n",
    "# scientific\n",
    "import numpy as np;\n",
    "\n",
    "# ipython\n",
    "from IPython.display import Image"
   ]
  },
  {
   "cell_type": "markdown",
   "metadata": {
    "slideshow": {
     "slide_type": "slide"
    }
   },
   "source": [
    "# EECS 545:  Machine Learning\n",
    "## Lecture 13:  Information Theory and Exponential Families\n",
    "* Instructor:  **Jacob Abernethy**\n",
    "* Date:  March 7, 2016\n",
    "\n",
    "*Lecture Exposition Credit:*  Benjamin Bray & Saket Dewaligan"
   ]
  },
  {
   "cell_type": "markdown",
   "metadata": {
    "slideshow": {
     "slide_type": "slide"
    }
   },
   "source": [
    "## References\n",
    "\n",
    "Information Theory:\n",
    "\n",
    "- **[Shannon 1951]** Shannon, Claude E.. [*The Mathematical Theory of Communication*](http://worrydream.com/refs/Shannon%20-%20A%20Mathematical%20Theory%20of%20Communication.pdf).  1951.\n",
    "- **[Pierce 1980]** Pierce, John R..  [*An Introduction to Information Theory:  Symbols, Signals, and Noise*](http://www.amazon.com/An-Introduction-Information-Theory-Mathematics/dp/0486240614).  1980.\n",
    "- **[Stone 2015]** Stone, James V..  [*Information Theory:  A Tutorial Introduction*](http://jim-stone.staff.shef.ac.uk/BookInfoTheory/InfoTheoryBookMain.html).  2015."
   ]
  },
  {
   "cell_type": "markdown",
   "metadata": {
    "slideshow": {
     "slide_type": "slide"
    }
   },
   "source": [
    "## References\n",
    "\n",
    "Exponential Families:\n",
    "\n",
    "- **[MLAPP]** Murphy, Kevin. [*Machine Learning:  A Probabilistic Perspective*](https://mitpress.mit.edu/books/machine-learning-0).  2012.\n",
    "- **[Hero 2008]** Hero, Alfred O..  [*Statistical Methods for Signal Processing*](http://web.eecs.umich.edu/~hero/Preprints/main_564_08_new.pdf).  2008.\n",
    "- **[Blei 2011]** Blei, David. [*Notes on Exponential Families*](https://www.cs.princeton.edu/courses/archive/fall11/cos597C/lectures/exponential-families.pdf).  2011."
   ]
  },
  {
   "cell_type": "markdown",
   "metadata": {
    "slideshow": {
     "slide_type": "slide"
    }
   },
   "source": [
    "## Outline\n",
    "\n",
    "This lecture, we introduce some important background for **Probabilistic Graphical Models**.\n",
    "\n",
    "* Information Theory\n",
    "    - Information, Entropy, and Encoding\n",
    "    - Relative Entropy, Mutual Information & Collocations\n",
    "    - Maximum Entropy Distributions\n",
    "* Exponential Family\n",
    "    - Mean and Natural Parameterizations\n",
    "    - Conjugate Priors & Maximum Likelihood"
   ]
  },
  {
   "cell_type": "markdown",
   "metadata": {
    "slideshow": {
     "slide_type": "slide"
    }
   },
   "source": [
    "# Information Theory\n",
    "\n",
    "> Uses material from **[MLAPP]** §2.8, **[Pierce 1980]**, **[Stone 2015]**, and **[Shannon 1951]**."
   ]
  },
  {
   "cell_type": "markdown",
   "metadata": {
    "slideshow": {
     "slide_type": "slide"
    }
   },
   "source": [
    "### Information Theory\n",
    "\n",
    "Information theory is concerned with\n",
    "- **Compression:**  Representing data in a compact fashion\n",
    "- **Error Correction:**  Transmitting and storing data in a way that is robust to errors\n",
    "\n",
    "In machine learning, information-theoretic quantities are useful for\n",
    "- manipulating probability distributions\n",
    "- interpreting statistical learning algorithms"
   ]
  },
  {
   "cell_type": "markdown",
   "metadata": {
    "slideshow": {
     "slide_type": "slide"
    }
   },
   "source": [
    "### What is Information?\n",
    "\n",
    "Can we measure the amount of **information** we gain from an observation?\n",
    "- Information is measured in *bits* ( don't confuse with *binary digits*, $0110001\\dots$ )\n",
    "- Intuitively, observing a fair coin flip should give 1 bit of information\n",
    "- Observing two fair coints should give 2 bits, and so on..."
   ]
  },
  {
   "cell_type": "markdown",
   "metadata": {
    "slideshow": {
     "slide_type": "slide"
    }
   },
   "source": [
    "### Information:  Definition\n",
    "\n",
    "The **information content** of an event $E$ with probability $p$ is\n",
    "$$\n",
    "I(E) = I(p) = - \\log_2 p = \\log_2 \\frac{1}{p} \\geq 0\n",
    "$$\n",
    "\n",
    "- Information theory is about *probabilities* and *distributions*\n",
    "- The \"meaning\" of events doesn't matter.\n",
    "- Using bases other than 2 yields different units (Hartleys, nats, ...)"
   ]
  },
  {
   "cell_type": "markdown",
   "metadata": {
    "slideshow": {
     "slide_type": "slide"
    }
   },
   "source": [
    "### Example:  Fair Coin\n",
    "\n",
    "**One Coin:**  If $P(Heads)=0.5$ and we observe heads, then\n",
    "$$\n",
    "I(Heads) = - \\log_2 P(Heads) = 1 \\;\\mathrm{bit}\n",
    "$$"
   ]
  },
  {
   "cell_type": "markdown",
   "metadata": {
    "slideshow": {
     "slide_type": "fragment"
    }
   },
   "source": [
    "**Two Coins:** If we observe two heads in a row, \n",
    "$$\n",
    "\\begin{align}\n",
    "I(Heads,Heads)\n",
    "&= -\\log_2 P(Heads, Heads) \\\\\n",
    "&= -\\log_2 P(Heads)P(Heads) \\\\\n",
    "&= -\\log_2 P(Heads) - \\log_2 P(Heads) = 2 \\;\\mathrm{bits}\n",
    "\\end{align}\n",
    "$$"
   ]
  },
  {
   "cell_type": "markdown",
   "metadata": {
    "slideshow": {
     "slide_type": "slide"
    }
   },
   "source": [
    "### Example:  Unfair Coin\n",
    "\n",
    "Suppose the coin has two heads, so $P(H)=1$.  Then,\n",
    "$$\n",
    "I(Heads) = - \\log_2 1 = 0\n",
    "$$\n",
    "\n",
    "If we know the coin is unfair, we gain no information by observing heads!\n",
    "- Information is a measure of how **surprised** we are by an outcome.\n",
    "- Observing heads when $P(H)=0$ yields *infinite* information."
   ]
  },
  {
   "cell_type": "markdown",
   "metadata": {
    "slideshow": {
     "slide_type": "slide"
    }
   },
   "source": [
    "### Entropy:  Definition\n",
    "\n",
    "The **entropy** of a discrete random variable $X$ with distribution $p$ is\n",
    "$$\n",
    "H[X] = H[p] = E[I(p(X))] = - \\sum_{x \\in X} p(x) \\log p(x)\n",
    "$$\n",
    "\n",
    "Entropy is the expected information received when we sample from $X$.\n",
    "- How *surprised* are we, on average?"
   ]
  },
  {
   "cell_type": "markdown",
   "metadata": {
    "slideshow": {
     "slide_type": "slide"
    }
   },
   "source": [
    "### Entropy:  Coin Flip\n",
    "\n",
    "If $X$ is binary, $H[X] = -[ p \\log p + (1-p) \\log (1-p) ]$"
   ]
  },
  {
   "cell_type": "code",
   "execution_count": 2,
   "metadata": {
    "collapsed": false,
    "slideshow": {
     "slide_type": "-"
    }
   },
   "outputs": [
    {
     "data": {
      "image/png": "[encoded data removed]",
      "text/plain": [
       "<matplotlib.figure.Figure at 0x7f7ea411b080>"
      ]
     },
     "metadata": {},
     "output_type": "display_data"
    }
   ],
   "source": [
    "p = np.linspace(0.01,0.99,100);\n",
    "plt.plot(p, -(p * np.log(p) + (1-p)*np.log(1-p)) / np.log(2));"
   ]
  },
  {
   "cell_type": "markdown",
   "metadata": {
    "slideshow": {
     "slide_type": "slide"
    }
   },
   "source": [
    "### Entropy & Surprisal\n",
    "\n",
    "Entropy is highest when $X$ is close to uniform.\n",
    "- Large entropy $\\iff$ high uncertainty, more information from each new observation\n",
    "- Low entropy $\\iff$ more knowledge about possible outcomes\n",
    "\n",
    "The farther from uniform $X$ is, the lower the entropy."
   ]
  },
  {
   "cell_type": "markdown",
   "metadata": {
    "slideshow": {
     "slide_type": "slide"
    }
   },
   "source": [
    "### Maximum Entropy Principle\n",
    "\n",
    "Suppose we sample data from an unknown distribution $p$, and\n",
    "- we collect statistics (mean, variance, etc.) from the data\n",
    "- we want an *objective* or unbiased estimate of $p$\n",
    "\n",
    "The **Maximum Entropy Principle** states that:\n",
    "\n",
    "> We should choose $p$ to have maximum entropy $H[p]$ among all distributions satisfying our constraints."
   ]
  },
  {
   "cell_type": "markdown",
   "metadata": {
    "slideshow": {
     "slide_type": "slide"
    }
   },
   "source": [
    "### Maximum Entropy:  Examples\n",
    "\n",
    "Some examples of maximum entropy distributions:\n",
    "\n",
    "<table>\n",
    "<thead><th>Constraints</th><th>Maximum Entropy Distribution</th></thead>\n",
    "<tbody>\n",
    "    <tr><td>Min $a$, Max $b$</td><td>Uniform $U[a,b]$</td></tr>\n",
    "    <tr><td>Mean $\\mu$, Support $(0,+\\infty)$</td><td>Exponential $Exp(\\mu)$</td></tr>\n",
    "    <tr><td>Variance $\\sigma^2$</td><td>Gaussian $\\mathcal{N}(\\mu, \\sigma^2)$</td></tr>\n",
    "</tbody>\n",
    "</table>\n",
    "\n",
    "Later, **Exponential Family Distributions** will generalize this concept."
   ]
  },
  {
   "cell_type": "markdown",
   "metadata": {
    "slideshow": {
     "slide_type": "slide"
    }
   },
   "source": [
    "### Communication Channels\n",
    "\n",
    "For some intuition, consider a **communication channel**:\n",
    "1. The **source** generates messages.\n",
    "2. An **encoder** converts the message to a **signal** for transmission.\n",
    "3. Signals are transmitted along a **channel**, possibly under the influence of **noise**.\n",
    "4. A **decoder** attempts to reconstruct the original message from the transmitted signal.\n",
    "5. The **destination** is the intended recipient."
   ]
  },
  {
   "cell_type": "code",
   "execution_count": 3,
   "metadata": {
    "collapsed": false,
    "slideshow": {
     "slide_type": "slide"
    }
   },
   "outputs": [
    {
     "data": {
      "image/jpeg": "[encoded data removed]",
      "text/plain": [
       "<IPython.core.display.Image object>"
      ]
     },
     "execution_count": 3,
     "metadata": {},
     "output_type": "execute_result"
    }
   ],
   "source": [
    "Image(filename=\"images/shannon_comm_channel.jpg\")"
   ]
  },
  {
   "cell_type": "markdown",
   "metadata": {
    "slideshow": {
     "slide_type": "slide"
    }
   },
   "source": [
    "### Encoding\n",
    "\n",
    "Suppose we draw messages from a distribution $p$.\n",
    "- Certain messages may be more likely than others.\n",
    "- For example, the letter $e$ is most frequent in English\n",
    "\n",
    "An **efficient** encoding minimizes the average message length,\n",
    "- assign *short* codewords to common messages\n",
    "- and *longer* codewords to rare messages"
   ]
  },
  {
   "cell_type": "markdown",
   "metadata": {
    "slideshow": {
     "slide_type": "skip"
    }
   },
   "source": [
    "<div style=\"margin: 10px auto; max-width: 400px; color:red\">\n",
    "**Note to Jake:** I didn't want to put this on a slide, but you might want to mention the story of how Morse came up with his code.\n",
    "<br><br>\n",
    "At the time, newspaper printers had tiny metal copies of each letter, used for printing.  Morse apparently reasoned that they would have only as many copies of each letter as necessary to print a page, so he counted the number of copies of each letter they had and used that to estimate English letter frequencies.\n",
    "</div>"
   ]
  },
  {
   "cell_type": "markdown",
   "metadata": {
    "slideshow": {
     "slide_type": "slide"
    }
   },
   "source": [
    "### Encoding:  Morse Code\n",
    "\n",
    "This is precisely how **Morse Code** works!\n",
    "> Approximates **Huffman Coding**, which gives optimal binary codes."
   ]
  },
  {
   "cell_type": "code",
   "execution_count": 4,
   "metadata": {
    "collapsed": false,
    "scrolled": true,
    "slideshow": {
     "slide_type": "-"
    }
   },
   "outputs": [
    {
     "data": {
      "image/jpeg": "[encoded data removed]",
      "text/plain": [
       "<IPython.core.display.Image object>"
      ]
     },
     "execution_count": 4,
     "metadata": {},
     "output_type": "execute_result"
    }
   ],
   "source": [
    "Image(filename=\"images/morse-code.jpg\")"
   ]
  },
  {
   "cell_type": "markdown",
   "metadata": {
    "slideshow": {
     "slide_type": "slide"
    }
   },
   "source": [
    "### Source Coding Theorem\n",
    "\n",
    "Claude Shannon proved that for discrete noiseless channels:\n",
    "\n",
    "> It is impossible to encode messages drawn from a distribution $p$ with fewer than $H[p]$ bits, on average.\n",
    "\n",
    "Here, *bits* refers to *binary digits*, i.e. encoding messages in binary.\n",
    "> $H[p]$ measures the optimal code length, in bits, for messages drawn from $p$"
   ]
  },
  {
   "cell_type": "markdown",
   "metadata": {
    "slideshow": {
     "slide_type": "slide"
    }
   },
   "source": [
    "### Cross Entropy & Relative Entropy\n",
    "\n",
    "Consider different distributions $p$ and $q$\n",
    "- What if we use a code optimal for $q$ to encode messages from $p$?\n",
    "\n",
    "For example, suppose our encoding scheme is optimal for German text.\n",
    "- What if we send English messages instead?\n",
    "- Certainly, there will be some waste due to different letter frequencies, umlauts, ..."
   ]
  },
  {
   "cell_type": "markdown",
   "metadata": {
    "slideshow": {
     "slide_type": "slide"
    }
   },
   "source": [
    "### Cross Entropy\n",
    "\n",
    "The **cross entropy** measures the average number of bits needed to encode messages drawn from $p$ when we use a code optimal for $q$:\n",
    "$$\n",
    "H(p,q) = -\\sum_{x \\in \\X} p(x) \\log q(x)\n",
    "= - E_p[\\log q(x)]\n",
    "$$\n",
    "\n",
    "Intuitively, $H(p,q) \\geq H(p)$.  The **relative entropy** is the difference $H(p,q) - H(p)$."
   ]
  },
  {
   "cell_type": "markdown",
   "metadata": {
    "slideshow": {
     "slide_type": "slide"
    }
   },
   "source": [
    "### Relative Entropy:  Definition\n",
    "\n",
    "The **relative entropy** or **Kullback-Leibler divergence** of $q$ from $p$ is\n",
    "\n",
    "$$\n",
    "\\begin{align}\n",
    "D_{KL}(p || q)\n",
    "&= \\sum_{x \\in X} p(x) \\log \\frac{p(x)}{q(x)} \\\\\n",
    "&= H(p,q) - H(p)\n",
    "\\end{align}\n",
    "$$\n",
    "\n",
    "> Measures the number of *extra* bits needed to encode messages from $p$ if we use a code optimal for $q$."
   ]
  },
  {
   "cell_type": "markdown",
   "metadata": {
    "slideshow": {
     "slide_type": "slide"
    }
   },
   "source": [
    "### Mutual Information:  Definition\n",
    "\n",
    "The **mutual information** between discrete variables $X$ and $Y$ is\n",
    "$$\\begin{align}\n",
    "I(X; Y)\n",
    "&= \\sum_{y\\in Y} \\sum_{x \\in X} p(x,y) \\log\\frac{p(x,y)}{p(x)p(y)} \\\\\n",
    "&= D_{KL}( p(x,y) || p(x)p(y) )\n",
    "\\end{align}$$\n",
    "\n",
    "- If $X$ and $Y$ are independent, $p(x,y)=p(x)p(y)$\n",
    "- So, $I(X;Y)$ measures how *independent* $X$ and $Y$ are!\n",
    "- Related to correlation $\\rho(X,Y)$"
   ]
  },
  {
   "cell_type": "markdown",
   "metadata": {
    "slideshow": {
     "slide_type": "slide"
    }
   },
   "source": [
    "### Example:  Collocations & PMI\n",
    "\n",
    "A **collocation** is a sequence of words that co-occur more often than expected by chance.\n",
    "- fixed expression familiar to native speakers (hard to translate)\n",
    "- meaning of the whole is more than the sum of its parts\n",
    "\n",
    "> See [these slides](https://www.eecis.udel.edu/~trnka/CISC889-11S/lectures/philip-pmi.pdf) for more details"
   ]
  },
  {
   "cell_type": "markdown",
   "metadata": {
    "slideshow": {
     "slide_type": "slide"
    }
   },
   "source": [
    "### Example:  Collocation & PMI\n",
    "\n",
    "Substituting a synonym sounds unnatural:\n",
    "- \"fast food\" vs. \"quick food\"\n",
    "- \"Great Britain\" vs. \"Good Britain\"\n",
    "- \"warm greetings\" vs \"hot greetings\"\n",
    "\n",
    "> How can we find collocations in a corpus of text?"
   ]
  },
  {
   "cell_type": "markdown",
   "metadata": {
    "slideshow": {
     "slide_type": "slide"
    }
   },
   "source": [
    "### Example:  Collocations & PMI\n",
    "\n",
    "The **pointwise mutual information** between words $x$ and $y$ is\n",
    "$$\n",
    "\\mathrm{pmi}(x;y) = \\log \\frac{p(x,y)}{p(x)p(y)}\n",
    "$$\n",
    "\n",
    "- $p(x)p(y)$ is how frequently we **expect** $x$ and $y$ to co-occur, if they do so independently.\n",
    "- $p(x,y)$ measures how frequently $x$ and $y$ **actually** occur together"
   ]
  },
  {
   "cell_type": "markdown",
   "metadata": {
    "slideshow": {
     "slide_type": "slide"
    }
   },
   "source": [
    "### Example:  Collocations & PMI\n",
    "\n",
    "**Idea:**  Rank word pairs by $\\mathrm{pmi}(x,y)$ to find collocations!\n",
    "- $\\mathrm{pmi}(x,y)$ is large if $x$ and $y$ co-occur more frequently together than expected\n",
    "\n",
    "**Code:** Let's try it on the novel *Crime and Punishment*!\n",
    "- Pre-computed unigram and bigram counts are found in the `collocations/data` folder"
   ]
  },
  {
   "cell_type": "markdown",
   "metadata": {
    "slideshow": {
     "slide_type": "slide"
    }
   },
   "source": [
    "### Example:  Collocations & PMI\n",
    "\n",
    "Here we read in the precomputed data.  See the notebook in the `collocations` folder for a full implementation."
   ]
  },
  {
   "cell_type": "code",
   "execution_count": 5,
   "metadata": {
    "collapsed": false,
    "slideshow": {
     "slide_type": "-"
    }
   },
   "outputs": [],
   "source": [
    "import csv, math;\n",
    "\n",
    "# file paths\n",
    "unigram_path = \"collocations/data/crime-and-punishment.txt.unigrams\";\n",
    "bigram_path = \"collocations/data/crime-and-punishment.txt.bigrams\";\n",
    "\n",
    "# read unigrams into dict\n",
    "with open(unigram_path) as f:\n",
    "    reader = csv.reader(f);\n",
    "    unigrams = { row[0] : int(row[1]) for row in csv.reader(f)};\n",
    "    \n",
    "# read bigrams into dict\n",
    "with open(bigram_path) as f:\n",
    "    reader = csv.reader(f);\n",
    "    bigrams = { (row[0],row[1]) : int(row[2]) for row in csv.reader(f)};\n",
    "\n",
    "# pretty print table\n",
    "class PrettyTable(object):\n",
    "        def __init__(self, data, head1, head2, floats=False):\n",
    "            table = \"<table>\"\n",
    "            table += \"<thead><th>%s</th><th>%s</th></thead>\\n\" % (head1,head2);\n",
    "            table += \"<tbody>\\n\"\n",
    "            for bigram,count in data:\n",
    "                if floats: count = \"%0.2f\" % count;\n",
    "                else: count = \"%d\" % count;\n",
    "\n",
    "                table += \"<tr>\"\n",
    "                table += \"<td>%s %s</td>\" % bigram;\n",
    "                table += \"<td>%s</td>\" % count;\n",
    "                table += \"</tr>\\n\";\n",
    "\n",
    "            table += \"</tbody></table>\"\n",
    "            self.table = table;\n",
    "        \n",
    "        def _repr_html_(self):\n",
    "            return self.table;"
   ]
  },
  {
   "cell_type": "markdown",
   "metadata": {
    "slideshow": {
     "slide_type": "slide"
    }
   },
   "source": [
    "### Example:  Collocations & PMI\n",
    "\n",
    "The following code sorts bigrams by pointwise mutual information:"
   ]
  },
  {
   "cell_type": "code",
   "execution_count": 6,
   "metadata": {
    "collapsed": true,
    "slideshow": {
     "slide_type": "-"
    }
   },
   "outputs": [],
   "source": [
    "# compute pmi\n",
    "pmi_bigrams = [];\n",
    "\n",
    "for w1,w2 in bigrams:\n",
    "    # compute pmi\n",
    "    actual = bigrams[(w1,w2)];\n",
    "    expected = unigrams[w1] * unigrams[w2];\n",
    "    pmi = math.log( actual / expected );\n",
    "    # filter out infrequent bigrams\n",
    "    if actual < 15: continue;\n",
    "    pmi_bigrams.append( ((w1, w2), pmi) );\n",
    "\n",
    "# sort pmi\n",
    "pmi_sorted = sorted(pmi_bigrams, key=lambda x: x[1], reverse=True);"
   ]
  },
  {
   "cell_type": "markdown",
   "metadata": {
    "slideshow": {
     "slide_type": "slide"
    }
   },
   "source": [
    "### Example:  Collocations & PMI\n",
    "\n",
    "Here are the most frequent bigrams--these aren't collocations!"
   ]
  },
  {
   "cell_type": "code",
   "execution_count": 7,
   "metadata": {
    "collapsed": false,
    "slideshow": {
     "slide_type": "-"
    }
   },
   "outputs": [
    {
     "data": {
      "text/html": [
       "<table><thead><th>Bigram</th><th>Count</th></thead>\n",
       "<tbody>\n",
       "<tr><td>in the</td><td>778</td></tr>\n",
       "<tr><td>of the</td><td>598</td></tr>\n",
       "<tr><td>he was</td><td>505</td></tr>\n",
       "<tr><td>he had</td><td>498</td></tr>\n",
       "<tr><td>to the</td><td>488</td></tr>\n",
       "<tr><td>on the</td><td>479</td></tr>\n",
       "<tr><td>i am</td><td>460</td></tr>\n",
       "<tr><td>at the</td><td>459</td></tr>\n",
       "<tr><td>it was</td><td>413</td></tr>\n",
       "<tr><td>that he</td><td>335</td></tr>\n",
       "</tbody></table>"
      ],
      "text/plain": [
       "<__main__.PrettyTable at 0x7f7ea413d400>"
      ]
     },
     "execution_count": 7,
     "metadata": {},
     "output_type": "execute_result"
    }
   ],
   "source": [
    "bigrams_sorted = sorted(bigrams.items(), key=lambda x: x[1], reverse=True);\n",
    "PrettyTable(bigrams_sorted[:10], \"Bigram\", \"Count\")"
   ]
  },
  {
   "cell_type": "markdown",
   "metadata": {
    "slideshow": {
     "slide_type": "slide"
    }
   },
   "source": [
    "### Example:  Collocations & PMI\n",
    "\n",
    "Sorting bigrams by PMI, we first get names..."
   ]
  },
  {
   "cell_type": "code",
   "execution_count": 8,
   "metadata": {
    "collapsed": false,
    "slideshow": {
     "slide_type": "-"
    }
   },
   "outputs": [
    {
     "data": {
      "text/html": [
       "<table><thead><th>Collocation</th><th>PMI</th></thead>\n",
       "<tbody>\n",
       "<tr><td>andrey semyonovitch</td><td>-3.18</td></tr>\n",
       "<tr><td>nikodim fomitch</td><td>-3.18</td></tr>\n",
       "<tr><td>hay market</td><td>-3.48</td></tr>\n",
       "<tr><td>dmitri prokofitch</td><td>-3.87</td></tr>\n",
       "<tr><td>honoured sir</td><td>-4.27</td></tr>\n",
       "<tr><td>sofya semyonovna</td><td>-4.33</td></tr>\n",
       "<tr><td>marfa petrovna</td><td>-4.37</td></tr>\n",
       "<tr><td>police station</td><td>-4.48</td></tr>\n",
       "<tr><td>rodion romanovitch</td><td>-4.57</td></tr>\n",
       "</tbody></table>"
      ],
      "text/plain": [
       "<__main__.PrettyTable at 0x7f7ea413d940>"
      ]
     },
     "execution_count": 8,
     "metadata": {},
     "output_type": "execute_result"
    }
   ],
   "source": [
    "PrettyTable(pmi_sorted[1:10], \"Collocation\", \"PMI\", floats=True)"
   ]
  },
  {
   "cell_type": "markdown",
   "metadata": {
    "slideshow": {
     "slide_type": "slide"
    }
   },
   "source": [
    "### Example:  Collocations & PMI\n",
    "\n",
    "...then more interesting collocations!  This is much more useful than sorting by frequency alone."
   ]
  },
  {
   "cell_type": "code",
   "execution_count": 9,
   "metadata": {
    "collapsed": false,
    "slideshow": {
     "slide_type": "-"
    }
   },
   "outputs": [
    {
     "data": {
      "text/html": [
       "<table><thead><th>Collocation</th><th>PMI</th></thead>\n",
       "<tbody>\n",
       "<tr><td>thank god</td><td>-5.20</td></tr>\n",
       "<tr><td>police office</td><td>-5.23</td></tr>\n",
       "<tr><td>great deal</td><td>-5.28</td></tr>\n",
       "<tr><td>ten minutes</td><td>-5.40</td></tr>\n",
       "<tr><td>good heavens</td><td>-5.51</td></tr>\n",
       "<tr><td>thousand roubles</td><td>-5.54</td></tr>\n",
       "<tr><td>katerina ivanovnas</td><td>-5.57</td></tr>\n",
       "<tr><td>old womans</td><td>-5.57</td></tr>\n",
       "</tbody></table>"
      ],
      "text/plain": [
       "<__main__.PrettyTable at 0x7f7ea413d630>"
      ]
     },
     "execution_count": 9,
     "metadata": {},
     "output_type": "execute_result"
    }
   ],
   "source": [
    "PrettyTable(pmi_sorted[12:20], \"Collocation\", \"PMI\", floats=True)"
   ]
  },
  {
   "cell_type": "markdown",
   "metadata": {
    "slideshow": {
     "slide_type": "slide"
    }
   },
   "source": [
    "### Example:  Feature Selection\n",
    "\n",
    "Mutual information can also be used for **feature selection**.\n",
    "- In classification, features that *depend* most on the class label $C$ are useful\n",
    "- So, choose features $X_k$ such that $I(X_k ; C)$ is large\n",
    "- This helps to avoid *overfitting* by ignoring irrelevant features!\n",
    "\n",
    "> See **[MLAPP]** §3.5.4 for more information"
   ]
  },
  {
   "cell_type": "markdown",
   "metadata": {
    "slideshow": {
     "slide_type": "slide"
    }
   },
   "source": [
    "# Exponential Families\n",
    "\n",
    "> Uses material from **[MLAPP]** §9.2 and **[Hero 2008]** §3.5, §4.4.2"
   ]
  },
  {
   "cell_type": "markdown",
   "metadata": {
    "slideshow": {
     "slide_type": "slide"
    }
   },
   "source": [
    "### Exponential Family: Introduction\n",
    "\n",
    "We have seen many distributions.\n",
    "* Bernoulli\n",
    "* Gaussian\n",
    "* Exponential\n",
    "* Gamma \n",
    "    \n",
    "Many of these belong to a more general class called the **exponential family**."
   ]
  },
  {
   "cell_type": "markdown",
   "metadata": {
    "slideshow": {
     "slide_type": "slide"
    }
   },
   "source": [
    "### Exponential Family:  Introduction\n",
    "\n",
    "Why do we care?\n",
    "* only family of distributions with finite-dimensional **sufficient statistics**\n",
    "* only family of distributions for which **conjugate priors** exist\n",
    "* makes the least set of assumptions subject to some user-chosen constraints (**Maximum Entropy**)\n",
    "* core of generalized linear models and **variational inference**"
   ]
  },
  {
   "cell_type": "markdown",
   "metadata": {
    "slideshow": {
     "slide_type": "slide"
    }
   },
   "source": [
    "### Sufficient Statistics\n",
    "\n",
    "**Recall:** A **statistic** $T(\\D)$ is a function of the observed data $\\D$.\n",
    "- Mean, $T(x_1, \\dots, x_n) = \\frac{1}{n}\\sum_{k=1}^n x_k$\n",
    "- Variance, maximum, mode, etc."
   ]
  },
  {
   "cell_type": "markdown",
   "metadata": {
    "slideshow": {
     "slide_type": "slide"
    }
   },
   "source": [
    "### Sufficient Statistics:  Definition\n",
    "\n",
    "Suppose we have a model $P$ with parameters $\\theta$.  Then,\n",
    "\n",
    "> A statistic $T(\\D)$ is **sufficient** for $\\theta$ if no other statistic calculated from the same sample provides any additional information about the parameter.\n",
    "\n",
    "That is, if $T(\\D_1) = T(\\D_2)$, our estimate of $\\theta$ given $\\D_1$ or $\\D_2$ will be the same.\n",
    "- Mathematically, $P(\\theta | T(\\D), \\D) = P(\\theta | T(\\D))$ independently of $\\D$"
   ]
  },
  {
   "cell_type": "markdown",
   "metadata": {
    "slideshow": {
     "slide_type": "slide"
    }
   },
   "source": [
    "### Sufficient Statistics:  Example\n",
    "\n",
    "Suppose $X \\sim \\mathcal{N}(\\mu, \\sigma^2)$ and we observe $\\mathcal{D} = (x_1, \\dots, x_n)$.  Let\n",
    "- $\\hat\\mu$ be the sample mean\n",
    "- $\\hat{\\sigma}^2$ be the sample variance\n",
    "\n",
    "Then $T(\\mathcal{D}) = (\\hat\\mu, \\hat{\\sigma}^2)$ is sufficient for $\\theta=(\\mu, \\sigma^2)$.\n",
    "- Two samples $\\D_1$ and $\\D_2$ with the same mean and variance give the same estimate of $\\theta$\n",
    "\n",
    "<span style=\"color:gray\">(we are sweeping some details under the rug)</span>"
   ]
  },
  {
   "cell_type": "markdown",
   "metadata": {
    "slideshow": {
     "slide_type": "slide"
    }
   },
   "source": [
    "### Exponential Family:  Definition\n",
    "\n",
    "$p(x | \\theta)$ has **exponential family form** if:\n",
    "$$\n",
    "\\begin{align}\n",
    "p(x | \\theta)\n",
    "&= \\frac{1}{Z(\\theta)} h(x) \\exp\\left[ \\eta(\\theta)^T \\phi(x) \\right] \\\\\n",
    "&= h(x) \\exp\\left[ \\eta(\\theta)^T \\phi(x) - A(\\theta) \\right]\n",
    "\\end{align}\n",
    "$$\n",
    "\n",
    "- $Z(\\theta)$ is the **partition function** for normalization\n",
    "- $A(\\theta) = \\log Z(\\theta)$ is the **log partition function**\n",
    "- $\\phi(x) \\in \\R^d$ is a vector of **sufficient statistics**\n",
    "- $\\eta(\\theta)$ maps $\\theta$ to a set of **natural parameters**\n",
    "- $h(x)$ is a scaling constant, usually $h(x)=1$"
   ]
  },
  {
   "cell_type": "markdown",
   "metadata": {
    "slideshow": {
     "slide_type": "slide"
    }
   },
   "source": [
    "### Example:  Bernoulli\n",
    "\n",
    "The Bernoulli distribution can be written as\n",
    "$$\n",
    "\\begin{align}\n",
    "\\mathrm{Ber}(x | \\mu)\n",
    "&= \\mu^x (1-\\mu)^{1-x} \\\\\n",
    "&= \\exp\\left[ x \\log \\mu + (1-x) \\log (1-\\mu) \\right] \\\\\n",
    "&= \\exp\\left[ \\eta(\\mu)^T \\phi(x) \\right]\n",
    "\\end{align}\n",
    "$$\n",
    "\n",
    "where $\\eta(\\mu) = (\\log\\mu, \\log(1-\\mu))$ and $\\phi(x) = (x, 1-x)$\n",
    "- There is a linear dependence between features $\\phi(x)$\n",
    "- This representation is **overcomplete**\n",
    "- $\\eta$ is not uniquely determined"
   ]
  },
  {
   "cell_type": "markdown",
   "metadata": {
    "slideshow": {
     "slide_type": "slide"
    }
   },
   "source": [
    "### Example:  Bernoulli\n",
    "\n",
    "Instead, we can find a **minimal** parameterization:\n",
    "$$\n",
    "\\begin{align}\n",
    "\\mathrm{Ber}(x | \\mu) \n",
    "&= (1-\\mu) \\exp\\left[ x \\log\\frac{\\mu}{1-\\mu} \\right]\n",
    "\\end{align}\n",
    "$$\n",
    "\n",
    "This gives **natural parameters** $\\eta = \\log \\frac{\\mu}{1-\\mu}$.\n",
    "- Now, $\\eta$ is unique"
   ]
  },
  {
   "cell_type": "markdown",
   "metadata": {
    "slideshow": {
     "slide_type": "slide"
    }
   },
   "source": [
    "### Other Examples\n",
    "\n",
    "Exponential Family Distributions:\n",
    "- Multivariate normal\n",
    "- Exponential\n",
    "- Dirichlet\n",
    "\n",
    "Non-examples:\n",
    "- Student t-distribution can't be written in exponential form\n",
    "- Uniform distribution support depends on the parameters $\\theta$"
   ]
  },
  {
   "cell_type": "markdown",
   "metadata": {
    "slideshow": {
     "slide_type": "slide"
    }
   },
   "source": [
    "### Log-Partition Function\n",
    "\n",
    "Derivatives of the **log-partition function** $A(\\theta)$ yield **cumulants** of the sufficient statistics *(Exercise!)*\n",
    "- $\\nabla_\\theta \\log p(x|\\theta) = E[\\phi(x)]$\n",
    "- $\\nabla^2_\\theta \\log p(x|\\theta) = Cov[ \\phi(x) ]$\n",
    "\n",
    "This guarantees that $A(\\theta)$ is convex!\n",
    "- Its Hessian is the covariance matrix of $X$, which is positive-definite.\n",
    "- Later, this will guarantee a unique global maximum of the likelihood! "
   ]
  },
  {
   "cell_type": "markdown",
   "metadata": {
    "slideshow": {
     "slide_type": "skip"
    }
   },
   "source": [
    "<div style=\"margin: 10px auto; max-width: 400px; color:red\">\n",
    "**Note to Jake:** I have marked the derivation slides below as \"skip\" because I don't think it's worth discussing in lecture.  I'll leave them in the notebook so students can see, but since exponential families are confusing at first, it's more useful to focus on intuition in lecture.\n",
    "</div>"
   ]
  },
  {
   "cell_type": "markdown",
   "metadata": {
    "slideshow": {
     "slide_type": "skip"
    }
   },
   "source": [
    "#### <span style=\"color:gray\">Proof of Convexity: First Derivative</span>\n",
    "\n",
    "$$\n",
    "\\begin{align}\n",
    "\\frac{dA}{d\\theta}\n",
    "&= \\frac{d}{d\\theta} \\left[ log \\int exp(\\theta\\phi(x))h(x)dx \\right] \\\\\n",
    "&= \\frac{\\frac{d}{d\\theta} \\int exp(\\theta\\phi(x))h(x)dx)}{\\int exp(\\theta\\phi(x))h(x)dx)} \\\\\n",
    "&= \\frac{\\int \\phi(x)exp(\\theta\\phi(x))h(x)dx}{exp(A(\\theta)} \\\\\n",
    "&= \\int \\phi(x) exp[\\theta\\phi(x)-A(\\theta)] h(x) dx \\\\\n",
    "&= \\int \\phi(x) p(x) dx \\\\\n",
    "&= E[\\phi(x)]\n",
    "\\end{align}\n",
    "$$"
   ]
  },
  {
   "cell_type": "markdown",
   "metadata": {
    "slideshow": {
     "slide_type": "skip"
    }
   },
   "source": [
    "#### <span style=\"color:gray\">Proof of Convexity: Second Derivative</span>\n",
    "\n",
    "$$\n",
    "\\begin{align}\n",
    "\\frac{d^2A}{d\\theta^2}\n",
    "& = \\int \\phi(x)exp[\\theta \\phi(x) - A(\\theta)] h(x) (\\phi(x) - A'(\\theta)) dx \\\\\n",
    "& = \\int \\phi(x) p(x) (\\phi(x) - A'(\\theta))dx \\\\\n",
    "& = \\int \\phi^2(x) p(X) dx - A'(\\theta) \\int \\phi(x)p(x)dx \\\\\n",
    "& = E[\\phi^2(x)] - E[\\phi(x)]^2  \\hspace{2em}   (\\because A'(\\theta) = E[\\phi(x)])  \\\\ \n",
    "& = Var[\\phi(x)]\n",
    "\\end{align}\n",
    "$$"
   ]
  },
  {
   "cell_type": "markdown",
   "metadata": {
    "slideshow": {
     "slide_type": "skip"
    }
   },
   "source": [
    "#### <span style=\"color:gray\">Proof of Convexity: Second Derivative</span>\n",
    "\n",
    "For multi-variate case, we have \n",
    "\n",
    "$$ \\frac{\\partial^2A}{\\partial\\theta_i \\partial\\theta_j} = E[\\phi_i(x)\\phi_j(x)] - E[\\phi_i(x)] E[\\phi_j(x)]$$\n",
    "\n",
    "and hence,\n",
    "$$ \\nabla^2A(\\theta) = Cov[\\phi(x)] $$\n",
    "\n",
    "Since covariance is positive definite, we have $A(\\theta)$ convex as required."
   ]
  },
  {
   "cell_type": "markdown",
   "metadata": {
    "slideshow": {
     "slide_type": "slide"
    }
   },
   "source": [
    "### Exponential Family:  Likelihood\n",
    "\n",
    "For data $\\D = (x_1, \\dots, x_N)$, the likelihood is\n",
    "$$\n",
    "p(\\D|\\theta)\n",
    "= \\left[ \\prod_{k=1}^N h(x_k) \\right] Z(\\theta)^{-N} \\exp\\left[ \\eta(\\theta)^T \\sum_{k=1}^N \\phi(x_k) \\right]\n",
    "$$\n",
    "\n",
    "The sufficient statistics are now $N$ and $\\phi(\\D) = \\sum_{k=1}^N \\phi(x)$.\n",
    "- **Bernoulli:** $N$ and $\\phi = \\# Heads$\n",
    "- **Normal:** $N$ and $\\phi = [ \\sum_k x_k, \\sum_k x_k^2 ]$"
   ]
  },
  {
   "cell_type": "markdown",
   "metadata": {
    "slideshow": {
     "slide_type": "slide"
    }
   },
   "source": [
    "### Pitman-Koopman-Darmois Theorem\n",
    "\n",
    "> Among families of distributions $P(x | \\theta)$ whose support does not vary with the parameter $\\theta$, only in exponential families is there a sufficient statistic $T(x_1,\\dots,x_N)$ whose dimension remains bounded as the sample size $N$ increases."
   ]
  },
  {
   "cell_type": "markdown",
   "metadata": {
    "slideshow": {
     "slide_type": "slide"
    }
   },
   "source": [
    "### Exponential Family:  MLE\n",
    "\n",
    "For natural parameters $\\theta$ and data $\\D = (x_1, \\dots, x_N)$, \n",
    "$$\n",
    "\\log p(\\D|\\theta) = \\eta^T \\phi(\\D) - N A(\\theta)\n",
    "$$\n",
    "\n",
    "Since $-A(\\theta)$ is concave and $\\theta^T\\phi(\\D)$ linear,\n",
    "- the log-likelihood is concave\n",
    "- there is a unique global maximum!"
   ]
  },
  {
   "cell_type": "markdown",
   "metadata": {
    "slideshow": {
     "slide_type": "slide"
    }
   },
   "source": [
    "### Exponential Family:  MLE\n",
    "\n",
    "To find the maximum, recall $\\nabla_\\theta \\log p(x|\\theta) = E[\\phi(x)]$, so\n",
    "$$\n",
    "\\begin{gather}\n",
    "\\nabla_\\theta \\log p(\\D | \\theta) = \\phi(\\D) - N E[\\phi(X)] = 0 \\\\\n",
    "\\implies E[\\phi(X)] = \\frac{\\phi(\\D)}{N} = \\frac{1}{N} \\sum_{k=1}^N \\phi(x_k)\n",
    "\\end{gather}\n",
    "$$\n",
    "\n",
    "At the MLE $\\hat\\theta_{MLE}$, the empirical average of sufficient statistics equals their expected value.\n",
    "- this is called **moment matching**"
   ]
  },
  {
   "cell_type": "markdown",
   "metadata": {
    "slideshow": {
     "slide_type": "slide"
    }
   },
   "source": [
    "### Exponential Family:  MLE\n",
    "\n",
    "As an example, consider the Bernoulli distribution\n",
    "- Sufficient statistic $N$, $\\phi(\\D) = \\# Heads$\n",
    "\n",
    "$$\n",
    "\\hat\\mu_{MLE} = \\frac{\\# Heads}{N}\n",
    "$$"
   ]
  },
  {
   "cell_type": "markdown",
   "metadata": {
    "slideshow": {
     "slide_type": "slide"
    }
   },
   "source": [
    "### Bayes for Exponential Family\n",
    "\n",
    "Exact Bayesian analysis is considerably simplified if the prior is **conjugate** to the likelihood.\n",
    "- Simply, this means that prior $p(\\mathcal{D}|\\tau)$ has the same form as likelihood $p(\\mathcal{D}|\\theta)$.\n",
    "\n",
    "This requires likelihood to have finite sufficient statistics\n",
    "* Exponential family to the rescue!"
   ]
  },
  {
   "cell_type": "markdown",
   "metadata": {
    "slideshow": {
     "slide_type": "slide"
    }
   },
   "source": [
    "### Likelihood\n",
    "\n",
    "Likelihood: \n",
    "$$ p(\\mathcal{D}|\\theta) \\propto g(\\theta)^N exp[\\eta(\\theta)^T s_N]\\\\\n",
    "s_N = \\sum_{i=1}^{N}s(x_i)$$\n",
    "\n",
    "In terms of canonical parameters:\n",
    "$$ p(\\mathcal{D}|\\eta) \\propto exp[N\\eta^T \\bar{s} -N A(\\eta)] \\\\\n",
    "\\bar s = \\frac{1}{N}s_N $$"
   ]
  },
  {
   "cell_type": "markdown",
   "metadata": {
    "slideshow": {
     "slide_type": "slide"
    }
   },
   "source": [
    "### Prior\n",
    "\n",
    "$$ p(\\theta| \\nu_0, \\tau_0) \\propto g(\\theta)^{\\nu_0} exp[\\eta(\\theta)^T \\tau_0] $$\n",
    "\n",
    "* Denote $ \\tau_0 = \\nu_0 \\bar{\\tau}_0$ to separate out the size of the **prior pseudo-data**, $\\nu_0$ , from the mean of the sufficient statistics on this pseudo-data, $\\tau_0$ . Hence,\n",
    "\n",
    "$$ p(\\theta| \\nu_0, \\bar \\tau_0) \\propto exp[\\nu_0\\eta^T \\bar \\tau_0  - \\nu_0 A(\\eta)] $$"
   ]
  },
  {
   "cell_type": "markdown",
   "metadata": {
    "slideshow": {
     "slide_type": "slide"
    }
   },
   "source": [
    "### Prior:  Example\n",
    "\n",
    "$$\n",
    "\\begin{align}\n",
    "p(\\theta| \\nu_0, \\tau_0) \n",
    "&\\propto (1-\\theta)^{\\nu_0} \\exp[\\log(\\frac{\\theta}{1-\\theta}\\tau_0)] \\\\\n",
    "&= \\theta^{\\nu_0}(1-\\theta)^{\\nu_0 - \\tau_0}\n",
    "\\end{align}\n",
    "$$\n",
    "\n",
    "Define $\\alpha = \\tau_0 +1 $ and $\\beta = \\nu_0 - \\tau_0 +1$ to see that this is a **beta distribution**."
   ]
  },
  {
   "cell_type": "markdown",
   "metadata": {
    "slideshow": {
     "slide_type": "slide"
    }
   },
   "source": [
    "### Posterior\n",
    "\n",
    "Posterior: \n",
    "$$ p(\\theta|\\mathcal{D}) = p(\\theta|\\nu_N, \\tau_N) = p(\\theta| \\nu_0 +N, \\tau_0 +s_N) $$\n",
    "\n",
    "Note that we obtain **hyper-parameters** by adding. Hence,\n",
    "\n",
    "$$ \\begin{align}\n",
    "p(\\eta|\\mathcal{D})\n",
    "&\\propto exp[\\eta^T (\\nu_0 \\bar\\tau_0 + N \\bar s) - (\\nu_0 + N) A(\\eta) ] \\\\\n",
    "&= p(\\eta|\\nu_0 + N, \\frac{\\nu_0 \\bar\\tau_0 + N \\bar s}{\\nu_0 + N})\n",
    "\\end{align}$$\n",
    "\n",
    "* *posterior hyper-parameters are a convex combination of the prior mean hyper-parameters and the average of the sufficient statistics.*"
   ]
  }
 ],
 "metadata": {
  "celltoolbar": "Slideshow",
  "kernelspec": {
   "display_name": "Python 2",
   "language": "python",
   "name": "python2"
  },
  "language_info": {
   "codemirror_mode": {
    "name": "ipython",
    "version": 2
   },
   "file_extension": ".py",
   "mimetype": "text/x-python",
   "name": "python",
   "nbconvert_exporter": "python",
   "pygments_lexer": "ipython2",
   "version": "2.7.11"
  }
 },
 "nbformat": 4,
 "nbformat_minor": 0
}
