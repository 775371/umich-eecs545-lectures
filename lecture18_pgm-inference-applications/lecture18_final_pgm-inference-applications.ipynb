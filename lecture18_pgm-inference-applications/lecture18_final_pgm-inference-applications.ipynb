{
 "cells": [
  {
   "cell_type": "markdown",
   "metadata": {
    "slideshow": {
     "slide_type": "skip"
    }
   },
   "source": [
    "$$ \\LaTeX \\text{ command declarations here.}\n",
    "\\newcommand{\\R}{\\mathbb{R}}\n",
    "\\renewcommand{\\vec}[1]{\\mathbf{#1}}\n",
    "\\newcommand{\\X}{\\mathcal{X}}\n",
    "\\newcommand{\\D}{\\mathcal{D}}\n",
    "\\newcommand{\\G}{\\mathcal{G}}\n",
    "\\newcommand{\\L}{\\mathcal{L}}\n",
    "\\newcommand{\\X}{\\mathcal{X}}\n",
    "\\newcommand{\\Parents}{\\mathrm{Parents}}\n",
    "\\newcommand{\\NonDesc}{\\mathrm{NonDesc}}\n",
    "\\newcommand{\\I}{\\mathcal{I}}\n",
    "\\newcommand{\\dsep}{\\text{d-sep}}\n",
    "\\newcommand{\\Cat}{\\mathrm{Categorical}}\n",
    "\\newcommand{\\Bin}{\\mathrm{Binomial}}\n",
    "$$"
   ]
  },
  {
   "cell_type": "code",
   "execution_count": 3,
   "metadata": {
    "collapsed": false,
    "slideshow": {
     "slide_type": "skip"
    }
   },
   "outputs": [],
   "source": [
    "from __future__ import division\n",
    "\n",
    "# scientific\n",
    "%matplotlib inline\n",
    "from matplotlib import pyplot as plt;\n",
    "import matplotlib as mpl;\n",
    "import numpy as np;\n",
    "import sklearn as skl;\n",
    "import sklearn.datasets;\n",
    "import sklearn.cluster;\n",
    "import sklearn.mixture;\n",
    "\n",
    "# ipython\n",
    "import IPython;\n",
    "\n",
    "# python\n",
    "import os;\n",
    "import random;\n",
    "\n",
    "#####################################################\n",
    "\n",
    "# image processing\n",
    "import PIL;\n",
    "\n",
    "# trim and scale images\n",
    "def trim(im, percent=100):\n",
    "    print(\"trim:\", percent);\n",
    "    bg = PIL.Image.new(im.mode, im.size, im.getpixel((0,0)))\n",
    "    diff = PIL.ImageChops.difference(im, bg)\n",
    "    diff = PIL.ImageChops.add(diff, diff, 2.0, -100)\n",
    "    bbox = diff.getbbox()\n",
    "    if bbox:\n",
    "        x = im.crop(bbox)\n",
    "        return x.resize(((x.size[0]*percent)//100, (x.size[1]*percent)//100), PIL.Image.ANTIALIAS);\n",
    "\n",
    "\n",
    "#####################################################\n",
    "\n",
    "# daft (rendering PGMs)\n",
    "import daft;\n",
    "\n",
    "# set to FALSE to load PGMs from static images\n",
    "RENDER_PGMS = True;\n",
    "\n",
    "# decorator for pgm rendering\n",
    "def pgm_render(pgm_func):\n",
    "    def render_func(path, percent=100, render=None, *args, **kwargs):\n",
    "        print(\"render_func:\", percent);\n",
    "        # render\n",
    "        render = render if (render is not None) else RENDER_PGMS;\n",
    "        \n",
    "        if render:\n",
    "            print(\"rendering\");\n",
    "            # render\n",
    "            pgm = pgm_func(*args, **kwargs);\n",
    "            pgm.render();\n",
    "            pgm.figure.savefig(path, dpi=300);\n",
    "            \n",
    "            # trim\n",
    "            img = trim(PIL.Image.open(path), percent);\n",
    "            img.save(path, 'PNG');\n",
    "        else:\n",
    "            print(\"not rendering\");\n",
    "        \n",
    "        # error\n",
    "        if not os.path.isfile(path):\n",
    "            raise Exception(\"Error:  Graphical model image %s not found.  You may need to set RENDER_PGMS=True.\" % path);\n",
    "        \n",
    "        # display\n",
    "        return IPython.display.Image(filename=path);#trim(PIL.Image.open(path), percent);\n",
    "    \n",
    "    return render_func;\n",
    "\n",
    "######################################################"
   ]
  },
  {
   "cell_type": "markdown",
   "metadata": {
    "slideshow": {
     "slide_type": "slide"
    }
   },
   "source": [
    "# EECS 545:  Machine Learning\n",
    "\n",
    "## Lecture 18:  Inference & Applications of PGMs\n",
    "\n",
    "- Instructor:  **Jacob Abernethy**\n",
    "- Date:  March 14, 2016\n",
    "\n",
    "*Lecture Exposition:*  Benjamin Bray"
   ]
  },
  {
   "cell_type": "markdown",
   "metadata": {
    "slideshow": {
     "slide_type": "slide"
    }
   },
   "source": [
    "## References\n",
    "\n",
    "- **[MLAPP]** Murphy, Kevin. [*Machine Learning:  A Probabilistic Perspective*](https://mitpress.mit.edu/books/machine-learning-0).  2012.\n",
    "- **[PRML]** Bishop, Christopher.  [*Pattern Recognition and Machine Learning*](http://research.microsoft.com/en-us/um/people/cmbishop/prml/).  2006.\n",
    "- **[Koller & Friedman 2009]** Koller, Daphne and Nir Friedman.  [*Probabilistic Graphical Models*](https://mitpress.mit.edu/books/probabilistic-graphical-models)"
   ]
  },
  {
   "cell_type": "markdown",
   "metadata": {
    "slideshow": {
     "slide_type": "slide"
    }
   },
   "source": [
    "### Graphical Models: Wrap-Up\n",
    "\n",
    "We've just barely scratched the surface of what **probabilistic graphical models** have to offer.\n",
    "- Bayesian Networks\n",
    "- Mixture Models\n",
    "- Hidden Markov Models\n",
    "- Latent Variable Models & Expectation-Maximization\n",
    "\n",
    "This lecture will be a grab-bag of some of the things we missed.\n",
    "\n",
    "> Accordingly, we won't test you on the details.  "
   ]
  },
  {
   "cell_type": "markdown",
   "metadata": {
    "slideshow": {
     "slide_type": "slide"
    }
   },
   "source": [
    "### Graphical Models:  Related Courses\n",
    "\n",
    "These courses are being offered next semester:\n",
    "- **IOE 591**, [Bayesian Data Analysis](https://d1b10bmlvqabco.cloudfront.net/attach/iizaobacnl55nb/hku8ttycli2/ilxshlclzteu/IOE591_flyer.pdf)\n",
    "- **EECS 592**, Advanced Artificial Intelligence\n",
    "\n",
    "The following courses have been offered in the past:\n",
    "- **STATS 601**, Analysis of Multivariate and Categorical Data\n",
    "- **EECS 598**, [Probabilistic Graphical Models in Vision and Beyond](http://web.eecs.umich.edu/~jjcorso/t/598W15/)\n",
    "- **STATS 700**, [Probabilistic Graphical Models](http://dept.stat.lsa.umich.edu/~xuanlong/courses/stat700-f09/)"
   ]
  },
  {
   "cell_type": "markdown",
   "metadata": {
    "slideshow": {
     "slide_type": "slide"
    }
   },
   "source": [
    "### Graphical Models:  Other Resources\n",
    "\n",
    "- **[Koller & Friedman 2009]** Koller, Daphne and Nir Friedman.  [*Probabilistic Graphical Models*](https://mitpress.mit.edu/books/probabilistic-graphical-models)\n",
    "- **[Wainwright & Jordan 2008]** Wainwright, Martin, and Michael Jordan.  [Graphical Models, Exponential Families, and Variational Inference](https://www.eecs.berkeley.edu/~wainwrig/Papers/WaiJor08_FTML.pdf).  2008\n",
    "- **Coursera,** [Probabilistic Graphical Models](https://www.coursera.org/course/pgm)"
   ]
  },
  {
   "cell_type": "markdown",
   "metadata": {
    "slideshow": {
     "slide_type": "slide"
    }
   },
   "source": [
    "## Outline\n",
    "\n",
    "- Undirected Graphical Models\n",
    "    - Markov Random Fields\n",
    "- Summary of Exact Inference\n",
    "- Approximate Inference\n",
    "    - Gibbs Sampling\n",
    "    - Variational Inference\n",
    "- Applications\n",
    "    - Latent Dirichlet Allocation"
   ]
  },
  {
   "cell_type": "markdown",
   "metadata": {
    "slideshow": {
     "slide_type": "slide"
    }
   },
   "source": [
    "# Undirected Graphical Models\n",
    "\n",
    "> Uses material from **[MLAPP]** Chapter 19 and **[Koller & Friedman 2009]** Chapter 4"
   ]
  },
  {
   "cell_type": "markdown",
   "metadata": {
    "slideshow": {
     "slide_type": "slide"
    }
   },
   "source": [
    "### Markov Random Fields:  Motivation\n",
    "\n",
    "So far, we have talked only about **directed models**.\n",
    "- Directed edges represent an underlying generative process.\n",
    "- Formalizes independence properties between variables\n",
    "\n",
    "In some cases, **undirected models** are more natural.\n",
    "- In many applications, it's hard to assign a direction to the interactions between variables.\n",
    "- Offer a different, sometimes simpler, perspective"
   ]
  },
  {
   "cell_type": "markdown",
   "metadata": {
    "slideshow": {
     "slide_type": "slide"
    }
   },
   "source": [
    "### Markov Random Fields:  Motivation\n",
    "\n",
    "Consider the problem of modeling pixels in an image.\n",
    "- One random variable $X_{ij}$ per pixel $(i,j)$ in the image.\n",
    "- Intensity values of neighboring pixels are *locally* correlated\n",
    "\n",
    "How can we represent this situation as a Bayesian network?\n",
    "- Which directions do the arrows go?\n",
    "- Which independence properties are desirable?"
   ]
  },
  {
   "cell_type": "markdown",
   "metadata": {
    "slideshow": {
     "slide_type": "slide"
    }
   },
   "source": [
    "### Markov Random Fields:  Motivation\n",
    "\n",
    "We could arbitrarily add directed edges, but this leads to strange independence structures.\n",
    "- Below, $X_8$ is independent of all other variables given the colored nodes.\n",
    "\n",
    "<img src=\"images/murphy-fig191a.png\">\n",
    "\n",
    "\n",
    "<span style=\"color:gray; font-size:10px; float:right\">(Figure 19.1a from **[MLAPP]**)</span>"
   ]
  },
  {
   "cell_type": "markdown",
   "metadata": {
    "slideshow": {
     "slide_type": "slide"
    }
   },
   "source": [
    "### Markov Random Fields:  Motivation\n",
    "\n",
    "Since images have no natural \"directionality\", why bother with undirected edges?\n",
    "- Now, $X_8$ is independent of all other variables given its immediate neighbors.  \n",
    "\n",
    "<img src=\"images/murphy-fig191b.png\">\n",
    "\n",
    "\n",
    "<span style=\"color:gray; font-size:10px; float:right\">(Figure 19.1b from **[MLAPP]**)</span>"
   ]
  },
  {
   "cell_type": "markdown",
   "metadata": {
    "slideshow": {
     "slide_type": "slide"
    }
   },
   "source": [
    "### Markov Random Fields:  Parameterization\n",
    "\n",
    "Directed models come with a natural topological ordering.\n",
    "- Applying the chain rule yields a factorization.\n",
    "- It is only necessary to store **conditional probability tables**\n",
    "\n",
    "Undirected models have no natural ordering!\n",
    "- Instead, we describe the model in terms of **factors** describing the local interactions between variables."
   ]
  },
  {
   "cell_type": "markdown",
   "metadata": {
    "slideshow": {
     "slide_type": "slide"
    }
   },
   "source": [
    "### Markov Random Fields:  Factors\n",
    "\n",
    "Let $\\mathbf{D}$ be a set of random variables.  A **factor** is a function $\\phi : \\mathrm{Val}(\\mathbf{D}) \\mapsto \\R$.\n",
    "- where $\\mathrm{Val}(\\mathbf{D})$ is the set of possible configurations of the variables.\n",
    "- where $\\mathbf{D}$ is called the *scope* of $\\phi$\n",
    "\n",
    "> A factor assigns a real number to every possible configuration of the variables $\\mathbf{D}$"
   ]
  },
  {
   "cell_type": "markdown",
   "metadata": {
    "slideshow": {
     "slide_type": "slide"
    }
   },
   "source": [
    "### Markov Random Fields:  Factors\n",
    "\n",
    "Probability distributions are *normalized* factors.\n",
    "- $P(X_1,X_2,X_3)$ is a factor on $\\mathbf{D}=(X_1,X_2,X_3)$\n",
    "- $P(X | Y)$ is a factor on $\\mathbf{D}=(X,Y)$\n",
    "\n",
    "Other factors need not be normalized.  For example, $\\phi(A,B)$ assigns high *affinity* to configurations where $A$ and $B$ agree:\n",
    "\n",
    "<table>\n",
    "<thead><th>$A$</th><th>$B$</th><th>$\\phi(A,B)$</th></thead>\n",
    "<tbody>\n",
    "    <tr><td>0</td><td>0</td><td>100</td></tr>\n",
    "    <tr><td>0</td><td>1</td><td>-50</td></tr>\n",
    "    <tr><td>1</td><td>0</td><td>-50</td></tr>\n",
    "    <tr><td>1</td><td>1</td><td>100</td></tr>\n",
    "</tbody>\n",
    "</table>"
   ]
  },
  {
   "cell_type": "markdown",
   "metadata": {
    "slideshow": {
     "slide_type": "slide"
    }
   },
   "source": [
    "### Markov Random Fields:  Parameterization\n",
    "\n",
    "Given a set of factors $\\Phi=(\\phi_1(\\mathbf{D}_1), \\phi_2(\\mathbf{D}_2), \\dots, \\phi_K(\\mathbf{D}_K))$, we can define a **Gibbs Distribution**,\n",
    "    $$\n",
    "    \\begin{align}\n",
    "    P_\\Phi(X_1,\\dots,X_n)\n",
    "    &= \\frac{1}{Z} \\phi_1(\\mathbf{D}_1) \\phi_2(\\mathbf{D}_2) \\cdots \\phi_K(\\mathbf{D}_K) \\\\\n",
    "    &= \\frac{1}{Z} \\exp\\left[ \\sum_{k=1}^K \\log \\phi_k(\\mathbf{D}_k) \\right]\n",
    "    \\end{align}\n",
    "    $$\n",
    "where $Z$ is a normalization constant.  Sometimes log-potentials are referred to as **energies** associated with each configuration of variables.\n",
    "\n",
    "> This model was stolen from physicists :)"
   ]
  },
  {
   "cell_type": "markdown",
   "metadata": {
    "slideshow": {
     "slide_type": "slide"
    }
   },
   "source": [
    "### Markov Random Fields:  Texture Modeling\n",
    "\n",
    "Suppose we have a **pairwise Markov Random Field** over binary pixels.\n",
    "- *Binary:* Each pixel is either $-1$ (black) or $1$ (white)\n",
    "- *Pairwise:* Only model interactions between directly neighboring pixels.\n",
    "\n",
    "Define the **energy function**, summing over all edges $(i,j)$:\n",
    "$$\n",
    "U(\\X) = -\\beta \\sum_{(i,j)} x_i x_j \\qquad (\\beta > 0)\n",
    "$$"
   ]
  },
  {
   "cell_type": "markdown",
   "metadata": {
    "slideshow": {
     "slide_type": "slide"
    }
   },
   "source": [
    "### Markov Random Fields:  Texture Modeling\n",
    "\n",
    "Then, the probability of an image is\n",
    "$$\n",
    "P(\\X)\n",
    "= \\frac{1}{Z} \\exp[-U(\\X)]\n",
    "= \\frac{1}{Z} \\exp\\left[-\\beta \\sum_{(i,j)} x_i x_j \\right]\n",
    "$$\n",
    "\n",
    "The *affinity parameter* $\\beta > 0$ determines how much we want neighboring pixels to agree with each other.\n",
    "- Low energy = High probability = Neighbors Agree\n",
    "- High energy = Low probability = Neighbors Disagree"
   ]
  },
  {
   "cell_type": "markdown",
   "metadata": {
    "slideshow": {
     "slide_type": "slide"
    }
   },
   "source": [
    "### Markov Random Fields:  Texture Modeling\n",
    "\n",
    "Using Gibbs Sampling (later!) we can generate image samples! (low $\\beta$)\n",
    "\n",
    "<img src=\"images/mrf-texture-1.png\">"
   ]
  },
  {
   "cell_type": "markdown",
   "metadata": {
    "slideshow": {
     "slide_type": "slide"
    }
   },
   "source": [
    "### Markov Random Fields:  Texture Modeling\n",
    "\n",
    "Using Gibbs Sampling (later!) we can generate image samples! (high $\\beta$)\n",
    "\n",
    "<img src=\"images/mrf-texture-2.png\">"
   ]
  },
  {
   "cell_type": "markdown",
   "metadata": {
    "slideshow": {
     "slide_type": "slide"
    }
   },
   "source": [
    "### Markov Random Fields:  Texture Modeling\n",
    "\n",
    "We can also model more complex interactions between pixels.\n",
    "- Force vertical neighbors to agree, horizontal neighbors to disagree.\n",
    "- Rather than taking direct neighbors, look at a *window* around each pixel.\n",
    "- Learn different $\\beta$ values for different regions of the image."
   ]
  },
  {
   "cell_type": "markdown",
   "metadata": {
    "slideshow": {
     "slide_type": "slide"
    }
   },
   "source": [
    "### Markov Random Fields:  Texture Synthesis\n",
    "\n",
    "We can learn to sample large textures from a small starting seed:\n",
    "\n",
    "<img src=\"images/mrf-texture-3.png\">\n",
    "\n",
    "<span style=\"color:gray; font-size:10px; float:right\">(Example taken from Efros & Leung, [Texture Synthesis by Non-Parametric Sampling](http://ieeexplore.ieee.org.proxy.lib.umich.edu/stamp/stamp.jsp?tp=&arnumber=790383))</span>"
   ]
  },
  {
   "cell_type": "markdown",
   "metadata": {
    "slideshow": {
     "slide_type": "slide"
    }
   },
   "source": [
    "### Markov Random Fields:  Texture Synthesis\n",
    "\n",
    "The same algorithm can even be applied to text!\n",
    "\n",
    "<img src=\"images/mrf-texture-4.png\">\n",
    "\n",
    "<span style=\"color:gray; font-size:10px; float:right\">(Example taken from Efros & Leung, [Texture Synthesis by Non-Parametric Sampling](http://ieeexplore.ieee.org.proxy.lib.umich.edu/stamp/stamp.jsp?tp=&arnumber=790383))</span>"
   ]
  },
  {
   "cell_type": "markdown",
   "metadata": {
    "slideshow": {
     "slide_type": "slide"
    }
   },
   "source": [
    "### Undirected Models:  Other Applications\n",
    "\n",
    "Undirected models are incredibly useful for probabilistic modeling.\n",
    "- Image Processing\n",
    "    - Segmentation, Denoising\n",
    "- Natural Language Processing\n",
    "    - Named entity recognition\n",
    "    - Parsing\n",
    "    - Computational Humor\n",
    "- Maximum entropy models (related to exponential family)\n",
    "- Conditional random fields (discriminative model)\n",
    "- Deep learning"
   ]
  },
  {
   "cell_type": "markdown",
   "metadata": {
    "slideshow": {
     "slide_type": "slide"
    }
   },
   "source": [
    "# Inference in Graphical Models\n",
    "\n",
    "> Uses material from **[MLAPP]** Chapters 20, 21"
   ]
  },
  {
   "cell_type": "markdown",
   "metadata": {
    "slideshow": {
     "slide_type": "slide"
    }
   },
   "source": [
    "### Inference in Graphical Models\n",
    "\n",
    "**Inference**:  Estimate hidden variables $Z$ from observed variables $X$.\n",
    "$$\n",
    "P(Z | X,\\theta) = \\frac{P(X,Z | \\theta)}{P(X|\\theta)}\n",
    "$$\n",
    "\n",
    "- Denominator $P(X|\\theta)$ is sometimes called the probability of the **evidence**.\n",
    "- Occasionally we care only about a subset of the hidden variables, and marginalize out the rest."
   ]
  },
  {
   "cell_type": "markdown",
   "metadata": {
    "slideshow": {
     "slide_type": "slide"
    }
   },
   "source": [
    "### Inference:  Examples\n",
    "\n",
    "We have already described the inference procedure for simple models:\n",
    "\n",
    "- Expectation Maximization\n",
    "- Mixture Models\n",
    "- Hidden Markov Models\n",
    "\n",
    "> Given an arbitrary directed or undirected graph, can we systematically perform inference?"
   ]
  },
  {
   "cell_type": "markdown",
   "metadata": {
    "slideshow": {
     "slide_type": "slide"
    }
   },
   "source": [
    "## Exact Inference\n",
    "\n",
    "> Uses material from **[MLAPP]** Chapter 20"
   ]
  },
  {
   "cell_type": "markdown",
   "metadata": {
    "slideshow": {
     "slide_type": "slide"
    }
   },
   "source": [
    "### Exact Inference\n",
    "\n",
    "We can recover $P(Z | X,\\theta)$ exactly when the hidden variables $Z$ are **discrete**.\n",
    "- Belief Propagation\n",
    "- Variable Elimination\n",
    "- Junction Tree\n",
    "\n",
    "Many exact inference algorithms can be seen as a generalization of the **fowards-backwards algorithm** for HMMs.\n",
    "> Unfortunately, they have undesirable time and space complexity properties."
   ]
  },
  {
   "cell_type": "markdown",
   "metadata": {
    "slideshow": {
     "slide_type": "slide"
    }
   },
   "source": [
    "### Exact Inference:  HMMs\n",
    "\n",
    "Recall that a **Hidden Markov Model** is a chain-structured directed model:"
   ]
  },
  {
   "cell_type": "code",
   "execution_count": 4,
   "metadata": {
    "collapsed": true,
    "slideshow": {
     "slide_type": "skip"
    }
   },
   "outputs": [],
   "source": [
    "@pgm_render\n",
    "def pgm_hmm():\n",
    "    pgm = daft.PGM([7, 7], origin=[0, 0])\n",
    "\n",
    "    # Nodes\n",
    "    pgm.add_node(daft.Node(\"Z1\", r\"$Z_1$\", 1, 3.5))\n",
    "    pgm.add_node(daft.Node(\"Z2\", r\"$Z_2$\", 2, 3.5))\n",
    "    pgm.add_node(daft.Node(\"Z3\", r\"$\\dots$\", 3, 3.5, plot_params={'ec':'none'}))\n",
    "    pgm.add_node(daft.Node(\"Z4\", r\"$Z_T$\", 4, 3.5))\n",
    "\n",
    "    pgm.add_node(daft.Node(\"x1\", r\"$X_1$\", 1, 2.5, observed=True))\n",
    "    pgm.add_node(daft.Node(\"x2\", r\"$X_2$\", 2, 2.5, observed=True))\n",
    "    pgm.add_node(daft.Node(\"x3\", r\"$\\dots$\", 3, 2.5, plot_params={'ec':'none'}))\n",
    "    pgm.add_node(daft.Node(\"x4\", r\"$X_T$\", 4, 2.5, observed=True))\n",
    "\n",
    "\n",
    "    # Add in the edges.\n",
    "    pgm.add_edge(\"Z1\", \"Z2\", head_length=0.08)\n",
    "    pgm.add_edge(\"Z2\", \"Z3\", head_length=0.08)\n",
    "    pgm.add_edge(\"Z3\", \"Z4\", head_length=0.08)\n",
    "\n",
    "    pgm.add_edge(\"Z1\", \"x1\", head_length=0.08)\n",
    "    pgm.add_edge(\"Z2\", \"x2\", head_length=0.08)\n",
    "    pgm.add_edge(\"Z4\", \"x4\", head_length=0.08)\n",
    "    \n",
    "    return pgm;"
   ]
  },
  {
   "cell_type": "code",
   "execution_count": 5,
   "metadata": {
    "collapsed": false,
    "slideshow": {
     "slide_type": "-"
    }
   },
   "outputs": [
    {
     "data": {
      "image/png": "[encoded data removed]",
      "text/plain": [
       "<IPython.core.display.Image object>"
      ]
     },
     "execution_count": 5,
     "metadata": {},
     "output_type": "execute_result"
    }
   ],
   "source": [
    "%%capture\n",
    "pgm_hmm(\"images/pgm/hmm.png\")"
   ]
  },
  {
   "cell_type": "markdown",
   "metadata": {
    "slideshow": {
     "slide_type": "slide"
    }
   },
   "source": [
    "### Exact Inference:  HMMs\n",
    "\n",
    "We used the **fowards-backwards algorithm** to find $P(Z_t | \\X,\\theta)$.\n",
    "- We split the graph at $Z_t$\n",
    "- Performed the **foward algorithm** to propagate information from the start state *forwards* to $Z_t$\n",
    "- Performed the **backward algorithm** to propagate information *backwards* to $Z_t$"
   ]
  },
  {
   "cell_type": "markdown",
   "metadata": {
    "slideshow": {
     "slide_type": "slide"
    }
   },
   "source": [
    "### Belief Propagation:  From Chains to Trees\n",
    "\n",
    "The **Belief Propagation** algorithm generalizes the forwards-backwards algorithm from chains to tree-structured graphs.\n",
    "- *Idea:*  Every path from the root node to a leaf node is a chain!\n",
    "\n",
    "> Let's do some hand-waving..."
   ]
  },
  {
   "cell_type": "markdown",
   "metadata": {
    "slideshow": {
     "slide_type": "slide"
    }
   },
   "source": [
    "### Belief Propagation:  Collect-to-Root Phase\n",
    "\n",
    "Much like before, we split the tree at node $t$ and propagate evidence upwards:\n",
    "\n",
    "<img src=\"images/murphy-fig201a.png\">\n",
    "\n",
    "<span style=\"color:gray; font-size:10px; float:right\">(Figure 20.1a from **[MLAPP]**)</span>"
   ]
  },
  {
   "cell_type": "markdown",
   "metadata": {
    "slideshow": {
     "slide_type": "slide"
    }
   },
   "source": [
    "### Belief Propagation:  Distribute-from-Root Phase\n",
    "\n",
    "Next, we propagate the collected evidence back down the tree:\n",
    "\n",
    "<img src=\"images/murphy-fig201b.png\">\n",
    "\n",
    "\n",
    "<span style=\"color:gray; font-size:10px; float:right\">(Figure 20.1b from **[MLAPP]**)</span>"
   ]
  },
  {
   "cell_type": "markdown",
   "metadata": {
    "slideshow": {
     "slide_type": "slide"
    }
   },
   "source": [
    "### Junction Tree:  From Trees to Graphs\n",
    "\n",
    "The **Junction Tree** algorithm generalizes Belief Propagation from trees to arbitary graphs.\n",
    "\n",
    "> See **[MLAPP]** or **[Koller & Friedman 2009]** for details."
   ]
  },
  {
   "cell_type": "markdown",
   "metadata": {
    "slideshow": {
     "slide_type": "slide"
    }
   },
   "source": [
    "### Exact Inference:  Summary\n",
    "\n",
    "Exact inference is possible in discrete graphical models.\n",
    "- Unfortunately, algorithms to do so are ugly and complicated.\n",
    "- Moreover, exact inference is NP-Hard, so these algorithms are very inefficient.\n",
    "- Incapable of dealing with general, continuous distributions.\n",
    "\n",
    "Fortunately, **approximate inference** works well in practice."
   ]
  },
  {
   "cell_type": "markdown",
   "metadata": {
    "slideshow": {
     "slide_type": "slide"
    }
   },
   "source": [
    "## Approximate Inference\n",
    "\n",
    "> Uses material from **[MLAPP]** Chapter 21 and [MLSS 2009](http://videolectures.net/site/normal_dl/tag=50736/mlss09uk_murray_mcmc.pdf)"
   ]
  },
  {
   "cell_type": "markdown",
   "metadata": {
    "slideshow": {
     "slide_type": "slide"
    }
   },
   "source": [
    "### Approximate Inference:  Intro\n",
    "\n",
    "Exact inference is too difficult, so we turn to **approximate inference**.\n",
    "- Theory is lacking--no guarantees about accuracy or runtime\n",
    "- However, they seem to work well in practice.\n",
    "- Capable of handling continuous variables!\n",
    "\n",
    "The two most common methods are\n",
    "- **Markov Chain Monte Carlo:** Estimate $P(Z|X,\\theta)$ by sampling from it!\n",
    "- **Variational Inference:** Cast inference as a deterministic optimization problem."
   ]
  },
  {
   "cell_type": "markdown",
   "metadata": {
    "slideshow": {
     "slide_type": "slide"
    }
   },
   "source": [
    "### Integration is Hard\n",
    "\n",
    "In general, we want to find $p(X|Y)$ for some variables $X$ and $Y$.  Using Bayes' Rule,\n",
    "    $$p(y|x)= \\frac{p(x|y)p(y)}{p(x)}= \\frac{p(x|y)p(y)}{\\int_Y p(x|y)p(y)\\, dy}$$\n",
    "Usually, the hard part is evaluating the normalization integral,\n",
    "    $$\n",
    "    \\int_Y p(x|y)p(y)\\, dy\n",
    "    $$\n",
    "    \n",
    "> **Key Point:** Many inference problems can be reduced to the problem of *evaluating an integral*."
   ]
  },
  {
   "cell_type": "markdown",
   "metadata": {
    "slideshow": {
     "slide_type": "slide"
    }
   },
   "source": [
    "### Monte Carlo Integration\n",
    "\n",
    "Suppose we wish to evaluate $\\int_X f(x) p(x) \\, dx$, where\n",
    "- $f(x)$ is an arbitrary function\n",
    "- $\\pi(x)$ is a probability distribution\n",
    "\n",
    "We can express this as an expectation, with $X \\sim p(X)$,\n",
    "    $$\n",
    "    \\int_X f(x) p(x) \\, dx = E_p[f(X)]\n",
    "    $$"
   ]
  },
  {
   "cell_type": "markdown",
   "metadata": {
    "slideshow": {
     "slide_type": "slide"
    }
   },
   "source": [
    "### Monte Carlo Integration\n",
    "\n",
    "We can approximate any expectation by averaging over samples $X_1,\\dots,X_N \\stackrel{iid}{\\sim} p(X)$,\n",
    "    $$\n",
    "    \\int_X f(x) p(x) \\, dx\n",
    "    = E_p[f(X)] \\approx \\bar{f}_N\n",
    "    = \\frac{1}{N} \\sum_{n=1}^N f(x_n)\n",
    "    $$\n",
    "    \n",
    "> **Key Point:** We can reduce any integration problem to a *sampling problem*."
   ]
  },
  {
   "cell_type": "markdown",
   "metadata": {
    "slideshow": {
     "slide_type": "slide"
    }
   },
   "source": [
    "### Example:  Dumb Approximation of $\\pi$\n",
    "\n",
    "We can express $\\pi$ as an integral over the unit circle $C$, which has area $\\pi r^2 = 1$.\n",
    "\n",
    "$$\n",
    "\\pi\n",
    "= \\int_{\\R^2} \\mathbb{I}_C(x) \\, dx\n",
    "= \\int_{[-1,1]\\times[-1,1]} \\mathbb{I}_C(x) \\,dx\n",
    "$$\n",
    "\n",
    "Let $p(x)=\\frac{1}{4}$ be the uniform distribution on the square of size $2$ centered at the origin.  Then,\n",
    "$$\n",
    "\\pi\n",
    "= 4\\; \\int_{[-1,1]\\times[-1,1]} \\mathbb{I}_C(x) p(x) \\,dx \\approx E_p[4\\cdot \\mathbb{I}_C(X) ]\n",
    "$$"
   ]
  },
  {
   "cell_type": "markdown",
   "metadata": {
    "slideshow": {
     "slide_type": "slide"
    }
   },
   "source": [
    "### Example:  Dumb Approximation of $\\pi$\n",
    "\n",
    "Therefore, we can estimate $\\pi$ by drawing samples uniformly from the square $[-1,1] \\times [-1,1]$ and computing the fraction of samples that fall within the unit circle $C$!\n",
    "> This method is **terrible** and requires tons of samples.  \n",
    "\n",
    "$$\n",
    "\\frac{\\text{Area of Circle}}{\\text{Area of Square}}\n",
    "= \\frac{\\pi r^2}{4r^2} = \\frac{\\pi}{4}\n",
    "$$"
   ]
  },
  {
   "cell_type": "markdown",
   "metadata": {
    "slideshow": {
     "slide_type": "slide"
    }
   },
   "source": [
    "### Example:  Dumb Approximation of $\\pi$"
   ]
  },
  {
   "cell_type": "code",
   "execution_count": 66,
   "metadata": {
    "collapsed": true,
    "slideshow": {
     "slide_type": "skip"
    }
   },
   "outputs": [],
   "source": [
    "def estimate_pi(n):\n",
    "    # draw samples\n",
    "    samples = np.random.random((2,n)) * 2 - 1;\n",
    "    # separate samples inside/outside circle\n",
    "    r = np.sum(samples**2, axis=0);\n",
    "    inside = samples[:,r < 1];\n",
    "    outside = samples[:,r >= 1];\n",
    "    # estimate pi\n",
    "    return inside.shape[1] / n * 4;\n",
    "\n",
    "def estimate_pi_plot(n):\n",
    "    # draw samples\n",
    "    samples = np.random.random((2,n)) * 2 - 1;\n",
    "    # separate samples inside/outside circle\n",
    "    r = np.sum(samples**2, axis=0);\n",
    "    inside = samples[:,r < 1];\n",
    "    outside = samples[:,r >= 1];\n",
    "    # estimate pi\n",
    "    pi_estimate = inside.shape[1] / n * 4;\n",
    "\n",
    "    # plot\n",
    "    plt.figure(figsize=(6,6))\n",
    "    plt.plot(inside[0,:], inside[1,:], \"rx\");\n",
    "    plt.plot(outside[0,:], outside[1,:], \"bx\");\n",
    "    plt.axis(\"equal\");\n",
    "    plt.title(r\"$\\pi \\approx %0.2f$ from %d samples\" % (pi_estimate,n));"
   ]
  },
  {
   "cell_type": "code",
   "execution_count": 75,
   "metadata": {
    "collapsed": false,
    "slideshow": {
     "slide_type": "-"
    }
   },
   "outputs": [
    {
     "data": {
      "image/png": "[encoded data removed]",
      "text/plain": [
       "<matplotlib.figure.Figure at 0x7fb90f41a940>"
      ]
     },
     "metadata": {},
     "output_type": "display_data"
    }
   ],
   "source": [
    "estimate_pi_plot(5000)"
   ]
  },
  {
   "cell_type": "markdown",
   "metadata": {
    "slideshow": {
     "slide_type": "slide"
    }
   },
   "source": [
    "### Monte Carlo Integration:  Sampling\n",
    "\n",
    "We can compute any integral $\\int_X f(x)p(x) \\, dx$ provided that we know how to sample from $p$.  Different methods have been devloped to sample from arbitrary distributions:\n",
    "- Sampling from Inverse CDF\n",
    "- Rejection Sampling\n",
    "- Importance Sampling\n",
    "- Particle Filtering\n",
    "\n",
    "The most popular is **Markov Chain Monte Carlo**, which beats out the other methods in high-dimensional spaces."
   ]
  },
  {
   "cell_type": "markdown",
   "metadata": {
    "slideshow": {
     "slide_type": "slide"
    }
   },
   "source": [
    "### Markov Chain Monte Carlo\n",
    "\n",
    "**Goal:** Draw samples from $P(X_1,\\dots,X_N)$.\n",
    "- Usually, $N$ is large, so $P$ is high-dimensional.\n",
    "\n",
    "**Idea:** Construct a Markov Chain on the state space $\\X$ whose *stationary distribution* is the target density.\n",
    "\n",
    "> We will perform a (biased) random walk on the state space, such that the fraction of time we spend at each state $(x_1,\\dots,x_N)$ is proportional to $p(x_1,\\dots,x_N)$"
   ]
  },
  {
   "cell_type": "markdown",
   "metadata": {
    "slideshow": {
     "slide_type": "slide"
    }
   },
   "source": [
    "### Markov Chain Monte Carlo\n",
    "\n",
    "<img src=\"images/mcmc.png\">\n",
    "\n",
    "<span style=\"color:gray; font-size:10px; float:right\">(Figure taken from [MLSS 2009 Slides](http://videolectures.net/site/normal_dl/tag=50736/mlss09uk_murray_mcmc.pdf))</span>"
   ]
  },
  {
   "cell_type": "markdown",
   "metadata": {
    "slideshow": {
     "slide_type": "slide"
    }
   },
   "source": [
    "### MCMC:  Gibbs Sampling\n",
    "\n",
    "Sample each variable in turn, conditioned on all the others.\n",
    "- Assumes the **full conditionals** $p(x_k | \\mathbf{x}_{-k})$ are known\n",
    "\n",
    "<div style=\"margin: 10px; padding: 20px; border: 2px solid black\">\n",
    "<ol>\n",
    "    <li>Initialize $\\mathbf{x}^{0}=(x_1^0, x_2^0, \\dots, x_N^0)$ randomly.</li>\n",
    "    <li>For $k \\in {1,\\dots,N}$ in a random order,\n",
    "        <ol>\n",
    "            <li>Set $\\mathbf{x}^{t+1} = \\mathbf{x}^t$\n",
    "            <li>Resample $x_k^{t+1} \\sim p(x_k \\mid \\mathbf{x}_{-k}^t)$\n",
    "        </ol></li>\n",
    "</ol>\n",
    "</div>"
   ]
  },
  {
   "cell_type": "markdown",
   "metadata": {
    "slideshow": {
     "slide_type": "slide"
    }
   },
   "source": [
    "### MCMC:  Gibbs Sampling\n",
    "\n",
    "<img src=\"images/bishop-fig1111.png\">\n",
    "\n",
    "<span style=\"color:gray; font-size:10px; float:right\">(Figure 11.11 from **[PRML]**)</span>"
   ]
  },
  {
   "cell_type": "markdown",
   "metadata": {
    "slideshow": {
     "slide_type": "slide"
    }
   },
   "source": [
    "### MCMC:  Summary\n",
    "\n",
    "1. Inference can often be reduced to an integration problem.\n",
    "2. Integration problems can be expressed as an expection.\n",
    "3. Expectations can be approximated by averaging over samples.\n",
    "4. **Inference can be reduced to a sampling problem.**"
   ]
  },
  {
   "cell_type": "markdown",
   "metadata": {
    "slideshow": {
     "slide_type": "slide"
    }
   },
   "source": [
    "### MCMC:  Summary\n",
    "\n",
    "Advantages:\n",
    "- Easy to implement\n",
    "- Works well in high dimensions\n",
    "- Guaranteed to converge to the true distribution\n",
    "\n",
    "Disadvantages:\n",
    "- The Markov Chain may not **mix** fast enough\n",
    "- Need lots of samples\n",
    "- Convergence rate unknown"
   ]
  },
  {
   "cell_type": "markdown",
   "metadata": {
    "slideshow": {
     "slide_type": "slide"
    }
   },
   "source": [
    "### Variational Inference\n",
    "\n",
    "The goal of **variational inference** is to cast learning as an optimization problem.\n",
    "- Want to estimate some distribution $p(x_1, \\dots, x_n)$\n",
    "- Approximate $p$ with a parametric family $\\mathcal{Q} = \\{q_\\nu\\}_\\nu$ of simpler distributions.\n",
    "\n",
    "Find the distribution in $\\mathcal{Q}$ that is *closest* to $p$:\n",
    "    $$\n",
    "    \\nu^* = \\arg\\min_\\nu D_{KL}(q_\\nu || p)\n",
    "    $$"
   ]
  },
  {
   "cell_type": "markdown",
   "metadata": {
    "slideshow": {
     "slide_type": "slide"
    }
   },
   "source": [
    "### Variational Expectation Maximization\n",
    "\n",
    "Recall the **Expectation Maximization Algorithm**, where we chose $q_\\vartheta(Z) = p(Z|\\X,\\vartheta)$.\n",
    "\n",
    "<div style=\"margin:10px;padding:10px;border:2px solid black;\">\n",
    "<div>\n",
    "**E-Step:** Compute a new lower bound on the observed log-likelihood,\n",
    "    $$\n",
    "    \\vartheta_{t+1} \n",
    "    = \\arg\\min_\\vartheta D_{KL}(q_\\vartheta || p(Z|\\X,\\theta_t)\n",
    "    = \\theta_t\n",
    "    $$\n",
    "</div><div>\n",
    "**M-Step:** Estimate new parameters by maximizing the bound.\n",
    "    $$\n",
    "    \\theta_{t+1}\n",
    "    = \\arg\\max_\\theta \\L(\\vartheta_{t+1}, \\theta)\n",
    "    = \\arg\\max_\\theta E_q[ \\log p(\\X,Z | \\theta) ]\n",
    "    $$\n",
    "</div>\n",
    "</div>"
   ]
  },
  {
   "cell_type": "markdown",
   "metadata": {
    "slideshow": {
     "slide_type": "slide"
    }
   },
   "source": [
    "### Variational Expectation Maximization\n",
    "\n",
    "**Problem:** What if the hidden posterior $P(Z|\\X,\\theta)$ is intractable?\n",
    "- Expectation-Maximization no longer works.\n",
    "- Now, our theoretical derivation comes in handy."
   ]
  },
  {
   "cell_type": "markdown",
   "metadata": {
    "slideshow": {
     "slide_type": "slide"
    }
   },
   "source": [
    "### Variational Expectation Maximization\n",
    "\n",
    "**Idea:** Approximate the hidden posterior by a simpler distribution $q$.  In *mean-field variational inference*, we assume the hidden variables are completely independent:\n",
    "    $$\n",
    "    q_\\vartheta(Z) = \\prod_{k=1}^K q_k(Z_k | \\vartheta)\n",
    "    $$\n",
    "    \n",
    "> This is the same as removing all edges between latent variables in the corresponding graphical model."
   ]
  },
  {
   "cell_type": "markdown",
   "metadata": {
    "slideshow": {
     "slide_type": "slide"
    }
   },
   "source": [
    "### Variational Expectation Maximization\n",
    "\n",
    "Next, we perform Expectation-Maximization as usual!\n",
    "- Unfortunately, the E-Step is no longer trivial.\n",
    "- We must optimize over the **variational parameters**.\n",
    "\n",
    "Variational inference works well in practice.\n",
    "- Converges to an approximate answer much more quickly than MCMC."
   ]
  },
  {
   "cell_type": "markdown",
   "metadata": {
    "slideshow": {
     "slide_type": "slide"
    }
   },
   "source": [
    "# Application:  Latent Dirichlet Allocation\n",
    "\n",
    "> This was originally a homework problem, but you lucked out :)  See [**[Blei, Ng, and Jordan 2003]**](http://ai.stanford.edu/~ang/papers/nips01-lda.pdf) for details."
   ]
  },
  {
   "cell_type": "markdown",
   "metadata": {
    "slideshow": {
     "slide_type": "slide"
    }
   },
   "source": [
    "### Latent Dirichlet Allocation\n",
    "\n",
    "**Latent Dirichlet Allocation** models documents as mixtures of latent *topics*.\n",
    "- Makes the **bag-of-words** assumption.\n",
    "- A **topic** is a probability distribution over words.\n",
    "- Is a **mixed-membership** mixture model.  Each document expresses more than one topic with different *proportions*."
   ]
  },
  {
   "cell_type": "markdown",
   "metadata": {
    "slideshow": {
     "slide_type": "slide"
    }
   },
   "source": [
    "### LDA:  Generative Process\n",
    "\n",
    "Given a set $\\beta=(\\beta_1,\\dots,\\beta_K)$ of $K$ topics and a fixed vocabulary, generate documents in the following way:\n",
    "\n",
    "1. Choose topic proportions $\\theta_d \\sim \\mathrm{Dirichlet}(\\alpha)$\n",
    "1. For each word $w_{dn}$,\n",
    "    1. Choose a random topic $z_{dn}$ according to the weights $\\theta_d$.\n",
    "    1. Choose a random word $w_{dn}$ from topic $\\beta_{z_{dn}}$"
   ]
  },
  {
   "cell_type": "markdown",
   "metadata": {
    "slideshow": {
     "slide_type": "slide"
    }
   },
   "source": [
    "### LDA:  Intuitive View\n",
    "\n",
    "<img src=\"images/lda-explained.png\">\n",
    "\n",
    "\n",
    "<span style=\"color:gray; font-size:10px; float:right\">(Taken from [MLSS 2012 Slides](http://yosinski.com/mlss12/media/slides/MLSS-2012-Blei-Probabilistic-Topic-Models.pdf) by David Blei)</span>"
   ]
  },
  {
   "cell_type": "markdown",
   "metadata": {
    "slideshow": {
     "slide_type": "slide"
    }
   },
   "source": [
    "### LDA:  Graphical Model\n",
    "\n",
    "<img src=\"images/lda-pgm.png\">\n",
    "\n",
    "<span style=\"color:gray; font-size:10px; float:right\">(Taken from [MLSS 2012 Slides](http://yosinski.com/mlss12/media/slides/MLSS-2012-Blei-Probabilistic-Topic-Models.pdf) by David Blei)</span>"
   ]
  },
  {
   "cell_type": "markdown",
   "metadata": {
    "slideshow": {
     "slide_type": "slide"
    }
   },
   "source": [
    "### LDA:  Inference\n",
    "\n",
    "Latent Dirichlet Allocation is arguably the simplest model that requires approximate inference.  It is often used as the \"hello world\" example when new inference techniques are introduced.\n",
    "\n",
    "- Mean field variational inference\n",
    "- Expectation propagation\n",
    "- Collapsed Gibbs sampling\n",
    "- Distributed sampling\n",
    "- Collapsed variational inference\n",
    "- Online variational inference\n",
    "- Factorization based inference\n",
    "\n",
    "Latent Dirichlet Allocation has **many, many** applications to areas other than text modeling."
   ]
  },
  {
   "cell_type": "markdown",
   "metadata": {
    "slideshow": {
     "slide_type": "slide"
    }
   },
   "source": [
    "### LDA:  Example of Learned Topics\n",
    "\n",
    "<img src=\"images/lda-topics.png\">\n",
    "\n",
    "<span style=\"color:gray; font-size:10px; float:right\">(Taken from [MLSS 2012 Slides](http://yosinski.com/mlss12/media/slides/MLSS-2012-Blei-Probabilistic-Topic-Models.pdf) by David Blei)</span>"
   ]
  }
 ],
 "metadata": {
  "celltoolbar": "Slideshow",
  "kernelspec": {
   "display_name": "Python 3",
   "language": "python",
   "name": "python3"
  },
  "language_info": {
   "codemirror_mode": {
    "name": "ipython",
    "version": 3
   },
   "file_extension": ".py",
   "mimetype": "text/x-python",
   "name": "python",
   "nbconvert_exporter": "python",
   "pygments_lexer": "ipython3",
   "version": "3.5.1"
  }
 },
 "nbformat": 4,
 "nbformat_minor": 0
}
