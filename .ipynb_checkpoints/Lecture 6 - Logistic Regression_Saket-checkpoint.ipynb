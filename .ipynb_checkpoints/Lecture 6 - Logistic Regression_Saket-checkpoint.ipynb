{
 "cells": [
  {
   "cell_type": "markdown",
   "metadata": {
    "slideshow": {
     "slide_type": "skip"
    }
   },
   "source": [
    "$$ \\LaTeX \\text{ command declarations here.}\n",
    "\\newcommand{\\R}{\\mathbb{R}}\n",
    "\\renewcommand{\\vec}[1]{\\mathbf{#1}}\n",
    "$$"
   ]
  },
  {
   "cell_type": "code",
   "execution_count": 2,
   "metadata": {
    "collapsed": true,
    "slideshow": {
     "slide_type": "skip"
    }
   },
   "outputs": [],
   "source": [
    "# plotting\n",
    "%matplotlib inline\n",
    "from matplotlib import pyplot as plt;\n",
    "\n",
    "# scientific\n",
    "import numpy as np;\n",
    "\n",
    "from scipy import linalg\n",
    "import matplotlib as mpl\n",
    "from matplotlib import colors\n",
    "\n",
    "from sklearn.discriminant_analysis import LinearDiscriminantAnalysis\n",
    "from sklearn.discriminant_analysis import QuadraticDiscriminantAnalysis"
   ]
  },
  {
   "cell_type": "markdown",
   "metadata": {
    "slideshow": {
     "slide_type": "slide"
    }
   },
   "source": [
    "# EECS 545:  Machine Learning\n",
    "## Lecture 06:  Generative models and Logistic Regression\n",
    "* Instructor:  **Jacob Abernethy**\n",
    "* Date:  January 27, 2016\n",
    "\n"
   ]
  },
  {
   "cell_type": "markdown",
   "metadata": {
    "slideshow": {
     "slide_type": "slide"
    }
   },
   "source": [
    "# Outline\n",
    "\n",
    "* Probabilistic Generative Models\n",
    "    - Gaussian Discriminant Analysis\n",
    "    - Naïve Bayes\n",
    "* Discriminant Functions\n",
    "    - Fisher’s linear discriminant\n",
    "    - Perceptron learning algorithm\n"
   ]
  },
  {
   "cell_type": "markdown",
   "metadata": {
    "slideshow": {
     "slide_type": "slide"
    }
   },
   "source": [
    "# Probabilistic Generative Models\n",
    "\n",
    "## Learning the Classifier\n",
    "\n",
    "Our final goal is to learn the distribution $ P (C_k |  x)$ .\n",
    "\n",
    "(a) Discriminative Models: Directly model $ P (C_k |  x)$ and learn parameters from the training set.\n",
    "    \n",
    "(b) Generative Models: Learn class densities $ P (x |  C_k)$ and priors $ P(C_k) $. Use Bayes' theorem for $ P (C_k |  x)$.\n",
    "\n"
   ]
  },
  {
   "cell_type": "markdown",
   "metadata": {
    "slideshow": {
     "slide_type": "slide"
    }
   },
   "source": [
    "* Bayes' Theorem reduces the classification problem $ P (C_k |  x)$ the distribution of the data.\n",
    "\n",
    "\n",
    "* Density estimation problems are easy to learn from labeled training data. \n",
    "    - $ P (C_k)$\n",
    "    - $ P (x | C_k)$\n",
    "\n",
    "\n",
    "* Maximum likelihood parameter estimation."
   ]
  },
  {
   "cell_type": "markdown",
   "metadata": {
    "slideshow": {
     "slide_type": "slide"
    }
   },
   "source": [
    "* For two classes, Bayes' theorem says:\n",
    "    $$ p(C_1|x) = \\frac {p(x|C_1) \\cdot p(C_1)} {p(x|C_1) \\cdot p(C_1) + p(x|C_2) \\cdot p(C_2)} $$\n",
    "    \n",
    "    \n",
    "* Use $ log $ odds:\n",
    "    $$ a = ln \\frac{p(C_1|x)}{p(C_2|x)} = ln \\frac{p(x|C_1) \\cdot p(C_1)}{p(x|C_2) \\cdot p(C_2)} $$\n",
    "    \n",
    "    \n",
    "* To define the posterior via $sigmoid$ :\n",
    "    $$ p(C_1|x) = \\frac {1} {1+ exp(-a)} = \\sigma(a) $$"
   ]
  },
  {
   "cell_type": "markdown",
   "metadata": {
    "slideshow": {
     "slide_type": "slide"
    }
   },
   "source": [
    "## Discriminative v. Generative: A comparison\n",
    "\n",
    "* The generative approach is typically model- based, and makes it possible to generate synthetic data from $ p(x|C_k) $.\n",
    "\n",
    "    – By comparing the synthetic data and real data, we get a sense of how good the generative model is.\n"
   ]
  },
  {
   "cell_type": "markdown",
   "metadata": {
    "slideshow": {
     "slide_type": "subslide"
    }
   },
   "source": [
    "\n",
    "* The discriminative approach will typically have fewer parameters to estimate and have less assumptions about data distribution.\n",
    "\n",
    "    – Linear (e.g., logistic regression) versus quadratic (e.g. Gaussian discriminant analysis) in the dimension of the input.\n",
    "    \n",
    "    – Less generative assumptions about the data (however, constructing the features may need prior knowledge)"
   ]
  },
  {
   "cell_type": "markdown",
   "metadata": {
    "slideshow": {
     "slide_type": "slide"
    }
   },
   "source": [
    "## Gaussian Discriminant Analysis\n",
    "\n",
    "* Prior Distribution \n",
    "    - $ p(C_k) $: assumed to be constant. (eg. Bernoulli)\n",
    "    \n",
    "    \n",
    "* Likelihood\n",
    "    - $ p(x| C_k) $: Gaussian distribution\n",
    "    \n",
    "    $ p (x| C_k) = \\frac{1}{(2\\pi) ^\\frac{D}{2} |\\Sigma|^ \\frac{1}{2}} exp \\left\\{- \\frac {1}{2} (x - \\mu_k)^T \\Sigma^{-1} (x - \\mu_k) \\right\\} $\n",
    "    \n",
    "    "
   ]
  },
  {
   "cell_type": "markdown",
   "metadata": {
    "slideshow": {
     "slide_type": "subslide"
    }
   },
   "source": [
    "* Classification\n",
    "    - Use Bayes' Rule: For any class $i$,\n",
    "$$ p(C_i|x) = \\frac {p(x|C_i) \\cdot p(C_i)} {\\Sigma_k p(x|C_k) \\cdot p(C_k)} $$"
   ]
  },
  {
   "cell_type": "code",
   "execution_count": 3,
   "metadata": {
    "collapsed": false,
    "slideshow": {
     "slide_type": "slide"
    }
   },
   "outputs": [
    {
     "data": {
      "image/png": "[encoded data removed]",
      "text/plain": [
       "<matplotlib.figure.Figure at 0x7f5b7c48f710>"
      ]
     },
     "metadata": {},
     "output_type": "display_data"
    }
   ],
   "source": [
    "# Credits: Scikit-learn example on Linear and Quadratic Discriminant Analysis with confidence ellipsoid\n",
    "\n",
    "\n",
    "# colormap\n",
    "cmap = colors.LinearSegmentedColormap(\n",
    "    'red_blue_classes',\n",
    "    {'red': [(0, 1, 1), (1, 0.7, 0.7)],\n",
    "     'green': [(0, 0.7, 0.7), (1, 0.7, 0.7)],\n",
    "     'blue': [(0, 0.7, 0.7), (1, 1, 1)]})\n",
    "plt.cm.register_cmap(cmap=cmap)\n",
    "\n",
    "\n",
    "###############################################################################\n",
    "# generate datasets\n",
    "def dataset_fixed_cov():\n",
    "    '''Generate 2 Gaussians samples with the same covariance matrix'''\n",
    "    n, dim = 300, 2\n",
    "    np.random.seed(0)\n",
    "    C = np.array([[0., -0.23], [0.83, .23]])\n",
    "    X = np.r_[np.dot(np.random.randn(n, dim), C),\n",
    "              np.dot(np.random.randn(n, dim), C) + np.array([1, 1])]\n",
    "    y = np.hstack((np.zeros(n), np.ones(n)))\n",
    "    return X, y\n",
    "\n",
    "\n",
    "def dataset_cov():\n",
    "    '''Generate 2 Gaussians samples with different covariance matrices'''\n",
    "    n, dim = 300, 2\n",
    "    np.random.seed(0)\n",
    "    C = np.array([[0., -1.], [2.5, .7]]) * 2.\n",
    "    X = np.r_[np.dot(np.random.randn(n, dim), C),\n",
    "              np.dot(np.random.randn(n, dim), C.T) + np.array([1, 4])]\n",
    "    y = np.hstack((np.zeros(n), np.ones(n)))\n",
    "    return X, y\n",
    "\n",
    "\n",
    "###############################################################################\n",
    "# plot functions\n",
    "def plot_data(lda, X, y, y_pred, fig_index):\n",
    "    splot = plt.subplot(2, 2, fig_index)\n",
    "    if fig_index == 1:\n",
    "        plt.title('Linear Discriminant Analysis')\n",
    "        plt.ylabel('Data with fixed covariance')\n",
    "    elif fig_index == 2:\n",
    "        plt.title('Quadratic Discriminant Analysis')\n",
    "    elif fig_index == 3:\n",
    "        plt.ylabel('Data with varying covariances')\n",
    "\n",
    "    tp = (y == y_pred)  # True Positive\n",
    "    tp0, tp1 = tp[y == 0], tp[y == 1]\n",
    "    X0, X1 = X[y == 0], X[y == 1]\n",
    "    X0_tp, X0_fp = X0[tp0], X0[~tp0]\n",
    "    X1_tp, X1_fp = X1[tp1], X1[~tp1]\n",
    "\n",
    "    # class 0: dots\n",
    "    plt.plot(X0_tp[:, 0], X0_tp[:, 1], 'o', color='red')\n",
    "    plt.plot(X0_fp[:, 0], X0_fp[:, 1], '.', color='#990000')  # dark red\n",
    "\n",
    "    # class 1: dots\n",
    "    plt.plot(X1_tp[:, 0], X1_tp[:, 1], 'o', color='blue')\n",
    "    plt.plot(X1_fp[:, 0], X1_fp[:, 1], '.', color='#000099')  # dark blue\n",
    "\n",
    "    # class 0 and 1 : areas\n",
    "    nx, ny = 200, 100\n",
    "    x_min, x_max = plt.xlim()\n",
    "    y_min, y_max = plt.ylim()\n",
    "    xx, yy = np.meshgrid(np.linspace(x_min, x_max, nx),\n",
    "                         np.linspace(y_min, y_max, ny))\n",
    "    Z = lda.predict_proba(np.c_[xx.ravel(), yy.ravel()])\n",
    "    Z = Z[:, 1].reshape(xx.shape)\n",
    "    plt.pcolormesh(xx, yy, Z, cmap='red_blue_classes',\n",
    "                   norm=colors.Normalize(0., 1.))\n",
    "    plt.contour(xx, yy, Z, [0.5], linewidths=2., colors='k')\n",
    "\n",
    "    # means\n",
    "    plt.plot(lda.means_[0][0], lda.means_[0][1],\n",
    "             'o', color='black', markersize=10)\n",
    "    plt.plot(lda.means_[1][0], lda.means_[1][1],\n",
    "             'o', color='black', markersize=10)\n",
    "\n",
    "    return splot\n",
    "\n",
    "\n",
    "def plot_ellipse(splot, mean, cov, color):\n",
    "    v, w = linalg.eigh(cov)\n",
    "    u = w[0] / linalg.norm(w[0])\n",
    "    angle = np.arctan(u[1] / u[0])\n",
    "    angle = 180 * angle / np.pi  # convert to degrees\n",
    "    # filled Gaussian at 2 standard deviation\n",
    "    ell = mpl.patches.Ellipse(mean, 2 * v[0] ** 0.5, 2 * v[1] ** 0.5,\n",
    "                              180 + angle, color=color)\n",
    "    ell.set_clip_box(splot.bbox)\n",
    "    ell.set_alpha(0.5)\n",
    "    splot.add_artist(ell)\n",
    "    splot.set_xticks(())\n",
    "    splot.set_yticks(())\n",
    "\n",
    "\n",
    "def plot_lda_cov(lda, splot):\n",
    "    plot_ellipse(splot, lda.means_[0], lda.covariance_, 'red')\n",
    "    plot_ellipse(splot, lda.means_[1], lda.covariance_, 'blue')\n",
    "\n",
    "\n",
    "def plot_qda_cov(qda, splot):\n",
    "    plot_ellipse(splot, qda.means_[0], qda.covariances_[0], 'red')\n",
    "    plot_ellipse(splot, qda.means_[1], qda.covariances_[1], 'blue')\n",
    "\n",
    "###############################################################################\n",
    "for i, (X, y) in enumerate([dataset_fixed_cov(), dataset_cov()]):\n",
    "    # Linear Discriminant Analysis\n",
    "    lda = LinearDiscriminantAnalysis(solver=\"svd\", store_covariance=True)\n",
    "    y_pred = lda.fit(X, y).predict(X)\n",
    "    splot = plot_data(lda, X, y, y_pred, fig_index=2 * i + 1)\n",
    "    plot_lda_cov(lda, splot)\n",
    "    plt.axis('tight')\n",
    "\n",
    "    # Quadratic Discriminant Analysis\n",
    "    qda = QuadraticDiscriminantAnalysis(store_covariances=True)\n",
    "    y_pred = qda.fit(X, y).predict(X)\n",
    "    splot = plot_data(qda, X, y, y_pred, fig_index=2 * i + 2)\n",
    "    plot_qda_cov(qda, splot)\n",
    "    plt.axis('tight')\n",
    "plt.suptitle('Linear Discriminant Analysis vs Quadratic Discriminant Analysis')\n",
    "plt.show()"
   ]
  },
  {
   "cell_type": "markdown",
   "metadata": {
    "slideshow": {
     "slide_type": "slide"
    }
   },
   "source": [
    "## Class Conditional Densities\n",
    "\n",
    "Suppose we model $ p(x |C_k) $ as Gaussians with the _same_ _covariance_ matrix:\n",
    "\n",
    "$ p (x| C_k) = \\frac{1}{(2\\pi) ^\\frac{D}{2} |\\Sigma|^ \\frac{1}{2}} exp \\left\\{- \\frac {1}{2} (x - \\mu_k)^T \\Sigma^{-1} (x - \\mu_k) \\right\\} $\n",
    "\n",
    "This gives us $ p(C_1|x) = \\sigma(w^T x + w_0) $\n",
    "\n",
    "where $ w = \\Sigma^{-1}(\\mu_1 - \\mu_2) $ \n",
    "\n",
    "and $ w_0 = -\\frac{1}{2} \\mu_1^T \\Sigma ^{-1} \\mu_1 + \\frac{1}{2} \\mu_2^T \\Sigma ^{-1} \\mu_2 + ln \\frac {p(C_1)}{p(C_2)} $"
   ]
  },
  {
   "cell_type": "markdown",
   "metadata": {
    "slideshow": {
     "slide_type": "slide"
    }
   },
   "source": [
    "## Derivation\n",
    "\n",
    "$$\n",
    "\\begin{align}\n",
    "P (x, C_1) \n",
    "&= P(x|C_1) \\cdot P(C_1) \\\\\n",
    "&= \\frac{1}{(2\\pi) ^\\frac{D}{2} |\\Sigma|^ \\frac{1}{2}} exp \\left\\{- \\frac {1}{2} (x - \\mu_1)^T \\Sigma^{-1} (x - \\mu_1) \\right\\} \\cdot P(C_1)\n",
    "\\end{align}\n",
    "$$\n",
    "\n",
    "\n",
    "$$\n",
    "\\begin{align}\n",
    "P (x, C_2) \n",
    "&= P(x|C_2) \\cdot P(C_2) \\\\\n",
    "&=  \\frac{1}{(2\\pi) ^\\frac{D}{2} |\\Sigma|^ \\frac{1}{2}} exp \\left\\{- \\frac {1}{2} (x - \\mu_2)^T \\Sigma^{-1} (x - \\mu_2) \\right\\} \\cdot P(C_2)\n",
    "\\end{align}\n",
    "$$"
   ]
  },
  {
   "cell_type": "markdown",
   "metadata": {
    "slideshow": {
     "slide_type": "subslide"
    }
   },
   "source": [
    "__\"Log Odds\"__\n",
    "$$\n",
    "\\begin{align}\n",
    "log \\frac {p(C_1|x)}{p(C_2|x)} \n",
    "&= log \\frac {p(C_1|x)}{1 - p(C_1|x)} \\\\\n",
    "&= log \\frac{exp \\left\\{- \\frac {1}{2} (x - \\mu_1)^T \\Sigma^{-1} (x - \\mu_1) \\right\\}}{exp \\left\\{- \\frac {1}{2} (x - \\mu_2)^T \\Sigma^{-1} (x - \\mu_2) \\right\\}} + log \\frac{P(C_1)}{P(C_2)} \\\\\n",
    "&= \\left\\{- \\frac {1}{2} (x - \\mu_1)^T \\Sigma^{-1} (x - \\mu_1) \\right\\} - \\left\\{- \\frac {1}{2} (x - \\mu_2)^T \\Sigma^{-1} (x - \\mu_2) \\right\\} +  log \\frac{P(C_1)}{P(C_2)} \\\\\n",
    "&= (\\mu_1 - \\mu_2)^T \\Sigma^{-1} x - \\frac{1}{2} \\mu_1\\Sigma^{-1}\\mu_1 + \\frac{1}{2} \\mu_2\\Sigma^{-1}\\mu_2 + log \\frac{P(C_1)}{P(C_2)} \\\\\n",
    "&= (\\Sigma^{-1}(\\mu_1 - \\mu_2))^T x + w_0\n",
    "\\end{align}\n",
    "$$\n",
    "\n",
    "where $ w_0 = -\\frac{1}{2} \\mu_1^T \\Sigma ^{-1} \\mu_1 + \\frac{1}{2} \\mu_2^T \\Sigma ^{-1} \\mu_2 + log \\frac {p(C_1)}{p(C_2)}$"
   ]
  },
  {
   "cell_type": "markdown",
   "metadata": {
    "slideshow": {
     "slide_type": "slide"
    }
   },
   "source": [
    "## Class-Conditional Densities \n",
    "## (for shared covariances)\n",
    "\n",
    "* $ P(C_k|x) $ is a sigmoid function: $ \\sigma(a) = \\frac {1}{1+exp(-a)} $\n",
    "\n",
    "- with logg-odds (_logit function_):\n",
    "$ a = log(\\frac{\\sigma}{1-\\sigma} = (\\Sigma^{-1}(\\mu_1 - \\mu_2))^T x + w_0 $\n",
    "\n",
    "where $ w_0 = -\\frac{1}{2} \\mu_1^T \\Sigma ^{-1} \\mu_1 + \\frac{1}{2} \\mu_2^T \\Sigma ^{-1} \\mu_2 + log \\frac {p(C_1)}{p(C_2)} $\n",
    "\n",
    "* Generalizes to normalized exponential or _softmax_: $ p_i = \\frac{exp(q_i)}{\\Sigma_j exp(q_j)}$"
   ]
  },
  {
   "cell_type": "markdown",
   "metadata": {
    "slideshow": {
     "slide_type": "slide"
    }
   },
   "source": [
    "## Sigmoid Function"
   ]
  },
  {
   "cell_type": "code",
   "execution_count": 10,
   "metadata": {
    "collapsed": false,
    "slideshow": {
     "slide_type": "-"
    }
   },
   "outputs": [
    {
     "data": {
      "image/png": "[encoded data removed]",
      "text/plain": [
       "<matplotlib.figure.Figure at 0x7fb08218da10>"
      ]
     },
     "metadata": {},
     "output_type": "display_data"
    }
   ],
   "source": [
    "# Plot sigmoid function\n",
    "import math\n",
    "def sigmoid(x):\n",
    "    a = []\n",
    "    for item in x:\n",
    "        a.append(1/(1+math.exp(-item)))\n",
    "    return a\n",
    "x = np.arange(-10., 10., 0.1)\n",
    "sig = sigmoid(x)\n",
    "plt.plot(x,sig);"
   ]
  },
  {
   "cell_type": "markdown",
   "metadata": {
    "slideshow": {
     "slide_type": "slide"
    }
   },
   "source": [
    "## Linear Decision Boundaries\n",
    "\n",
    "* With the same covariance matrices, the boundary $ p(C_1|x) = p(C_2|x)$ is linear.\n",
    "    - Different priors $p(C_1), P(C_2)$ just shift it around.\n",
    "    \n",
    "<img src=\"linear_db.png\" width=750px, align=\"middle\">"
   ]
  },
  {
   "cell_type": "markdown",
   "metadata": {
    "slideshow": {
     "slide_type": "slide"
    }
   },
   "source": [
    "## Learning parameters via maximum likelihood\n",
    "\n",
    "* Given training data $\\{(x^{(1)}, t^{(1)}), .... , (x^{(N)}, t^{(N)})\\}$ and a generative model (_shared covariance_)\n",
    "\n",
    "$$ p(t) = \\phi^t (1-\\phi)^{(1-t)} $$\n",
    "\n",
    "$$ p(x|t=0) = \\frac{1}{\\sqrt{2\\pi} |\\Sigma|^\\frac{1}{2}} exp (- \\frac {1}{2} (x - \\mu_0)^T \\Sigma^{-1} (x - \\mu_0) ) $$\n",
    "\n",
    "$$ p(x|t=1) = \\frac{1}{\\sqrt{2\\pi} |\\Sigma|^\\frac{1}{2}} exp (- \\frac {1}{2} (x - \\mu_1)^T \\Sigma^{-1} (x - \\mu_1) ) $$\n",
    "\n"
   ]
  },
  {
   "cell_type": "markdown",
   "metadata": {
    "slideshow": {
     "slide_type": "subslide"
    }
   },
   "source": [
    "__log likelihood__\n",
    "\n",
    "$$\n",
    "\\begin{align}\n",
    "log (L)  \n",
    "&= \\prod_{i=1}^{N} P(X^{(i)}, t^{(i)}) \\\\\n",
    "&= \\sum_{i=1}^{N} log P(X^{(i)}, t^{(i)})\n",
    "\\end{align}\n",
    "$$"
   ]
  },
  {
   "cell_type": "markdown",
   "metadata": {
    "slideshow": {
     "slide_type": "slide"
    }
   },
   "source": [
    "## Learning via maximum likelihood\n",
    "\n",
    "Maximum likelihood estimation solutions\n",
    "\n",
    "$$ \\phi = \\frac{1}{N} \\sum_{i=1}^{N} 1\\{t_i =1\\} $$\n",
    "\n",
    "$$ \\mu_0 = \\frac{\\sum_{i=1}^{N} 1\\{t_i = 0\\} x_i}{\\sum_{i=1}^{N} 1\\{t_i = 0\\}}  $$\n"
   ]
  },
  {
   "cell_type": "markdown",
   "metadata": {
    "slideshow": {
     "slide_type": "subslide"
    }
   },
   "source": [
    "$$ \\mu_1 = \\frac{\\sum_{i=1}^{N} 1\\{t_i = 1\\} x_i}{\\sum_{i=1}^{N} 1\\{t_i = 1\\}}  $$\n",
    "\n",
    "$$ \\Sigma = \\frac{1}{N} \\sum_{i=1}^{N} (x_i - \\mu_{t_i})(x_i - \\mu_{t_i})^T $$"
   ]
  },
  {
   "cell_type": "markdown",
   "metadata": {
    "slideshow": {
     "slide_type": "slide"
    }
   },
   "source": [
    "## The case of Different Covariances\n",
    "\n",
    "* Decision boundaries can be quadratic.\n",
    "\n",
    "<img src=\"cov.png\" width=750px, align=\"middle\">"
   ]
  },
  {
   "cell_type": "markdown",
   "metadata": {
    "slideshow": {
     "slide_type": "slide"
    }
   },
   "source": [
    "## GDA v. Logistic Regression\n",
    "\n",
    "* For an M-dimensional feature space, \n",
    "    - Logistic regression has to fit M parameters.\n",
    "    - GDA has to fit \n",
    "        * 2M parameters for means of $ p(x|C_1)$ and $ p(x|C_2)$\n",
    "        * M(M+1)/2 parameters for the shared covariance matrix.\n",
    "\n"
   ]
  },
  {
   "cell_type": "markdown",
   "metadata": {
    "slideshow": {
     "slide_type": "subslide"
    }
   },
   "source": [
    "\n",
    "* Logistic regression has less parameters and is more flexible about data distribution.\n",
    "\n",
    "\n",
    "* GDA has a stronger modeling assumption, and works well when the distribution follows the assumption."
   ]
  }
 ],
 "metadata": {
  "celltoolbar": "Slideshow",
  "kernelspec": {
   "display_name": "Python 2",
   "language": "python",
   "name": "python2"
  },
  "language_info": {
   "codemirror_mode": {
    "name": "ipython",
    "version": 2
   },
   "file_extension": ".py",
   "mimetype": "text/x-python",
   "name": "python",
   "nbconvert_exporter": "python",
   "pygments_lexer": "ipython2",
   "version": "2.7.11"
  }
 },
 "nbformat": 4,
 "nbformat_minor": 0
}
