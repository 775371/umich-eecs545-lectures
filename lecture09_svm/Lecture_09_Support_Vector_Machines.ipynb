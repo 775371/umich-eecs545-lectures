{
 "cells": [
  {
   "cell_type": "markdown",
   "metadata": {
    "slideshow": {
     "slide_type": "slide"
    }
   },
   "source": [
    "### Linear Classifiers Recap\n",
    "- Linear classifiers make decisions based on a linear (or more generally affine) combination of features.\n",
    "- Some we have looked at:\n",
    "    - Generative: Fisher's LDA, GDA, Naive Bayes\n",
    "    - Discriminative: Logistic Regression, Perceptron\n",
    "- A question to ponder upon: What is the \"best\" linear classifier?"
   ]
  },
  {
   "cell_type": "markdown",
   "metadata": {
    "slideshow": {
     "slide_type": "slide"
    }
   },
   "source": [
    "### Vapnik's Principle:\n",
    "\n",
    "- \"When solving a problem of interest, do not solve a more general problem as an intermediate step.\"\n",
    "- \"Don't solve a harder problem than you have to\" "
   ]
  },
  {
   "cell_type": "markdown",
   "metadata": {
    "slideshow": {
     "slide_type": "slide"
    }
   },
   "source": [
    "### Discriminative vs. Generative?\n",
    "- Generative models require estimation of (conditional) densities or mass functions.\n",
    "- Often much easier to just determine the \"decision boundary.\""
   ]
  },
  {
   "cell_type": "markdown",
   "metadata": {
    "slideshow": {
     "slide_type": "slide"
    }
   },
   "source": [
    "### Hyperplane: An affine subspace one dimension less than it's ambient space.\n",
    "- The hyperplanes of a 2-D space are 1-D lines.\n",
    "- The hyperplanes of a 3-D space are 2-D planes.\n",
    "\n",
    "- Mathematically, a hyperplane is of the form $\\mathbb{H} = \\{\\mathbf{x} : \\mathbf{w}^T\\mathbf{x} + b = 0\\}$ where $\\mathbf{w} \\in \\mathbb{R}^d$, $b \\in \\mathbb{R}$ and $d$ is the number of features."
   ]
  },
  {
   "cell_type": "markdown",
   "metadata": {
    "slideshow": {
     "slide_type": "slide"
    }
   },
   "source": [
    "### Point-Plane distance\n",
    "\n",
    "- Given a hyperplane $\\mathbb{H} = \\{\\mathbf{x} : \\mathbf{w}^T\\mathbf{x} + b = 0\\}$ and a point $\\mathbf{z} \\not \\in H$, we can write $z$ as:\n",
    "\n",
    "$$z = z_0 + r \\cdot \\frac{w}{||w||}$$ for a unique $z_0 \\in \\mathbb{H}$ and $r \\in \\mathbb{R^+} \\cup \\mathbb{R^-} (\\mathbb{R} \\setminus \\{0\\})$.\n",
    "\n",
    "- The distance is then given by $|r|$"
   ]
  },
  {
   "cell_type": "markdown",
   "metadata": {
    "slideshow": {
     "slide_type": "slide"
    }
   },
   "source": [
    "### Calculating $|r|$\n",
    "\n",
    "$$\\begin{align}\\mathbf{w}^T\\mathbf{z} + b &=\n",
    "\\mathbf{w}^T\\mathbf{z}_0 + \\mathbf{w}^T \\left(r \\cdot \\frac{w}{||w||}\\right) \\\\\n",
    "&= r \\frac{\\mathbf{w}^T\\mathbf{w}}{||\\mathbf{w}||}\\\\\n",
    "&= r ||\\mathbf{w}|| \\end{align}$$\n",
    "\n",
    "Therefore, we have $\\boxed{|r| = \\frac{|\\mathbf{w}^T \\mathbf{z} + b|}{||\\mathbf{w}||}}$"
   ]
  },
  {
   "cell_type": "markdown",
   "metadata": {
    "slideshow": {
     "slide_type": "slide"
    }
   },
   "source": [
    "### Separating Hyperplanes: \n",
    "Provide a way of solving 2-class classification problems.\n",
    "\n",
    "The Idea: divide the vector space $\\mathbb{R}^d$ where $d$ is the number of features into 2 \"decision regions\" with a $\\mathbb{R}^{d - 1}$  subspace (a hyperplane)."
   ]
  },
  {
   "cell_type": "markdown",
   "metadata": {
    "slideshow": {
     "slide_type": "slide"
    }
   },
   "source": [
    "### Maximum Margin Classifier\n",
    "\n",
    "- (Functional) Margin: The distance from a separating hyperplane to the closest datapoint of any class.\n",
    "- Max. Margin Classifiers: separate data by looking for the hyperplane that maximizes the margin.\n",
    "    - The \"best\" linear classifier in terms of generalization as misclassification is unlikely with a wide margin between the classes."
   ]
  },
  {
   "cell_type": "code",
   "execution_count": 264,
   "metadata": {
    "collapsed": false,
    "slideshow": {
     "slide_type": "skip"
    }
   },
   "outputs": [],
   "source": [
    "%matplotlib inline\n",
    "\n",
    "import warnings\n",
    "warnings.filterwarnings(\"ignore\")\n",
    "\n",
    "import numpy as np\n",
    "from sklearn import svm\n",
    "\n",
    "def max_margin_classifier(ax, X, Y):\n",
    "    clf = svm.SVC(kernel='linear')\n",
    "    clf.fit(X, Y)\n",
    "\n",
    "    # get the separating hyperplane\n",
    "    w = clf.coef_[0]\n",
    "    m = -w[0] / w[1]\n",
    "    xx = np.linspace(-5, 5)\n",
    "    yy = m * xx - (clf.intercept_[0]) / w[1]\n",
    "\n",
    "    # plot the parallel lines to the separating hyperplane that pass through the\n",
    "    # support vectors\n",
    "    t = clf.support_vectors_[0]\n",
    "    yy_down = m * xx + (t[1] - m * t[0])\n",
    "    t = clf.support_vectors_[-1]\n",
    "    yy_up = m * xx + (t[1] - m * t[0])\n",
    "\n",
    "    ax.plot(xx, yy, 'k-')\n",
    "    ax.plot(xx, yy_down, 'k--')\n",
    "    ax.plot(xx, yy_up, 'k--')\n",
    "\n",
    "    ax.scatter(clf.support_vectors_[:, 0], clf.support_vectors_[:, 1],\n",
    "            s=80, facecolors='none')\n",
    "    ax.scatter(X[:, 0], X[:, 1], c=Y, cmap=plt.cm.Paired)\n",
    "\n",
    "    ax.axis('tight')"
   ]
  },
  {
   "cell_type": "code",
   "execution_count": 265,
   "metadata": {
    "collapsed": false,
    "slideshow": {
     "slide_type": "slide"
    }
   },
   "outputs": [
    {
     "data": {
      "image/png": "[encoded data removed]",
      "text/plain": [
       "<matplotlib.figure.Figure at 0x1096b5790>"
      ]
     },
     "metadata": {},
     "output_type": "display_data"
    }
   ],
   "source": [
    "import matplotlib.pyplot as plt\n",
    "\n",
    "# Create 30 random points\n",
    "np.random.seed()\n",
    "X = np.r_[np.random.randn(30, 2) - [3, 3], np.random.randn(30, 2) + [3, 3]]\n",
    "Y = [0] * 30 + [1] * 30\n",
    "\n",
    "fig = plt.figure()\n",
    "ax = fig.add_subplot(111)\n",
    "_ = max_margin_classifier(ax, X, Y)\n",
    "plt.quiver(0, 0, 2 * w[0], 2 * w[0]/w[1],\n",
    "           angles='xy', scale_units='xy', scale=2)\n",
    "plt.show()\n",
    "\n",
    "# Note: The separating hyperplane is the line between the two dotted lines. \n",
    "# The two dotted lines specify the margin and points on the margin are circled."
   ]
  },
  {
   "cell_type": "markdown",
   "metadata": {
    "slideshow": {
     "slide_type": "slide"
    }
   },
   "source": [
    "### Margin Eqn.\n",
    "\n",
    "- The margin $\\rho$ of a hyperplane is given by $$\\rho = \\rho(w, b) = \\min_{i = 1, ..., n} \\frac{|\\mathbf{w}^T\\mathbf{x}_i + b|}{||\\mathbf{w}||}$$ where $\\mathbf{x}_i$ is the $i^\\text{th}$ datapoint from the training set."
   ]
  },
  {
   "cell_type": "markdown",
   "metadata": {
    "slideshow": {
     "slide_type": "slide"
    }
   },
   "source": [
    "### How do we find the max-margin hyperplane?\n",
    "\n",
    "- As with other linear classifiers, let the classifier be given by the following form $$f(\\mathbf{x}) = sign(\\mathbf{w}^T\\mathbf{x} + b), sign(t) = \\begin{cases} 1 & \\text{if } t \\geq 0\\\\ -1 & \\text{if } t < 0 \\end{cases}$$\n",
    "- The maximum margin separating hyperplane is then given by the following optimization problem\n",
    "\n",
    "$$\\begin{equation*}\n",
    "\\begin{aligned}\n",
    "& \\underset{\\mathbf{w}, b}{\\text{maximize}}\n",
    "& & \\rho(\\mathbf{w}, b)\\\\\n",
    "& \\text{subject to}\n",
    "& & y_i(\\mathbf{w}^Tx_i + b) > 0\n",
    "\\end{aligned}\n",
    "\\end{equation*}$$"
   ]
  },
  {
   "cell_type": "markdown",
   "metadata": {
    "slideshow": {
     "slide_type": "slide"
    }
   },
   "source": [
    "### Canonical Form\n",
    "\n",
    "- Let $m := \\min_{i = 1, ..., n} |\\mathbf{w_1}^T\\mathbf{x}_i + b_1|$ (Simply renaming $\\mathbf{w} as \\mathbf{w}_1$ and $b$ as $b_1$.\n",
    "- Then, scaling $\\mathbf{w}_1$ and $b_1$ by $\\frac{1}{m}$ keeps the hyperplane unaffected.\n",
    "- $\\mathbf{w_2} = \\frac{\\mathbf{w_1}}{m}$ and $b_2 = \\frac{b_1}{m}$ express the hyperplane in canonical form."
   ]
  },
  {
   "cell_type": "markdown",
   "metadata": {
    "slideshow": {
     "slide_type": "slide"
    }
   },
   "source": [
    "### Restatement of the Opt. Problem\n",
    "\n",
    "- Using the canonical form, we can rewrite the optimization problem as $$\\begin{equation*}\n",
    "\\begin{aligned}\n",
    "& \\underset{\\mathbf{w}, b}{\\text{maximize}} \n",
    "& & \\frac{|\\mathbf{w}^T\\mathbf{x}_i + b|}{||\\mathbf{w}||}\\\\\n",
    "& \\text{subject to}\n",
    "& & y_i(\\mathbf{w}^Tx_i + b) \\geq 1, \\forall i\\\\\n",
    "& & & y_i(\\mathbf{w}^Tx_i + b) \\geq 1 \\text{ for some } i\n",
    "\\end{aligned}\n",
    "\\end{equation*}$$\n",
    "\n",
    "- Simplifying further (try to verify this), we have $$\\begin{equation*}\n",
    "\\begin{aligned}\n",
    "& \\underset{\\mathbf{w}, b}{\\text{maximize}} \n",
    "& & \\frac{1}{2}{||\\mathbf{w}||}^2\\\\\n",
    "& \\text{subject to}\n",
    "& & y_i(\\mathbf{w}^Tx_i + b) \\geq 1, \\forall i\\\\\n",
    "\\end{aligned}\n",
    "\\end{equation*}$$"
   ]
  },
  {
   "cell_type": "markdown",
   "metadata": {
    "slideshow": {
     "slide_type": "slide"
    }
   },
   "source": [
    "### Linear Separability\n",
    "\n",
    "- Two classes of data are said to be **linearly separable** if there exists a hyperplane that separates them without any errors.\n",
    "- So far, we have looked at primarily linearly separable data where a single hyperplane will do for classification.\n",
    "- We can extend on this notion to a multiclass scenario by considering data to be linearly separable if there exists a set of hyperplanes that can classify the data (again without errors)."
   ]
  },
  {
   "cell_type": "markdown",
   "metadata": {
    "slideshow": {
     "slide_type": "slide"
    }
   },
   "source": [
    "### Ideas for dealing with data that isn't linearly separable\n",
    "\n",
    "- Use \"slack\" variables that allow for misclassification and penalize misclassification.\n",
    "- Extend linear classifiers with kernels."
   ]
  },
  {
   "cell_type": "markdown",
   "metadata": {
    "slideshow": {
     "slide_type": "slide"
    }
   },
   "source": [
    "### Optimal Soft-Margin Hyperplane (OSMH)\n",
    "\n",
    "* Linear Classifier which is the solution to \n",
    "\n",
    "$$\\begin{equation*}\n",
    "\\begin{aligned}\n",
    "& \\underset{\\mathbf{w}, b, \\mathbf{\\xi}}{\\text{maximize}} \n",
    "& & \\frac{1}{2} {||\\mathbf{w}||}^2 + \\frac{C}{n} \\sum_{i = 1}^n \\xi_i\\\\\n",
    "& \\text{subject to}\n",
    "& & y_i(\\mathbf{w}^Tx_i + b) \\geq 1 - \\xi_i, i = 1, ..., n\\\\\n",
    "& & & \\xi_i \\geq 0, i = 1, ..., n\n",
    "\\end{aligned}\n",
    "\\end{equation*}$$ where we now have a new term that penalizes errors and accounts for the influence of outliers through a constant $C \\geq 0$ (0 would lead us back to the hard margin case) and $\\mathbf{xi} = [\\xi_1, ..., \\xi_n]$ are the slack variables."
   ]
  },
  {
   "cell_type": "markdown",
   "metadata": {
    "slideshow": {
     "slide_type": "slide"
    }
   },
   "source": [
    "\n",
    "#### Reasoning behind the optimization conditions: \n",
    "- The first condition ensures that the classifier is generally doing well (similar to the previous max-margin optimization constraint except we now allow for some slack).\n",
    "- The second condition ensures that the slack variables are all non-negative so as to keep the optimization problem from \"diverging.\""
   ]
  },
  {
   "cell_type": "markdown",
   "metadata": {
    "slideshow": {
     "slide_type": "slide"
    }
   },
   "source": [
    "### The OSMH optimization problem\n",
    "\n",
    "- The OSMH optimization is a convex optimization problem as the objective function is quadratic and the inequality constraints are affine (and hence convex).\n",
    "- Strong duality holds."
   ]
  },
  {
   "cell_type": "markdown",
   "metadata": {
    "slideshow": {
     "slide_type": "slide"
    }
   },
   "source": [
    "### Lagrangian \n",
    "\n",
    "The Lagrangian is given by $$L(\\mathbf{w}, b, \\mathbf{\\xi}, \\alpha, \\beta) = \\frac{1}{2} {||\\mathbf{w}||}^2 + \\frac{C}{n} - \\sum \\limits_{i = 1}^n \\alpha_i (y_i (\\mathbf{w}^T \\mathbf{x}_i + b) - 1 + \\xi_i) - \\sum \\limits_{i = 1}^n \\beta_i \\xi_i$$"
   ]
  },
  {
   "cell_type": "markdown",
   "metadata": {
    "slideshow": {
     "slide_type": "slide"
    }
   },
   "source": [
    "### Dual Problem \n",
    "\n",
    "- So, the Lagrangian Dual is given by the following unconstrained optimization problem\n",
    "$$\\begin{equation*}\n",
    "\\begin{aligned}\n",
    "& \\underset{\\mathbf{w}, b, \\mathbf{\\xi}}{\\text{minimize}} \n",
    "& & L(\\mathbf{w}, b, \\mathbf{\\xi}, \\alpha, \\beta)\n",
    "\\end{aligned}\n",
    "\\end{equation*}$$\n",
    "\n",
    "- Thus, the dual problem given by the following optimization \n",
    "\n",
    "$$\\begin{equation*}\n",
    "\\begin{aligned}\n",
    "& \\underset{\\mathbf{w}, b, \\mathbf{\\xi}}{\\text{maximize}} \n",
    "& & L_D(\\alpha, \\beta)\\\\\n",
    "& \\text{subject to}\n",
    "& & \\alpha \\geq 0, \\beta \\geq 0\n",
    "\\end{aligned} \n",
    "\\end{equation*}$$"
   ]
  },
  {
   "cell_type": "markdown",
   "metadata": {
    "slideshow": {
     "slide_type": "slide"
    }
   },
   "source": [
    "### The Unconstrained Minimization\n",
    "\n",
    "For a fixed $\\alpha$, $\\beta$, we can minimize the primal variables as follows:\n",
    "\n",
    "- $\\frac{\\partial L}{\\partial \\mathbf{w}} = \\mathbf{w} - \\sum_{i} \\alpha_i y_i \\mathbf{x}_i = 0, \\forall i$\n",
    "- $\\frac{\\partial L}{\\partial b} = \\sum_i \\alpha_i y_i = 0, \\forall i$\n",
    "- $\\frac{\\partial L}{\\partial \\xi_i} = \\frac{C}{n} - \\alpha_i - \\beta_i = 0, \\forall i$\n",
    "\n",
    "Thus, $\\boxed{L_D(\\alpha, \\beta) = \\frac{-1}{2} \\sum \\limits_{i, j = 1}^n \\alpha_i\\alpha_jy_iy_j\\mathbf{x}_i^T \\mathbf{x}_j + \\sum_i \\alpha_i}$"
   ]
  },
  {
   "cell_type": "markdown",
   "metadata": {
    "slideshow": {
     "slide_type": "slide"
    }
   },
   "source": [
    "### The Dual optimization problem revisited\n",
    "#### (Note the inner product!)\n",
    "\n",
    "$$\\begin{equation*}\n",
    "\\begin{aligned}\n",
    "& \\underset{\\alpha, \\beta}{\\text{maximize}} \n",
    "& & \\frac{-1}{2} \\sum \\limits_{i, j = 1}^n \\alpha_i\\alpha_jy_iy_j<\\mathbf{x}_i, \\mathbf{x}_j> + \\sum_i \\alpha_i\\\\\n",
    "& \\text{subject to}\n",
    "& & \\sum_i \\alpha_i y_i = 0\\\\\n",
    "& & & \\forall i, \\alpha_i + \\beta_i = \\frac{C}{n}\\\\\n",
    "& & & \\forall i, \\alpha_i \\geq 0,\\beta_i \\geq 0\n",
    "\\end{aligned} \n",
    "\\end{equation*}$$\n"
   ]
  },
  {
   "cell_type": "markdown",
   "metadata": {
    "slideshow": {
     "slide_type": "slide"
    }
   },
   "source": [
    "### Eliminating Constraints\n",
    "\n",
    "By eliminating $\\beta$, we can write the dual optimization as the following QP\n",
    "\n",
    "$$\\begin{equation*}\n",
    "\\begin{aligned}\n",
    "& \\underset{\\alpha}{\\text{maximize}} \n",
    "& & \\frac{-1}{2} \\sum \\limits_{i, j = 1}^n \\alpha_i\\alpha_jy_iy_j<\\mathbf{x}_i, \\mathbf{x}_j> + \\sum_i \\alpha_i\\\\\n",
    "& \\text{subject to}\n",
    "& & \\sum_i \\alpha_i y_i = 0\\\\\n",
    "& & & \\forall i, 0 \\leq \\alpha_i \\leq \\frac{C}{n}\n",
    "\\end{aligned} \n",
    "\\end{equation*}$$"
   ]
  },
  {
   "cell_type": "markdown",
   "metadata": {
    "collapsed": true,
    "slideshow": {
     "slide_type": "slide"
    }
   },
   "source": [
    "### Observations \n",
    "\n",
    "- Let $\\mathbf{w}^*, b^*$ and $\\mathbf{\\xi}^*$ be the primal optimal solutions and $\\alpha^*$ and $\\beta^*$ be the dual optimal solutions.\n",
    "\n",
    "- From the KKT conditions, we have $\\mathbf{w}^* = \\sum \\limits_{i = 1}^n \\alpha_i^* y_i \\mathbf{x}_i$. So, the optimal normal vector to the hyperplane is a linear combination of datapoints!"
   ]
  },
  {
   "cell_type": "markdown",
   "metadata": {
    "slideshow": {
     "slide_type": "slide"
    }
   },
   "source": [
    "\n",
    "- From the complimentary slackness KKT condition, $\\alpha_i^* (1 - \\xi_i^* - y_i({\\mathbf{w}^*}^T\\mathbf{x}_i + b^*)) = 0$. \n",
    "\n",
    "- If $\\mathbf{x}_i$ satisfies $y_i({\\mathbf{w}^*}^T\\mathbf{x}_i + b^*) = 1 - \\xi_i^*$, we call $\\mathbf{x}_i$ a support vector. In other words, if $\\mathbf{x}_i$ is not a support vector, $\\alpha_i^* = 0$. \n",
    "\n",
    "- The above means that $\\mathbf{w}^*$ depends only on the support vectors!"
   ]
  },
  {
   "cell_type": "markdown",
   "metadata": {
    "slideshow": {
     "slide_type": "slide"
    }
   },
   "source": [
    "### Geometric Interpretation\n",
    "\n",
    "- If $y_i({\\mathbf{w}^*}^T\\mathbf{x}_i + b^*) > 1$, then $\\xi_i^* = 0$, $\\mathbf{x}_i$ is outside the margin and is not a SV.\n",
    "- If $y_i({\\mathbf{w}^*}^T\\mathbf{x}_i + b^*) = 1$, then $\\xi_i^* = 0$, $\\mathbf{x}_i$ is on the margin and is a SV.\n",
    "- If $0 \\leq y_i({\\mathbf{w}^*}^T\\mathbf{x}_i + b^*) < 1$, then $\\xi_i^* > 0$, $\\mathbf{x}_i$ is within the margin and is a SV.\n",
    "- If $y_i({\\mathbf{w}^*}^T\\mathbf{x}_i + b^*) < 0$, then $\\xi_i^* > 0$, $\\mathbf{x}_i$ is misclassified and is a SV."
   ]
  },
  {
   "cell_type": "code",
   "execution_count": 266,
   "metadata": {
    "collapsed": false,
    "slideshow": {
     "slide_type": "slide"
    }
   },
   "outputs": [
    {
     "data": {
      "image/jpeg": "[encoded data removed]",
      "text/plain": [
       "<IPython.core.display.Image object>"
      ]
     },
     "execution_count": 266,
     "metadata": {},
     "output_type": "execute_result"
    }
   ],
   "source": [
    "from IPython.display import Image\n",
    "Image(filename='SVM.jpg') "
   ]
  },
  {
   "cell_type": "markdown",
   "metadata": {
    "slideshow": {
     "slide_type": "slide"
    }
   },
   "source": [
    "### Optimal offset\n",
    "\n",
    "- If $\\alpha_i^* < \\frac{C}{n}$, then $\\xi_i^* = 0$ (applying KKT Complementary Slackness to the constraint $\\beta_i^*\\xi_i^* = 0$).\n",
    "\n",
    "- If $\\alpha_i^* < \\frac{C}{n}$ then $\\beta_i^* > 0$ and so $\\xi_i = 0$.\n",
    "\n",
    "- Using the above, consider any $i$ such that $0 < \\alpha_i^* < \\frac{C}{n}$. Then, $y_i({\\mathbf{w}^*}^T\\mathbf{x}_i + b^*) = 1 - \\xi_i^* = 1$.\n",
    "\n",
    "- Solving for $b^*$ using $y_i = \\pm 1 \\implies y_i^2 = 1$, we get $b^* = y_i - {\\mathbf{w}^*}^T\\mathbf{x}_i$."
   ]
  },
  {
   "cell_type": "markdown",
   "metadata": {
    "slideshow": {
     "slide_type": "slide"
    }
   },
   "source": [
    "### Support Vector Machines\n",
    "\n",
    "- The dual problem and final classifier only involve the data via inner products. Therefore, we can apply the kernel trick and kernelize the OSMH problem. The resulting classifier is known as a Support Vector Machine."
   ]
  },
  {
   "cell_type": "markdown",
   "metadata": {
    "slideshow": {
     "slide_type": "slide"
    }
   },
   "source": [
    "Let $k$ be an inner product kernel. The SVM Classifier is thus given by\n",
    "\n",
    "$$\\boxed{f(\\mathbf{x}) = sign(\\sum \\limits_{i = 1}^n \\alpha_i^* y_i k(x, x_i) + b^*)}$$ \n",
    "\n",
    "Here, $\\alpha^* = [\\alpha_1^*, ..., \\alpha_n^*]^T$ is the solution of \n",
    "\n",
    "$$\\begin{equation*}\n",
    "\\boxed{\\begin{aligned}\n",
    "& \\underset{\\alpha}{\\text{maximize}} \n",
    "& & \\frac{-1}{2} \\sum \\limits_{i, j = 1}^n \\alpha_i\\alpha_jy_iy_jk(\\mathbf{x}_i, \\mathbf{x}_j) + \\sum_i \\alpha_i\\\\\n",
    "& \\text{subject to}\n",
    "& & \\sum_i \\alpha_i y_i = 0\\\\\n",
    "& & & \\forall i, 0 \\leq \\alpha_i \\leq \\frac{C}{n}\n",
    "\\end{aligned}}\n",
    "\\end{equation*}$$\n",
    "\n",
    "and $\\boxed{b^* = y_i - \\sum_{j = 1}^n \\alpha_j^*y_jk(x_j, x_i)}$ for some $i$ such that $0 < \\alpha_i^* < \\frac{C}{n}$"
   ]
  }
 ],
 "metadata": {
  "celltoolbar": "Slideshow",
  "kernelspec": {
   "display_name": "Python 2",
   "language": "python",
   "name": "python2"
  },
  "language_info": {
   "codemirror_mode": {
    "name": "ipython",
    "version": 2
   },
   "file_extension": ".py",
   "mimetype": "text/x-python",
   "name": "python",
   "nbconvert_exporter": "python",
   "pygments_lexer": "ipython2",
   "version": "2.7.11"
  }
 },
 "nbformat": 4,
 "nbformat_minor": 0
}
