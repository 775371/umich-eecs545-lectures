{
 "cells": [
  {
   "cell_type": "markdown",
   "metadata": {
    "slideshow": {
     "slide_type": "skip"
    }
   },
   "source": [
    "$$ \\LaTeX \\text{ command declarations here.}\n",
    "\\newcommand{\\R}{\\mathbb{R}}\n",
    "\\renewcommand{\\vec}[1]{\\mathbf{#1}}\n",
    "$$"
   ]
  },
  {
   "cell_type": "code",
   "execution_count": 13,
   "metadata": {
    "collapsed": false,
    "slideshow": {
     "slide_type": "skip"
    }
   },
   "outputs": [
    {
     "data": {
      "text/plain": [
       "{'start_slideshow_at': 'selected', 'theme': 'simple'}"
      ]
     },
     "execution_count": 13,
     "metadata": {},
     "output_type": "execute_result"
    }
   ],
   "source": [
    "# plotting\n",
    "%matplotlib inline\n",
    "from matplotlib import pyplot as plt;\n",
    "if \"bmh\" in plt.style.available: plt.style.use(\"bmh\");\n",
    "\n",
    "# scientific\n",
    "import numpy as np;\n",
    "\n",
    "from scipy import linalg\n",
    "import matplotlib as mpl\n",
    "from matplotlib import colors\n",
    "\n",
    "from sklearn.discriminant_analysis import LinearDiscriminantAnalysis\n",
    "from sklearn.discriminant_analysis import QuadraticDiscriminantAnalysis\n",
    "\n",
    "# rise config\n",
    "from notebook.services.config import ConfigManager\n",
    "cm = ConfigManager()\n",
    "cm.update('livereveal', {\n",
    "              'theme': 'simple',\n",
    "              'start_slideshow_at': 'selected',\n",
    "})"
   ]
  },
  {
   "cell_type": "markdown",
   "metadata": {
    "slideshow": {
     "slide_type": "slide"
    }
   },
   "source": [
    "# EECS 545:  Machine Learning\n",
    "## Lecture 06:  Probability Models and Logistic Regression\n",
    "* Instructor:  **Jacob Abernethy**\n",
    "* Date:  January 27, 2016\n",
    "\n",
    "*Lecture Exposition Credit:*  Benjamin Bray, Saket Dewangan"
   ]
  },
  {
   "cell_type": "markdown",
   "metadata": {
    "slideshow": {
     "slide_type": "slide"
    }
   },
   "source": [
    "# Outline\n",
    "\n",
    "* Locally-Weighted Linear Regression\n",
    "* Probabilistic Models\n",
    "    - Generative Models\n",
    "    - Discriminative Models\n",
    "* Logistic Regression\n",
    "    - Intuition, Motivation\n",
    "    - Newton's Method"
   ]
  },
  {
   "cell_type": "markdown",
   "metadata": {
    "slideshow": {
     "slide_type": "slide"
    }
   },
   "source": [
    "# Locally-Weighted Linear Regression"
   ]
  },
  {
   "cell_type": "markdown",
   "metadata": {
    "slideshow": {
     "slide_type": "slide"
    }
   },
   "source": [
    "### Locally-Weighted Linear Regression\n",
    "\n",
    "**Main Idea:**  When predicting $f(x)$, give high weights for *neighbors* of $x$.\n",
    "\n",
    "<img src=\"images/locally-weighted-regression.png\">"
   ]
  },
  {
   "cell_type": "markdown",
   "metadata": {
    "slideshow": {
     "slide_type": "slide"
    }
   },
   "source": [
    "### Regular vs. Locally-Weighted Linear Regression\n",
    "\n",
    "<img src=\"images/lwlr-comparison.png\">"
   ]
  },
  {
   "cell_type": "markdown",
   "metadata": {
    "slideshow": {
     "slide_type": "slide"
    }
   },
   "source": [
    "### Regular vs. Locally-Weighted Linear Regression\n",
    "\n",
    "**Linear Regression**\n",
    "<div style=\"border: 1px solid black; display: block; padding: 15px; margin: 10px 0\">\n",
    "1. Fit $w$ to minimize $\\sum_{k} (t_k - w^T \\phi(x_k) )^2$\n",
    "<br>\n",
    "2. Output $w^T \\phi(x_k)$\n",
    "</div>\n",
    "\n",
    "**Locally-weighted Linear Regression**\n",
    "<div style=\"border: 1px solid black; display: block; padding: 15px; margin: 10px 0\">\n",
    "1. Fit $w$ to minimize $\\sum_{k} r_k (t_k - w^T \\phi(x_k) )^2$ for some weights $r_k$\n",
    "<br>\n",
    "2. Output $w^T \\phi(x_k)$\n",
    "</div>"
   ]
  },
  {
   "cell_type": "markdown",
   "metadata": {
    "slideshow": {
     "slide_type": "slide"
    }
   },
   "source": [
    "### Locally-Weighted Linear Regression\n",
    "\n",
    "- The standard choice for weights $r$ uses the **Gaussian Kernel**, with **kernel width** $\\tau$\n",
    "    $$\n",
    "    r_k = \\exp\\left( -\\frac{|| x_k - x ||^2}{2\\tau^2} \\right)\n",
    "    $$\n",
    "- Note $r_k$ depends on both $x$ (query point); must solve linear regression for each query point $x$.\n",
    "- Can be reformulated as a modified version of least squares problem."
   ]
  },
  {
   "cell_type": "markdown",
   "metadata": {
    "slideshow": {
     "slide_type": "slide"
    }
   },
   "source": [
    "### Locally-Weighted Linear Regression\n",
    "\n",
    "- Choice of kernel width matters.\n",
    "    - (requires hyperparameter tuning!)\n",
    "\n",
    "<img src=\"images/lwlr-kernel-width.png\">\n",
    "\n",
    "> The estimator is minimized when kernel includes as many training points as can be accomodated by the model.  Too large a kernel includes points that degrade the fit; too small a kernel neglects points that increase confidence in the fit."
   ]
  },
  {
   "cell_type": "markdown",
   "metadata": {
    "slideshow": {
     "slide_type": "slide"
    }
   },
   "source": [
    "### Let's back up a little...\n",
    "# Probabilistic Models & Bayesian Statistics\n",
    "\n",
    "> *Disclaimer:*  These slides were written by a Bayesian :)"
   ]
  },
  {
   "cell_type": "markdown",
   "metadata": {
    "slideshow": {
     "slide_type": "slide"
    }
   },
   "source": [
    "### Probabilistic Models & Bayesian Statistics\n",
    "\n",
    "Last time, there were several questions about **priors**.\n",
    "\n",
    "- Represent prior beliefs about acceptable values for model parameters.\n",
    "- *Example:*  In linear regression, $L_2$ regularization can be interpreted as placing a **Gaussian Prior** on the regression coefficients."
   ]
  },
  {
   "cell_type": "markdown",
   "metadata": {
    "slideshow": {
     "slide_type": "slide"
    }
   },
   "source": [
    "### Probabilistic Models & Bayesian Statistics\n",
    "\n",
    "All statistical models and machine learning algorithms make assumptions.\n",
    "\n",
    "- All reasoning is based on implicit assumptions.\n",
    "- A **Bayesian** will tell you that his prior is a way of explicitly stating those assumptions."
   ]
  },
  {
   "cell_type": "markdown",
   "metadata": {
    "slideshow": {
     "slide_type": "slide"
    }
   },
   "source": [
    "### Probabilistic Models & Bayesian Statistics\n",
    "\n",
    "This can all get very philosophical, but...\n",
    "\n",
    "- Bayesian reasoning is best seen as a useful tool.\n",
    "- Many concepts in machine learning have Bayesian interpretations.\n",
    "    - Choice of loss / error function, regularization, etc.\n",
    "    \n",
    "We'll mention these things as they come up."
   ]
  },
  {
   "cell_type": "markdown",
   "metadata": {
    "slideshow": {
     "slide_type": "slide"
    }
   },
   "source": [
    "### Probabilistic Models & Bayesian Statistics\n",
    "\n",
    "For a fully Bayesian take on machine learning, check out the **Murphy** textbook:\n",
    "\n",
    "<img src=\"images/murphy.jpg\">"
   ]
  },
  {
   "cell_type": "markdown",
   "metadata": {
    "slideshow": {
     "slide_type": "slide"
    }
   },
   "source": [
    "### Review:  Classification\n",
    "\n",
    "- **Goal:**  Assign each feature vector $x$ to one of $K$ distinct classes $C_k$, where $k = 1,\\dots,K$.\n",
    "    - Data $X$\n",
    "    - Labels $Y$\n",
    "- The case $K=2$ is **Binary Classification**\n",
    "    - $t=1$ means $x \\in C_1$\n",
    "    - $t=0$ means $x \\in C_2$ (or sometimes $t=-1$\n",
    "- For the case $K > 2$, use **one-hot encoding**,\n",
    "    $$\n",
    "    t = (0,1,0,\\dots,0,0)^T \\implies x \\in C_2\n",
    "    $$"
   ]
  },
  {
   "cell_type": "markdown",
   "metadata": {
    "slideshow": {
     "slide_type": "slide"
    }
   },
   "source": [
    "### Generative Models\n",
    "\n",
    "A **generative model** learns a joint model $P(Y,X) = P(X \\mid Y) P(Y)$.\n",
    "\n",
    "- Perform inference using the **posterior**, via Bayes' Rule:\n",
    "    $$\n",
    "    P(Y \\mid X) = \\frac{P(X \\mid Y) P(Y)}{P(X)}\n",
    "    $$\n",
    "- Specifies how to generate observed features $X$ if labels $Y$ are known\n",
    "- By comparing the synthetic data and real data, we get a sense of how good the generative model is."
   ]
  },
  {
   "cell_type": "markdown",
   "metadata": {
    "slideshow": {
     "slide_type": "slide"
    }
   },
   "source": [
    "### Generative Models:  Examples\n",
    "\n",
    "Simple examples:\n",
    "- Naive Bayes (Later)\n",
    "- Gaussian Discriminant Analysis (Later)\n",
    "\n",
    "More abstract examples:\n",
    "- Linear Regression\n",
    "- Most Bayesian models"
   ]
  },
  {
   "cell_type": "markdown",
   "metadata": {
    "slideshow": {
     "slide_type": "slide"
    }
   },
   "source": [
    "### Discriminative Models\n",
    "\n",
    "Conversely, a **discriminative model** fits $P(Y \\mid X)$ directly from data.\n",
    "- *Discriminates* between the class labels\n",
    "- Cannot *generate* examples of each class, but...\n",
    "- this means we can instead focus on the classification task.\n",
    "\n",
    "We will discuss the pros and cons of each method later."
   ]
  },
  {
   "cell_type": "markdown",
   "metadata": {
    "slideshow": {
     "slide_type": "slide"
    }
   },
   "source": [
    "### Discriminative Models\n",
    "\n",
    "The discriminative approach will typically \n",
    "- have fewer parameters to estimate\n",
    "- make fewer assumptions about data distribution\n",
    "    - Linear (logistic regression) vs quadratic (GDA) in the input dimension\n",
    "- make fewer generative assumptions about the data\n",
    "    - However, reconstruction features from labels may require prior knowledge"
   ]
  },
  {
   "cell_type": "markdown",
   "metadata": {
    "slideshow": {
     "slide_type": "slide"
    }
   },
   "source": [
    "## Break Time!\n",
    "\n",
    "<img src=\"https://media.giphy.com/media/j1QQj6To9Pbxu/giphy.gif\">\n",
    "\n",
    "> Thanks to Bryan for the GIF!"
   ]
  },
  {
   "cell_type": "markdown",
   "metadata": {
    "slideshow": {
     "slide_type": "slide"
    }
   },
   "source": [
    "# Logistic Regression"
   ]
  },
  {
   "cell_type": "markdown",
   "metadata": {
    "slideshow": {
     "slide_type": "slide"
    }
   },
   "source": [
    "### Sigmoid and Logit Functions\n",
    "\n",
    "The **logistic sigmoid function** is \n",
    "$$\n",
    "\\sigma(a)\n",
    "= \\frac{1}{1 + \\exp(-a)}\n",
    "= \\frac{\\exp(a)}{1 + \\exp(a)}\n",
    "$$"
   ]
  },
  {
   "cell_type": "code",
   "execution_count": 14,
   "metadata": {
    "collapsed": false
   },
   "outputs": [
    {
     "data": {
      "image/png": "[encoded data removed]",
      "text/plain": [
       "<matplotlib.figure.Figure at 0x7f4679c26390>"
      ]
     },
     "metadata": {},
     "output_type": "display_data"
    }
   ],
   "source": [
    "def sigmoid(a):  return 1 / (1 + np.exp(-a));\n",
    "\n",
    "xvals = np.linspace(-10,10,100);\n",
    "plt.plot(xvals, sigmoid(xvals));"
   ]
  },
  {
   "cell_type": "markdown",
   "metadata": {
    "slideshow": {
     "slide_type": "slide"
    }
   },
   "source": [
    "### Sigmoid and Logit Functions\n",
    "\n",
    "Its inverse is the **logit function** or the log-odds ratio,\n",
    "    $$\n",
    "    a = \\ln \\left( \\frac{\\sigma}{1-\\sigma} \\right)\n",
    "    $$"
   ]
  },
  {
   "cell_type": "code",
   "execution_count": 15,
   "metadata": {
    "collapsed": false
   },
   "outputs": [
    {
     "data": {
      "image/png": "[encoded data removed]",
      "text/plain": [
       "<matplotlib.figure.Figure at 0x7f467be8c390>"
      ]
     },
     "metadata": {},
     "output_type": "display_data"
    }
   ],
   "source": [
    "def logit(sigma): return np.log(sigma / (1-sigma));\n",
    "\n",
    "xvals = np.linspace(0.001, 0.999, 100);\n",
    "plt.plot(xvals, logit(xvals));"
   ]
  },
  {
   "cell_type": "markdown",
   "metadata": {
    "slideshow": {
     "slide_type": "slide"
    }
   },
   "source": [
    "### Sigmoid and Logit Functions\n",
    "\n",
    "The sigmoid function generalizes to the **normalized exponential** or **softmax** function:\n",
    "\n",
    "$$\n",
    "p_k = \\frac{\\exp(q_k)}{\\sum_j \\exp(q_j)}\n",
    "$$"
   ]
  },
  {
   "cell_type": "markdown",
   "metadata": {
    "slideshow": {
     "slide_type": "slide"
    }
   },
   "source": [
    "### Logistic Regression\n",
    "\n",
    "- Simpest discriminative model that is **linear** in the parameters.\n",
    "- Models the **class posterior** using a sigmoid applied to a linear function of the feature vector:\n",
    "    $$\n",
    "    \\begin{align}\n",
    "    y &\\sim \\mathrm{Bernoulli}[ \\sigma(w^T \\phi(x)) ] \\\\\n",
    "    P(y | \\phi(x) ) &= y(\\phi(x)) = \\sigma(w^T \\phi(x))\n",
    "    \\end{align}\n",
    "    $$\n",
    "- We can solve the paramter $w$ by maximizing the likelihood of the training data."
   ]
  },
  {
   "cell_type": "markdown",
   "metadata": {
    "slideshow": {
     "slide_type": "slide"
    }
   },
   "source": [
    "### Logistic Regression:  Why Sigmoid?\n",
    "\n",
    "- For two classes, **Bayes' theorem** says:\n",
    "    $$ p(C_1|x) = \\frac {p(x|C_1) \\cdot p(C_1)} {p(x|C_1) \\cdot p(C_1) + p(x|C_2) \\cdot p(C_2)} $$   \n",
    "- The **log odds** is defined to be:\n",
    "    $$ a = ln \\frac{p(C_1|x)}{p(C_2|x)} = ln \\frac{p(x|C_1) \\cdot p(C_1)}{p(x|C_2) \\cdot p(C_2)} $$   \n",
    "- In terms of the log odds, the posterior is defined as:\n",
    "    $$ p(C_1|x) = \\frac {1} {1+ exp(-a)} = \\sigma(a) $$"
   ]
  },
  {
   "cell_type": "markdown",
   "metadata": {
    "slideshow": {
     "slide_type": "slide"
    }
   },
   "source": [
    "### Logistic Regression:  Intuition\n",
    "\n",
    "- Given data $x$ and learned weights $w$, pick the label with the largest **posterior probability**\n",
    "    $$\n",
    "    \\begin{align}\n",
    "    P(t = 1 | x,w) &= \\sigma(w^T \\phi(x)) \\\\\n",
    "    P(t = 0 | x,w) &= 1 - \\sigma(w^T \\phi(x))\n",
    "    \\end{align}\n",
    "    $$\n",
    "- This is equivalent to setting a threshold at $p = 0.5$.\n",
    "    - Classify $x$ as positive ($y=1$) if $\\sigma(w^T \\phi(x)) > 0.5$\n",
    "    - This creates a **linear decision boundary** in the feature space!  (for $\\phi(x) \\in \\R^d$)"
   ]
  },
  {
   "cell_type": "markdown",
   "metadata": {
    "slideshow": {
     "slide_type": "slide"
    }
   },
   "source": [
    "### Logistic Regression:  Intuition\n",
    "\n",
    "- Classify $x$ as positive if $\\sigma(w^T \\phi(x)) > 0.5$.\n",
    "    $$\n",
    "    \\begin{gather}\n",
    "    \\sigma(w^T \\phi(x))\n",
    "    = \\frac{\\exp(w^T \\phi(x))}{1 + \\exp(w^T \\phi(x))} > 0.5 \\\\\n",
    "    \\implies \\boxed{w^T \\phi(x) > 0}\n",
    "    \\end{gather}\n",
    "    $$\n",
    "\n",
    "- This is the equation for a half-plane in $\\R^d$, with **normal vector** $w$!"
   ]
  },
  {
   "cell_type": "markdown",
   "metadata": {
    "slideshow": {
     "slide_type": "slide"
    }
   },
   "source": [
    "### Logistic Regression:  Linear Decision"
   ]
  },
  {
   "cell_type": "code",
   "execution_count": 16,
   "metadata": {
    "collapsed": true,
    "slideshow": {
     "slide_type": "-"
    }
   },
   "outputs": [],
   "source": [
    "# source code for plot on NEXT SLIDE!\n",
    "def plot_linear_boundary():\n",
    "    # random data + normal\n",
    "    x = np.random.randn(2,50);\n",
    "    w = np.random.randn(2);\n",
    "    # classify based on w\n",
    "    labels = np.dot(w.T, x) > 0;\n",
    "    blue, red = x[:,labels==0], x[:,labels==1];\n",
    "\n",
    "    # grid over plot window\n",
    "    xx = np.linspace( min(x[0])-1, max(x[0])+1, 100);\n",
    "    yy = np.linspace( min(x[1])-1, max(x[1])+1, 100);\n",
    "    X,Y = np.meshgrid(xx, yy);\n",
    "\n",
    "    # compute w.T*x for each point on grid\n",
    "    Z = np.array([X.ravel(), Y.ravel()]);\n",
    "    Z = np.dot(w.T, Z).reshape(X.shape) < 0;\n",
    "\n",
    "    plt.contourf(X, Y, Z, cmap=\"RdBu\", alpha=0.5);\n",
    "    plt.plot(blue[0], blue[1], 'ob', red[0], red[1], 'or');"
   ]
  },
  {
   "cell_type": "markdown",
   "metadata": {
    "slideshow": {
     "slide_type": "slide"
    }
   },
   "source": [
    "### Logistic Regression:  Linear Decision"
   ]
  },
  {
   "cell_type": "code",
   "execution_count": 17,
   "metadata": {
    "collapsed": false,
    "slideshow": {
     "slide_type": "-"
    }
   },
   "outputs": [
    {
     "data": {
      "image/png": "[encoded data removed]",
      "text/plain": [
       "<matplotlib.figure.Figure at 0x7f4679d40748>"
      ]
     },
     "metadata": {},
     "output_type": "display_data"
    }
   ],
   "source": [
    "plt.figure(figsize=(10,6))\n",
    "plot_linear_boundary();"
   ]
  },
  {
   "cell_type": "markdown",
   "metadata": {
    "slideshow": {
     "slide_type": "slide"
    }
   },
   "source": [
    "### Logistic Regression:  Likelihood\n",
    "\n",
    "- We saw before that the **likelihood** for each binary label is:\n",
    "    $$\n",
    "    \\begin{align}\n",
    "    P(t = 1 | x,w) &= \\sigma(w^T \\phi(x)) \\\\\n",
    "    P(t = 0 | x,w) &= 1 - \\sigma(w^T \\phi(x))\n",
    "    \\end{align}\n",
    "    $$\n",
    "- With a clever trick, this\n",
    "    $$\n",
    "    P(t | x,w) = \\sigma(w^T \\phi(x))^t \\cdot (1 - \\sigma(w^T \\phi(x)))^{1-t}\n",
    "    $$"
   ]
  },
  {
   "cell_type": "markdown",
   "metadata": {
    "slideshow": {
     "slide_type": "slide"
    }
   },
   "source": [
    "### Logistic Regression\n",
    "\n",
    "- For a data set $\\{ (\\phi(x_n), t_n) \\}$ where $t_n \\in \\{ 0,1 \\}$, the **likelihood function** is\n",
    "    $$\n",
    "    P(t | w) = \\prod_{n=1}^N y_n^{t_n} (1-y_n) ^{1-t_n}\n",
    "    $$\n",
    "    - where $y_n = P(C_1 | \\phi(x_n)) = \\sigma(w^T \\phi(x_n))$\n",
    "- Minimize the **loss** or **negative log-likelihood**, $E(w) = -\\ln P(t|w)$\n",
    "    - maximizes the likelihood"
   ]
  },
  {
   "cell_type": "markdown",
   "metadata": {
    "slideshow": {
     "slide_type": "slide"
    }
   },
   "source": [
    "### Derivation:  $\\nabla_w \\ln P(t | w)$"
   ]
  },
  {
   "cell_type": "markdown",
   "metadata": {
    "slideshow": {
     "slide_type": "fragment"
    }
   },
   "source": [
    "$ = \\sum_{n=1} \\nabla_w \\left[ \n",
    "        t_n \\ln \\sigma(w^T \\phi(x_n)) + (1-t_n) \\ln(1 - \\sigma(w^T \\phi(x_n))\n",
    "  \\right]\n",
    "$"
   ]
  },
  {
   "cell_type": "markdown",
   "metadata": {
    "slideshow": {
     "slide_type": "fragment"
    }
   },
   "source": [
    "$ = \\sum_{n=1}^N \\left( \n",
    "        t_n       \\frac{y_n (1-y_n )}{y_n} - (1-t_n) \\frac{y_n (1-y_n )}{1-y_n }\n",
    "    \\right) \\nabla_w\\left[ w^T \\phi(x_n) \\right]\n",
    "$"
   ]
  },
  {
   "cell_type": "markdown",
   "metadata": {
    "slideshow": {
     "slide_type": "fragment"
    }
   },
   "source": [
    "$\n",
    "= \\sum_{n=1}^N \\left( \n",
    "    t_n(1-y_n ) - (1-t_n) y_n \n",
    "    \\right) \\nabla_w\\left[ w^T \\phi(x_n) \\right]\n",
    "$"
   ]
  },
  {
   "cell_type": "markdown",
   "metadata": {
    "slideshow": {
     "slide_type": "fragment"
    }
   },
   "source": [
    "$\n",
    "= \\sum_{n=1}^N (t_n - y_n ) \\phi(x_n)\n",
    "= \\sum_{n=1}^N \\left[ t_n - \\sigma(w^T \\phi(x_n)) \\right] \\phi(x_n)\n",
    "$"
   ]
  },
  {
   "cell_type": "markdown",
   "metadata": {
    "slideshow": {
     "slide_type": "slide"
    }
   },
   "source": [
    "### Logistic Regression:  Gradient Descent\n",
    "\n",
    "We have just shown that the gradient of the loss is\n",
    "    $$\n",
    "    \\begin{gather}\n",
    "    \\nabla_w E(w) = \\sum_{n=1}^N (y_n - t_n) \\phi(x_n) \\\\\n",
    "    y_n = P(C_1 | \\phi(x_n)) = \\sigma(w^T \\phi(x_n))\n",
    "    \\end{gather}\n",
    "    $$\n",
    "\n",
    "- This resembles the gradient expression from linear regression with least squares!\n",
    "    $$\n",
    "    \\begin{align}\n",
    "    \\text{Linear} \\quad & y_n - t_n = \\sigma(w^T \\phi(x_n)) - t_n \\\\\n",
    "    \\text{Logistic} \\quad & y_n - t_n = w^T \\phi(x_n) - t_n\n",
    "    \\end{align}\n",
    "    $$"
   ]
  },
  {
   "cell_type": "markdown",
   "metadata": {
    "slideshow": {
     "slide_type": "slide"
    }
   },
   "source": [
    "### Newton's Method:  Overview\n",
    "\n",
    "- **Goal:**  Minimize a general function $F(w)$ in one dimension by solving for\n",
    "    $$\n",
    "    f(w) = \\frac{\\partial F}{\\partial w} = 0\n",
    "    $$\n",
    "- **Newton's Method:** To find roots of $f$, Repeat until convergence:\n",
    "    $$\n",
    "    w \\leftarrow w - \\frac{f(w)}{f'(w)}\n",
    "    $$"
   ]
  },
  {
   "cell_type": "markdown",
   "metadata": {
    "slideshow": {
     "slide_type": "slide"
    }
   },
   "source": [
    "### Newton's Method:  Geometric Intuition\n",
    "\n",
    "- Find the roots of $f(w)$ by following its **tangent lines**.  The tangent line to $f$ at $w_{k-1}$ has equation\n",
    "    $$\n",
    "    \\ell(w) = f(w_{k-1}) + (w-w_{k-1}) f'(w_{k-1})\n",
    "    $$\n",
    "- Set next iterate $w_{k+1}$ to be **root** of tangent line:\n",
    "    $$\n",
    "    \\begin{gather}\n",
    "    f(w_{k-1}) + (w-w_{k-1}) f'(w_{k-1}) = 0 \\\\\n",
    "    \\implies \\boxed{ w = w_{k-1} - \\frac{f(w_{k-1})}{f'(w_{k-1})} }\n",
    "    \\end{gather}\n",
    "    $$"
   ]
  },
  {
   "cell_type": "markdown",
   "metadata": {
    "slideshow": {
     "slide_type": "slide"
    }
   },
   "source": [
    "### Newton's Method:  Geometric Intuition\n",
    "\n",
    "<img src=\"images/newton.jpg\">"
   ]
  },
  {
   "cell_type": "code",
   "execution_count": 18,
   "metadata": {
    "collapsed": false,
    "slideshow": {
     "slide_type": "slide"
    }
   },
   "outputs": [
    {
     "name": "stdout",
     "output_type": "stream",
     "text": [
      "Newton's Method did not converge.\n",
      "Newton's Method: 6.01837360219\n"
     ]
    },
    {
     "data": {
      "image/png": "[encoded data removed]",
      "text/plain": [
       "<matplotlib.figure.Figure at 0x7f4679d2bbe0>"
      ]
     },
     "metadata": {},
     "output_type": "display_data"
    }
   ],
   "source": [
    "# custom newton's method -- see Canvas\n",
    "from newton_plot import *;\n",
    "\n",
    "def fn(x): return np.exp(x) - x**2;\n",
    "def d1(x): return np.exp(x) - 2*x;\n",
    "def d2(x): return np.exp(x) - 2;\n",
    "\n",
    "lst = [];\n",
    "print(\"Newton's Method:\", newton_exact(d1, d2, 10, lst=lst, maxn=4));\n",
    "plot_optimization(plt.gca(), fn, d1, lst, xlim=(6,12), ylim=(-4000, 30000), tangents=True);"
   ]
  },
  {
   "cell_type": "code",
   "execution_count": 19,
   "metadata": {
    "collapsed": false,
    "slideshow": {
     "slide_type": "slide"
    }
   },
   "outputs": [
    {
     "name": "stdout",
     "output_type": "stream",
     "text": [
      "Newton's Method did not converge.\n",
      "Newton's Method: -0.0625\n"
     ]
    },
    {
     "data": {
      "image/png": "[encoded data removed]",
      "text/plain": [
       "<matplotlib.figure.Figure at 0x7f4679b30a58>"
      ]
     },
     "metadata": {},
     "output_type": "display_data"
    }
   ],
   "source": [
    "# custom newton's method -- see Canvas\n",
    "from newton_plot import *;\n",
    "\n",
    "def fn(x): return x**3;\n",
    "def d1(x): return 3 * x**2;\n",
    "def d2(x): return 6 * x;\n",
    "\n",
    "lst = [];\n",
    "print(\"Newton's Method:\", newton_exact(d1, d2, -1, lst=lst, maxn=4));\n",
    "plot_optimization(plt.gca(), fn, d1, lst, xlim=(-1.5,1.5), ylim=(-2,2), tangents=True);"
   ]
  },
  {
   "cell_type": "markdown",
   "metadata": {
    "slideshow": {
     "slide_type": "slide"
    }
   },
   "source": [
    "### Newton's Method:  Recap\n",
    "\n",
    "To minimize $F(w)$, find roots of $F'(w)$ via Newton's Method.\n",
    "\n",
    "**Repeat until convergence**:\n",
    "$$\n",
    "\\boxed{w \\leftarrow w - \\frac{F'(w)}{F''(w)}}\n",
    "$$"
   ]
  },
  {
   "cell_type": "markdown",
   "metadata": {
    "slideshow": {
     "slide_type": "slide"
    }
   },
   "source": [
    "### Newton's Method:  Multivariate Case\n",
    "\n",
    "Replace second derivative with the **Hessian Matrix**,\n",
    "    $$\n",
    "    H_{ij}(w) = \\frac{\\partial^2 F}{\\partial w_i \\partial w_j}\n",
    "    $$\n",
    "\n",
    "Newton update becomes:\n",
    "$$\n",
    "\\boxed{ w \\leftarrow w - H^{-1} \\nabla_w F}\n",
    "$$"
   ]
  },
  {
   "cell_type": "markdown",
   "metadata": {
    "slideshow": {
     "slide_type": "slide"
    }
   },
   "source": [
    "### Recall:  Linear Regression\n",
    "\n",
    "- For linear regression, least squares has a **closed-form solution**:\n",
    "    $$\n",
    "    w_{ML} = (\\Phi^T \\Phi)^{-1} \\Phi^T t\n",
    "    $$\n",
    "- This generalizes to weighted least squares, with diagonal weight matrix $R$,\n",
    "    $$\n",
    "    w_{WLS} = (\\Phi^T R \\Phi)^{-1} \\Phi^T R t\n",
    "    $$"
   ]
  },
  {
   "cell_type": "markdown",
   "metadata": {
    "slideshow": {
     "slide_type": "slide"
    }
   },
   "source": [
    "### Logistic Regression:  Newton's Method\n",
    "\n",
    "- For logistic regression, however, $\\nabla_w E(w) = 0$ is **nonlinear**, and no closed-form solution exists.  \n",
    "\n",
    "### We must iterate!\n",
    "\n",
    "- Newton's method is a good choice in many cases."
   ]
  },
  {
   "cell_type": "markdown",
   "metadata": {
    "slideshow": {
     "slide_type": "slide"
    }
   },
   "source": [
    "### Iterative Solution\n",
    "\n",
    "- Apply Newton's method to solve $\\nabla_w E(w) = 0$\n",
    "- This involves least squares with weights $R_{nn} = y_n (1-y_n) $\n",
    "- Since $R$ depends on $w$, and vice-versa, we get...\n",
    "\n",
    "**Iteratively-Reweighted Least Squares (IRLS)**\n",
    "<div style=\"border: 1px solid black; display: block; padding: 15px; margin: 10px 0\">\n",
    "Repeat Until Convergence:\n",
    "<br>\n",
    "1. $w^{(new)} = w_{WLS} = (\\Phi^T R \\Phi)^{-1} \\Phi^T R z$\n",
    "<br>\n",
    "2. $z = \\Phi w^{(old)} - R^{-1} (y - t)$\n",
    "</div>\n",
    "    "
   ]
  },
  {
   "cell_type": "markdown",
   "metadata": {
    "slideshow": {
     "slide_type": "slide"
    }
   },
   "source": [
    "<span style=\"color: red; font-size: 36px; line-height: 36px;\">Hi, Jake!  I think this is a good place to stop the lecture...  the rest was directly copied from Honglak and really benefit from some improvement.</span>"
   ]
  },
  {
   "cell_type": "markdown",
   "metadata": {
    "slideshow": {
     "slide_type": "slide"
    }
   },
   "source": [
    "# Gaussian Discriminant Analysis"
   ]
  },
  {
   "cell_type": "markdown",
   "metadata": {
    "slideshow": {
     "slide_type": "slide"
    }
   },
   "source": [
    "### Gaussian Discriminant Analysis\n",
    "\n",
    "- **Generative** probabilistic classifier, model $P(Y,X) = P(X \\mid Y) P(Y)$\n",
    "- Viewed as a Bayesian model, we have\n",
    "    - **Prior** $ p(y=C_k) $: Constant (eg. Bernoulli)\n",
    "    - **Likelihood** $ p(x| y=C_k) $: Gaussian distribution\n",
    "    \n",
    "    $$\n",
    "    p (x| y=C_k) = \\frac{1}{(2\\pi) ^\\frac{D}{2} |\\Sigma|^ \\frac{1}{2}} exp \\left\\{- \\frac {1}{2} (x - \\mu_k)^T \\Sigma^{-1} (x - \\mu_k) \\right\\}\n",
    "    $$\n",
    "    "
   ]
  },
  {
   "cell_type": "markdown",
   "metadata": {
    "slideshow": {
     "slide_type": "slide"
    }
   },
   "source": [
    "### Gaussian Discriminant Analysis\n",
    "\n",
    "Use Bayes' Rule as before for classification.  For any class $i$,\n",
    "\n",
    "$$\n",
    "p(C_i|x) = \\frac {p(x|C_i) \\cdot p(C_i)} {\\Sigma_k p(x|C_k) \\cdot p(C_k)}\n",
    "$$"
   ]
  },
  {
   "cell_type": "code",
   "execution_count": 20,
   "metadata": {
    "collapsed": false,
    "slideshow": {
     "slide_type": "slide"
    }
   },
   "outputs": [],
   "source": [
    "# Credits: Scikit-learn example on Linear and Quadratic Discriminant Analysis with confidence ellipsoid\n",
    "\n",
    "\n",
    "# colormap\n",
    "cmap = colors.LinearSegmentedColormap(\n",
    "    'red_blue_classes',\n",
    "    {'red': [(0, 1, 1), (1, 0.7, 0.7)],\n",
    "     'green': [(0, 0.7, 0.7), (1, 0.7, 0.7)],\n",
    "     'blue': [(0, 0.7, 0.7), (1, 1, 1)]})\n",
    "plt.cm.register_cmap(cmap=cmap)\n",
    "\n",
    "\n",
    "###############################################################################\n",
    "# generate datasets\n",
    "def dataset_fixed_cov():\n",
    "    '''Generate 2 Gaussians samples with the same covariance matrix'''\n",
    "    n, dim = 300, 2\n",
    "    np.random.seed(0)\n",
    "    C = np.array([[0., -0.23], [0.83, .23]])\n",
    "    X = np.r_[np.dot(np.random.randn(n, dim), C),\n",
    "              np.dot(np.random.randn(n, dim), C) + np.array([1, 1])]\n",
    "    y = np.hstack((np.zeros(n), np.ones(n)))\n",
    "    return X, y\n",
    "\n",
    "\n",
    "def dataset_cov():\n",
    "    '''Generate 2 Gaussians samples with different covariance matrices'''\n",
    "    n, dim = 300, 2\n",
    "    np.random.seed(0)\n",
    "    C = np.array([[0., -1.], [2.5, .7]]) * 2.\n",
    "    X = np.r_[np.dot(np.random.randn(n, dim), C),\n",
    "              np.dot(np.random.randn(n, dim), C.T) + np.array([1, 4])]\n",
    "    y = np.hstack((np.zeros(n), np.ones(n)))\n",
    "    return X, y\n",
    "\n",
    "\n",
    "###############################################################################\n",
    "# plot functions\n",
    "def plot_data(lda, X, y, y_pred, fig_index):\n",
    "    splot = plt.subplot(2, 2, fig_index)\n",
    "    if fig_index == 1:\n",
    "        plt.title('Linear Discriminant Analysis')\n",
    "        plt.ylabel('Data with fixed covariance')\n",
    "    elif fig_index == 2:\n",
    "        plt.title('Quadratic Discriminant Analysis')\n",
    "    elif fig_index == 3:\n",
    "        plt.ylabel('Data with varying covariances')\n",
    "\n",
    "    tp = (y == y_pred)  # True Positive\n",
    "    tp0, tp1 = tp[y == 0], tp[y == 1]\n",
    "    X0, X1 = X[y == 0], X[y == 1]\n",
    "    X0_tp, X0_fp = X0[tp0], X0[~tp0]\n",
    "    X1_tp, X1_fp = X1[tp1], X1[~tp1]\n",
    "\n",
    "    # class 0: dots\n",
    "    plt.plot(X0_tp[:, 0], X0_tp[:, 1], 'o', color='red')\n",
    "    plt.plot(X0_fp[:, 0], X0_fp[:, 1], '.', color='#990000')  # dark red\n",
    "\n",
    "    # class 1: dots\n",
    "    plt.plot(X1_tp[:, 0], X1_tp[:, 1], 'o', color='blue')\n",
    "    plt.plot(X1_fp[:, 0], X1_fp[:, 1], '.', color='#000099')  # dark blue\n",
    "\n",
    "    # class 0 and 1 : areas\n",
    "    nx, ny = 200, 100\n",
    "    x_min, x_max = plt.xlim()\n",
    "    y_min, y_max = plt.ylim()\n",
    "    xx, yy = np.meshgrid(np.linspace(x_min, x_max, nx),\n",
    "                         np.linspace(y_min, y_max, ny))\n",
    "    Z = lda.predict_proba(np.c_[xx.ravel(), yy.ravel()])\n",
    "    Z = Z[:, 1].reshape(xx.shape)\n",
    "    plt.pcolormesh(xx, yy, Z, cmap='red_blue_classes',\n",
    "                   norm=colors.Normalize(0., 1.))\n",
    "    plt.contour(xx, yy, Z, [0.5], linewidths=2., colors='k')\n",
    "\n",
    "    # means\n",
    "    plt.plot(lda.means_[0][0], lda.means_[0][1],\n",
    "             'o', color='black', markersize=10)\n",
    "    plt.plot(lda.means_[1][0], lda.means_[1][1],\n",
    "             'o', color='black', markersize=10)\n",
    "\n",
    "    return splot\n",
    "\n",
    "\n",
    "def plot_ellipse(splot, mean, cov, color):\n",
    "    v, w = linalg.eigh(cov)\n",
    "    u = w[0] / linalg.norm(w[0])\n",
    "    angle = np.arctan(u[1] / u[0])\n",
    "    angle = 180 * angle / np.pi  # convert to degrees\n",
    "    # filled Gaussian at 2 standard deviation\n",
    "    ell = mpl.patches.Ellipse(mean, 2 * v[0] ** 0.5, 2 * v[1] ** 0.5,\n",
    "                              180 + angle, color=color)\n",
    "    ell.set_clip_box(splot.bbox)\n",
    "    ell.set_alpha(0.5)\n",
    "    splot.add_artist(ell)\n",
    "    splot.set_xticks(())\n",
    "    splot.set_yticks(())\n",
    "\n",
    "\n",
    "def plot_lda_cov(lda, splot):\n",
    "    plot_ellipse(splot, lda.means_[0], lda.covariance_, 'red')\n",
    "    plot_ellipse(splot, lda.means_[1], lda.covariance_, 'blue')\n",
    "\n",
    "\n",
    "def plot_qda_cov(qda, splot):\n",
    "    plot_ellipse(splot, qda.means_[0], qda.covariances_[0], 'red')\n",
    "    plot_ellipse(splot, qda.means_[1], qda.covariances_[1], 'blue')\n",
    "\n",
    "###############################################################################"
   ]
  },
  {
   "cell_type": "markdown",
   "metadata": {
    "slideshow": {
     "slide_type": "slide"
    }
   },
   "source": [
    "### GDA Example"
   ]
  },
  {
   "cell_type": "code",
   "execution_count": 21,
   "metadata": {
    "collapsed": false,
    "slideshow": {
     "slide_type": "slide"
    }
   },
   "outputs": [
    {
     "data": {
      "image/png": "[encoded data removed]",
      "text/plain": [
       "<matplotlib.figure.Figure at 0x7f4679d16a90>"
      ]
     },
     "metadata": {},
     "output_type": "display_data"
    }
   ],
   "source": [
    "plt.figure(figsize=(10,6))\n",
    "\n",
    "for i, (X, y) in enumerate([dataset_fixed_cov(), dataset_cov()]):\n",
    "    # Linear Discriminant Analysis\n",
    "    lda = LinearDiscriminantAnalysis(solver=\"svd\", store_covariance=True)\n",
    "    y_pred = lda.fit(X, y).predict(X)\n",
    "    splot = plot_data(lda, X, y, y_pred, fig_index=2 * i + 1)\n",
    "    plot_lda_cov(lda, splot)\n",
    "    plt.axis('tight')\n",
    "\n",
    "    # Quadratic Discriminant Analysis\n",
    "    qda = QuadraticDiscriminantAnalysis(store_covariances=True)\n",
    "    y_pred = qda.fit(X, y).predict(X)\n",
    "    splot = plot_data(qda, X, y, y_pred, fig_index=2 * i + 2)\n",
    "    plot_qda_cov(qda, splot)\n",
    "    plt.axis('tight')\n",
    "plt.suptitle('Linear Discriminant Analysis vs Quadratic Discriminant Analysis')\n",
    "plt.show()"
   ]
  },
  {
   "cell_type": "markdown",
   "metadata": {
    "slideshow": {
     "slide_type": "slide"
    }
   },
   "source": [
    "## Class Conditional Densities\n",
    "\n",
    "Suppose we model $ p(x |C_k) $ as Gaussians with the _same_ _covariance_ matrix:\n",
    "\n",
    "$ p (x| C_k) = \\frac{1}{(2\\pi) ^\\frac{D}{2} |\\Sigma|^ \\frac{1}{2}} exp \\left\\{- \\frac {1}{2} (x - \\mu_k)^T \\Sigma^{-1} (x - \\mu_k) \\right\\} $\n",
    "\n",
    "This gives us $ p(C_1|x) = \\sigma(w^T x + w_0) $\n",
    "\n",
    "where $ w = \\Sigma^{-1}(\\mu_1 - \\mu_2) $ \n",
    "\n",
    "and $ w_0 = -\\frac{1}{2} \\mu_1^T \\Sigma ^{-1} \\mu_1 + \\frac{1}{2} \\mu_2^T \\Sigma ^{-1} \\mu_2 + ln \\frac {p(C_1)}{p(C_2)} $"
   ]
  },
  {
   "cell_type": "markdown",
   "metadata": {
    "slideshow": {
     "slide_type": "slide"
    }
   },
   "source": [
    "## Derivation\n",
    "\n",
    "$$\n",
    "\\begin{align}\n",
    "P (x, C_1) \n",
    "&= P(x|C_1) \\cdot P(C_1) \\\\\n",
    "&= \\frac{1}{(2\\pi) ^\\frac{D}{2} |\\Sigma|^ \\frac{1}{2}} exp \\left\\{- \\frac {1}{2} (x - \\mu_1)^T \\Sigma^{-1} (x - \\mu_1) \\right\\} \\cdot P(C_1)\n",
    "\\end{align}\n",
    "$$\n",
    "\n",
    "\n",
    "$$\n",
    "\\begin{align}\n",
    "P (x, C_2) \n",
    "&= P(x|C_2) \\cdot P(C_2) \\\\\n",
    "&=  \\frac{1}{(2\\pi) ^\\frac{D}{2} |\\Sigma|^ \\frac{1}{2}} exp \\left\\{- \\frac {1}{2} (x - \\mu_2)^T \\Sigma^{-1} (x - \\mu_2) \\right\\} \\cdot P(C_2)\n",
    "\\end{align}\n",
    "$$"
   ]
  },
  {
   "cell_type": "markdown",
   "metadata": {
    "slideshow": {
     "slide_type": "subslide"
    }
   },
   "source": [
    "__\"Log Odds\"__\n",
    "$$\n",
    "\\begin{align}\n",
    "log \\frac {p(C_1|x)}{p(C_2|x)} \n",
    "&= log \\frac {p(C_1|x)}{1 - p(C_1|x)} \\\\\n",
    "&= log \\frac{exp \\left\\{- \\frac {1}{2} (x - \\mu_1)^T \\Sigma^{-1} (x - \\mu_1) \\right\\}}{exp \\left\\{- \\frac {1}{2} (x - \\mu_2)^T \\Sigma^{-1} (x - \\mu_2) \\right\\}} + log \\frac{P(C_1)}{P(C_2)} \\\\\n",
    "&= \\left\\{- \\frac {1}{2} (x - \\mu_1)^T \\Sigma^{-1} (x - \\mu_1) \\right\\} - \\left\\{- \\frac {1}{2} (x - \\mu_2)^T \\Sigma^{-1} (x - \\mu_2) \\right\\} +  log \\frac{P(C_1)}{P(C_2)} \\\\\n",
    "&= (\\mu_1 - \\mu_2)^T \\Sigma^{-1} x - \\frac{1}{2} \\mu_1\\Sigma^{-1}\\mu_1 + \\frac{1}{2} \\mu_2\\Sigma^{-1}\\mu_2 + log \\frac{P(C_1)}{P(C_2)} \\\\\n",
    "&= (\\Sigma^{-1}(\\mu_1 - \\mu_2))^T x + w_0\n",
    "\\end{align}\n",
    "$$\n",
    "\n",
    "where $ w_0 = -\\frac{1}{2} \\mu_1^T \\Sigma ^{-1} \\mu_1 + \\frac{1}{2} \\mu_2^T \\Sigma ^{-1} \\mu_2 + log \\frac {p(C_1)}{p(C_2)}$"
   ]
  },
  {
   "cell_type": "markdown",
   "metadata": {
    "slideshow": {
     "slide_type": "slide"
    }
   },
   "source": [
    "## Class-Conditional Densities \n",
    "## (for shared covariances)\n",
    "\n",
    "* $ P(C_k|x) $ is a sigmoid function: $ \\sigma(a) = \\frac {1}{1+exp(-a)} $\n",
    "\n",
    "- with logg-odds (_logit function_):\n",
    "$ a = log(\\frac{\\sigma}{1-\\sigma} = (\\Sigma^{-1}(\\mu_1 - \\mu_2))^T x + w_0 $\n",
    "\n",
    "where $ w_0 = -\\frac{1}{2} \\mu_1^T \\Sigma ^{-1} \\mu_1 + \\frac{1}{2} \\mu_2^T \\Sigma ^{-1} \\mu_2 + log \\frac {p(C_1)}{p(C_2)} $\n",
    "\n",
    "* Generalizes to normalized exponential or _softmax_: $ p_i = \\frac{exp(q_i)}{\\Sigma_j exp(q_j)}$"
   ]
  },
  {
   "cell_type": "markdown",
   "metadata": {
    "slideshow": {
     "slide_type": "slide"
    }
   },
   "source": [
    "## Linear Decision Boundaries\n",
    "\n",
    "* With the same covariance matrices, the boundary $ p(C_1|x) = p(C_2|x)$ is linear.\n",
    "    - Different priors $p(C_1), P(C_2)$ just shift it around.\n",
    "    \n",
    "<img src=\"linear_db.png\" width=750px, align=\"middle\">"
   ]
  },
  {
   "cell_type": "markdown",
   "metadata": {
    "slideshow": {
     "slide_type": "slide"
    }
   },
   "source": [
    "## Learning parameters via maximum likelihood\n",
    "\n",
    "* Given training data $\\{(x^{(1)}, t^{(1)}), .... , (x^{(N)}, t^{(N)})\\}$ and a generative model (_shared covariance_)\n",
    "\n",
    "$$ p(t) = \\phi^t (1-\\phi)^{(1-t)} $$\n",
    "\n",
    "$$ p(x|t=0) = \\frac{1}{\\sqrt{2\\pi} |\\Sigma|^\\frac{1}{2}} exp (- \\frac {1}{2} (x - \\mu_0)^T \\Sigma^{-1} (x - \\mu_0) ) $$\n",
    "\n",
    "$$ p(x|t=1) = \\frac{1}{\\sqrt{2\\pi} |\\Sigma|^\\frac{1}{2}} exp (- \\frac {1}{2} (x - \\mu_1)^T \\Sigma^{-1} (x - \\mu_1) ) $$\n",
    "\n"
   ]
  },
  {
   "cell_type": "markdown",
   "metadata": {
    "slideshow": {
     "slide_type": "subslide"
    }
   },
   "source": [
    "__log likelihood__\n",
    "\n",
    "$$\n",
    "\\begin{align}\n",
    "log (L)  \n",
    "&= \\prod_{i=1}^{N} P(X^{(i)}, t^{(i)}) \\\\\n",
    "&= \\sum_{i=1}^{N} log P(X^{(i)}, t^{(i)})\n",
    "\\end{align}\n",
    "$$"
   ]
  },
  {
   "cell_type": "markdown",
   "metadata": {
    "slideshow": {
     "slide_type": "slide"
    }
   },
   "source": [
    "## Learning via maximum likelihood\n",
    "\n",
    "Maximum likelihood estimation solutions\n",
    "\n",
    "$$ \\phi = \\frac{1}{N} \\sum_{i=1}^{N} 1\\{t_i =1\\} $$\n",
    "\n",
    "$$ \\mu_0 = \\frac{\\sum_{i=1}^{N} 1\\{t_i = 0\\} x_i}{\\sum_{i=1}^{N} 1\\{t_i = 0\\}}  $$\n"
   ]
  },
  {
   "cell_type": "markdown",
   "metadata": {
    "slideshow": {
     "slide_type": "subslide"
    }
   },
   "source": [
    "$$ \\mu_1 = \\frac{\\sum_{i=1}^{N} 1\\{t_i = 1\\} x_i}{\\sum_{i=1}^{N} 1\\{t_i = 1\\}}  $$\n",
    "\n",
    "$$ \\Sigma = \\frac{1}{N} \\sum_{i=1}^{N} (x_i - \\mu_{t_i})(x_i - \\mu_{t_i})^T $$"
   ]
  },
  {
   "cell_type": "markdown",
   "metadata": {
    "slideshow": {
     "slide_type": "slide"
    }
   },
   "source": [
    "## The case of Different Covariances\n",
    "\n",
    "* Decision boundaries can be quadratic.\n",
    "\n",
    "<img src=\"cov.png\" width=750px, align=\"middle\">"
   ]
  },
  {
   "cell_type": "markdown",
   "metadata": {
    "slideshow": {
     "slide_type": "slide"
    }
   },
   "source": [
    "## GDA v. Logistic Regression\n",
    "\n",
    "* For an M-dimensional feature space, \n",
    "    - Logistic regression has to fit M parameters.\n",
    "    - GDA has to fit \n",
    "        * 2M parameters for means of $ p(x|C_1)$ and $ p(x|C_2)$\n",
    "        * M(M+1)/2 parameters for the shared covariance matrix.\n",
    "\n"
   ]
  },
  {
   "cell_type": "markdown",
   "metadata": {
    "slideshow": {
     "slide_type": "subslide"
    }
   },
   "source": [
    "\n",
    "* Logistic regression has less parameters and is more flexible about data distribution.\n",
    "\n",
    "\n",
    "* GDA has a stronger modeling assumption, and works well when the distribution follows the assumption."
   ]
  }
 ],
 "metadata": {
  "celltoolbar": "Slideshow",
  "kernelspec": {
   "display_name": "Python 3",
   "language": "python",
   "name": "python3"
  },
  "language_info": {
   "codemirror_mode": {
    "name": "ipython",
    "version": 3
   },
   "file_extension": ".py",
   "mimetype": "text/x-python",
   "name": "python",
   "nbconvert_exporter": "python",
   "pygments_lexer": "ipython3",
   "version": "3.5.1"
  }
 },
 "nbformat": 4,
 "nbformat_minor": 0
}
