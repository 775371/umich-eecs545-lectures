{
 "cells": [
  {
   "cell_type": "markdown",
   "metadata": {
    "slideshow": {
     "slide_type": "skip"
    }
   },
   "source": [
    "$$ \\LaTeX \\text{ command declarations here.}\n",
    "\\newcommand{\\N}{\\mathcal{N}}\n",
    "\\newcommand{\\R}{\\mathbb{R}}\n",
    "\\renewcommand{\\vec}[1]{\\mathbf{#1}}\n",
    "\\newcommand{\\norm}[1]{\\|#1\\|}\n",
    "\\newcommand{\\d}{\\mathop{}\\!\\mathrm{d}}\n",
    "\\newcommand{\\qed}{\\qquad \\mathbf{Q.E.D.}}\n",
    "\\newcommand{\\vx}{\\mathbf{x}}\n",
    "\\newcommand{\\vy}{\\mathbf{y}}\n",
    "\\newcommand{\\vt}{\\mathbf{t}}\n",
    "\\newcommand{\\vb}{\\mathbf{b}}\n",
    "\\newcommand{\\vw}{\\mathbf{w}}\n",
    "\\newcommand{\\vm}{\\mathbf{m}}\n",
    "\\newcommand{\\I}{\\mathbb{I}}\n",
    "\\newcommand{\\th}{\\text{th}}\n",
    "$$"
   ]
  },
  {
   "cell_type": "code",
   "execution_count": 1,
   "metadata": {
    "collapsed": false,
    "scrolled": true,
    "slideshow": {
     "slide_type": "skip"
    }
   },
   "outputs": [],
   "source": [
    "%matplotlib inline\n",
    "from __future__ import division\n",
    "\n",
    "# plotting\n",
    "from matplotlib import pyplot as plt;\n",
    "from matplotlib import colors\n",
    "import matplotlib as mpl;\n",
    "from mpl_toolkits.mplot3d import Axes3D\n",
    "if \"bmh\" in plt.style.available: plt.style.use(\"bmh\");\n",
    "\n",
    "# matplotlib objects\n",
    "from matplotlib import mlab;\n",
    "from matplotlib import gridspec;\n",
    "\n",
    "# scientific\n",
    "import numpy as np;\n",
    "import scipy as scp;\n",
    "from scipy import linalg\n",
    "import scipy.stats;\n",
    "\n",
    "# table display\n",
    "import pandas as pd\n",
    "from IPython.display import display\n",
    "\n",
    "# python\n",
    "import random;\n",
    "\n",
    "# scikit-learn\n",
    "from sklearn import svm\n",
    "from sklearn.linear_model import Ridge\n",
    "from sklearn.preprocessing import PolynomialFeatures\n",
    "from sklearn.pipeline import make_pipeline\n",
    "from sklearn.grid_search import GridSearchCV\n",
    "from sklearn.learning_curve import learning_curve\n",
    "from sklearn.kernel_ridge import KernelRidge\n",
    "\n",
    "# warnings\n",
    "import warnings\n",
    "warnings.filterwarnings(\"ignore\")\n",
    "\n",
    "from notebook.services.config import ConfigManager\n",
    "cm = ConfigManager()\n",
    "cm.update('livereveal', {\n",
    "              'theme': 'simple',\n",
    "              'start_slideshow_at': 'selected',\n",
    "              'transition':'fade',\n",
    "              'scroll': False\n",
    "});"
   ]
  },
  {
   "cell_type": "markdown",
   "metadata": {
    "slideshow": {
     "slide_type": "slide"
    }
   },
   "source": [
    "# EECS 545:  Machine Learning\n",
    "## Lecture 09:  Kernel Methods\n",
    "- Instructor:  **Jacob Abernethy**\n",
    "- Date:  February 8, 2016\n",
    "\n",
    "\n",
    "*Lecture Exposition Credit*:  Benjamin Bray, Saket Dewangan"
   ]
  },
  {
   "cell_type": "markdown",
   "metadata": {
    "slideshow": {
     "slide_type": "slide"
    }
   },
   "source": [
    "## Outline\n",
    "\n",
    "- Feature Mapping\n",
    "    - Regression\n",
    "    - Classification\n",
    "- Kernel Methods\n",
    "    - Kernel functions\n",
    "    - Kernel trick\n",
    "    - Constructing kernels\n",
    "- Dual Representation using Kernels\n",
    "    - Linear Regression\n",
    "- Kernel Regression       "
   ]
  },
  {
   "cell_type": "markdown",
   "metadata": {
    "slideshow": {
     "slide_type": "slide"
    }
   },
   "source": [
    "## Reading List\n",
    "\n",
    "- Required:\n",
    "    - **[PRML]**, §6.1: Dual Representation\n",
    "    - **[PRML]**, §6.2: Constructing Kernels\n",
    "    - **[PRML]**, §6.3: Radial Basis Function Networks\n",
    "\n",
    "- Optional:    \n",
    "    - **[MLAPP]**, §14.2: Kernel Functions\n",
    "    - [**Everything You Wanted to Know about the Kernel Trick (But were too Afraid to Ask)**](http://www.eric-kim.net/eric-kim-net/posts/1/kernel_trick.html)"
   ]
  },
  {
   "cell_type": "markdown",
   "metadata": {
    "slideshow": {
     "slide_type": "skip"
    }
   },
   "source": [
    "> In this lecture, we will cover kernel methods. For feature mapping $\\phi(\\vx)$, we will see mapping features to higher dimensional space is advantageous in machine learning, but higher dimension brings greater computational complexity. The kernel trick, our protagonist, comes to the rescue, with the ability to implicitly handle higher dimensional features at low cost. We will see how kernel functions are defined, how to construct kernels and how to use the kernel trick in machine learning. Kernels give us a dual representation of learning algorithms which entirely written in terms of kernel functions. Particularly, we will show how to transform regularized linear regression into a dual representation. Finally we review cover kernel regression, a technique similar to locally weighted least squares."
   ]
  },
  {
   "cell_type": "markdown",
   "metadata": {
    "slideshow": {
     "slide_type": "slide"
    }
   },
   "source": [
    "## Feature Mapping\n"
   ]
  },
  {
   "cell_type": "markdown",
   "metadata": {
    "slideshow": {
     "slide_type": "slide"
    }
   },
   "source": [
    "### Review:  Feature Mapping\n",
    "\n",
    "- **Feature mapping** $\\phi(\\vx) : \\mathcal{X} \\mapsto \\R^M$ maps data into a feature space.\n",
    "    - In general, features are nonlinear functions of the data\n",
    "        - Recall we use polynomial features in linear regression\n",
    "    - It could be that $\\phi(\\vx) = \\vx$, i.e. no mapping exists\n",
    "    - Each feature $\\phi_j(\\vx)$ extracts important properties from $x$\n",
    "    - Feature mapping could boost the performance of learning algorithms."
   ]
  },
  {
   "cell_type": "markdown",
   "metadata": {
    "slideshow": {
     "slide_type": "slide"
    }
   },
   "source": [
    "### Feature Mapping: Linear Regression\n",
    "\n",
    "- Without feature mapping, linear model $y(\\vx) = w^T \\vx$ can only produce straight lines through origin.\n",
    "    - Not very flexible / powerful and can't handle nonlinearities\n",
    "- We could replace $\\vx$ by $\\phi(\\vx) = (\\vx, \\vx^2, \\cdots, \\vx^p)$, so $y(\\vx) = w^T \\phi(\\vx)$\n",
    "    - An appropriate feature mapping could generate nice regressor, eg. p=5 in the following plots\n",
    "- Note that in this lecture, notation $(x_1, x_2, \\cdots, x_N)$ denote a column vector."
   ]
  },
  {
   "cell_type": "code",
   "execution_count": 2,
   "metadata": {
    "collapsed": true,
    "slideshow": {
     "slide_type": "skip"
    }
   },
   "outputs": [],
   "source": [
    "def poly_reg_example():\n",
    "    x = np.random.random(50) * 2*np.pi - np.pi;\n",
    "    y = np.sin(x);\n",
    "    # format into matrix\n",
    "    X = x[:, np.newaxis];\n",
    "\n",
    "    # plot ground truth\n",
    "    plt.figure(figsize=(8,5))\n",
    "    x_plot = np.linspace(-np.pi, np.pi,100)[:, np.newaxis];\n",
    "    plt.plot(x_plot, np.sin(x_plot), label=\"ground truth\")\n",
    "    plt.scatter(x, y, label=\"data-points\")\n",
    "\n",
    "    # linear regression solely with x\n",
    "    w = np.dot(np.linalg.pinv(np.array([x]).T),y)\n",
    "    plt.plot(x_plot, w*x_plot, label=\"No Feature Mapping\")\n",
    "\n",
    "    # polynomial regression for degree 5\n",
    "    for degree in [5]:\n",
    "        model = make_pipeline(PolynomialFeatures(degree), Ridge())\n",
    "        model.fit(X, y)\n",
    "        y_plot = model.predict(x_plot)\n",
    "        plt.plot(x_plot, y_plot, label=\"Degree %d Polynomial Mapping\" % degree)\n",
    "\n",
    "    plt.legend(loc='lower right')\n",
    "    plt.show()"
   ]
  },
  {
   "cell_type": "code",
   "execution_count": 3,
   "metadata": {
    "collapsed": false,
    "slideshow": {
     "slide_type": "-"
    }
   },
   "outputs": [
    {
     "data": {
      "image/png": "[encoded data removed]",
      "text/plain": [
       "<matplotlib.figure.Figure at 0x3d59c50>"
      ]
     },
     "metadata": {},
     "output_type": "display_data"
    }
   ],
   "source": [
    "poly_reg_example();"
   ]
  },
  {
   "cell_type": "markdown",
   "metadata": {
    "slideshow": {
     "slide_type": "slide"
    }
   },
   "source": [
    "### Feature Mapping: Linear Classification\n",
    "\n",
    "- **Recall:**  Linear (binary) classifiers separate data with a **hyperplane** in feature space,\n",
    "    $$\n",
    "    h(\\vx) = \\begin{cases}\n",
    "    1 & \\text{if } \\vw^T \\phi(\\vx) > 0 \\\\\n",
    "    0 & \\text{otherwise}\n",
    "    \\end{cases}\n",
    "    $$\n",
    "\n",
    "- **Examples:** Differ only in how the weights $w$ are learned.\n",
    "    - Logistic regression, LDA(GDA with shared covariance), Fisher's Linear Discriminant, Perceptron (Lec 07 & 08)."
   ]
  },
  {
   "cell_type": "markdown",
   "metadata": {
    "slideshow": {
     "slide_type": "slide"
    }
   },
   "source": [
    "### Feature Mapping: Linear Classification\n",
    "\n",
    "- **Problem:**  The following data is **NOT** linearly separable if we want to learn a linear classifier with form $h(\\vx) = \\vw^T \\vx$"
   ]
  },
  {
   "cell_type": "code",
   "execution_count": 4,
   "metadata": {
    "collapsed": true,
    "slideshow": {
     "slide_type": "skip"
    }
   },
   "outputs": [],
   "source": [
    "def get_circular_data(n):\n",
    "    # sample outer circle\n",
    "    theta0 = np.random.random(n) * 2 * np.pi;\n",
    "    r0 = 2 + np.random.randn(n) / 3;\n",
    "    # sample inner circle\n",
    "    theta1 = np.random.random(n) * 2 * np.pi;\n",
    "    r1 = 5 + np.random.randn(n) / 3;\n",
    "    # join data\n",
    "    x0 = r0 * [np.cos(theta0), np.sin(theta0)];\n",
    "    x1 = r1 * [np.cos(theta1), np.sin(theta1)];\n",
    "    return x0, x1;\n",
    "\n",
    "def plot_circular_data(n):\n",
    "    # get data\n",
    "    x0, x1 = get_circular_data(n);\n",
    "\n",
    "    # plot\n",
    "    plt.figure(figsize=(8,5))\n",
    "    plt.scatter(*x0, c=\"r\", marker=\"o\", s=50)\n",
    "    plt.scatter(*x1, c=\"b\", marker=\"^\", s=50)\n",
    "    plt.axis(\"equal\");"
   ]
  },
  {
   "cell_type": "code",
   "execution_count": 5,
   "metadata": {
    "collapsed": false,
    "slideshow": {
     "slide_type": "-"
    }
   },
   "outputs": [
    {
     "data": {
      "image/png": "[encoded data removed]",
      "text/plain": [
       "<matplotlib.figure.Figure at 0x97bf080>"
      ]
     },
     "metadata": {},
     "output_type": "display_data"
    }
   ],
   "source": [
    "plot_circular_data(100);"
   ]
  },
  {
   "cell_type": "markdown",
   "metadata": {
    "slideshow": {
     "slide_type": "-"
    }
   },
   "source": [
    "- $\\vx = (x_1, x_2)$, so $\\vw^T \\vx = w_1 x_1 + w_2 x_2$ which is a straight line through the origin.\n",
    "- Obviously, no linear classifier can separate the blue rectangles from the red circles."
   ]
  },
  {
   "cell_type": "markdown",
   "metadata": {
    "slideshow": {
     "slide_type": "slide"
    }
   },
   "source": [
    "### Feature Mapping: Linear Classification\n",
    "\n",
    "- **Solution 1 (Left):**  Add squared-distance-to-origin $(x_1^2 + x_2^2)$ as third feature. So $\\phi(\\vx) = (x_1, x_2, x_1^2 + x_2^2)$\n",
    "- **Solution 2 (Right):**  Use features $\\phi(\\vx) = (x_1^2, x_2^2)$"
   ]
  },
  {
   "cell_type": "code",
   "execution_count": 6,
   "metadata": {
    "collapsed": true,
    "slideshow": {
     "slide_type": "skip"
    }
   },
   "outputs": [],
   "source": [
    "def plot_solution():\n",
    "    # get data\n",
    "    x0, x1 = get_circular_data(100);\n",
    "\n",
    "    # plot\n",
    "    fig = plt.figure(figsize=(15,5));\n",
    "    gs = gridspec.GridSpec(1, 2, width_ratios=[2, 1])\n",
    "    ax = fig.add_subplot(gs[0], projection='3d');\n",
    "    # plot 3d points\n",
    "    ax.scatter(x0[0],x0[1], np.linalg.norm(x0, axis=0)**2, c=\"r\", s=50)\n",
    "    ax.scatter(x1[0], x1[1], np.linalg.norm(x1, axis=0)**2, c=\"b\", marker=\"^\", s=50);\n",
    "    # set camera\n",
    "    ax.view_init(elev=20, azim=45);\n",
    "\n",
    "    ax = fig.add_subplot(gs[1]);\n",
    "    ax.scatter(*(x0**2), c=\"r\", s=50)\n",
    "    ax.scatter(*(x1**2), c=\"b\", marker=\"^\", s=50)\n",
    "    ax.axis(\"equal\");"
   ]
  },
  {
   "cell_type": "code",
   "execution_count": 7,
   "metadata": {
    "collapsed": false,
    "slideshow": {
     "slide_type": "-"
    }
   },
   "outputs": [
    {
     "data": {
      "image/png": "[encoded data removed]",
      "text/plain": [
       "<matplotlib.figure.Figure at 0x9682358>"
      ]
     },
     "metadata": {},
     "output_type": "display_data"
    }
   ],
   "source": [
    "plot_solution()"
   ]
  },
  {
   "cell_type": "markdown",
   "metadata": {
    "slideshow": {
     "slide_type": "-"
    }
   },
   "source": [
    "- Linear **separable** now with the new features!"
   ]
  },
  {
   "cell_type": "markdown",
   "metadata": {
    "slideshow": {
     "slide_type": "slide"
    }
   },
   "source": [
    "### Feature Mapping:  Advantages\n",
    "\n",
    "- From examples of regression and classification, we see\n",
    "\n",
    "    - Data has been mapped via $\\phi(\\vx)$ to a new, higher-dimensional (possibly infinite!) space\n",
    "\n",
    "    - Certain *mapping* are better for certain problems\n"
   ]
  },
  {
   "cell_type": "markdown",
   "metadata": {
    "slideshow": {
     "slide_type": "slide"
    }
   },
   "source": [
    "### Feature Mapping:  Disadvantages\n",
    "\n",
    "- High feature dimension $M$ brings high computational complexity\n",
    "    - Recall in regularized linear regression, we have solution\n",
    "    $$\n",
    "    \\vw = (\\Phi^T\\Phi + \\lambda I)^{-1} \\Phi^T \\vt\n",
    "    $$\n",
    "    Design matrix $\\Phi \\in \\R{N \\times M}$ of which $N$ is number of samples and $M$ is number features\n",
    "    - $\\Phi^T\\Phi \\in \\R^{M \\times M}$\n",
    "    - Inversion $(\\Phi^T\\Phi + \\lambda I)^{-1}$ has complexity $O(M^3)$ !\n",
    "\n",
    "- We can never handle features with *infinite* dimension\n",
    "\n",
    "- **Kernel** methods come to the rescue\n",
    "    - Implicitly handle high dimensional features with low computational complexity\n",
    "    - Even possible to handle *infinite* dimensional features (we will see later)"
   ]
  },
  {
   "cell_type": "markdown",
   "metadata": {
    "slideshow": {
     "slide_type": "slide"
    }
   },
   "source": [
    "## Kernel Methods\n",
    "\n",
    "> Uses content from **[PRML]** and [Wikipedia, \"Kernel Method\"](https://en.wikipedia.org/wiki/Kernel_method)"
   ]
  },
  {
   "cell_type": "markdown",
   "metadata": {
    "slideshow": {
     "slide_type": "slide"
    }
   },
   "source": [
    "### Kernel Methods:  Intro\n",
    "\n",
    "- Many algorithms depend on the data only through pairwise **inner products** between data points,\n",
    "    $$\n",
    "    \\langle \\vx_1, \\vx_2 \\rangle = \\vx_2^T \\vx_1\n",
    "    $$\n",
    "    - Inner product represents *similarity* between data points.\n",
    "\n",
    "- Inner products can be replaced by **Kernel Functions**, capturing more general notions of similarity.\n",
    "    - No longer need coordinates!"
   ]
  },
  {
   "cell_type": "markdown",
   "metadata": {
    "slideshow": {
     "slide_type": "slide"
    }
   },
   "source": [
    "### Kernel Functions:  Definition\n",
    "\n",
    "- A **kernel function** $\\kappa(\\vx,\\vx’)$ is intended to measure the similarity between $\\vx$ and $\\vx’$.\n",
    "    - Eg. $\\vx^T \\vx'$, $(\\vx^T \\vx')^p$,$\\ \\norm{\\vx-\\vx'}^2$, $\\ \\exp \\left( \\frac{\\norm{\\vx-\\vx'}^2}{2\\sigma^2} \\right)$\n",
    "\n",
    "- In general, a **valid** kernel function $\\kappa(\\vx, \\vx')$ satisfies that for every set $\\vx_1, \\dots, \\vx_N$, the matrix \n",
    "    $$\n",
    "    \\begin{bmatrix}\n",
    "    \\kappa(\\vx_1, \\vx_1) & \\kappa(\\vx_1, \\vx_2) & \\cdots & \\kappa(\\vx_1, \\vx_N)\\\\ \n",
    "    \\kappa(\\vx_2, \\vx_1) & \\kappa(\\vx_2, \\vx_2) & \\cdots & \\kappa(\\vx_2, \\vx_N)\\\\ \n",
    "    \\vdots & \\vdots & \\ddots & \\vdots \\\\ \n",
    "    \\kappa(\\vx_N, \\vx_1) & \\kappa(\\vx_N, \\vx_2) & \\cdots & \\kappa(\\vx_N, \\vx_N)\n",
    "    \\end{bmatrix}\n",
    "    $$ \n",
    "    is a **positive-semidefinite** (PSD) matrix."
   ]
  },
  {
   "cell_type": "markdown",
   "metadata": {
    "slideshow": {
     "slide_type": "slide"
    }
   },
   "source": [
    "### Kernel Functions:  Kernel Function $\\leftrightarrow$ Implicit Feature Mapping\n",
    "\n",
    "- For every **valid** kernel function $\\kappa(\\vx, \\vx')$, there exists an implicit feature mapping $\\phi(x)$ such that\n",
    "    $$\n",
    "    \\kappa(\\vx, \\vx') = \\phi(\\vx)^T \\phi(\\vx')\n",
    "    $$\n",
    "    - Kernel function corresponds to inner product of features in some high-dimensional space\n",
    "    - We will show this with some examples\n",
    "\n",
    "- The converse is also **true**. Given some feature mapping $\\phi(\\vx)$, then $\\kappa(\\vx, \\vx')$ defined by\n",
    "    $$\n",
    "    \\kappa(\\vx, \\vx') = \\phi(\\vx)^T \\phi(\\vx')\n",
    "    $$\n",
    "    is a valid kernel function\n",
    "\n",
    "- We could prove a kernel is valid by finding an implicit feature mapping!\n",
    "\n",
    "- The *incredible* result above follows from **Mercer's Theorem**,\n",
    "    - Generalizes the fact that *every positive-definite matrix corresponds to an inner product*\n",
    "    - For more info, see Hsing & Eubank 2015, [\"Theoretical Foundations of Functional Data Analysis\"](http://www.wiley.com/WileyCDA/WileyTitle/productCd-0470016914.html)"
   ]
  },
  {
   "cell_type": "markdown",
   "metadata": {
    "slideshow": {
     "slide_type": "slide"
    }
   },
   "source": [
    "### Kernel Functions:  Example—Quadratic Polynomial Kernel\n",
    "\n",
    "- **Kernel:** For $\\vx = (x_1, x_2)$ and $\\vx'=(x_1', x_2')$, define\n",
    "    $$\n",
    "    \\begin{align}\n",
    "    \\kappa(\\vx, \\vx')\n",
    "    &= (\\vx^T \\vx')^2 \\\\\n",
    "    &= (x_1x_1' + x_2x_2')^2 \\\\\n",
    "    &= x_1^2x_1'^2 + 2x_1  x_2 x_1' x_2' + x_2^2 x_2'^2 \n",
    "    \\end{align}\n",
    "    $$\n",
    "    \n",
    "- **Mapping:**  Equivalent to the standard inner product when either\n",
    "    $$\n",
    "    \\begin{gather}\n",
    "    \\phi(\\vx) = (x_1^2, \\sqrt{2} x_1 x_2, x_2^2) \\\\\n",
    "    \\phi(\\vx) = (x_1^2, x_1 x_2, x_1 x_2, x_2^2)\n",
    "    \\end{gather}\n",
    "    $$\n",
    "\n",
    "- Implicit mapping is **not** unique!\n",
    "\n",
    "- Note $\\vx$ and $\\vx'$ denote two data points. $\\vx'$ does **NOT** denote transpose of $x$ here."
   ]
  },
  {
   "cell_type": "markdown",
   "metadata": {
    "slideshow": {
     "slide_type": "slide"
    }
   },
   "source": [
    "### Kernel Functions:  Example—Polynomial Kernel\n",
    "\n",
    "- **Kernel:** Higher-order polynomial of degree $p$,\n",
    "    $$\n",
    "    \\kappa(\\vx,\\vx')\n",
    "    = (\\vx^T \\vx')^p\n",
    "    = \\left( \\sum_{k=1}^M x_k x_k' \\right)^p\n",
    "    $$\n",
    "\n",
    "- **Mapping:** Implicit feature vector $\\phi(\\vx)$ contains all monomials of degree $p$\n",
    "\n",
    "- **Example:** For $\\vx = (x_1, x_2)$, $\\vx'=(x_1', x_2')$ \n",
    "    - When $p=2$, as previous example, we have\n",
    "        $$\n",
    "        \\phi(\\vx) = (x_1^2, x_2^2, \\sqrt{2} x_1 x_2)\n",
    "        $$\n",
    "    - When $p=3$, we have\n",
    "        $$\n",
    "        \\phi(\\vx) = (x_1^3, x_2^3, \\sqrt{3}x_1^2 x_2, \\sqrt{3} x_1 x_2^2)\n",
    "        $$\n",
    "        \n",
    "- Try to verify this!"
   ]
  },
  {
   "cell_type": "markdown",
   "metadata": {
    "slideshow": {
     "slide_type": "slide"
    }
   },
   "source": [
    "### Kernel Functions:  Example—Generalized Polynomial Kernel\n",
    "\n",
    "- **Kernel:** Inhomogeneous polynomial up to degree $p$, for $c > 0$,\n",
    "    $$\n",
    "    \\kappa(\\vx,\\vx')\n",
    "    = (\\vx^T \\vx' + c)^p\n",
    "    = \\left(c + \\sum_{k=1}^M \\vx_k \\vx_k' \\right)^p\n",
    "    $$\n",
    "\n",
    "- **Mapping:** Implicit feature vector $\\phi(\\vx)$ contains all monomials of degree $\\leq p$\n",
    "\n",
    "- **Example:** For $\\vx = (x_1, x_2)$, $\\vx'=(x_1', x_2')$ \n",
    "    - When $p=2$, we have\n",
    "        $$\n",
    "        \\phi(\\vx) = (x_1^2, x_2^2,  \\sqrt{2} x_1 x_2  ,\\sqrt{2} \\sqrt{c} x_1, \\sqrt{2} \\sqrt{c} x_2, c)\n",
    "        $$\n",
    "    - When $p=3$, we have\n",
    "        $$\n",
    "        \\phi(\\vx) = (x_1^3, x_2^3, \\sqrt{c}^3, \\sqrt{3}x_1^2 x_2, \\sqrt{3} x_1^2 \\sqrt{c}, \\sqrt{3} x_2^2 x_1, \\sqrt{3} x_2^2 \\sqrt{c}, \\sqrt{3} c x_1, \\sqrt{3} c x_2, \\sqrt{6} x_1 x_2 \\sqrt{c})\n",
    "        $$\n",
    "    - Note that we could view $\\kappa(\\vx,\\vx')$ as $(\\tilde{\\vx}^T \\tilde{\\vx}')^p$ of which $\\tilde{\\vx} = (\\vx, \\sqrt{c})$ and $\\tilde{\\vx}' = (\\vx', \\sqrt{c})$\n",
    "        \n",
    "- Try to verify this!"
   ]
  },
  {
   "cell_type": "markdown",
   "metadata": {
    "slideshow": {
     "slide_type": "slide"
    }
   },
   "source": [
    "### Kernel Functions:  Example—Gaussian Kernel\n",
    "\n",
    "- **Kernel:**\n",
    "    $$\n",
    "    \\kappa(\\vx,\\vx')= \\exp \\left( -\\frac{\\norm{\\vx-\\vx'}^2}{2 \\sigma^2} \\right)\n",
    "    $$\n",
    "\n",
    "- **Mapping:** Implicit feature vector $\\phi(\\vx)$ has **infinite** dimension!\n",
    "\n",
    "- **Not related to Gaussian pdf!**\n",
    "\n",
    "- Translation invariant (depends only on distance between points)\n",
    "        \n",
    "- Derivation of infinite dimension feature is in the notes"
   ]
  },
  {
   "cell_type": "markdown",
   "metadata": {
    "slideshow": {
     "slide_type": "skip"
    }
   },
   "source": [
    "> **Remark**\n",
    "> - Derivation of infinite features of Gaussian Kernel\n",
    "\n",
    ">     - Expand the Gaussian kernel:\n",
    "        $$\n",
    "        \\kappa(\\vx,\\vx')= \\exp \\left( -\\frac{\\norm{\\vx-\\vx'}^2}{2 \\sigma^2} \\right) \n",
    "        = \\exp\\left(- \\frac{\\norm{\\vx}^2}{2 \\sigma^2}\\right) \\exp\\left(\\frac{ \\vx^T \\vx' }{\\sigma^2}\\right) \\exp\\left(- \\frac{\\norm{\\vx'}^2}{2 \\sigma^2}\\right)\n",
    "        $$\n",
    "        of which\n",
    "        $$\n",
    "        \\exp\\left(\\frac{ \\vx^T \\vx' }{\\sigma^2}\\right) = \\sum \\nolimits_{n=0}^\\infty \\frac{1}{n!} \\left( \\frac{\\vx^T \\vx'}{\\sigma^2} \\right)^n\n",
    "        = \\sum \\nolimits_{n=0}^\\infty \\frac{1}{n! \\sigma^{2n}} \\left( \\vx^T \\vx' \\right)^n\n",
    "        $$\n",
    "        \n"
   ]
  },
  {
   "cell_type": "markdown",
   "metadata": {
    "slideshow": {
     "slide_type": "skip"
    }
   },
   "source": [
    "> -   - We already know $(\\vx^T \\vx')^n$ is a valid kernel. So let $\\psi_n(\\vx)$ denote the feature mapping of $(\\vx^T \\vx')^n$, i.e.\n",
    "        $$\n",
    "        \\psi_n(\\vx)^T \\psi_n(\\vx) = (\\vx^T \\vx')^n\n",
    "        $$\n",
    "        Then we have\n",
    "        $$\n",
    "        \\begin{split}\n",
    "        & \\exp\\left(\\frac{ \\vx^T \\vx' }{\\sigma^2}\\right) \n",
    "        = \\sum \\nolimits_{n=0}^\\infty \\frac{1}{n! \\sigma^{2n}} \\psi_n(\\vx)^T \\psi_n(\\vx) \\\\\n",
    "        &= \\left( \\sqrt{\\frac{1}{0!}} \\psi_0(\\vx), \\sqrt{\\frac{1}{1! \\sigma^2}} \\psi_1(\\vx), \\dots, \\sqrt{\\frac{1}{n! \\sigma^{2n}}} \\psi_n(\\vx)  \\right)^T \\left( \\sqrt{\\frac{1}{0!}} \\psi_0(\\vx'), \\sqrt{\\frac{1}{1! \\sigma^2}} \\psi_1(\\vx'), \\dots, \\sqrt{\\frac{1}{n! \\sigma^{2n}}} \\psi_n(\\vx')  \\right) \\\\\n",
    "        &\\triangleq \\eta(\\vx)^T \\eta(\\vx')\n",
    "        \\end{split}\n",
    "        $$\n",
    "        of which $\\eta(\\vx)$ is a new feature mapping with **infinite** dimension.\n",
    "\n",
    ">     - So\n",
    "        $$\n",
    "        \\kappa(\\vx,\\vx') = \\exp\\left(- \\frac{\\norm{\\vx}^2}{2 \\sigma^2}\\right)  \\eta(\\vx)^T \\eta(\\vx')  \\exp\\left(- \\frac{\\norm{\\vx'}^2}{2 \\sigma^2}\\right) \\triangleq \\phi(\\vx)^T \\phi(\\vx')\n",
    "        $$\n",
    "        of which $\\phi(\\vx) = \\exp\\left(- \\frac{\\norm{\\vx}^2}{2 \\sigma^2}\\right)  \\eta(\\vx)$ is the final infinite dimension feature mapping of $\\kappa(\\vx,\\vx')$"
   ]
  },
  {
   "cell_type": "markdown",
   "metadata": {
    "slideshow": {
     "slide_type": "slide"
    }
   },
   "source": [
    "### Kernel Functions: Handwritten Example\n",
    "- For $28 \\times 28$ handwritten image below\n",
    "<center>\n",
    "<div class=\"image\"   style=\"width:200px\">\n",
    "    <img src=\"images/hand_writ_example.png\">\n",
    "</div>\n",
    "</center>\n",
    "- Take the pixel values and compute $\\kappa(\\vx, \\vx') = (\\vx^T \\vx' + 1)^p $\n",
    "    - here, $\\vx$ is the vectorized image, which has $28 \\times 28 = 784$ pixels  \n",
    "- According to the generalized polynomial kernel, for $\\text{dim}(\\vx) = 784$ and $p=4$, the dimension of features $\\text{dim}(\\phi(x)) \\approx 1.6 \\times 10^{10}$!\n",
    "\n",
    "- **Recall**, high-dimensional feature could boost the performance of machine learning algorithm\n",
    "\n",
    "    - Kernel Functions will be the bridge!\n",
    "    \n",
    "- But before we apply kernel functions to ML algorithms, let's first see how to construct kernels.    "
   ]
  },
  {
   "cell_type": "markdown",
   "metadata": {
    "slideshow": {
     "slide_type": "skip"
    }
   },
   "source": [
    "> **Remark**\n",
    "> - How is the $1.6 \\times 10^{10}$ computed?\n",
    "\n",
    ">     - Define $\\tilde{\\vx} = (\\vx, 1) \\in \\R^{785}$ and $\\tilde{\\vx}' = (\\vx', 1) \\in \\R^{785}$, so we have\n",
    "        $$\n",
    "        \\begin{align}\n",
    "        \\kappa(\\vx, \\vx') \n",
    "        &= (\\tilde{\\vx}^T \\tilde{\\vx}')^4 = (\\sum \\nolimits_{i=1}^{785} \\tilde{x}_i \\tilde{x_i}')^4 \\\\\n",
    "        &= (\\tilde{x}_1 \\tilde{x}_1' + \\tilde{x}_2 \\tilde{x}_2' + \\cdots + \\tilde{x}_{785} \\tilde{x}_{785}')^4 \\\\\n",
    "        &\\triangleq (y_1 + y_2 + \\cdots + y_{785})^4\n",
    "        \\end{align}\n",
    "        $$\n",
    "        \n",
    ">     - The dimension equals the number of monomials with degree 4.\n",
    "\n",
    ">     - It's just a combinatorial problem. Now lets count.\n",
    "\n",
    ">     - In the table, $m,n,p,q$ are *distinct* and $m,n,p,q = 1,2,\\dots, 785$.\n",
    ">\n",
    "| Monomial Combination | $ \\ \\ \\ \\ y_m^4  \\ \\ \\ \\ $  | $y_m^3y_n$ | $ \\ \\  y_m^2 y_n^2 \\ \\ $ | $ y_m^2 y_n y_p $  | $y_m y_n y_p y_q$ |\n",
    "| -------------------- | :-------------: | :-------------: | :-------------: | :-------------: | :-------------: |\n",
    "| Counting     | $\\binom{785}{1}$  | $\\binom{785}{2} \\binom{3}{1}$ |  $ \\binom{785}{2} $  | $\\binom{785}{3} \\binom{3}{1}$ | $\\binom{785}{4}$ |\n",
    ">\n",
    ">\n",
    "> - Add them up, we could get $1.59 \\times 10^{10}$"
   ]
  },
  {
   "cell_type": "markdown",
   "metadata": {
    "slideshow": {
     "slide_type": "slide"
    }
   },
   "source": [
    "### Kernel Functions: Constructing Kernels\n",
    "\n",
    "- **Method 1:** Explicitly define a feature space mapping $\\phi(\\vx)$ and use **inner product kernel**\n",
    "    $$\n",
    "    \\kappa(\\vx,\\vx')\n",
    "    = \\phi(\\vx)^T \\phi(\\vx')\n",
    "    = \\sum_{i=1}^{M}\\phi_i(\\vx) \\phi_i(\\vx')\n",
    "    $$\n",
    "\n",
    "- **Method 2:** Explicitly define a kernel $\\kappa(\\vx,\\vx')$ and identify the implicit feature map, e.g.\n",
    "    $$\n",
    "    \\kappa(\\vx,\\vx') = (\\vx^T \\vx')^2\n",
    "    \\quad \\implies \\quad\n",
    "    \\phi(\\vx) = (\\vx_1^2, \\sqrt{2} \\vx_1 \\vx_2, \\vx_2^2)\n",
    "    $$\n",
    "    - Kernels help us avoid the complexity of explicit feature mappings.\n",
    "\n",
    "- **Method 3:** Define a similarity function $\\kappa(x, x')$ and use **Mercer's Condition** to verify that an implicit feature map *exists* without finding it.\n",
    "    - Define the Gram matrix $K$ to have elements $K_{nm} = \\kappa(\\vx_n,\\vx_m)$\n",
    "    - Then $K$ must be **positive semidefinite** for all possible choices of the data set {$x_n$}, i.e.\n",
    "    \n",
    "    $$\n",
    "    a^TKa\n",
    "    \\equiv \\sum_{i}\\sum_{j} a_i K_{ij} a_j \\geq 0 \\quad \\forall\\, a \\in \\R^n\n",
    "    $$ "
   ]
  },
  {
   "cell_type": "markdown",
   "metadata": {
    "slideshow": {
     "slide_type": "slide"
    }
   },
   "source": [
    "### Kernel Functions: Building Blocks\n",
    "\n",
    "- Given valid kernels $\\kappa_1(\\vx, \\vx')$ and $\\kappa_2(\\vx, \\vx')$, the following new kernels will also be valid:\n",
    "    $$\n",
    "    \\boxed{\n",
    "    \\begin{split}\n",
    "    \\kappa(\\vx, \\vx') &= c\\kappa_1(\\vx, \\vx') & & \\text{Constant } c>0\\\\\n",
    "    \\kappa(\\vx, \\vx') &= f(\\vx) \\kappa_1(\\vx, \\vx') f(\\vx') & & \\forall \\text{ function } f(\\cdot)\\\\\n",
    "    \\kappa(\\vx, \\vx') &= q(\\kappa_1(\\vx, \\vx')) & & \\forall \\text{ polynomial } q(\\cdot) \\text{ with nonnegative coeffs}\\\\\n",
    "    \\kappa(\\vx, \\vx') &= \\exp(\\kappa_1(\\vx, \\vx')) \\\\\n",
    "    \\kappa(\\vx, \\vx') &= \\kappa_1(\\vx, \\vx') + \\kappa_2(\\vx, \\vx') \\\\\n",
    "    \\kappa(\\vx, \\vx') &= \\kappa_1(\\vx, \\vx')\\kappa_2(\\vx, \\vx') \\\\\n",
    "    \\kappa(\\vx, \\vx') &= \\kappa_1(\\phi(\\vx), \\phi(\\vx')) & & \\phi(\\vx) \\text{ is any feature mapping}\\\\\n",
    "    \\kappa(\\vx, \\vx') &= \\vx^T A \\vx & & A \\text{ is any symmetric positive semidefinite matrix}\\\\    \n",
    "    \\end{split}}\n",
    "    $$\n",
    "\n",
    "- Popular Kernel Functions\n",
    "    $$\n",
    "    \\begin{align}\n",
    "    \\kappa(\\vx, \\vx') &= (\\vx^T \\vx')^p \\\\\n",
    "    \\kappa(\\vx, \\vx') &= (\\vx^T \\vx' + c)^p & &c>0\\\\\n",
    "    \\kappa(\\vx, \\vx') &= \\exp \\left( -\\frac{\\norm{\\vx-\\vx'}^2}{2 \\sigma^2} \\right)\n",
    "    \\end{align}\n",
    "    $$"
   ]
  },
  {
   "cell_type": "markdown",
   "metadata": {
    "slideshow": {
     "slide_type": "slide"
    }
   },
   "source": [
    "### Kernel Methods: Kernel Trick\n",
    "\n",
    "- So far, we have seen \n",
    "    - kernel is related to high-dimension features\n",
    "    - how to construct features.\n",
    "\n",
    "- **But**, how to apply kernels to ML algorithm?\n",
    "\n",
    "- **Idea:** if an algorithm is formulated in such a way that the $\\vx$ enters only through inner product, then we can replace the inner product with some other choice of kernel.\n",
    "    - i.e. $\\vx^T \\vx' \\text{ or } \\phi(\\vx)^T \\phi(\\vx') \\rightarrow \\kappa(\\vx, \\vx')$\n",
    "\n",
    "    - This is called **kernel trick** or **kernel substitution**\n",
    "\n",
    "    - To use the kernel trick, we must formulate algorithms purely in terms of inner products between data points\n",
    "\n",
    "    - We can *not* access the coordinates of points in the high-dimensional feature space\n",
    "\n",
    "    - This seems a huge limitation, but it turns out that quite a lot can be done\n",
    "\n",
    "- By using different definitions for inner product, we can manipulate features in high dimensional space with only the computational complexity of a low dimensional space."
   ]
  },
  {
   "cell_type": "markdown",
   "metadata": {
    "slideshow": {
     "slide_type": "slide"
    }
   },
   "source": [
    "### Kernel Trick: Example—Distance\n",
    "\n",
    "- Distance between samples can be expressed in inner products:\n",
    "    $$\n",
    "    \\begin{align}\n",
    "    ||\\vx - \\vx' ||^2\n",
    "    &= \\langle\\vx- \\vx', \\vx- \\vx' \\rangle\\\\\n",
    "    &= \\langle \\vx, \\vx\\rangle - 2\\langle\\vx, \\vx' \\rangle + \\langle\\vx, \\vx' \\rangle \\\\\n",
    "    \\end{align}\n",
    "    $$\n",
    "    After kernel substitution, we have\n",
    "    $$\n",
    "    ||\\vx - \\vx' ||^2 = \\kappa(\\vx,\\vx) - 2\\kappa(\\vx,vx') + \\kappa(\\vx',\\vx')\n",
    "    $$\n",
    "\n",
    "- With kernels, we are no longer limited to distance defined by $\\ell_2$ norm.\n",
    "\n",
    "- This generalized distance can be used in distance-based algorithm, eg. **k-nearest neighbor searches**.\n"
   ]
  },
  {
   "cell_type": "markdown",
   "metadata": {
    "slideshow": {
     "slide_type": "slide"
    }
   },
   "source": [
    "### Kernel Trick: Example—Distance to the Mean\n",
    "\n",
    "* Mean of data points given by: $\\bar{\\vx}= \\frac{1}{N}\\sum_{i=1}^{N}\\vx_i$\n",
    "\n",
    "* Distance to the mean:\n",
    "    $$\n",
    "    \\begin{align}\n",
    "    ||\\vx - \\bar{\\vx}||^2\n",
    "    &= \\langle\\vx- \\bar{\\vx}, \\vx- \\bar{\\vx} \\rangle\\\\\n",
    "    &= \\langle \\vx, \\bar{\\vx}\\rangle - 2\\langle\\vx, \\bar{\\vx}\\rangle + \\langle\\bar{\\vx}, \\bar{\\vx} \\rangle \\\\\n",
    "    &= \\kappa(\\vx,\\vx) - \\frac{2}{N}\\sum_{i=1}^{N}\\kappa(\\vx,\\vx_i) + \\frac{1}{N^2}\\sum_{j=1}^{N}\\sum_{i=1}^{N}\\kappa(\\vx_i,\\vx_j)\n",
    "    \\end{align}\n",
    "    $$\n"
   ]
  },
  {
   "cell_type": "markdown",
   "metadata": {
    "slideshow": {
     "slide_type": "slide"
    }
   },
   "source": [
    "### Kernel Trick: Question\n",
    "\n",
    "**Question:**  Can you determine the **mean** of data in the mapped feature space through kernel operations only?"
   ]
  },
  {
   "cell_type": "markdown",
   "metadata": {
    "slideshow": {
     "slide_type": "fragment"
    }
   },
   "source": [
    "**Answer:** No, you cannot compute any point explicitly."
   ]
  },
  {
   "cell_type": "markdown",
   "metadata": {
    "slideshow": {
     "slide_type": "slide"
    }
   },
   "source": [
    "## Dual Representations: Linear Regression\n",
    "\n",
    "> Following **[PRML]** Chapter 6.1"
   ]
  },
  {
   "cell_type": "markdown",
   "metadata": {
    "slideshow": {
     "slide_type": "slide"
    }
   },
   "source": [
    "### Dual Representations: Linear Regression\n",
    "\n",
    "- In this part, we will transform linear regression into its dual representation    \n",
    "    - i.e. express the algorithm entirely with kernels\n",
    "    - Same as kernel substitution, we will replace inner product with kernels.\n",
    "\n",
    "- **Review**\n",
    "    - The solution to regularized linear regression is\n",
    "        $$\n",
    "        \\vw = \\left( \\Phi^T \\Phi + \\lambda I_M \\right)^{-1} \\Phi^T \\vt\n",
    "        $$\n",
    "        of which \n",
    "        $$\n",
    "        \\Phi = \\begin{bmatrix} - & \\phi(\\vx_1)^T & -\\\\  & \\vdots & \\\\  - & \\phi(\\vx_N)^T & - \\end{bmatrix}_{N \\times M}\n",
    "        \\qquad\n",
    "        I_M = \\begin{bmatrix} 1 &  & \\\\  & \\ddots & \\\\  &  & 1 \\end{bmatrix}_{M \\times M}\n",
    "        \\qquad\n",
    "        \\vt = \\begin{bmatrix}\n",
    "        t_1\\\\ \n",
    "        \\vdots\\\\\n",
    "        t_N\n",
    "        \\end{bmatrix}_{N \\times 1}\n",
    "        $$\n",
    "        Recall $\\Phi$ is **design** matrix. $N$ is number of data points. $M$ is dimension of features.\n",
    "        \n",
    "    - The prediction is $y(\\vx) = \\vw^T \\phi(\\vx)$\n",
    "\n",
    "- **Preliminary**\n",
    "    - Matrix Inversion Lemma (We will use twice later!)\n",
    "    $$\n",
    "    (A + UCV)^{-1} = A^{-1} - A^{-1}U(C^{-1} + VA^{-1}U)^{-1}VA^{-1}\n",
    "    $$    "
   ]
  },
  {
   "cell_type": "markdown",
   "metadata": {
    "slideshow": {
     "slide_type": "slide"
    }
   },
   "source": [
    "### Dual Representations: Derivation\n",
    "- Using matrix inversion lemma \n",
    "    $$\n",
    "    (A + UCV)^{-1} = A^{-1} - A^{-1}U(C^{-1} + VA^{-1}U)^{-1}VA^{-1}\n",
    "    $$\n",
    "    to expand the solution:    \n",
    "    $$\n",
    "    \\begin{split}\n",
    "    \\vw \n",
    "    &= \\left( \\lambda I_M  + \\Phi^T I_N \\Phi \\right)^{-1} \\Phi^T \\vt \\\\\n",
    "    &= \\left[ \\lambda^{-1} I_M - \\lambda^{-1} I_M \\Phi^T \\left(I_N + \\Phi \\lambda^{-1} I_M \\Phi^T \\right)^{-1} \\Phi \\lambda^{-1} I_M \\right] \\Phi^T \\vt \\\\\n",
    "    &= \\left[ \\lambda^{-1} \\Phi^T - \\lambda^{-1} \\Phi^T \\left(\\lambda I_N + \\Phi \\Phi^T \\right)^{-1} \\Phi \\Phi^T \\right]\\vt \\\\\n",
    "    &= \\Phi^T \\left[ \\lambda^{-1} I_N - \\lambda^{-1} \\left(\\lambda \\left(\\Phi \\Phi^T\\right)^{-1} + I_N \\right)^{-1}  \\right]\\vt \\\\\n",
    "    &= \\Phi^T \\left[ \\lambda^{-1} I_N - \\lambda^{-2} \\left(\\left(\\Phi \\Phi^T\\right)^{-1} + \\lambda^{-1} I_N \\right)^{-1}  \\right]\\vt \\\\\n",
    "    &= \\Phi^T \\left[ \\left(\\lambda I_N\\right)^{-1} - \\left(\\lambda I_N\\right)^{-1} I_N \\left(\\left(\\Phi \\Phi^T\\right)^{-1} + I_N \\left(\\lambda I_N\\right)^{-1} I_N \\right)^{-1} I_N \\left(\\lambda I_N\\right)^{-1}  \\right]\\vt \\\\\n",
    "    \\end{split}\n",
    "    $$"
   ]
  },
  {
   "cell_type": "markdown",
   "metadata": {
    "slideshow": {
     "slide_type": "slide"
    }
   },
   "source": [
    "### Dual Representations: Derivation\n",
    "\n",
    "- Now let's use matrix inversion lemma backward:\n",
    "    $$\n",
    "    A^{-1} - A^{-1}U(C^{-1} + VA^{-1}U)^{-1}VA^{-1} = (A + UCV)^{-1}\n",
    "    $$\n",
    "    we have \n",
    "    $$\n",
    "    \\begin{split}\n",
    "    \\vw    \n",
    "    &= \\Phi^T \\left[ \\left(\\lambda I_N\\right)^{-1} - \\left(\\lambda I_N\\right)^{-1} I_N \\left(\\left(\\Phi \\Phi^T\\right)^{-1} + I_N \\left(\\lambda I_N\\right)^{-1} I_N \\right)^{-1} I_N \\left(\\lambda I_N\\right)^{-1}  \\right]\\vt \\\\\n",
    "    &= \\Phi^T \\left( \\lambda I_N + \\Phi \\Phi^T \\right)^{-1} \\vt \\\\\n",
    "    &\\triangleq \\Phi^T \\vec{a}\n",
    "    \\end{split}\n",
    "    $$\n",
    "    of which $\\vec{a} = \\left( \\lambda I_N + \\Phi \\Phi^T \\right)^{-1} \\vt \\in \\R^N$\n",
    "    \n",
    "- What is this $\\vec{a}$?\n",
    "    - It will take the place of $\\vw$ and be the parameter in dual representation.\n",
    "    - We will see shortly"
   ]
  },
  {
   "cell_type": "markdown",
   "metadata": {
    "slideshow": {
     "slide_type": "slide"
    }
   },
   "source": [
    "### Dual Representations: Derivation\n",
    "\n",
    "- The prediction is\n",
    "    $$\n",
    "    \\begin{align}\n",
    "    y(\\vx)\n",
    "    & = w^T \\phi(\\vx) = \\vec{a}^T \\Phi \\phi(x) = \\left[ \\left( \\lambda I_N + \\Phi \\Phi^T \\right)^{-1} \\vec{t} \\right]^T \\Phi \\phi(x) \\\\\n",
    "    & = \\left[ \\left( \\lambda I_N + \\begin{bmatrix}\n",
    "    \\phi(\\vx_1)^T \\phi(\\vx_1) & \\cdots & \\phi(\\vx_1)^T \\phi(\\vx_N)\\\\ \n",
    "    \\vdots & \\ddots & \\vdots \\\\ \n",
    "    \\phi(\\vx_N)^T \\phi(\\vx_1) & \\cdots & \\phi(\\vx_N)^T \\phi(\\vx_N)\n",
    "    \\end{bmatrix} \\right )^{-1} \\vt \\right]^T\n",
    "    \\begin{bmatrix}\n",
    "    \\phi(\\vx_1)^T \\phi(\\vx) \\\\\n",
    "    \\vdots\\\\ \n",
    "    \\phi(\\vx_N)^T \\phi(\\vx)\\\\ \n",
    "    \\end{bmatrix} \\\\\n",
    "    \\end{align}\n",
    "    $$\n",
    "- Inner product appears! **Replace with kernels**!\n",
    "- Define\n",
    "    $$\n",
    "    K = \\Phi \\Phi^T =\\begin{bmatrix}\n",
    "    \\kappa(\\vx_1, \\vx_1) & \\cdots & \\kappa(\\vx_1, \\vx_1) \\\\ \n",
    "    \\vdots & \\ddots & \\vdots \\\\ \n",
    "    \\kappa(\\vx_N, \\vx_1) & \\cdots & \\kappa(\\vx_N, \\vx_N)\n",
    "    \\end{bmatrix}\n",
    "    \\qquad\n",
    "    k(\\vx) = \\Phi \\phi(\\vx) = \\begin{bmatrix} \\kappa(\\vx_1, \\vx) \\\\ \\vdots \\\\ \\kappa(\\vx_N, \\vx) \\end{bmatrix}\n",
    "    $$\n",
    "    So we have\n",
    "    $$\n",
    "    \\boxed{\n",
    "    \\begin{gather}\n",
    "    \\vec{a} = \\left( \\lambda I_N + K \\right)^{-1}\\vt \\\\\n",
    "    y(\\vx) = \\vec{a}^T k(\\vx)\n",
    "    \\end{gather}\n",
    "    }\n",
    "    $$\n",
    "- Inner products disappear and data enters only through kernels! \n",
    "    - This is exactly the **dual representation**!"
   ]
  },
  {
   "cell_type": "markdown",
   "metadata": {
    "slideshow": {
     "slide_type": "slide"
    }
   },
   "source": [
    "### Dual Representations:  Primal vs. Dual\n",
    "\n",
    "- **Primal**: \n",
    "    - **Parameter:** $\\vw = (\\Phi^T\\Phi + \\lambda I_M)^{-1} \\Phi^T \\vt$\n",
    "    - **Prediction:** $y(\\vx) = \\vw^T \\phi(\\vx) $\n",
    "        - invert $\\Phi^T \\Phi \\in \\R^{M \\times M}$\n",
    "        - cheaper since usually $N >> M$\n",
    "        - must explicitly construct features\n",
    "\n",
    "- **Dual**: \n",
    "    - **Parameter:** $ \\vec{a} = (K + \\lambda I_N)^{-1} \\vt $\n",
    "    - **Prediction:** $y(\\vx) = \\vec{a}^T k(\\vx)$\n",
    "        - invert Gram matrix $K = \\Phi \\Phi^T \\in \\R^{N \\times N}$\n",
    "        - use kernel trick to avoid feature construction\n",
    "        - we could easily replace one kernel with another to represent similarity over vectors, images, sequences, graphs, text, etc.."
   ]
  },
  {
   "cell_type": "markdown",
   "metadata": {
    "slideshow": {
     "slide_type": "slide"
    }
   },
   "source": [
    "## Kernel Regression\n",
    "\n",
    "> For more details, see **[PRML]** Chapter 6.3"
   ]
  },
  {
   "cell_type": "markdown",
   "metadata": {
    "slideshow": {
     "slide_type": "slide"
    }
   },
   "source": [
    "### Kernel Regression\n",
    "\n",
    "- From training data $\\{ (\\vx_1,t_1), \\dots, (\\vx_N,t_N)\\}$, **Kernel Regression** outputs:\n",
    "    $$\n",
    "    y(\\vx) = \\frac{1}{\\sum_{n=1}^N \\kappa(\\vx_n, \\vx)} \\sum_{n=1}^N \\kappa(\\vx_n, \\vx) t_n\n",
    "    $$\n",
    "\n",
    "- Approximates $y(\\vx)$ with a weighted sum of nearby points\n",
    "- Any distance kernel can be used\n",
    "- A common practice is to use **Gaussian Kernel**:\n",
    "    $$\n",
    "    \\kappa(\\vx, \\vx')\n",
    "    = \\exp \\left\\{-\\frac{||\\vx-\\vx'||^2}{2\\sigma^2} \\right\\}\n",
    "    = \\exp \\left\\{- \\gamma ||\\vx- \\vx'||^2 \\right\\} \n",
    "    $$"
   ]
  },
  {
   "cell_type": "markdown",
   "metadata": {
    "slideshow": {
     "slide_type": "slide"
    }
   },
   "source": [
    "### Kernel Regression:  Example—Linear + Noise"
   ]
  },
  {
   "cell_type": "code",
   "execution_count": 8,
   "metadata": {
    "collapsed": true,
    "slideshow": {
     "slide_type": "skip"
    }
   },
   "outputs": [],
   "source": [
    "def plot_kernel_ridge(X, y, gamma=0.5, alpha=0.1):\n",
    "    # kernel (ridge) regression\n",
    "    krr = KernelRidge(kernel=\"rbf\", gamma=gamma, alpha=alpha);\n",
    "    krr.fit(X,y);\n",
    "\n",
    "    # predict\n",
    "    x_plot = np.linspace(min(X), max(X), 100)[:,np.newaxis];\n",
    "    y_plot = krr.predict(x_plot);\n",
    "\n",
    "    # plot\n",
    "    plt.figure(figsize=(8,4.8));\n",
    "    plt.plot(X, y, 'or');\n",
    "    plt.plot(x_plot, y_plot)\n",
    "#     plt.title(r\"Gaussian Kernel ($\\gamma=%0.2f, \\alpha=%0.2f$)\" % (gamma,alpha), fontsize=16)\n",
    "    plt.title(r\"Gaussian Kernel ($\\gamma=%0.2f$)\" % (gamma), fontsize=16)\n"
   ]
  },
  {
   "cell_type": "code",
   "execution_count": 9,
   "metadata": {
    "collapsed": false,
    "slideshow": {
     "slide_type": "-"
    }
   },
   "outputs": [
    {
     "data": {
      "image/png": "[encoded data removed]",
      "text/plain": [
       "<matplotlib.figure.Figure at 0x968d0b8>"
      ]
     },
     "metadata": {},
     "output_type": "display_data"
    }
   ],
   "source": [
    "n = 20;    X = np.linspace(0,10,n)[:,np.newaxis];    y = (X + np.random.randn(n,1)).ravel();\n",
    "plot_kernel_ridge(X, y,gamma=4,alpha=0.01);"
   ]
  },
  {
   "cell_type": "markdown",
   "metadata": {
    "slideshow": {
     "slide_type": "slide"
    }
   },
   "source": [
    "### Kernel Regression:  Example—Sine + Linear + Noise"
   ]
  },
  {
   "cell_type": "code",
   "execution_count": 10,
   "metadata": {
    "collapsed": false,
    "slideshow": {
     "slide_type": "-"
    }
   },
   "outputs": [
    {
     "data": {
      "image/png": "[encoded data removed]",
      "text/plain": [
       "<matplotlib.figure.Figure at 0x974c668>"
      ]
     },
     "metadata": {},
     "output_type": "display_data"
    }
   ],
   "source": [
    "n = 30;    X = np.linspace(0,10,n)[:,np.newaxis];    y = (2*np.sin(X*2) + X + np.random.randn(n,1)).ravel();\n",
    "plot_kernel_ridge(X, y, gamma = 1);"
   ]
  },
  {
   "cell_type": "markdown",
   "metadata": {
    "slideshow": {
     "slide_type": "slide"
    }
   },
   "source": [
    "### Kernel Regression:  Example—Completely Random"
   ]
  },
  {
   "cell_type": "code",
   "execution_count": 11,
   "metadata": {
    "collapsed": false,
    "slideshow": {
     "slide_type": "-"
    }
   },
   "outputs": [
    {
     "data": {
      "image/png": "[encoded data removed]",
      "text/plain": [
       "<matplotlib.figure.Figure at 0x9da67b8>"
      ]
     },
     "metadata": {},
     "output_type": "display_data"
    }
   ],
   "source": [
    "n = 30;    X = np.linspace(0,10,n)[:,np.newaxis];    y = (np.random.randn(n)).ravel();\n",
    "plot_kernel_ridge(X, y);"
   ]
  },
  {
   "cell_type": "markdown",
   "metadata": {
    "slideshow": {
     "slide_type": "slide"
    }
   },
   "source": [
    "### Kernel Regression:  Classification\n",
    "\n",
    "- It is very easy to adapt kernel regression to **classification**!\n",
    "- For data $\\mathcal{D} = \\{ (\\vx_1,t_1), \\dots, (\\vx_N,t_N)\\}$ and kernel $\\kappa(\\vx, \\vx')$\n",
    "\n",
    "    - **Regression**: if $t \\in \\R$ , return weighted average:\n",
    "        $$\n",
    "        y(\\vx) = \\frac{1}{\\sum_{n=1}^N \\kappa(\\vx,\\vx_n)} \\sum_{n=1}^N \\kappa(\\vx, \\vx_n) t_n\n",
    "        $$\n",
    "\n",
    "    - **Classification** if $t \\in \\pm 1$ , return weighted majority:\n",
    "        $$ \n",
    "        h(\\vx) = \\mathrm{sign}\\left( \\sum_{n=1}^N \\kappa(\\vx,\\vx_n) t_n \\right)\n",
    "        $$"
   ]
  },
  {
   "cell_type": "markdown",
   "metadata": {
    "slideshow": {
     "slide_type": "slide"
    }
   },
   "source": [
    "### Comparison to Locally-Weighted Linear Regression\n",
    "\n",
    "- Review **Locally-weighted Linear Regression**\n",
    "    - Fit $\\vw$ to minimize $\\sum_{n=1}^N r_n (t_n - \\vw^T \\phi(\\vx_n) )^2$ for weights $r_n$\n",
    "    - Output $\\vw^T \\phi(\\vx)$\n",
    " \n",
    "- Standard choice for weight uses Gaussian Kernel, \n",
    "    $$\n",
    "    r_n = \\exp \\left\\{-\\frac{||\\vx_n - \\vx||^2}{2\\sigma^2} \\right\\}\n",
    "    $$"
   ]
  },
  {
   "cell_type": "markdown",
   "metadata": {
    "slideshow": {
     "slide_type": "slide"
    }
   },
   "source": [
    "### Comparison to Locally-Weighted Linear Regression\n",
    "\n",
    "- **Similarities:**  Both methods are “instance-based learning”.\n",
    "    - Only observations (training set) close to the query point are considered (highly weighted) for regression computation.\n",
    "    - Kernel determines how to assign weights to training examples (similarity to the query point x)\n",
    "    - Free to choose types of kernels\n",
    "    - Both can suffer when the input dimension is high.\n",
    "    \n",
    "- **Differences:**\n",
    "    - *LWLR:*  Weighted regression; slow, but more accurate\n",
    "    - *KR:*  Weighted mean; faster, but less accurate    "
   ]
  }
 ],
 "metadata": {
  "celltoolbar": "Slideshow",
  "kernelspec": {
   "display_name": "Python 2",
   "language": "python",
   "name": "python2"
  },
  "language_info": {
   "codemirror_mode": {
    "name": "ipython",
    "version": 2
   },
   "file_extension": ".py",
   "mimetype": "text/x-python",
   "name": "python",
   "nbconvert_exporter": "python",
   "pygments_lexer": "ipython2",
   "version": "2.7.11"
  },
  "toc": {
   "toc_cell": false,
   "toc_number_sections": true,
   "toc_threshold": 4,
   "toc_window_display": false
  }
 },
 "nbformat": 4,
 "nbformat_minor": 0
}
