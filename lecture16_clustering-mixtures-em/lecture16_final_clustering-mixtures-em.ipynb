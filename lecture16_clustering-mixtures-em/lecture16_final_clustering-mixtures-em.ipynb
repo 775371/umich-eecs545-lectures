{
 "cells": [
  {
   "cell_type": "markdown",
   "metadata": {
    "slideshow": {
     "slide_type": "skip"
    }
   },
   "source": [
    "$$ \\LaTeX \\text{ command declarations here.}\n",
    "\\newcommand{\\R}{\\mathbb{R}}\n",
    "\\renewcommand{\\vec}[1]{\\mathbf{#1}}\n",
    "\\newcommand{\\X}{\\mathcal{X}}\n",
    "\\newcommand{\\D}{\\mathcal{D}}\n",
    "\\newcommand{\\G}{\\mathcal{G}}\n",
    "\\newcommand{\\L}{\\mathcal{L}}\n",
    "\\newcommand{\\X}{\\mathcal{X}}\n",
    "\\newcommand{\\Parents}{\\mathrm{Parents}}\n",
    "\\newcommand{\\NonDesc}{\\mathrm{NonDesc}}\n",
    "\\newcommand{\\I}{\\mathcal{I}}\n",
    "\\newcommand{\\dsep}{\\text{d-sep}}\n",
    "$$"
   ]
  },
  {
   "cell_type": "code",
   "execution_count": 10,
   "metadata": {
    "collapsed": false,
    "slideshow": {
     "slide_type": "skip"
    }
   },
   "outputs": [],
   "source": [
    "from __future__ import division\n",
    "\n",
    "# scientific\n",
    "%matplotlib inline\n",
    "from matplotlib import pyplot as plt;\n",
    "import numpy as np;\n",
    "import sklearn as skl;\n",
    "import sklearn.datasets;\n",
    "import sklearn.cluster;\n",
    "\n",
    "# ipython\n",
    "import IPython;\n",
    "\n",
    "# python\n",
    "import os;\n",
    "\n",
    "#####################################################\n",
    "\n",
    "# image processing\n",
    "import PIL;\n",
    "\n",
    "# trim and scale images\n",
    "def trim(im, percent=100):\n",
    "    print(\"trim:\", percent);\n",
    "    bg = PIL.Image.new(im.mode, im.size, im.getpixel((0,0)))\n",
    "    diff = PIL.ImageChops.difference(im, bg)\n",
    "    diff = PIL.ImageChops.add(diff, diff, 2.0, -100)\n",
    "    bbox = diff.getbbox()\n",
    "    if bbox:\n",
    "        x = im.crop(bbox)\n",
    "        return x.resize(((x.size[0]*percent)//100, (x.size[1]*percent)//100), PIL.Image.ANTIALIAS);\n",
    "\n",
    "\n",
    "#####################################################\n",
    "\n",
    "# daft (rendering PGMs)\n",
    "import daft;\n",
    "\n",
    "# set to FALSE to load PGMs from static images\n",
    "RENDER_PGMS = True;\n",
    "\n",
    "# decorator for pgm rendering\n",
    "def pgm_render(pgm_func):\n",
    "    def render_func(path, percent=100, render=None, *args, **kwargs):\n",
    "        print(\"render_func:\", percent);\n",
    "        # render\n",
    "        render = render if (render is not None) else RENDER_PGMS;\n",
    "        \n",
    "        if render:\n",
    "            print(\"rendering\");\n",
    "            # render\n",
    "            pgm = pgm_func(*args, **kwargs);\n",
    "            pgm.render();\n",
    "            pgm.figure.savefig(path, dpi=300);\n",
    "            \n",
    "            # trim\n",
    "            img = trim(PIL.Image.open(path), percent);\n",
    "            img.save(path, 'PNG');\n",
    "        else:\n",
    "            print(\"not rendering\");\n",
    "        \n",
    "        # error\n",
    "        if not os.path.isfile(path):\n",
    "            raise Exception(\"Error:  Graphical model image %s not found.  You may need to set RENDER_PGMS=True.\" % path);\n",
    "        \n",
    "        # display\n",
    "        return IPython.display.Image(filename=path);#trim(PIL.Image.open(path), percent);\n",
    "    \n",
    "    return render_func;\n",
    "\n",
    "######################################################"
   ]
  },
  {
   "cell_type": "markdown",
   "metadata": {
    "slideshow": {
     "slide_type": "slide"
    }
   },
   "source": [
    "# EECS 545:  Machine Learning\n",
    "\n",
    "## Lecture 15:  Clustering, Mixture Models, and EM\n",
    "\n",
    "- Instructor:  **Jacob Abernethy**\n",
    "- Date:  March 14, 2016\n",
    "\n",
    "*Lecture Exposition:*  Saket & Ben"
   ]
  },
  {
   "cell_type": "markdown",
   "metadata": {
    "slideshow": {
     "slide_type": "slide"
    }
   },
   "source": [
    "## References\n",
    "\n",
    "- **[MLAPP]** Murphy, Kevin. [*Machine Learning:  A Probabilistic Perspective*](https://mitpress.mit.edu/books/machine-learning-0).  2012.\n",
    "- **[PRML]** Bishop, Christopher.  [*Pattern Recognition and Machine Learning*](http://research.microsoft.com/en-us/um/people/cmbishop/prml/).  2006.\n",
    "- **[Koller & Friedman 2009]** Koller, Daphne and Nir Friedman.  [*Probabilistic Graphical Models*](https://mitpress.mit.edu/books/probabilistic-graphical-models).  2009."
   ]
  },
  {
   "cell_type": "markdown",
   "metadata": {
    "collapsed": true,
    "slideshow": {
     "slide_type": "slide"
    }
   },
   "source": [
    "## Outline\n",
    "\n",
    "- Clustering & Mixture Models\n",
    "    - Gaussian Mixture Models\n",
    "- Expectation Maximization\n",
    "    - Evidence Lower Bound\n",
    "    - Variational Approximation"
   ]
  },
  {
   "cell_type": "markdown",
   "metadata": {
    "slideshow": {
     "slide_type": "slide"
    }
   },
   "source": [
    "# Expectation Maximization\n",
    "## Theoretical Perspective\n",
    "\n",
    "> Uses material from **[MLAPP]**"
   ]
  },
  {
   "cell_type": "markdown",
   "metadata": {
    "slideshow": {
     "slide_type": "slide"
    }
   },
   "source": [
    "### Review:  Inference & Learning\n",
    "\n",
    "**Problem:**  Latent variable model.\n",
    "- Observe data $\\X = (x_1, \\dots, x_n)$\n",
    "- Generated from model $p$ with parameters $\\theta$\n",
    "- In the presence of latent variables $Z$\n",
    "\n",
    "We seek to *learn* the parameters $\\theta$ and/or *infer* the hidden values $Z$."
   ]
  },
  {
   "cell_type": "markdown",
   "metadata": {
    "slideshow": {
     "slide_type": "slide"
    }
   },
   "source": [
    "### Data Log-Likelihood\n",
    "\n",
    "The **observed data log-likelihood** is given by \n",
    "$$\n",
    "\\begin{align}\n",
    "\\ell(\\theta | \\X) \n",
    "&= \\log p(\\X | \\theta)\n",
    "= \\sum_{k=1}^N \\log p(x_k | \\theta) \\\\\n",
    "&= \\sum_{k=1}^N \\left[ \\log \\sum_{z} p(x_k, z | \\theta) \\right]\n",
    "\\end{align}\n",
    "$$"
   ]
  },
  {
   "cell_type": "markdown",
   "metadata": {
    "slideshow": {
     "slide_type": "slide"
    }
   },
   "source": [
    "### Expectation Maximization\n",
    "\n",
    "Our general approach will be to reason about the hidden variables through a proxy distribution $q$.\n",
    "- Distribution $q$ is an approximation to the difficult $P(Z | \\X, \\theta)$\n",
    "- We use $q$ to compute a lower bound on the log-likelihood."
   ]
  },
  {
   "cell_type": "markdown",
   "metadata": {
    "slideshow": {
     "slide_type": "slide"
    }
   },
   "source": [
    "### Evidence Lower Bound\n",
    "\n",
    "Through Jensen's inequality, we obtain the **evidence lower bound (ELBO)**:\n",
    "$$\n",
    "\\begin{align}\n",
    "\\ell(\\theta | \\X)\n",
    "&= \\log \\sum_z p(\\X, z | \\theta) \\\\\n",
    "&= \\log \\sum_z q(z) \\frac{p(\\X, z | \\theta)}{q(z)} \\\\\n",
    "&\\geq \\sum_z q(z) \\ln \\frac{p(\\X, z | \\theta)}{q(z)} \\equiv \\L(q, \\theta)\n",
    "\\end{align}\n",
    "$$"
   ]
  },
  {
   "cell_type": "markdown",
   "metadata": {
    "slideshow": {
     "slide_type": "slide"
    }
   },
   "source": [
    "### Evidence Lower Bound\n",
    "\n",
    "We can rewrite the lower bound $\\L(q, \\theta)$ as follows:\n",
    "$$\n",
    "\\begin{align}\n",
    "\\ell(\\theta | \\X)\n",
    "\\geq \\L(q,\\theta)\n",
    "&= \\sum_z q(z) \\log \\frac{p(\\X,z|\\theta)}{q(z)} \\\\\n",
    "&= \\sum_q q(z) \\log p(\\X,z|\\theta) - \\sum_z q(z) \\log q(z) \\\\\n",
    "&= E_q[\\log p(\\X,Z|\\theta)] - E_q[\\log q(z)] \\\\\n",
    "&= E_q[\\log p(\\X,Z|\\theta)] + H[q]\n",
    "\\end{align}\n",
    "$$"
   ]
  },
  {
   "cell_type": "markdown",
   "metadata": {
    "slideshow": {
     "slide_type": "slide"
    }
   },
   "source": [
    "### ELBO:  Relationship to Relative Entropy\n",
    "\n",
    "We have just shown that\n",
    "$$\n",
    "\\begin{align}\n",
    "\\ell(\\theta|\\X) \\geq \\L(q,\\theta)\n",
    "&= E_q[\\log p(\\X,Z|\\theta)] - E_q[\\log q(z)] \\\\\n",
    "&= E_q[\\log p(\\X,Z|\\theta)] + H[q]\n",
    "\\end{align}\n",
    "$$\n",
    "\n",
    "This very closely resembles the formula for **relative entropy** \n",
    "$$\n",
    "\\begin{align}\n",
    "D_{KL}(q || p) \n",
    "&= E_q[-\\log p(Z)] + E_q[\\log q(Z)] \\\\\n",
    "&= H[q,p] - H[q]\n",
    "\\end{align}\n",
    "$$\n",
    "\n",
    "Except that the variables $X$ are clamped to our observations $X=\\X$.\n",
    "- So $P(\\X,Z)$ is an *unnormalized* distribution.\n",
    "- As it turns out, this does not set us back too far."
   ]
  },
  {
   "cell_type": "markdown",
   "metadata": {
    "slideshow": {
     "slide_type": "slide"
    }
   },
   "source": [
    "### ELBO:  Relationship to Relative Entropy\n",
    "\n",
    "It is easy to show $\\L(q,\\theta)$ differs from a relative entropy by only a constant wrt $Z$:\n",
    "$$\n",
    "\\begin{align*}\n",
    "D_{KL}(q || p(Z|\\X,\\theta)\n",
    "&= H(q, p(Z|\\X,\\theta)) - H(q) \\\\\n",
    "&= E_q[ -\\log p(Z|\\X,\\theta) ] - H(q) \\\\\n",
    "&= E_q[ -\\log p(Z,\\X,\\theta) ] - E_q[ -\\log p(\\X|\\theta) ] - H(q) \\\\\n",
    "&= E_q[ -\\log p(Z,\\X,\\theta) ] + \\log p(\\X|\\theta) - H(q) \\\\\n",
    "&= -\\mathcal{L}(q,\\theta) + \\mathrm{const.}\n",
    "\\end{align*}\n",
    "$$"
   ]
  },
  {
   "cell_type": "markdown",
   "metadata": {
    "slideshow": {
     "slide_type": "slide"
    }
   },
   "source": [
    "### ELBO:  Tightness\n",
    "\n",
    "This yields a second proof of the ELBO, following from the nonnegativity of relative entropy.\n",
    "$$\n",
    "\\log p(\\X | \\theta)\n",
    "= D_{KL}(q || p(Z,\\X | \\theta)) + \\mathcal{L}(q,\\theta) \n",
    "\\geq \\mathcal{L}(q,\\theta)\n",
    "$$\n",
    "\n",
    "The quality of our bound $\\L(q,\\theta)$ depends heavily on the choice of proxy distribution $q(Z)$.\n",
    "\n",
    "> **Remark:** Maximizing $\\L(q, \\theta)$ with respect to $q$ is equivalent to minimizing the relative entropy between $q$ and the hidden posterior $P(Z|\\X,\\theta)$.\n",
    "\n",
    "Hence, the optimal $q$ is exactly the hidden posterior, for which $\\log p(\\X|\\theta) = \\L(q,\\theta)$."
   ]
  },
  {
   "cell_type": "markdown",
   "metadata": {},
   "source": [
    "### Expectation Maximization\n",
    "\n",
    "Finding a global maximum of the likelihood is difficult in the presence of latent variables.\n",
    "$$\n",
    "\\hat\\theta_{ML} = \\arg\\max_\\theta \\ell(\\theta | \\X) = \\arg\\max_\\theta \\log p(\\X|\\theta)\n",
    "$$\n",
    "\n",
    "Instead, the **Expectation Maximization** algorithm gives an iterative procedure for finding a *local* maximum of the likelihood.\n",
    "- Under the assumption that the hidden posterior $P(Z|\\X,\\theta)$ is tractable.\n",
    "- Exploits the evidence lower bound $\\ell(\\theta|\\X) \\geq \\L(q,\\theta)$."
   ]
  },
  {
   "cell_type": "markdown",
   "metadata": {},
   "source": [
    "# DAFT"
   ]
  },
  {
   "cell_type": "code",
   "execution_count": 16,
   "metadata": {
    "collapsed": false
   },
   "outputs": [],
   "source": [
    "@pgm_render\n",
    "def pgm_coinflip():\n",
    "    pgm = daft.PGM([4,4], origin=[-2,-1], node_unit=0.8, grid_unit=2.0);\n",
    "    # nodes\n",
    "    pgm.add_node(daft.Node(\"z\", r\"$Z_n$\", 0.7, 1));\n",
    "    pgm.add_node(daft.Node(\"x\", r\"$X_n$\", 1.3, 1, observed=True));\n",
    "    pgm.add_node(daft.Node(\"theta\", r\"$\\theta$\", 1.3, 0.3));\n",
    "    \n",
    "    # edges\n",
    "    pgm.add_edge(\"z\", \"x\", head_length=0.08);\n",
    "    pgm.add_edge(\"theta\", \"x\", head_length=0.08);\n",
    "    \n",
    "    pgm.add_plate(daft.Plate([0.4,0.8,1.3,0.5], \n",
    "                             label=r\"$\\qquad\\qquad\\qquad\\;\\; N$\",\n",
    "                             shift=-0.1))\n",
    "    return pgm;"
   ]
  },
  {
   "cell_type": "code",
   "execution_count": 17,
   "metadata": {
    "collapsed": false
   },
   "outputs": [
    {
     "data": {
      "image/png": "[encoded data removed]",
      "text/plain": [
       "<IPython.core.display.Image object>"
      ]
     },
     "execution_count": 17,
     "metadata": {},
     "output_type": "execute_result"
    }
   ],
   "source": [
    "%%capture\n",
    "pgm_coinflip(\"images/pgm/coinflip.png\")"
   ]
  },
  {
   "cell_type": "code",
   "execution_count": null,
   "metadata": {
    "collapsed": true
   },
   "outputs": [],
   "source": []
  }
 ],
 "metadata": {
  "celltoolbar": "Slideshow",
  "kernelspec": {
   "display_name": "Python 3",
   "language": "python",
   "name": "python3"
  },
  "language_info": {
   "codemirror_mode": {
    "name": "ipython",
    "version": 3
   },
   "file_extension": ".py",
   "mimetype": "text/x-python",
   "name": "python",
   "nbconvert_exporter": "python",
   "pygments_lexer": "ipython3",
   "version": "3.5.1"
  }
 },
 "nbformat": 4,
 "nbformat_minor": 0
}
