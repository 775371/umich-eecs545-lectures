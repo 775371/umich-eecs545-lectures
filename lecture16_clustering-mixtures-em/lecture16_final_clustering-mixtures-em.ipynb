{
 "cells": [
  {
   "cell_type": "markdown",
   "metadata": {
    "slideshow": {
     "slide_type": "skip"
    }
   },
   "source": [
    "$$ \\LaTeX \\text{ command declarations here.}\n",
    "\\newcommand{\\R}{\\mathbb{R}}\n",
    "\\renewcommand{\\vec}[1]{\\mathbf{#1}}\n",
    "\\newcommand{\\X}{\\mathcal{X}}\n",
    "\\newcommand{\\D}{\\mathcal{D}}\n",
    "\\newcommand{\\G}{\\mathcal{G}}\n",
    "\\newcommand{\\L}{\\mathcal{L}}\n",
    "\\newcommand{\\X}{\\mathcal{X}}\n",
    "\\newcommand{\\Parents}{\\mathrm{Parents}}\n",
    "\\newcommand{\\NonDesc}{\\mathrm{NonDesc}}\n",
    "\\newcommand{\\I}{\\mathcal{I}}\n",
    "\\newcommand{\\dsep}{\\text{d-sep}}\n",
    "\\newcommand{\\Cat}{\\mathrm{Cat}}\n",
    "\\newcommand{\\Bin}{\\mathrm{Bin}}\n",
    "$$"
   ]
  },
  {
   "cell_type": "code",
   "execution_count": 9,
   "metadata": {
    "collapsed": false,
    "slideshow": {
     "slide_type": "skip"
    }
   },
   "outputs": [],
   "source": [
    "from __future__ import division\n",
    "\n",
    "# scientific\n",
    "%matplotlib inline\n",
    "from matplotlib import pyplot as plt;\n",
    "import matplotlib as mpl;\n",
    "import numpy as np;\n",
    "import sklearn as skl;\n",
    "import sklearn.datasets;\n",
    "import sklearn.cluster;\n",
    "import sklearn.mixture;\n",
    "\n",
    "# ipython\n",
    "import IPython;\n",
    "\n",
    "# python\n",
    "import os;\n",
    "import random;\n",
    "\n",
    "#####################################################\n",
    "\n",
    "# image processing\n",
    "import PIL;\n",
    "\n",
    "# trim and scale images\n",
    "def trim(im, percent=100):\n",
    "    print(\"trim:\", percent);\n",
    "    bg = PIL.Image.new(im.mode, im.size, im.getpixel((0,0)))\n",
    "    diff = PIL.ImageChops.difference(im, bg)\n",
    "    diff = PIL.ImageChops.add(diff, diff, 2.0, -100)\n",
    "    bbox = diff.getbbox()\n",
    "    if bbox:\n",
    "        x = im.crop(bbox)\n",
    "        return x.resize(((x.size[0]*percent)//100, (x.size[1]*percent)//100), PIL.Image.ANTIALIAS);\n",
    "\n",
    "\n",
    "#####################################################\n",
    "\n",
    "# daft (rendering PGMs)\n",
    "import daft;\n",
    "\n",
    "# set to FALSE to load PGMs from static images\n",
    "RENDER_PGMS = True;\n",
    "\n",
    "# decorator for pgm rendering\n",
    "def pgm_render(pgm_func):\n",
    "    def render_func(path, percent=100, render=None, *args, **kwargs):\n",
    "        print(\"render_func:\", percent);\n",
    "        # render\n",
    "        render = render if (render is not None) else RENDER_PGMS;\n",
    "        \n",
    "        if render:\n",
    "            print(\"rendering\");\n",
    "            # render\n",
    "            pgm = pgm_func(*args, **kwargs);\n",
    "            pgm.render();\n",
    "            pgm.figure.savefig(path, dpi=300);\n",
    "            \n",
    "            # trim\n",
    "            img = trim(PIL.Image.open(path), percent);\n",
    "            img.save(path, 'PNG');\n",
    "        else:\n",
    "            print(\"not rendering\");\n",
    "        \n",
    "        # error\n",
    "        if not os.path.isfile(path):\n",
    "            raise Exception(\"Error:  Graphical model image %s not found.  You may need to set RENDER_PGMS=True.\" % path);\n",
    "        \n",
    "        # display\n",
    "        return IPython.display.Image(filename=path);#trim(PIL.Image.open(path), percent);\n",
    "    \n",
    "    return render_func;\n",
    "\n",
    "######################################################"
   ]
  },
  {
   "cell_type": "markdown",
   "metadata": {
    "slideshow": {
     "slide_type": "slide"
    }
   },
   "source": [
    "# EECS 545:  Machine Learning\n",
    "\n",
    "## Lecture 16:  Clustering, Mixture Models, and EM\n",
    "\n",
    "- Instructor:  **Jacob Abernethy**\n",
    "- Date:  March 14, 2016\n",
    "\n",
    "*Lecture Exposition:*  Benjamin Bray"
   ]
  },
  {
   "cell_type": "markdown",
   "metadata": {
    "slideshow": {
     "slide_type": "slide"
    }
   },
   "source": [
    "# This lecture has notes!\n",
    "\n",
    "> See Canvas / GitHub"
   ]
  },
  {
   "cell_type": "markdown",
   "metadata": {
    "slideshow": {
     "slide_type": "slide"
    }
   },
   "source": [
    "## References\n",
    "\n",
    "- **[MLAPP]** Murphy, Kevin. [*Machine Learning:  A Probabilistic Perspective*](https://mitpress.mit.edu/books/machine-learning-0).  2012.\n",
    "- **[PRML]** Bishop, Christopher.  [*Pattern Recognition and Machine Learning*](http://research.microsoft.com/en-us/um/people/cmbishop/prml/).  2006.\n",
    "- **[Koller & Friedman 2009]** Koller, Daphne and Nir Friedman.  [*Probabilistic Graphical Models*](https://mitpress.mit.edu/books/probabilistic-graphical-models).  2009.\n",
    "- **[Neal & Hinton 1998]** Neal, Radford and Geoffrey Hinton.  [\"A View of the EM Algorithm that Justifies Incremental, Sparse, and Other Variants\"](http://www.cs.toronto.edu/~fritz/absps/emk.pdf).  1998.\n",
    "- **[Do 2008]** Do, Chuong B. and Serafim Batzoglou.  [\"What is the Expectation Maximization Algorithm?\"](http://www.nature.com/nbt/journal/v26/n8/full/nbt1406.html). 2008."
   ]
  },
  {
   "cell_type": "markdown",
   "metadata": {
    "collapsed": true,
    "slideshow": {
     "slide_type": "slide"
    }
   },
   "source": [
    "## Outline\n",
    "\n",
    "- Clustering & Mixture Models\n",
    "    - Latent Variable Models\n",
    "    - Gaussian Mixture Models\n",
    "- Review:  Information Theory\n",
    "- Expectation Maximization\n",
    "    - Evidence Lower Bound\n",
    "    - Variational Approximation\n",
    "- Examples\n",
    "    - Coin Flip Example\n",
    "    - Gaussian Mixture Models"
   ]
  },
  {
   "cell_type": "markdown",
   "metadata": {
    "slideshow": {
     "slide_type": "slide"
    }
   },
   "source": [
    "# Clustering & Mixture Models\n",
    "\n",
    "> Uses material from **[MLAPP]**"
   ]
  },
  {
   "cell_type": "markdown",
   "metadata": {
    "slideshow": {
     "slide_type": "slide"
    }
   },
   "source": [
    "### Review:  Latent Variable Models\n",
    "\n",
    "In a **Latent Variable Model**, we have\n",
    "- Observed variables $X$\n",
    "- Hidden variables $Z$ that influence $X$\n",
    "- Parameters $\\theta$ governing the overall model\n",
    "\n",
    "In general, our goal is to\n",
    "> Use what we know to make *inferences* about what we don't know."
   ]
  },
  {
   "cell_type": "markdown",
   "metadata": {
    "slideshow": {
     "slide_type": "slide"
    }
   },
   "source": [
    "### Review:  Latent Variable Models\n",
    "\n",
    "The most general latent variable model for iid observations $\\X$ is\n",
    "- $X_n$ and $Z_n$ may be sets of variables\n",
    "- Parameters $\\theta$ can be divided into variables $\\theta_x$ influencing $X$ and $\\theta_z$ influencing $Z$"
   ]
  },
  {
   "cell_type": "code",
   "execution_count": 3,
   "metadata": {
    "collapsed": true,
    "slideshow": {
     "slide_type": "skip"
    }
   },
   "outputs": [],
   "source": [
    "@pgm_render\n",
    "def pgm_latent():\n",
    "    pgm = daft.PGM([4,4], origin=[-2,-1], node_unit=0.8, grid_unit=2.0);\n",
    "    # nodes\n",
    "    pgm.add_node(daft.Node(\"z\", r\"$Z_n$\", 0.7, 1));\n",
    "    pgm.add_node(daft.Node(\"x\", r\"$X_n$\", 1.3, 1, observed=True));\n",
    "    pgm.add_node(daft.Node(\"theta\", r\"$\\theta$\", 1.3, 0.3));\n",
    "    \n",
    "    # edges\n",
    "    pgm.add_edge(\"z\", \"x\", head_length=0.08);\n",
    "    pgm.add_edge(\"theta\", \"x\", head_length=0.08);\n",
    "    pgm.add_edge(\"theta\", \"z\", head_length=0.08);\n",
    "    \n",
    "    pgm.add_plate(daft.Plate([0.4,0.8,1.3,0.5], label=r\"$\\qquad\\qquad\\qquad\\;\\; N$\",\n",
    "    shift=-0.1))\n",
    "    \n",
    "    return pgm;"
   ]
  },
  {
   "cell_type": "code",
   "execution_count": 4,
   "metadata": {
    "collapsed": false,
    "slideshow": {
     "slide_type": "-"
    }
   },
   "outputs": [
    {
     "data": {
      "image/png": "[encoded data removed]",
      "text/plain": [
       "<IPython.core.display.Image object>"
      ]
     },
     "execution_count": 4,
     "metadata": {},
     "output_type": "execute_result"
    }
   ],
   "source": [
    "%%capture\n",
    "pgm_latent(\"images/pgm/latent.png\")"
   ]
  },
  {
   "cell_type": "markdown",
   "metadata": {
    "slideshow": {
     "slide_type": "slide"
    }
   },
   "source": [
    "### Review:  Clustering\n",
    "\n",
    "**Goal:** Partition data $\\X = \\{ x_1, \\dots, x_n \\} \\subset \\R^d$ into $K$ disjoint **clusters**.\n",
    "- Points within a cluster should be more similar to each other than to points in other clusters.\n",
    "- Estimate **cluster centers** $\\mu_k \\in \\R^d$ for $k=1,\\dots,K$\n",
    "- Estimate **cluster assignments** $z_j \\in \\{1,\\dots,K\\}$ for each point $x_j$\n",
    "\n",
    "Usually, we fix $K$ beforehand!  Use model selection to overcome this limitation."
   ]
  },
  {
   "cell_type": "markdown",
   "metadata": {
    "slideshow": {
     "slide_type": "slide"
    }
   },
   "source": [
    "### Review:  K-Means Clustering\n",
    "\n",
    "First, pick random cluster centers $\\mu_k$.  Then, repeat until convergence:\n",
    "\n",
    "<div style=\"margin:10px; padding: 10px; border: 2px solid black\">\n",
    "**E-Step:** Assign $x_j$ to the nearest cluster center $\\mu_k$,\n",
    "$$\n",
    "z_j = \\arg\\min_k || x_j - \\mu_k ||^2\n",
    "$$\n",
    "\n",
    "**M-Step:** Re-estimate cluster centers by averaging over assignments:\n",
    "$$\n",
    "\\mu_k = \\frac{1}{ \\# \\{ j \\mid z_j =k \\}} \\sum_{j=1}^N x_j \\mathbb{I}(z_j = k)\n",
    "$$\n",
    "</div>"
   ]
  },
  {
   "cell_type": "markdown",
   "metadata": {
    "slideshow": {
     "slide_type": "slide"
    }
   },
   "source": [
    "### Mixture Models\n",
    "\n",
    "Clustering problems motivate the definition of a **mixture model**.\n",
    "- Observe data from multiple **base distributions** $p_k(x|\\theta_k)$ over the same space.\n",
    "- Proportion of each distribution given by **mixing weights** $\\pi = (\\pi_1,\\dots,\\pi_K)$\n",
    "- Don't know *which* distribution each point comes from.\n",
    "\n",
    "$$\n",
    "p(x | \\theta) = \\sum_{k=1}^K \\pi_k p_k(x | \\theta_k)\n",
    "$$"
   ]
  },
  {
   "cell_type": "markdown",
   "metadata": {
    "slideshow": {
     "slide_type": "slide"
    }
   },
   "source": [
    "### Mixture Models for Clustering\n",
    "\n",
    "In clustering, we represent mixtures via latent **cluster indicators**,\n",
    "$$\n",
    "\\begin{align}\n",
    "z_n &\\sim \\Cat[\\pi] & \\forall\\, n = 1,\\dots,N \\\\\n",
    "x_n \\mid z_n &\\sim p_k(\\cdot \\mid \\theta_{z_n}) & \\forall\\, n = 1,\\dots,N\n",
    "\\end{align}\n",
    "$$\n",
    "\n",
    "In this form, mixture models are clearly applicable to clustering problems.\n",
    "\n",
    "> For a deeper understanding of mixture models, see [De Finetti's Theorem](http://www.cs.berkeley.edu/~jordan/courses/260-spring10/lectures/lecture1.pdf)."
   ]
  },
  {
   "cell_type": "markdown",
   "metadata": {
    "slideshow": {
     "slide_type": "slide"
    }
   },
   "source": [
    "### Gaussian Mixture Models\n",
    "\n",
    "In a **Gaussian Mixture Model**, the base distributions are Gaussian.\n",
    "- Cluster $k$ has mean $\\mu_k$, covariance $\\Sigma_k$\n",
    "\n",
    "$$\n",
    "\\begin{align}\n",
    "z_n &\\sim \\Cat[\\pi] & \\forall\\, n = 1,\\dots,N \\\\\n",
    "x_n \\mid z_n &\\sim \\mathcal{N}(\\mu_{z_n}, \\Sigma_{z_n}) & \\forall\\, n = 1,\\dots,N\n",
    "\\end{align}\n",
    "$$\n"
   ]
  },
  {
   "cell_type": "markdown",
   "metadata": {
    "slideshow": {
     "slide_type": "slide"
    }
   },
   "source": [
    "### Gaussian Mixture Models:  Visualization\n",
    "\n",
    "Here are the contours of each base distribution plotted together:"
   ]
  },
  {
   "cell_type": "code",
   "execution_count": 14,
   "metadata": {
    "collapsed": true,
    "slideshow": {
     "slide_type": "skip"
    }
   },
   "outputs": [],
   "source": [
    "# example stolen from scikit-learn docs\n",
    "def plot_gmm():\n",
    "    n_samples = 300\n",
    "\n",
    "    # generate random sample, two components\n",
    "    np.random.seed(0)\n",
    "\n",
    "    # generate spherical data centered on (20, 20)\n",
    "    shifted_gaussian = np.random.randn(n_samples, 2) + np.array([20, 20])\n",
    "\n",
    "    # generate zero centered stretched Gaussian data\n",
    "    C = np.array([[0., -0.7], [3.5, .7]])\n",
    "    stretched_gaussian = np.dot(np.random.randn(n_samples, 2), C)\n",
    "\n",
    "    # concatenate the two datasets into the final training set\n",
    "    X_train = np.vstack([shifted_gaussian, stretched_gaussian])\n",
    "\n",
    "    # fit a Gaussian Mixture Model with two components\n",
    "    clf = skl.mixture.GMM(n_components=2, covariance_type='full')\n",
    "    clf.fit(X_train)\n",
    "\n",
    "    # display predicted scores by the model as a contour plot\n",
    "    x = np.linspace(-20.0, 30.0)\n",
    "    y = np.linspace(-20.0, 40.0)\n",
    "    X, Y = np.meshgrid(x, y)\n",
    "    XX = np.array([X.ravel(), Y.ravel()]).T\n",
    "    Z = -clf.score_samples(XX)[0]\n",
    "    Z = Z.reshape(X.shape)\n",
    "    \n",
    "    plt.figure(figsize=(10,8))\n",
    "    CS = plt.contour(X, Y, Z, norm=mpl.colors.LogNorm(vmin=1.0, vmax=1000.0),\n",
    "                     levels=np.logspace(0, 3, 10))\n",
    "    CB = plt.colorbar(CS, shrink=0.8, extend='both')\n",
    "    plt.scatter(X_train[:, 0], X_train[:, 1], .8)\n",
    "\n",
    "    plt.title('Negative log-likelihood predicted by a GMM')\n",
    "    plt.axis('tight')"
   ]
  },
  {
   "cell_type": "code",
   "execution_count": 15,
   "metadata": {
    "collapsed": false,
    "slideshow": {
     "slide_type": "-"
    }
   },
   "outputs": [
    {
     "data": {
      "image/png": "[encoded data removed]",
      "text/plain": [
       "<matplotlib.figure.Figure at 0x7facd4015240>"
      ]
     },
     "metadata": {},
     "output_type": "display_data"
    }
   ],
   "source": [
    "plot_gmm()"
   ]
  },
  {
   "cell_type": "markdown",
   "metadata": {
    "slideshow": {
     "slide_type": "slide"
    }
   },
   "source": [
    "### Gaussian Mixture Models:  Inference & Learning\n",
    "\n",
    "**Goal:** Since only the data points $x_n$ are observed, we wish to\n",
    "1. Learn the cluster parameters $\\mu$, $\\Sigma$\n",
    "2. Infer the cluster assignments $z_n$ for each point $x_n$\n",
    "\n",
    "We will use the **Expectation Maximization** algorithm.\n",
    "- Same general idea as K-means, but *fuzzier* (probabilistic!)\n",
    "- Alternate between *guessing* latent variables and *re-estimating* parameters."
   ]
  },
  {
   "cell_type": "markdown",
   "metadata": {
    "slideshow": {
     "slide_type": "slide"
    }
   },
   "source": [
    "# Review of Information Theory\n",
    "> See **Lecture 13** or **[MLAPP]** §2.8 for more details."
   ]
  },
  {
   "cell_type": "markdown",
   "metadata": {
    "slideshow": {
     "slide_type": "slide"
    }
   },
   "source": [
    "### Review:  Entropy\n",
    "\n",
    "The **entropy** of a discrete random variable $X$ with distribution $p$ is\n",
    "$$\n",
    "H[X] = H[p] = E[I(p(X))] = - \\sum_{x \\in X} p(x) \\log p(x)\n",
    "$$\n",
    "\n",
    "Entropy measures the **optimal code length**, in bits, for messages drawn from $p$.\n",
    "- Expected information received when sampling from $X$."
   ]
  },
  {
   "cell_type": "markdown",
   "metadata": {
    "slideshow": {
     "slide_type": "slide"
    }
   },
   "source": [
    "### Review:  Cross Entropy\n",
    "\n",
    "The **cross entropy** measures the average number of bits needed to encode messages drawn from $p$ when we use a code optimal for $q$:\n",
    "$$\n",
    "H(p,q) = -\\sum_{x \\in \\X} p(x) \\log q(x)\n",
    "= - E_p[\\log q(x)]\n",
    "$$\n",
    "\n",
    "Intuitively, $H(p,q) \\geq H(p)$.  The **relative entropy** is the difference $H(p,q) - H(p)$."
   ]
  },
  {
   "cell_type": "markdown",
   "metadata": {
    "slideshow": {
     "slide_type": "slide"
    }
   },
   "source": [
    "### Review:  Relative Entropy\n",
    "\n",
    "The **relative entropy** or **Kullback-Leibler divergence** of $q$ from $p$ is\n",
    "\n",
    "$$\n",
    "\\begin{align}\n",
    "D_{KL}(p || q)\n",
    "&= \\sum_{x \\in X} p(x) \\log \\frac{p(x)}{q(x)} \\\\\n",
    "&= H(p,q) - H(p)\n",
    "\\end{align}\n",
    "$$\n",
    "\n",
    "> Measures the number of *extra* bits needed to encode messages from $p$ if we use a code optimal for $q$."
   ]
  },
  {
   "cell_type": "markdown",
   "metadata": {
    "slideshow": {
     "slide_type": "slide"
    }
   },
   "source": [
    "# Expectation Maximization\n",
    "\n",
    "> Uses material from **[Neal & Hinton 1998]**, **[Do 2008]**, and **[MLAPP]**"
   ]
  },
  {
   "cell_type": "markdown",
   "metadata": {
    "slideshow": {
     "slide_type": "slide"
    }
   },
   "source": [
    "### Theoretical Perspective\n",
    "\n",
    "Most textbooks (including **[MLAPP]** and **[PRML]**) introduce EM without much justification.\n",
    "- This is confusing and unsatisfying!\n",
    "\n",
    "Instead, we will tackle the theory head-on, using ideas from **[Neal & Hinton 1998]**.\n",
    "\n",
    "> **Question:** How can we perform maximum likelihood estimation in latent variable models?"
   ]
  },
  {
   "cell_type": "markdown",
   "metadata": {
    "slideshow": {
     "slide_type": "slide"
    }
   },
   "source": [
    "### Parameter Estimation with Latent Variables\n",
    "\n",
    "> **Question:**  How can we perform MLE/MAP in latent variable models?"
   ]
  },
  {
   "cell_type": "code",
   "execution_count": null,
   "metadata": {
    "collapsed": false,
    "slideshow": {
     "slide_type": "-"
    }
   },
   "outputs": [],
   "source": [
    "%%capture\n",
    "pgm_latent(\"images/pgm/latent.png\")"
   ]
  },
  {
   "cell_type": "markdown",
   "metadata": {
    "slideshow": {
     "slide_type": "slide"
    }
   },
   "source": [
    "### Complete Data Log-Likelihood\n",
    "\n",
    "Suppose we observe both $X$ and $Z$.  The **complete data log-likelihood** is\n",
    "$$\n",
    "\\ell_c(\\theta)\n",
    "= P(X,Z | \\theta)\n",
    "= \\sum_{n=1}^N \\log p(x_n, z_n | \\theta)\n",
    "$$\n",
    "\n",
    "> **[MLAPP]:** This likelihood function is convex when $p(x_n,z_n | \\theta)$ is an exponential family distribution."
   ]
  },
  {
   "cell_type": "markdown",
   "metadata": {
    "slideshow": {
     "slide_type": "slide"
    }
   },
   "source": [
    "### Observed Data Log-Likelihood\n",
    "\n",
    "In reality, we only observe $\\X=(x_1,\\dots,x_n)$.  The **observed data log-likelihood** is given by \n",
    "$$\n",
    "\\begin{align}\n",
    "\\ell(\\theta | \\X) \n",
    "&= \\log p(\\X | \\theta)\n",
    "= \\sum_{k=1}^N \\log p(x_k | \\theta) \\\\\n",
    "&= \\sum_{k=1}^N \\left[ \\log \\sum_{z_k} p(x_k, z_k | \\theta) \\right]\n",
    "\\end{align}\n",
    "$$\n",
    "\n",
    "> **[MLAPP]:** This likelihood function is **non-convex** even assuming exponential family distributions.  Multiple modes make inference (NP) hard!"
   ]
  },
  {
   "cell_type": "markdown",
   "metadata": {
    "slideshow": {
     "slide_type": "slide"
    }
   },
   "source": [
    "### Wrangling a Non-Convex Likelihood\n",
    "\n",
    "How can we optimize the observed likelihood $\\ell(\\theta|\\X)$?\n",
    "- *Gradient-based methods?* Tricky to enforce constraints (e.g. positive-definiteness)\n",
    "\n",
    "> We need a different approach..."
   ]
  },
  {
   "cell_type": "markdown",
   "metadata": {
    "slideshow": {
     "slide_type": "slide"
    }
   },
   "source": [
    "### Wrangling a Non-Convex Likelihood\n",
    "\n",
    "**Observation:** In most models, MLE/MAP is easy with fully observed data.  We will alternate between\n",
    "- **E-Step:** Inferring the values of the latent variables.\n",
    "- **M-Step:** Re-estimating the parameters, assuming we have complete data.\n",
    "\n",
    "> Note the similarity to K-Means!"
   ]
  },
  {
   "cell_type": "markdown",
   "metadata": {
    "slideshow": {
     "slide_type": "slide"
    }
   },
   "source": [
    "### Optimizing via Lower-Bounds\n",
    "\n",
    "From a theoretical standpoint, we will alternate between\n",
    "1. Estimating a lower bound $\\L(q,\\theta)$ on $\\log p(\\X|\\theta)$\n",
    "2. Maximizing this lower bound to obtain a new estimate of $\\theta$\n",
    "\n",
    "<img src=\"images/bishop-fig914-em-bound.png\">\n",
    "<span style=\"color: gray\">(Figure 9.14 of **[PRML]**)</span>"
   ]
  },
  {
   "cell_type": "markdown",
   "metadata": {
    "slideshow": {
     "slide_type": "slide"
    }
   },
   "source": [
    "### Expectation Maximization\n",
    "\n",
    "Our general approach will be to reason about the hidden variables through a proxy distribution $q(Z)$.\n",
    "- Distribution $q$ is an approximation to $P(Z | \\X, \\theta)$\n",
    "- We use $q$ to compute a lower bound on the log-likelihood.\n",
    "\n",
    "> The $q$ distribution will disappear later, but this perspective is useful for extending EM to new settings."
   ]
  },
  {
   "cell_type": "markdown",
   "metadata": {
    "slideshow": {
     "slide_type": "slide"
    }
   },
   "source": [
    "### Review:  Jensen's Inequality\n",
    "\n",
    "For a convex function $f$, \n",
    "$$\n",
    "\\sum_{k=1}^K \\lambda_k f(x_k) \\geq f\\left( \\sum_{k=1}^K \\lambda_k x_k \\right)\n",
    "$$\n",
    "\n",
    "If $\\lambda_k \\geq 0$ and $\\sum_{k=1}^K \\lambda_k = 1$."
   ]
  },
  {
   "cell_type": "markdown",
   "metadata": {
    "slideshow": {
     "slide_type": "slide"
    }
   },
   "source": [
    "### Evidence Lower Bound\n",
    "\n",
    "Through Jensen's inequality, we obtain the **evidence lower bound (ELBO)** on the log-likelihood:\n",
    "$$\n",
    "\\begin{align}\n",
    "\\ell(\\theta | \\X)\n",
    "&= \\log \\sum_z p(\\X, z | \\theta) \\\\\n",
    "&= \\log \\sum_z q(z) \\frac{p(\\X, z | \\theta)}{q(z)} \\\\\n",
    "&\\geq \\sum_z q(z) \\ln \\frac{p(\\X, z | \\theta)}{q(z)} \\equiv \\L(q, \\theta)\n",
    "\\end{align}\n",
    "$$"
   ]
  },
  {
   "cell_type": "markdown",
   "metadata": {
    "slideshow": {
     "slide_type": "slide"
    }
   },
   "source": [
    "### Evidence Lower Bound\n",
    "\n",
    "We can rewrite the lower bound $\\L(q, \\theta)$ as follows:\n",
    "$$\n",
    "\\begin{align}\n",
    "\\ell(\\theta | \\X)\n",
    "\\geq \\L(q,\\theta)\n",
    "&= \\sum_z q(z) \\log \\frac{p(\\X,z|\\theta)}{q(z)} \\\\\n",
    "&= \\sum_q q(z) \\log p(\\X,z|\\theta) - \\sum_z q(z) \\log q(z) \\\\\n",
    "&= E_q[\\log p(\\X,Z|\\theta)] - E_q[\\log q(z)] \\\\\n",
    "&= E_q[\\log p(\\X,Z|\\theta)] + H[q]\n",
    "\\end{align}\n",
    "$$"
   ]
  },
  {
   "cell_type": "markdown",
   "metadata": {
    "slideshow": {
     "slide_type": "slide"
    }
   },
   "source": [
    "### ELBO:  Relationship to Relative Entropy\n",
    "\n",
    "We have just shown that\n",
    "$$\n",
    "\\ell(\\theta|\\X) \\geq \\L(q,\\theta)\n",
    "= E_q[\\log p(\\X,Z|\\theta)] - E_q[\\log q(z)]\n",
    "$$\n",
    "\n",
    "This very closely resembles the formula for **relative entropy** \n",
    "$$\n",
    "\\begin{align}\n",
    "D_{KL}(q || p) \n",
    "&= E_q[-\\log p(Z)] + E_q[\\log q(Z)] \\\\\n",
    "&= H[q,p] - H[q]\n",
    "\\end{align}\n",
    "$$\n",
    "\n",
    "Except that the variables $X$ are clamped to our observations $X=\\X$.\n",
    "- So $P(\\X,Z)$ is an *unnormalized* distribution."
   ]
  },
  {
   "cell_type": "markdown",
   "metadata": {
    "slideshow": {
     "slide_type": "slide"
    }
   },
   "source": [
    "### ELBO:  Relationship to Relative Entropy\n",
    "\n",
    "It is easy to show $\\L(q,\\theta)$ differs from a relative entropy by only a constant wrt $\\theta$:\n",
    "$$\n",
    "\\begin{align*}\n",
    "D_{KL}(q || p(Z|\\X,\\theta))\n",
    "&= H(q, p(Z|\\X,\\theta)) - H(q) \\\\\n",
    "&= E_q[ -\\log p(Z|\\X,\\theta) ] - H(q) \\\\\n",
    "&= E_q[ -\\log p(Z,\\X | \\theta) ] - E_q[ -\\log p(\\X|\\theta) ] - H(q) \\\\\n",
    "&= E_q[ -\\log p(Z,\\X | \\theta) ] + \\log p(\\X|\\theta) - H(q) \\\\\n",
    "&= -\\mathcal{L}(q,\\theta) + \\mathrm{const.}\n",
    "\\end{align*}\n",
    "$$"
   ]
  },
  {
   "cell_type": "markdown",
   "metadata": {
    "slideshow": {
     "slide_type": "slide"
    }
   },
   "source": [
    "### ELBO:  Tightness\n",
    "\n",
    "This yields a second proof of the ELBO, since $D_{KL} \\geq 0$,\n",
    "$$\n",
    "\\boxed{\n",
    "\\log p(\\X | \\theta)\n",
    "= D_{KL}(q || p(Z | \\X, \\theta)) + \\mathcal{L}(q,\\theta) \n",
    "\\geq \\mathcal{L}(q,\\theta)\n",
    "}\n",
    "$$\n",
    "\n",
    "The quality of our bound $\\L(q,\\theta)$ depends heavily on the choice of proxy distribution $q(Z)$.\n",
    "\n",
    "> **Remark:** Maximizing $\\L(q, \\theta)$ with respect to $q$ is equivalent to minimizing the relative entropy between $q$ and the hidden posterior $P(Z|\\X,\\theta)$.  Hence, the optimal $q$ is exactly the hidden posterior, for which $\\log p(\\X|\\theta) = \\L(q,\\theta)$.\n",
    "\n",
    "The bound is **tight**--we can make it *touch* the log-likelihood."
   ]
  },
  {
   "cell_type": "markdown",
   "metadata": {
    "slideshow": {
     "slide_type": "slide"
    }
   },
   "source": [
    "### Expectation Maximization\n",
    "\n",
    "Finding a global maximum of the likelihood is difficult in the presence of latent variables.\n",
    "$$\n",
    "\\hat\\theta_{ML} = \\arg\\max_\\theta \\ell(\\theta | \\X) = \\arg\\max_\\theta \\log p(\\X|\\theta)\n",
    "$$\n",
    "\n",
    "Instead, the **Expectation Maximization** algorithm gives an iterative procedure for finding a *local* maximum of the likelihood.\n",
    "- Under the assumption that the hidden posterior $P(Z|\\X,\\theta)$ is tractable.\n",
    "- Exploits the evidence lower bound $\\ell(\\theta|\\X) \\geq \\L(q,\\theta)$."
   ]
  },
  {
   "cell_type": "markdown",
   "metadata": {
    "slideshow": {
     "slide_type": "slide"
    }
   },
   "source": [
    "### Expectation Maximization\n",
    "\n",
    "Consider only proxy distributions of the form\n",
    "$$\n",
    "q_\\vartheta(Z) = p(Z | \\X, \\vartheta)\n",
    "$$\n",
    "\n",
    "The optimal value for $\\vartheta$, in the sense that $\\L(\\vartheta, \\theta) \\equiv \\L(q_\\vartheta, \\theta)$ is maximum, depends on $\\theta$.\n",
    "- Similarly, the optimal $\\theta$ depends on $\\vartheta$.\n",
    "\n",
    "This suggests an *iterative* scheme."
   ]
  },
  {
   "cell_type": "markdown",
   "metadata": {
    "slideshow": {
     "slide_type": "slide"
    }
   },
   "source": [
    "### Expectation Maximization:  E-Step\n",
    "\n",
    "Suppose we have an estimate $\\theta_t$ of the parameters.  To improve our estimate, we first compute a new lower bound on the observed log-likelihood,\n",
    "$$\n",
    "\\vartheta_{t+1}\n",
    "= \\arg\\max_\\vartheta \\L(\\vartheta, \\theta_t)\n",
    "= \\theta_t\n",
    "$$\n",
    "\n",
    "Since $q_\\vartheta(Z) = p(Z|\\X,\\vartheta)$, we know from before that $\\vartheta=\\theta_t$ maximizes $\\L(\\vartheta, \\theta)$."
   ]
  },
  {
   "cell_type": "markdown",
   "metadata": {
    "slideshow": {
     "slide_type": "slide"
    }
   },
   "source": [
    "### Expectation Maximization:  M-Step\n",
    "\n",
    "Next, we estimate new parameters by optimizing over the lower bound.\n",
    "$$\n",
    "\\begin{align}\n",
    "\\theta_{t+1}\n",
    "&= \\arg\\max_\\theta \\L(\\vartheta_{t+1}, \\theta) \\\\\n",
    "&= \\arg\\max_\\theta E_q[\\log p(\\X,Z|\\theta)] - E_q[\\log q_\\vartheta(z)] \\\\\n",
    "&= \\arg\\max_\\theta E_q[ \\log p(\\X,Z | \\theta) ]\n",
    "\\end{align}\n",
    "$$\n",
    "\n",
    "The last line optimizes over the **expected complete data log-likelihood**."
   ]
  },
  {
   "cell_type": "markdown",
   "metadata": {
    "slideshow": {
     "slide_type": "slide"
    }
   },
   "source": [
    "### Expectation Maximization:  Algorithm\n",
    "\n",
    "Expectation maximization performs **coordinate ascent** on $\\L(\\vartheta,\\theta)$.\n",
    "\n",
    "<div style=\"margin:10px;padding:10px;border:2px solid black;\">\n",
    "<div>\n",
    "**E-Step:** Compute a new lower bound on the observed log-likelihood,\n",
    "    $$\n",
    "    \\vartheta_{t+1} \n",
    "    = \\arg\\max_\\vartheta \\L(\\vartheta, \\theta_t)\n",
    "    = \\theta_t\n",
    "    $$\n",
    "</div><div>\n",
    "**M-Step:** Estimate new parameters by maximizing the bound.\n",
    "    $$\n",
    "    \\theta_{t+1}\n",
    "    = \\arg\\max_\\theta \\L(\\vartheta_{t+1}, \\theta)\n",
    "    = \\arg\\max_\\theta E_q[ \\log p(\\X,Z | \\theta) ]\n",
    "    $$\n",
    "</div>\n",
    "</div>"
   ]
  },
  {
   "cell_type": "markdown",
   "metadata": {
    "slideshow": {
     "slide_type": "slide"
    }
   },
   "source": [
    "### Expectation Maximization:  Standard Formulation\n",
    "\n",
    "Some authors define the **auxiliary function** or **Q-function**\n",
    "$$\n",
    "Q(\\theta_t, \\theta) = E_q[\\log p(\\X,Z|\\theta)]\n",
    "$$\n",
    "where $q(Z) = p(Z|\\X,\\theta_t)$ as before.\n",
    "\n",
    "> Some forgo the $q$ function altogether!"
   ]
  },
  {
   "cell_type": "markdown",
   "metadata": {
    "slideshow": {
     "slide_type": "slide"
    }
   },
   "source": [
    "### Expectation Maximization:  Standard Formulation\n",
    "\n",
    "Expectation maximization performs updates on $Q(\\theta_t,\\theta)$.\n",
    "\n",
    "<div style=\"margin:10px;padding:10px;border:2px solid black;\">\n",
    "<div>\n",
    "**E-Step:** Write down an expression for \n",
    "    $$\n",
    "    Q(\\theta_t, \\theta) = E_q[ \\log p(\\X,Z | \\theta) ]\n",
    "    $$\n",
    "</div><div>\n",
    "**M-Step:** Maximize the auxiliary function,\n",
    "    $$\n",
    "    \\theta_{t+1}\n",
    "    = \\arg\\max_\\theta Q(\\theta_t, \\theta)\n",
    "    $$\n",
    "</div>\n",
    "</div>"
   ]
  },
  {
   "cell_type": "markdown",
   "metadata": {
    "slideshow": {
     "slide_type": "slide"
    }
   },
   "source": [
    "### Expectation Maximization:  Convergence\n",
    "\n",
    "**Theorem:** *After a single iteration of Expectation Maximization, the observed data likelihood of the parameters has not decreased, that is,*\n",
    "    $$\n",
    "    \\ell(\\theta_t | \\X) \\leq \\ell(\\theta_{t+1} | \\X)\n",
    "    $$\n",
    "    \n",
    "*Proof:*  This result is a simple consequence of all our hard work so far!\n",
    "    $$\n",
    "    \\begin{align}\n",
    "    \\ell(\\theta_t | \\X)\n",
    "    &= \\mathcal{L}(q_{\\vartheta_{t+1}}, \\theta_t)           \n",
    "        & \\text{(Tightness)} \\\\\n",
    "    &\\leq \\mathcal{L}(q_{\\vartheta_{t+1}}, \\theta_{t+1})  \n",
    "        & \\text{(M-Step)} \\\\\n",
    "    &\\leq \\ell(\\theta_{t+1} | \\X)                         \n",
    "        & \\text{(ELBO)}\n",
    "    \\end{align}\n",
    "    $$"
   ]
  },
  {
   "cell_type": "markdown",
   "metadata": {
    "slideshow": {
     "slide_type": "slide"
    }
   },
   "source": [
    "### Expectation Maximization:  Convergence\n",
    "\n",
    "**Theorem:** *(Neal & Hinton 1998, Thm. 2)* Every local maximum of $\\L(q, \\theta)$ is a local maximum of $\\ell(\\theta | \\X)$.  \n",
    "\n",
    "> Exercise! :)"
   ]
  },
  {
   "cell_type": "markdown",
   "metadata": {
    "slideshow": {
     "slide_type": "slide"
    }
   },
   "source": [
    "### Expectation Maximization:  Interpretation\n",
    "\n",
    "The graph from before should now make more sense:\n",
    "\n",
    "<img src=\"images/bishop-fig914-em-bound.png\">\n",
    "\n",
    "<span style=\"color:gray\">(Figure 9.14 from **[PRML]**)</span>"
   ]
  },
  {
   "cell_type": "markdown",
   "metadata": {
    "slideshow": {
     "slide_type": "slide"
    }
   },
   "source": [
    "### Expectation Maximization:  Examples\n",
    "\n",
    "We're done with the theory.  Now for some examples:\n",
    "- *Today:* Coin Flip Example, Gaussian Mixture Models\n",
    "- *Later:* Hidden Markov Models\n",
    "\n",
    "We'll also generalize to new settings:\n",
    "- \"Hard\" Expectation Maximization\n",
    "- Variational Expectation Maximization"
   ]
  },
  {
   "cell_type": "markdown",
   "metadata": {
    "slideshow": {
     "slide_type": "slide"
    }
   },
   "source": [
    "### Coin Flip:  Problem\n",
    "\n",
    "Suppose we have two coins, each with unknown bias $\\theta_A$ and $\\theta_B$, and collect data in the following way:\n",
    "\n",
    "1. Repeat for $n=1, \\dots, N$:\n",
    "    1. Choose a random coin $z_n$.\n",
    "    2. Flip this same coin $M$ times.\n",
    "    3. Record only the total number $x_n$ of heads.\n"
   ]
  },
  {
   "cell_type": "markdown",
   "metadata": {
    "slideshow": {
     "slide_type": "slide"
    }
   },
   "source": [
    "### Coin Flip:  Sample Data\n",
    "\n",
    "Below is sample data for $N=5$ and $M=10$\n",
    "```\n",
    "HTTTHHTHTH\n",
    "HHHHTHHHHH\n",
    "HTHHHHHTHH\n",
    "HTHTTTHHTT\n",
    "THHHTHHHTH\n",
    "```"
   ]
  },
  {
   "cell_type": "markdown",
   "metadata": {
    "slideshow": {
     "slide_type": "slide"
    }
   },
   "source": [
    "### Coin Flip:  Model\n",
    "\n",
    "The corresponding probabilistic model is a **mixture of binomials**:\n",
    "$$\n",
    "\\begin{align}\n",
    "\\theta &= (\\theta_A, \\theta_B)  &                       \n",
    "    &&\\text{fixed coin biases} \\\\\n",
    "Z_n &\\sim \\mathrm{Uniform}\\{A, B \\}    & \\forall\\, n=1,\\dots,N\n",
    "    &&\\text{coin indicators} \\\\\n",
    "X_n | Z_n, \\theta &\\sim \\Bin[\\theta_{Z_n}, M] & \\forall\\, n=1,\\dots,N\n",
    "    &&\\text{head count}\n",
    "\\end{align}\n",
    "$$"
   ]
  },
  {
   "cell_type": "markdown",
   "metadata": {
    "slideshow": {
     "slide_type": "slide"
    }
   },
   "source": [
    "### Coin Flip:  Graphical Model"
   ]
  },
  {
   "cell_type": "code",
   "execution_count": null,
   "metadata": {
    "collapsed": false,
    "slideshow": {
     "slide_type": "skip"
    }
   },
   "outputs": [],
   "source": [
    "@pgm_render\n",
    "def pgm_coinflip():\n",
    "    pgm = daft.PGM([4,4], origin=[-2,-1], node_unit=0.8, grid_unit=2.0);\n",
    "    # nodes\n",
    "    pgm.add_node(daft.Node(\"z\", r\"$Z_n$\", 0.7, 1));\n",
    "    pgm.add_node(daft.Node(\"x\", r\"$X_n$\", 1.3, 1, observed=True));\n",
    "    pgm.add_node(daft.Node(\"theta\", r\"$\\theta$\", 1.3, 0.3));\n",
    "    \n",
    "    # edges\n",
    "    pgm.add_edge(\"z\", \"x\", head_length=0.08);\n",
    "    pgm.add_edge(\"theta\", \"x\", head_length=0.08);\n",
    "    \n",
    "    pgm.add_plate(daft.Plate([0.4,0.8,1.3,0.5], \n",
    "                             label=r\"$\\qquad\\qquad\\qquad\\;\\; N$\",\n",
    "                             shift=-0.1))\n",
    "    return pgm;"
   ]
  },
  {
   "cell_type": "code",
   "execution_count": null,
   "metadata": {
    "collapsed": false,
    "slideshow": {
     "slide_type": "-"
    }
   },
   "outputs": [],
   "source": [
    "%%capture\n",
    "pgm_coinflip(\"images/pgm/coinflip.png\")"
   ]
  },
  {
   "cell_type": "markdown",
   "metadata": {
    "collapsed": true,
    "slideshow": {
     "slide_type": "slide"
    }
   },
   "source": [
    "### Coin Flip:  Complete Data Log-Likelihood\n",
    "\n",
    "The **complete data log-likelihood** for a single trial $(x_n,z_n)$ is\n",
    "$$\n",
    "\\log p(x_n, z_n | \\theta) = \\log p(z_n) + \\log p(x_n | z_n, \\theta)\n",
    "$$\n",
    "Here, $P(z_n)=\\frac{1}{2}$.  The remaining term is\n",
    "$$\n",
    "\\begin{align} \n",
    "\\log p(x_n | z_n, \\theta)\n",
    "&= \\log \\binom{M}{x_n} \\theta_{z_n}^{x_n} (1-\\theta_{z_n})^{M-x_n} \\\\\n",
    "&= \\log \\binom{M}{x_n} + x_n \\log\\theta_{z_n} + (M-x_n)\\log(1-\\theta_{z_n})\n",
    "\\end{align}\n",
    "$$"
   ]
  },
  {
   "cell_type": "markdown",
   "metadata": {
    "slideshow": {
     "slide_type": "slide"
    }
   },
   "source": [
    "### Coin Flip:  Likelihood Plot\n",
    "\n",
    "There aren't many latent variables, so we can plot $\\log P(\\X|\\theta_A,\\theta_B)$ directly!"
   ]
  },
  {
   "cell_type": "code",
   "execution_count": null,
   "metadata": {
    "collapsed": true,
    "slideshow": {
     "slide_type": "skip"
    }
   },
   "outputs": [],
   "source": [
    "def coin_likelihood(roll, bias):\n",
    "    # P(X | Z, theta)\n",
    "    numHeads = roll.count(\"H\");\n",
    "    flips = len(roll);\n",
    "    return pow(bias, numHeads) * pow(1-bias, flips-numHeads);\n",
    "\n",
    "def coin_marginal_likelihood(rolls, biasA, biasB):\n",
    "    # P(X | theta)\n",
    "    trials = [];\n",
    "    for roll in rolls:\n",
    "        h = roll.count(\"H\");\n",
    "        t = roll.count(\"T\");\n",
    "        likelihoodA = coin_likelihood(roll, biasA);\n",
    "        likelihoodB = coin_likelihood(roll, biasB);\n",
    "        trials.append(np.log(0.5 * (likelihoodA + likelihoodB)));\n",
    "    return sum(trials);\n",
    "\n",
    "def plot_coin_likelihood(rolls, thetas=None):\n",
    "    # grid\n",
    "    xvals = np.linspace(0.01,0.99,100);\n",
    "    yvals = np.linspace(0.01,0.99,100);\n",
    "    X,Y = np.meshgrid(xvals, yvals);\n",
    "    \n",
    "    # compute likelihood\n",
    "    Z = [];\n",
    "    for i,r in enumerate(X):\n",
    "        z = []\n",
    "        for j,c in enumerate(r):\n",
    "            z.append(coin_marginal_likelihood(rolls,c,Y[i][j]));\n",
    "        Z.append(z);\n",
    "    \n",
    "    # plot\n",
    "    plt.figure(figsize=(10,8));\n",
    "    C = plt.contour(X,Y,Z,150);\n",
    "    cbar = plt.colorbar(C);\n",
    "    plt.title(r\"Likelihood $\\log p(\\mathcal{X}|\\theta_A,\\theta_B)$\", fontsize=20);\n",
    "    plt.xlabel(r\"$\\theta_A$\", fontsize=20);\n",
    "    plt.ylabel(r\"$\\theta_B$\", fontsize=20);\n",
    "    \n",
    "    # plot thetas\n",
    "    if thetas is not None:\n",
    "        thetas = np.array(thetas);\n",
    "        plt.plot(thetas[:,0], thetas[:,1], '-k', lw=2.0);\n",
    "        plt.plot(thetas[:,0], thetas[:,1], 'ok', ms=5.0);"
   ]
  },
  {
   "cell_type": "code",
   "execution_count": null,
   "metadata": {
    "collapsed": false,
    "slideshow": {
     "slide_type": "slide"
    }
   },
   "outputs": [],
   "source": [
    "plot_coin_likelihood([ \"HTTTHHTHTH\", \"HHHHTHHHHH\", \n",
    "         \"HTHHHHHTHH\", \"HTHTTTHHTT\", \"THHHTHHHTH\"]);"
   ]
  },
  {
   "cell_type": "markdown",
   "metadata": {
    "slideshow": {
     "slide_type": "slide"
    }
   },
   "source": [
    "### Coin Flip:  E-Step\n",
    "\n",
    "The **E-Step** involves writing down an expression for\n",
    "$$\n",
    "\\begin{align}\n",
    "E_q[\\log p(\\X, Z | \\theta )]                  \n",
    "&= E_q[\\log p(\\X | Z, \\theta) p(Z)] \\\\\n",
    "&= E_q[\\log p(\\X | Z, \\theta)] + \\log p(Z) \\\\\n",
    "\\end{align}\n",
    "$$\n",
    "\n",
    "The $\\log p(Z)$ term is constant wrt $\\theta$, so we ignore it.\n",
    "> Recall $q \\equiv q_{\\theta_t} = p(Z | \\X,\\theta_t)$"
   ]
  },
  {
   "cell_type": "markdown",
   "metadata": {
    "slideshow": {
     "slide_type": "slide"
    }
   },
   "source": [
    "### Coin Flip:  E-Step\n",
    "\n",
    "$$\n",
    "\\begin{align}\n",
    "E_q[\\log p(\\X | Z, \\theta)]\n",
    "&= \\sum_{n=1}^N E_q \\bigg[\n",
    "        x_n \\log \\theta_{z_n} + (M-x_n) \\log (1-\\theta_{z_n}) \n",
    "    \\bigg] + \\text{const.}\n",
    "\\\\\n",
    "&= \\sum_{n=1}^N q_\\vartheta(z_n=A)\n",
    "    \\bigg[ x_n \\log \\theta_A + (M-x_n) \\log \\theta_A \\bigg] \\\\\n",
    "&+ \\sum_{n=1}^N q_\\vartheta(z_n=B)\n",
    "    \\bigg[ x_n \\log \\theta_B + (M-x_n) \\log \\theta_B \\bigg]\n",
    " + \\text{const.}\n",
    "\\end{align}\n",
    "$$"
   ]
  },
  {
   "cell_type": "markdown",
   "metadata": {
    "slideshow": {
     "slide_type": "slide"
    }
   },
   "source": [
    "### Coin Flip:  M-Step\n",
    "\n",
    "Let $a_n = q(z_n = A)$ and $b_n = q(z_n = B)$.  Taking derivatives with respect to $\\theta_A$ and $\\theta_B$, we obtain the following update rules:\n",
    "$$\n",
    "\\theta_A = \\frac{\\sum_{n=1}^N a_n x_n}{\\sum_{n=1}^N a_n M}\n",
    "\\qquad\n",
    "\\theta_B = \\frac{\\sum_{n=1}^N b_n x_n}{\\sum_{n=1}^N b_n M}\n",
    "$$\n",
    "\n",
    "> **Interpretation:** For each coin, examples are *weighted* according to the probability that they belong to that coin.  Observing $M$ flips is equivalent to observing $a_n M$ *effective* flips."
   ]
  },
  {
   "cell_type": "markdown",
   "metadata": {
    "slideshow": {
     "slide_type": "slide"
    }
   },
   "source": [
    "### Coin Flip:  Python Code"
   ]
  },
  {
   "cell_type": "code",
   "execution_count": null,
   "metadata": {
    "collapsed": false,
    "slideshow": {
     "slide_type": "-"
    }
   },
   "outputs": [],
   "source": [
    "def coin_em(rolls, theta_A=None, theta_B=None, maxiter=10):\n",
    "    # Initial Guess\n",
    "    theta_A = theta_A or random.random();\n",
    "    theta_B = theta_B or random.random();\n",
    "    thetas = [(theta_A, theta_B)];\n",
    "    # Iterate\n",
    "    for c in range(maxiter):\n",
    "        print(\"#%d:\\t%0.2f %0.2f\" % (c, theta_A, theta_B));\n",
    "        # assign a coin to each trial\n",
    "        heads_A, tails_A = 0,0;\n",
    "        heads_B, tails_B = 0,0;\n",
    "        \n",
    "        for trial in rolls:\n",
    "            likelihood_A = coin_likelihood(trial,theta_A);\n",
    "            likelihood_B = coin_likelihood(trial,theta_B);\n",
    "            p_A = likelihood_A / (likelihood_A + likelihood_B);\n",
    "            p_B = likelihood_B / (likelihood_A + likelihood_B);\n",
    "            heads_A += p_A * trial.count(\"H\");\n",
    "            tails_A += p_A * trial.count(\"T\");\n",
    "            heads_B += p_B * trial.count(\"H\");\n",
    "            tails_B += p_B * trial.count(\"T\");\n",
    "        # recompute thetas\n",
    "        theta_A = heads_A / (heads_A + tails_A);\n",
    "        theta_B = heads_B / (heads_B + tails_B);\n",
    "        \n",
    "    thetas.append((theta_A,theta_B));    \n",
    "    return thetas, (theta_A,theta_B);"
   ]
  },
  {
   "cell_type": "markdown",
   "metadata": {
    "slideshow": {
     "slide_type": "slide"
    }
   },
   "source": [
    "### Coin Flip:  Demo"
   ]
  },
  {
   "cell_type": "code",
   "execution_count": null,
   "metadata": {
    "collapsed": false,
    "slideshow": {
     "slide_type": "-"
    }
   },
   "outputs": [],
   "source": [
    "rolls = [ \"HTTTHHTHTH\", \"HHHHTHHHHH\", \"HTHHHHHTHH\", \n",
    "          \"HTHTTTHHTT\", \"THHHTHHHTH\" ];\n",
    "thetas, _ = coin_em(rolls, 0.1, 0.3, maxiter=6);"
   ]
  },
  {
   "cell_type": "markdown",
   "metadata": {
    "slideshow": {
     "slide_type": "slide"
    }
   },
   "source": [
    "### Coin Flip:  Plot of Convergence"
   ]
  },
  {
   "cell_type": "code",
   "execution_count": null,
   "metadata": {
    "collapsed": false,
    "slideshow": {
     "slide_type": "-"
    }
   },
   "outputs": [],
   "source": [
    "plot_coin_likelihood(rolls, thetas)"
   ]
  },
  {
   "cell_type": "markdown",
   "metadata": {
    "slideshow": {
     "slide_type": "slide"
    }
   },
   "source": [
    "### Gaussian Mixture Models:  Specification\n",
    "\n",
    "Recall from earlier the **Gaussian Mixture Model**:\n",
    "$$\n",
    "\\begin{align}\n",
    "\\theta &= (\\vec\\pi, \\vec\\mu, \\vec\\Sigma) && \\text{model parameters} \\\\\n",
    "z_n &\\sim \\Cat[\\pi]  && \\text{cluster indicators} \\\\\n",
    "x_n | z_n, \\theta &\\sim \\mathcal{N}(\\mu_{z_n}, \\Sigma_{z_n}) && \\text{base distribution}\n",
    "\\end{align}\n",
    "$$"
   ]
  },
  {
   "cell_type": "markdown",
   "metadata": {
    "slideshow": {
     "slide_type": "slide"
    }
   },
   "source": [
    "### GMM:  Complete Likelihood\n",
    "\n",
    "The complete data log-likelihood for a single datapoint $(x_n, z_n)$ is\n",
    "$$\n",
    "\\begin{align}\n",
    "\\log p(x_n, z_n | \\theta)\n",
    "&= \\log \\prod_{k=1}^K \\pi_k \\mathcal{N}(x_n \\mid \\mu_k, \\Sigma_k)^{\\mathbb{I}(z_n = k)} \\\\\n",
    "&= \\sum_{k=1}^K \\mathbb{I}(z_n = k) \\log \\pi_k \\mathcal{N}(x_n \\mid \\mu_k, \\Sigma_k)\n",
    "\\end{align}\n",
    "$$"
   ]
  },
  {
   "cell_type": "markdown",
   "metadata": {
    "slideshow": {
     "slide_type": "slide"
    }
   },
   "source": [
    "### GMM:  Hidden Posterior\n",
    "\n",
    "The hidden posterior for a single point $(x_n, z_n)$ can be found using Bayes' rule:\n",
    "$$\n",
    "\\begin{align}\n",
    "p(z_n = k | x_n, \\theta)\n",
    "&= \\frac{P(z_n=k | \\theta) p(x_n | z_n=k, \\theta)}{p(x_N | \\theta)} \\\\\n",
    "&= \\frac{\\pi_k \\mathcal{N}(x_n | \\mu_k, \\Sigma_k)}{\\sum_{k'=1}^K \\pi_{k'} \\mathcal{N}(x_n | \\mu_{k'}, \\Sigma_{k'})}\n",
    "\\end{align}\n",
    "$$"
   ]
  },
  {
   "cell_type": "markdown",
   "metadata": {
    "slideshow": {
     "slide_type": "slide"
    }
   },
   "source": [
    "### GMM:  E-Step\n",
    "\n",
    "The **expected complete likelihood** is\n",
    "$$\n",
    "\\begin{align}\n",
    "E_q[ \\log p(\\X,Z|\\theta)]\n",
    "&= \\sum_{n=1}^N \\sum_{k=1}^K \n",
    "        E_q\\big[ \\mathbb{I}(z_n = k) \\big] \n",
    "        \\log \\pi_k \\mathcal{N}(x_n \\mid \\mu_k, \\Sigma_k) \\\\\n",
    "&= \\sum_{n=1}^N \\sum_{k=1}^K \n",
    "        r_{nk} \\log \\pi_k\n",
    " + \\sum_{n=1}^N \\sum_{k=1}^K \n",
    "        r_{nk} \\log \\mathcal{N}(x_n \\mid \\mu_k, \\Sigma_k)\n",
    "\\end{align}\n",
    "$$\n",
    "\n",
    "where $r_{nk} \\equiv p(z_n = k \\mid x_n,\\theta_t)$ is the **responsibility** that cluster $k$ takes for datapoint $x_n$ after step $t$."
   ]
  },
  {
   "cell_type": "markdown",
   "metadata": {
    "slideshow": {
     "slide_type": "slide"
    }
   },
   "source": [
    "### GMM:  M-Step\n",
    "\n",
    "During the M-Step, we optimize the lower bound with respect to $\\theta=(\\pi,\\mu,\\Sigma)$.  Verify that the correct updates are\n",
    "$$\n",
    "\\begin{gather}\n",
    "\\pi_k = \\frac{1}{N} \\sum_{n=1}^N r_{nk} = \\frac{r_k}{N}\n",
    "\\quad\n",
    "\\mu_k = \\frac{\\sum_{n=1}^N r_{nk} x_n}{r_k}\n",
    "\\\\\n",
    "\\Sigma_k = \\frac{\\sum_{n=1}^N r_{nk} x_n x_n^T}{r_k} - \\mu_k \\mu_k^T\n",
    "\\end{gather}\n",
    "$$\n",
    "\n",
    "where $r_k = \\sum_{n=1}^N r_{nk}$ is the *effective* sample size for cluster $k$."
   ]
  },
  {
   "cell_type": "markdown",
   "metadata": {
    "slideshow": {
     "slide_type": "slide"
    }
   },
   "source": [
    "### General Advice for EM\n",
    "\n",
    "1. **Specify the model.**  Identify the observed variables, hidden variables, and parameters.  Draw a graphical model.\n",
    "2. **Identify relevant probabilities.**  This includes the complete data likelihood $p(X,Z|\\theta)$ and hidden posterior $p(Z|X,\\theta)$.\n",
    "3. **Derive the E-Step.** Compute $E_q[\\log p(\\X,Z|\\theta)]$.\n",
    "4. **Derive the M-Step.** Take derivatives and set to zero, when possible.  Otherwise, gradient-based methods can be used."
   ]
  }
 ],
 "metadata": {
  "celltoolbar": "Slideshow",
  "kernelspec": {
   "display_name": "Python 3",
   "language": "python",
   "name": "python3"
  },
  "language_info": {
   "codemirror_mode": {
    "name": "ipython",
    "version": 3
   },
   "file_extension": ".py",
   "mimetype": "text/x-python",
   "name": "python",
   "nbconvert_exporter": "python",
   "pygments_lexer": "ipython3",
   "version": "3.5.1"
  }
 },
 "nbformat": 4,
 "nbformat_minor": 0
}
