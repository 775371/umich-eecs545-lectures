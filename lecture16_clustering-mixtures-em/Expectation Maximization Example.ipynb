{
 "cells": [
  {
   "cell_type": "markdown",
   "metadata": {},
   "source": [
    "### Example:  Two Coins"
   ]
  },
  {
   "cell_type": "markdown",
   "metadata": {},
   "source": [
    "**Problem:**  Suppose we have two coins, $A$ and $B$, and collect data in the following way:\n",
    "\n",
    "> Repeat for $k= 1,2,3, \\dots, M$\n",
    "1. Pick a coin at random.\n",
    "2. Flip the random coin $N$ times.\n",
    "3. Define $X_k$ to be the number of heads seen.\n",
    "\n",
    "**Data:**  Suppose we performed the experiment for $M=5$ and $N=10$ and observed the following data:\n",
    "\n",
    "> - `HTTTHHTHTH` (5 heads, 5 tails)\n",
    "- `HHHHTHHHHH` (9 heads, 1 tails)\n",
    "- `HTHHHHHTHH` (8 heads, 2 tails)\n",
    "- `HTHTTTHHTT` (4 heads, 6 tails)\n",
    "- `THHHTHHHTH` (7 heads, 3 tails)"
   ]
  },
  {
   "cell_type": "code",
   "execution_count": 11,
   "metadata": {
    "collapsed": true
   },
   "outputs": [],
   "source": [
    "import random;"
   ]
  },
  {
   "cell_type": "code",
   "execution_count": 1,
   "metadata": {
    "collapsed": true
   },
   "outputs": [],
   "source": [
    "def likelihood(roll, bias):\n",
    "    # P(X | Z, theta)\n",
    "    numHeads = roll.count(\"H\");\n",
    "    flips = len(roll);\n",
    "    return pow(bias, numHeads) * pow(1-bias, flips-numHeads);\n",
    "\n",
    "def marginal_likelihood(rolls, biasA, biasB):\n",
    "    # P(X | theta)\n",
    "    trials = [];\n",
    "    for roll in rolls:\n",
    "        h = roll.count(\"H\");\n",
    "        t = roll.count(\"T\");\n",
    "        likelihoodA = likelihood(roll, biasA);\n",
    "        likelihoodB = likelihood(roll, biasB);\n",
    "        trials.append(np.log(0.5 * (likelihoodA + likelihoodB)));\n",
    "    return sum(trials);"
   ]
  },
  {
   "cell_type": "code",
   "execution_count": 5,
   "metadata": {
    "collapsed": true
   },
   "outputs": [],
   "source": [
    "# Data from Paper\n",
    "rolls = [ \"HTTTHHTHTH\", \n",
    "          \"HHHHTHHHHH\", \n",
    "          \"HTHHHHHTHH\", \n",
    "          \"HTHTTTHHTT\", \n",
    "          \"THHHTHHHTH\" ];\n",
    "# Random Data\n",
    "#rolls = generateData(10,50);\n",
    "\n",
    "# Count Trials, Flips\n",
    "N = len(rolls);\n",
    "M = len(rolls[0]);"
   ]
  },
  {
   "cell_type": "code",
   "execution_count": 47,
   "metadata": {
    "collapsed": true
   },
   "outputs": [],
   "source": [
    "def class_max(theta_A, theta_B, iterations):\n",
    "    for it in range(iterations):\n",
    "        print(\"#%d:\\t%0.2f %0.2f\" % (it, theta_A, theta_B));\n",
    "        \n",
    "        # Assign a coin to each trial\n",
    "        coin_assignments = [];\n",
    "        heads_A, total_A = 0,0;\n",
    "        heads_B, total_B = 0,0;\n",
    "        \n",
    "        for trial in rolls:\n",
    "            likelihood_A = likelihood(trial,theta_A);\n",
    "            likelihood_B = likelihood(trial,theta_B);\n",
    "            if likelihood_A > likelihood_B:\n",
    "                heads_A += trial.count(\"H\");\n",
    "                total_A += len(trial);\n",
    "            else:\n",
    "                heads_B += trial.count(\"H\");\n",
    "                total_B += len(trial);\n",
    "        \n",
    "        # Recompute Thetas\n",
    "        if total_A > 0: theta_A = heads_A / total_A;\n",
    "        if total_B > 0: theta_B = heads_B / total_B;"
   ]
  },
  {
   "cell_type": "code",
   "execution_count": 66,
   "metadata": {
    "collapsed": true
   },
   "outputs": [],
   "source": [
    "def class_max2(theta_A, theta_B, iterations):\n",
    "    for it in range(iterations):\n",
    "        print(\"#%d:\\t%0.2f %0.2f\" % (it, theta_A, theta_B));\n",
    "        \n",
    "        # Assign a coin to each trial\n",
    "        coin_assignments = [];\n",
    "        heads_A, total_A = 0,0;\n",
    "        heads_B, total_B = 0,0;\n",
    "        \n",
    "        for idx,trial in enumerate(rolls):\n",
    "            prob = trial.count(\"H\") / len(trial);\n",
    "            \n",
    "            if abs(theta_A - prob) < abs(theta_B - prob):\n",
    "                print(\"Trial %d (p=%0.2f):  A\" % (idx,prob));\n",
    "                heads_A += trial.count(\"H\");\n",
    "                total_A += len(trial);\n",
    "            else:\n",
    "                print(\"Trial %d (p=%0.2f):  B\" % (idx,prob));\n",
    "                heads_B += trial.count(\"H\");\n",
    "                total_B += len(trial);\n",
    "        \n",
    "        # Recompute Thetas\n",
    "        if total_A > 0: theta_A = heads_A / total_A;\n",
    "        if total_B > 0: theta_B = heads_B / total_B;"
   ]
  },
  {
   "cell_type": "code",
   "execution_count": 67,
   "metadata": {
    "collapsed": false
   },
   "outputs": [
    {
     "name": "stdout",
     "output_type": "stream",
     "text": [
      "#0:\t0.60 0.50\n",
      "Trial 0 (p=0.50):  B\n",
      "Trial 1 (p=0.90):  A\n",
      "Trial 2 (p=0.80):  A\n",
      "Trial 3 (p=0.40):  B\n",
      "Trial 4 (p=0.70):  A\n",
      "#1:\t0.80 0.45\n",
      "Trial 0 (p=0.50):  B\n",
      "Trial 1 (p=0.90):  A\n",
      "Trial 2 (p=0.80):  A\n",
      "Trial 3 (p=0.40):  B\n",
      "Trial 4 (p=0.70):  A\n",
      "#2:\t0.80 0.45\n",
      "Trial 0 (p=0.50):  B\n",
      "Trial 1 (p=0.90):  A\n",
      "Trial 2 (p=0.80):  A\n",
      "Trial 3 (p=0.40):  B\n",
      "Trial 4 (p=0.70):  A\n",
      "#3:\t0.80 0.45\n",
      "Trial 0 (p=0.50):  B\n",
      "Trial 1 (p=0.90):  A\n",
      "Trial 2 (p=0.80):  A\n",
      "Trial 3 (p=0.40):  B\n",
      "Trial 4 (p=0.70):  A\n"
     ]
    }
   ],
   "source": [
    "class_max2(0.6, 0.5, 4);"
   ]
  },
  {
   "cell_type": "code",
   "execution_count": 58,
   "metadata": {
    "collapsed": false
   },
   "outputs": [
    {
     "name": "stdout",
     "output_type": "stream",
     "text": [
      "#0:\t0.37 0.17\n",
      "#1:\t0.66 0.17\n",
      "#2:\t0.72 0.40\n",
      "#3:\t0.80 0.45\n"
     ]
    }
   ],
   "source": [
    "class_max2(random.random(), random.random(), 4);"
   ]
  }
 ],
 "metadata": {
  "kernelspec": {
   "display_name": "Python 3",
   "language": "python",
   "name": "python3"
  },
  "language_info": {
   "codemirror_mode": {
    "name": "ipython",
    "version": 3
   },
   "file_extension": ".py",
   "mimetype": "text/x-python",
   "name": "python",
   "nbconvert_exporter": "python",
   "pygments_lexer": "ipython3",
   "version": "3.5.1"
  }
 },
 "nbformat": 4,
 "nbformat_minor": 0
}
