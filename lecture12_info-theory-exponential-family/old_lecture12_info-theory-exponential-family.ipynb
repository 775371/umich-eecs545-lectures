{
 "cells": [
  {
   "cell_type": "markdown",
   "metadata": {
    "slideshow": {
     "slide_type": "skip"
    }
   },
   "source": [
    "$$ \\LaTeX \\text{ command declarations here.}\n",
    "\\newcommand{\\R}{\\mathbb{R}}\n",
    "\\renewcommand{\\vec}[1]{\\mathbf{#1}}\n",
    "\\newcommand{\\X}{\\mathcal{X}}\n",
    "\\newcommand{\\D}{\\mathcal{D}}\n",
    "$$"
   ]
  },
  {
   "cell_type": "markdown",
   "metadata": {
    "slideshow": {
     "slide_type": "slide"
    }
   },
   "source": [
    "### Pitman-Koopman-Darmois Theorem\n",
    "\n",
    "> Among families of distributions $P(x \\,|\\, \\theta)$ whose support does not vary with the parameter $\\theta$, only in exponential families is there a sufficient statistic $T(x_1,\\dots,x_N)$ whose dimension remains bounded as the sample size $N$ increases."
   ]
  },
  {
   "cell_type": "markdown",
   "metadata": {
    "slideshow": {
     "slide_type": "slide"
    }
   },
   "source": [
    "### Exponential Family:  MLE\n",
    "\n",
    "As an example, consider the Bernoulli distribution\n",
    "- Sufficient statistic $N$, $\\phi(\\D) = \\# Heads$\n",
    "\n",
    "$$\n",
    "\\hat\\mu_{MLE} = \\frac{\\# Heads}{N}\n",
    "$$"
   ]
  },
  {
   "cell_type": "markdown",
   "metadata": {
    "slideshow": {
     "slide_type": "slide"
    }
   },
   "source": [
    "### Bayes for Exponential Family\n",
    "\n",
    "Exact Bayesian analysis is considerably simplified if the prior is **conjugate** to the likelihood.\n",
    "- Simply, this means that prior $p(\\mathcal{D}|\\tau)$ has the same form as likelihood $p(\\mathcal{D}|\\theta)$.\n",
    "\n",
    "This requires likelihood to have finite sufficient statistics\n",
    "* Exponential family to the rescue!"
   ]
  },
  {
   "cell_type": "markdown",
   "metadata": {
    "slideshow": {
     "slide_type": "slide"
    }
   },
   "source": [
    "### Likelihood\n",
    "\n",
    "Likelihood: \n",
    "$$ p(\\mathcal{D}|\\theta) \\propto g(\\theta)^N \\exp[\\eta(\\theta)^T s_N]\\\\\n",
    "s_N = \\sum_{i=1}^{N}s(x_i)$$\n",
    "\n",
    "In terms of canonical parameters:\n",
    "$$ p(\\mathcal{D}|\\eta) \\propto \\exp[N\\eta^T \\bar{s} -N A(\\eta)] \\\\\n",
    "\\bar s = \\frac{1}{N}s_N $$"
   ]
  },
  {
   "cell_type": "markdown",
   "metadata": {
    "slideshow": {
     "slide_type": "slide"
    }
   },
   "source": [
    "### Prior\n",
    "\n",
    "$$ p(\\theta| \\nu_0, \\tau_0) \\propto g(\\theta)^{\\nu_0} \\exp[\\eta(\\theta)^T \\tau_0] $$\n",
    "\n",
    "* Denote $ \\tau_0 = \\nu_0 \\bar{\\tau}_0$ to separate out the size of the **prior pseudo-data**, $\\nu_0$ , from the mean of the sufficient statistics on this pseudo-data, $\\tau_0$ . Hence,\n",
    "\n",
    "$$ p(\\theta| \\nu_0, \\bar \\tau_0) \\propto \\exp[\\nu_0\\eta^T \\bar \\tau_0  - \\nu_0 A(\\eta)] $$"
   ]
  },
  {
   "cell_type": "markdown",
   "metadata": {
    "slideshow": {
     "slide_type": "slide"
    }
   },
   "source": [
    "### Prior:  Example\n",
    "\n",
    "$$\n",
    "\\begin{align}\n",
    "p(\\theta| \\nu_0, \\tau_0) \n",
    "&\\propto (1-\\theta)^{\\nu_0} \\exp[\\tau_0\\log(\\frac{\\theta}{1-\\theta})] \\\\\n",
    "&= \\theta^{\\tau_0}(1-\\theta)^{\\nu_0 - \\tau_0}\n",
    "\\end{align}\n",
    "$$\n",
    "\n",
    "Define $\\alpha = \\tau_0 +1 $ and $\\beta = \\nu_0 - \\tau_0 +1$ to see that this is a **beta distribution**."
   ]
  },
  {
   "cell_type": "markdown",
   "metadata": {
    "slideshow": {
     "slide_type": "slide"
    }
   },
   "source": [
    "### Posterior\n",
    "\n",
    "Posterior: \n",
    "$$ p(\\theta|\\mathcal{D}) = p(\\theta|\\nu_N, \\tau_N) = p(\\theta| \\nu_0 +N, \\tau_0 +s_N) $$\n",
    "\n",
    "Note that we obtain **hyper-parameters** by adding. Hence,\n",
    "\n",
    "$$ \\begin{align}\n",
    "p(\\eta|\\mathcal{D})\n",
    "&\\propto \\exp[\\eta^T (\\nu_0 \\bar\\tau_0 + N \\bar s) - (\\nu_0 + N) A(\\eta) ] \\\\\n",
    "&= p(\\eta|\\nu_0 + N, \\frac{\\nu_0 \\bar\\tau_0 + N \\bar s}{\\nu_0 + N})\n",
    "\\end{align}$$\n",
    "\n",
    "* *posterior hyper-parameters are a convex combination of the prior mean hyper-parameters and the average of the sufficient statistics.*"
   ]
  }
 ],
 "metadata": {
  "celltoolbar": "Slideshow",
  "kernelspec": {
   "display_name": "Python 2",
   "language": "python",
   "name": "python2"
  },
  "language_info": {
   "codemirror_mode": {
    "name": "ipython",
    "version": 2
   },
   "file_extension": ".py",
   "mimetype": "text/x-python",
   "name": "python",
   "nbconvert_exporter": "python",
   "pygments_lexer": "ipython2",
   "version": "2.7.11"
  }
 },
 "nbformat": 4,
 "nbformat_minor": 0
}
