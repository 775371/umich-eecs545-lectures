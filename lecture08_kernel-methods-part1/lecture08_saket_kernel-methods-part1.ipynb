{
 "cells": [
  {
   "cell_type": "markdown",
   "metadata": {
    "slideshow": {
     "slide_type": "skip"
    }
   },
   "source": [
    "$$ \\LaTeX \\text{ command declarations here.}\n",
    "\\newcommand{\\R}{\\mathbb{R}}\n",
    "\\renewcommand{\\vec}[1]{\\mathbf{#1}}\n",
    "$$"
   ]
  },
  {
   "cell_type": "code",
   "execution_count": 115,
   "metadata": {
    "collapsed": true,
    "slideshow": {
     "slide_type": "skip"
    }
   },
   "outputs": [],
   "source": [
    "# plotting\n",
    "%matplotlib inline\n",
    "from matplotlib import pyplot as plt;\n",
    "\n",
    "# scientific\n",
    "import numpy as np;\n",
    "from sklearn import svm\n",
    "from sklearn.linear_model import Ridge\n",
    "from sklearn.preprocessing import PolynomialFeatures\n",
    "from sklearn.pipeline import make_pipeline\n",
    "from sklearn.grid_search import GridSearchCV\n",
    "from sklearn.learning_curve import learning_curve\n",
    "from sklearn.kernel_ridge import KernelRidge\n",
    "\n",
    "# math\n",
    "from __future__ import division\n"
   ]
  },
  {
   "cell_type": "markdown",
   "metadata": {
    "slideshow": {
     "slide_type": "slide"
    }
   },
   "source": [
    "# EECS 545:  Machine Learning\n",
    "## Lecture 08:  Kernel Methods\n",
    "* Instructor:  **Jacob Abernethy**\n",
    "* Date:  February 8, 2016\n"
   ]
  },
  {
   "cell_type": "markdown",
   "metadata": {
    "slideshow": {
     "slide_type": "slide"
    }
   },
   "source": [
    "# Outline\n",
    "\n",
    "* Kernel methods: Motivation\n",
    "* Kernel functions\n",
    "* Kernel trick\n",
    "* Dual representations\n",
    "    - Example: linear regression\n",
    "* Constructing kernels\n",
    "* Kernel regression"
   ]
  },
  {
   "cell_type": "markdown",
   "metadata": {
    "slideshow": {
     "slide_type": "slide"
    }
   },
   "source": [
    "## Linear Regression\n",
    "\n",
    "* Example: Polynomial Regression \n",
    "Relationship between the independent variable $ x$ and the dependent variable $ y$ is modeled as an $ n^{th}$ degree polynomial. \n",
    "\n",
    "1-D Regression: One input $ x$, one output $ y(x)$\n",
    "- $ y(x) = w^T x $ can only produce straight lines through origin.\n",
    "- Not very flexible or powerful\n",
    "\n",
    "\n",
    "** How to deal with this?? **"
   ]
  },
  {
   "cell_type": "markdown",
   "metadata": {
    "slideshow": {
     "slide_type": "slide"
    }
   },
   "source": [
    "## Feature Maps\n",
    "\n",
    "Replace $ x$ by $(1,x) $\n",
    "\n",
    "Replace $ x$ by $(1,x, x^2, x^3) $\n",
    "\n",
    "Replace $ x$ by $(1,x, x^2, x^3, x^4, x^5) $"
   ]
  },
  {
   "cell_type": "code",
   "execution_count": 63,
   "metadata": {
    "collapsed": false,
    "slideshow": {
     "slide_type": "skip"
    }
   },
   "outputs": [],
   "source": [
    "# actual function to be approximated: sin(x)\n",
    "def f(x): \n",
    "    return np.sin(x)\n",
    "\n",
    "\n",
    "# generate points to plot\n",
    "x_plot = np.linspace(0, 5, 100)\n",
    "\n",
    "# generate random data points\n",
    "x = np.linspace(0, 5, 100)\n",
    "rng = np.random.RandomState(0)\n",
    "rng.shuffle(x)\n",
    "x = np.sort(x[:20])\n",
    "y = f(x)\n",
    "\n",
    "# create matrix versions of these arrays\n",
    "X = x[:, np.newaxis]\n",
    "X_plot = x_plot[:, np.newaxis]\n"
   ]
  },
  {
   "cell_type": "code",
   "execution_count": 64,
   "metadata": {
    "collapsed": false,
    "slideshow": {
     "slide_type": "slide"
    }
   },
   "outputs": [
    {
     "data": {
      "image/png": "[encoded data removed]",
      "text/plain": [
       "<matplotlib.figure.Figure at 0x7f68e81b55d0>"
      ]
     },
     "metadata": {},
     "output_type": "display_data"
    }
   ],
   "source": [
    "plt.plot(x_plot, f(x_plot), label=\"ground truth\")\n",
    "plt.scatter(x, y, label=\"data-points\")\n",
    "\n",
    "# Polynomial-regression for degree 1,3 and 5\n",
    "for degree in [1, 3, 5]:\n",
    "    model = make_pipeline(PolynomialFeatures(degree), Ridge())\n",
    "    model.fit(X, y)\n",
    "    y_plot = model.predict(X_plot)\n",
    "    plt.plot(x_plot, y_plot, label=\"degree %d\" % degree)\n",
    "\n",
    "plt.legend(loc='lower left')\n",
    "plt.show()"
   ]
  },
  {
   "cell_type": "markdown",
   "metadata": {
    "slideshow": {
     "slide_type": "slide"
    }
   },
   "source": [
    "## Linear regression with (nonlinear) features\n",
    "\n",
    "* Linear Regression Model \n",
    "$$ y(x,w) = w^T \\phi (x) = \\sum_{j=0}^{M} w_j \\cdot \\phi_j(x) $$\n",
    "\n",
    "* Least-squares with L-2 regularization\n",
    "$$ J(w) = \\frac{1}{2} \\sum_{n=1}^{N}(w^T \\phi (x_n) - t_n)^2 + \\frac{\\lambda}{2}w^Tw $$\n",
    "\n",
    "* Closed-form Solution\n",
    "$$ w = (\\phi^T \\phi + \\lambda I)^{-1}\\phi^T \\cdot t $$\n"
   ]
  },
  {
   "cell_type": "markdown",
   "metadata": {
    "slideshow": {
     "slide_type": "slide"
    }
   },
   "source": [
    "## How do I use this?\n",
    "\n",
    "* What is $\\phi$? What features to use?\n",
    "\n",
    "* Computational Complexity\n",
    "    - $\\phi : N \\times M $ matrix where N is number of examples, M is number of features\n",
    "    - Need to invert $\\phi^T\\phi$ which is size $M \\times M$\n",
    "    - Computational complexity of the order $M^3$"
   ]
  },
  {
   "cell_type": "markdown",
   "metadata": {
    "slideshow": {
     "slide_type": "slide"
    }
   },
   "source": [
    "## Linear Classifiers\n",
    "\n",
    "* No linear separating plane\n",
    "\n",
    "* Not very powerful\n",
    "\n",
    "* Is it possible to do better?\n",
    "\n",
    "<img src=\"linear_classifier.png\" width=300px, align=\"middle\">"
   ]
  },
  {
   "cell_type": "markdown",
   "metadata": {
    "slideshow": {
     "slide_type": "slide"
    }
   },
   "source": [
    "## Linear classifiers with nonlinear features\n",
    "\n",
    "* Add distance to origin $(x_1^2 + x_2^2)^\\frac{1}{2}$ as third feature.\n",
    "\n",
    "* Data now lives in a parabolic surface in 3D.\n",
    "\n",
    "* Linear Separation in 3D feature space.\n",
    "\n",
    "* In original feature space, decision boundary is an ellipse.\n",
    "\n",
    "<img src=\"linear_classifier_3d.png\" width=300px, align=\"middle\">"
   ]
  },
  {
   "cell_type": "markdown",
   "metadata": {
    "slideshow": {
     "slide_type": "slide"
    }
   },
   "source": [
    "* Another way is to replace $(x_1, x_2) \\rightarrow (x_1^2, x_2^2)$\n",
    "\n",
    "* Different tricks with features help make problem solvable by using linear methods."
   ]
  },
  {
   "cell_type": "markdown",
   "metadata": {
    "slideshow": {
     "slide_type": "slide"
    }
   },
   "source": [
    "## Linear Separability of data"
   ]
  },
  {
   "cell_type": "code",
   "execution_count": 128,
   "metadata": {
    "collapsed": false,
    "slideshow": {
     "slide_type": "skip"
    }
   },
   "outputs": [],
   "source": [
    "# Data Points\n",
    "x = [1, 5, 1.5, 8, 1, 9]\n",
    "y = [2, 8, 1.8, 8, 0.6, 11]\n",
    "\n",
    "# Creating feature vector and label vector \n",
    "X = np.array([[1,2], [5,8], [1.5,1.8], [8,8], [1,0.6], [9,11]])\n",
    "t = [0,1,0,1,0,1]\n",
    "\n",
    "# Classifier\n",
    "clf = svm.SVC(kernel='linear', C = 1.0)\n",
    "\n",
    "# Fitting the data\n",
    "clf.fit(X,t)\n",
    "\n",
    "# create a mesh to plot in\n",
    "x_min, x_max = X[:, 0].min() - 1, X[:, 0].max() + 1\n",
    "y_min, y_max = X[:, 1].min() - 1, X[:, 1].max() + 1\n",
    "xx, yy = np.meshgrid(np.arange(x_min, x_max, 0.02),\n",
    "                     np.arange(y_min, y_max, 0.02))\n",
    "\n",
    "Z = clf.predict(np.c_[xx.ravel(), yy.ravel()])\n",
    "Z = Z.reshape(xx.shape)\n",
    "\n"
   ]
  },
  {
   "cell_type": "code",
   "execution_count": 129,
   "metadata": {
    "collapsed": false,
    "slideshow": {
     "slide_type": "fragment"
    }
   },
   "outputs": [
    {
     "data": {
      "image/png": "[encoded data removed]",
      "text/plain": [
       "<matplotlib.figure.Figure at 0x7f68e1e57e90>"
      ]
     },
     "metadata": {},
     "output_type": "display_data"
    }
   ],
   "source": [
    "# Plotting\n",
    "plt.scatter(x,y, label = \"Data points\")\n",
    "plt.contourf(xx, yy, Z, cmap=plt.cm.Paired, alpha=0.8)\n",
    "plt.scatter(X[:, 0], X[:, 1], c = t)\n",
    "plt.grid(); plt.legend(loc = 'center right'); plt.show()"
   ]
  },
  {
   "cell_type": "code",
   "execution_count": 132,
   "metadata": {
    "collapsed": false,
    "slideshow": {
     "slide_type": "skip"
    }
   },
   "outputs": [],
   "source": [
    "# Non-Separable Data Points\n",
    "x = [0, 1, -1, 0, 5, -5]\n",
    "y = [1, -1, -1, 5, -5, -5]\n",
    "\n",
    "# Creating feature vector and label vector \n",
    "X = np.array([[0,1], [1,-1], [-1,-1], [0,5], [5,-5], [-5,-5]])\n",
    "t = [0,0,0,1,1,1]\n",
    "\n",
    "# Classifier\n",
    "clf = svm.SVC(kernel='rbf', gamma=0.7, C=1.0)\n",
    "\n",
    "# Fit the data\n",
    "rbf_svc = clf.fit(X, t)\n",
    "\n",
    "# linear fit\n",
    "svc = svm.SVC(kernel='linear', C=1.0).fit(X, y)\n",
    "\n",
    "# create a mesh to plot in\n",
    "x_min, x_max = X[:, 0].min() - 1, X[:, 0].max() + 1\n",
    "y_min, y_max = X[:, 1].min() - 1, X[:, 1].max() + 1\n",
    "xx, yy = np.meshgrid(np.arange(x_min, x_max, 0.02),\n",
    "                     np.arange(y_min, y_max, 0.02))\n",
    "\n",
    "Z = clf.predict(np.c_[xx.ravel(), yy.ravel()])\n",
    "Z = Z.reshape(xx.shape)\n",
    "\n",
    "titles = ['linear classifier',\n",
    "          'Non-linear classifier']"
   ]
  },
  {
   "cell_type": "code",
   "execution_count": 135,
   "metadata": {
    "collapsed": false,
    "slideshow": {
     "slide_type": "slide"
    }
   },
   "outputs": [
    {
     "data": {
      "image/png": "[encoded data removed]",
      "text/plain": [
       "<matplotlib.figure.Figure at 0x7f68ebba5710>"
      ]
     },
     "metadata": {},
     "output_type": "display_data"
    }
   ],
   "source": [
    "# Plotting\n",
    "for i, clf in enumerate((svc, rbf_svc)):\n",
    "    plt.subplot(2, 2, i + 1)\n",
    "    plt.subplots_adjust(wspace=0.4, hspace=0.4)\n",
    "    Z = clf.predict(np.c_[xx.ravel(), yy.ravel()])\n",
    "    # Put the result into a color plot\n",
    "    Z = Z.reshape(xx.shape)\n",
    "    plt.contourf(xx, yy, Z, cmap=plt.cm.Paired, alpha=0.8)\n",
    "\n",
    "    # Plot also the training points\n",
    "    plt.scatter(X[:, 0], X[:, 1], c=y, cmap=plt.cm.Paired)\n",
    "    plt.xlim(xx.min(), xx.max()); plt.ylim(yy.min(), yy.max())\n",
    "    plt.xticks(());plt.yticks(()); plt.title(titles[i])\n",
    "\n",
    "plt.grid(); plt.show()\n"
   ]
  },
  {
   "cell_type": "markdown",
   "metadata": {
    "slideshow": {
     "slide_type": "slide"
    }
   },
   "source": [
    "* Data is mapped to a new, higher (possibly infinite) dimensional space.\n",
    "\n",
    "\n",
    "\n",
    "\n",
    "* An alternative way to think is that the data is still in its original space, but the definition of the **distance metric** or **inner product** has changed."
   ]
  },
  {
   "cell_type": "markdown",
   "metadata": {
    "slideshow": {
     "slide_type": "slide"
    }
   },
   "source": [
    "* $\\phi(x)$ is the feature vector to which data point $x$ is mapped onto. \n",
    "    - It extracts out important properties if $x$.\n",
    "    - e.g. polynomial combinations of the original features, upto some order.\n",
    "    - makes regression/classification problems easier in some cases.\n",
    "    \n",
    "    \n",
    "* But it comes at a price!!\n",
    "    - It may be very high dimensional, possibly infinite dimensional (try computing that!).\n",
    "    - Computational complexity blows up."
   ]
  },
  {
   "cell_type": "markdown",
   "metadata": {
    "slideshow": {
     "slide_type": "slide"
    }
   },
   "source": [
    "## Kernels to the rescue (kernel trick)\n",
    "\n",
    "* As we shall see, most ML algorithms depend upon the data points through their pairwise **inner products**. \n",
    "\n",
    "\n",
    "* These inner products can be efficiently computed using kernels. This is popularly known as **Kernel trick**. "
   ]
  },
  {
   "cell_type": "markdown",
   "metadata": {
    "slideshow": {
     "slide_type": "slide"
    }
   },
   "source": [
    "## Kernel Functions\n",
    "\n",
    "* A kernel function $\\kappa(x,x’)$ is intended to represent the similarity between $x$ and $x’$.\n",
    "\n",
    "\n",
    "* A popular way to express similarity is as the inner product of feature vectors:\n",
    "$$ \\kappa(x, x') = \\phi(x)^T \\phi(x')^T $$\n",
    "\n",
    "\n",
    "* We define a kernel function $\\kappa(x,x’)$ as one that can be expressed as an inner product, but we may not need to compute it that way."
   ]
  },
  {
   "cell_type": "markdown",
   "metadata": {
    "slideshow": {
     "slide_type": "slide"
    }
   },
   "source": [
    "## Example: 2D input data\n",
    "\n",
    "* Inner product between two vectors $x :=(x_1, x_2)$ and $z:=(z_1, z_2)$:\n",
    "$$ \\kappa(x,z) = x^T z = x_1z_1 + x_2z_2 $$\n",
    "    \n",
    "* Let’s replace this by its square:\n",
    "$$\n",
    "\\begin{align}\n",
    "\\kappa(x,z) \n",
    "&= (x^T z)^2 = (x_1z_1 + x_2z_2)^2 \\\\\n",
    "&= x_1^2z_1^2 + 2x_1z_1x_2z_2 + x_2^2z_2^2 \n",
    "\\end{align}\n",
    "$$\n"
   ]
  },
  {
   "cell_type": "markdown",
   "metadata": {
    "slideshow": {
     "slide_type": "subslide"
    }
   },
   "source": [
    "\n",
    "* This is same as the inner product between $(x_1^2, \\sqrt2 x_1x_2, x_2^2)$ and $(z_1^2, \\sqrt2 z_1z_2, z_2^2)$\n",
    "    - or between $(x_1^2, x_1x_2, x_1x_2, x_2^2)$ and $(z_1^2, z_1z_2, z_1z_2, z_2^2)$.\n",
    "    - So, it's not unique."
   ]
  },
  {
   "cell_type": "markdown",
   "metadata": {
    "slideshow": {
     "slide_type": "slide"
    }
   },
   "source": [
    "* Consider higher-order polynomial of degree p:\n",
    "$$ \\kappa(x,z) = (x^Tz)^p = (\\sum_{i=1}^{M}x_iz_i)^p $$\n",
    "\n",
    "\n",
    "* Feature mapping: \n",
    "    $$ \\phi(x) = \\Big[..., {p \\choose j_1,j_2... j_M}^\\frac{1}{2}(x_1)^{j_1} ... (x_M)^{j_M} , ...\\Big] $$\n",
    "    - all monomials of degree $p$"
   ]
  },
  {
   "cell_type": "markdown",
   "metadata": {
    "slideshow": {
     "slide_type": "slide"
    }
   },
   "source": [
    "* Inhomogeneous polynomial up to degree p:\n",
    "$$ k(x,z) = (x^Tz + c)^p = (c + \\sum_{i=1}^{M}x_iz_i)^p , c>0 $$\n",
    "\n",
    "\n",
    "* Feature mapping:  all monomials of degree $\\leq p$"
   ]
  },
  {
   "cell_type": "markdown",
   "metadata": {
    "slideshow": {
     "slide_type": "slide"
    }
   },
   "source": [
    "## Example: handwritten digits images\n",
    "\n",
    "\n",
    "* Take the pixel values and compute $\\kappa(x,z) = (x^Tz + 1)^p $\n",
    "\n",
    "here, $x$ = $28 \\times 28 = 784$ pixels  \n",
    "<img src=\"hand_writ_example.png\" width=100px, align=\"middle\">\n",
    "\n",
    "* You can compute the inner product in the space of all monomials up to degree $p$ (for $dim(x)=784$ and $p=4$ a $16G$ dimensional space!)"
   ]
  },
  {
   "cell_type": "markdown",
   "metadata": {
    "slideshow": {
     "slide_type": "slide"
    }
   },
   "source": [
    "## Kernel trick \n",
    "\n",
    "* By using different definitions for inner product, we can compute inner products in a high dimensional space, with only the computational complexity of a low dimensional space.\n",
    "\n",
    "\n",
    "* Many algorithms can be expressed completely in terms of kernels $\\kappa(x,x’)$, rather than other operations on $x$.\n",
    "\n",
    "\n",
    "* In this case, you can replace one kernel with another, and get a new algorithm that works over a different domain.\n"
   ]
  },
  {
   "cell_type": "markdown",
   "metadata": {
    "slideshow": {
     "slide_type": "slide"
    }
   },
   "source": [
    "## Dual Representation and Kernel Trick\n",
    "\n",
    "* The dual representation, and its solutions, are entirely written in terms of kernels.\n",
    "\n",
    "\n",
    "* The elements of the Gram matrix  $ K =\\Phi \\Phi^T $\n",
    "$$ K_{ij} = \\kappa(x_i, x_j) = \\phi(x_i)^T \\phi(x_j) $$\n",
    "\n",
    "\n",
    "* These represent the pairwise similarities among all the observed feature vectors.\n",
    "    - We may be able to compute the kernels more efficiently than the feature vectors."
   ]
  },
  {
   "cell_type": "markdown",
   "metadata": {
    "slideshow": {
     "slide_type": "slide"
    }
   },
   "source": [
    "## Kernel substitution\n",
    "\n",
    "* To use the kernel trick, we must formulate (training and test) algorithms purely in terms of inner products between data points\n",
    "\n",
    "\n",
    "* We can not access the coordinates of points in the high-dimensional feature space\n",
    "\n",
    "\n",
    "* This seems a huge limitation, but it turns out that quite a lot can be done"
   ]
  },
  {
   "cell_type": "markdown",
   "metadata": {
    "slideshow": {
     "slide_type": "slide"
    }
   },
   "source": [
    "## Example: distance\n",
    "\n",
    "* Distance between samples can be expressed in inner products:\n",
    "$$\n",
    "\\begin{align}\n",
    "||\\phi(x) - \\phi(z) ||^2\n",
    "&= \\langle\\phi(x)- \\phi(z), \\phi(x)- \\phi(z) \\rangle\\\\\n",
    "&= \\langle \\phi(x), \\phi(x)\\rangle - 2\\langle\\phi(x), \\phi(z)\\rangle + \\langle\\phi(z), \\phi(z) \\rangle \\\\\n",
    "&= \\kappa(x,x) - 2\\kappa(x,z) + \\kappa(z,z)\n",
    "\\end{align}\n",
    "$$\n",
    "\n",
    "\n",
    "\n",
    "* So nothing stops you from doing k-nearest neighbor searches in high dimensional spaces (Phew!!)"
   ]
  },
  {
   "cell_type": "markdown",
   "metadata": {
    "slideshow": {
     "slide_type": "slide"
    }
   },
   "source": [
    "## Example: mean\n",
    "\n",
    "* Can you determine the mean of data in the mapped feature space through kernel operations only?\n",
    "\n",
    "\n",
    "* A: No, you cannot compute any point explicitly"
   ]
  },
  {
   "cell_type": "markdown",
   "metadata": {
    "slideshow": {
     "slide_type": "slide"
    }
   },
   "source": [
    "## Example: distance to the mean\n",
    "\n",
    "* Mean of data points given by: $\\phi(s) = \\frac{1}{N}\\sum_{i=1}^{N}\\phi(x_i)$\n",
    "\n",
    "\n",
    "* Distance to the mean:\n",
    "$$\n",
    "\\begin{align}\n",
    "||\\phi(x) - \\phi_s ||^2\n",
    "&= \\langle\\phi(x)- \\phi_s, \\phi(x)- \\phi_s \\rangle\\\\\n",
    "&= \\langle \\phi(x), \\phi(x)\\rangle - 2\\langle\\phi(x), \\phi_s\\rangle + \\langle\\phi_s, \\phi_s \\rangle \\\\\n",
    "&= \\kappa(x,x) - \\frac{2}{N}\\sum_{i=1}^{N}\\kappa(x,x_i) + \\frac{1}{N^2}\\sum_{j=1}^{N}\\sum_{i=1}^{N}\\kappa(x_i,x_j)\n",
    "\\end{align}\n",
    "$$\n"
   ]
  },
  {
   "cell_type": "markdown",
   "metadata": {
    "slideshow": {
     "slide_type": "slide"
    }
   },
   "source": [
    "## Dual Representations for linear regression\n",
    "\n",
    "* Recall regression problems with error function\n",
    "$$ J(w) = \\frac{1}{2} \\sum_{n=1}^{N}(w^T \\phi (x_n) - t_n)^2 + \\frac{\\lambda}{2}w^Tw $$\n",
    "\n",
    "\n",
    "* $J(w)$ is minimized at \n",
    "$$ w_{ML} = (\\Phi^T \\Phi + \\lambda I)^{-1}\\Phi^T \\cdot t $$\n",
    "\n",
    "\n",
    "* Recall the N x M design matrix that is central to this solution.\n",
    "\n",
    "\n",
    "* We can approach the solution a different way "
   ]
  },
  {
   "cell_type": "markdown",
   "metadata": {
    "slideshow": {
     "slide_type": "slide"
    }
   },
   "source": [
    "## Recap: The Design Matrix\n",
    "\n",
    "* The design matrix is an NxM matrix, applying \n",
    "    - the M basis functions (M: number of columns) \n",
    "    - to N data points (N: number of rows)\n",
    "\n",
    "\n",
    "$$\n",
    "\\Phi = \\left\\{\n",
    "\\begin{array}{cccc} \n",
    "\\phi_0(x_1) & \\phi_1(x_1) & ... & \\phi_{M-1}(x_1)  \\\\ \n",
    "\\phi_0(x_2) & \\phi_1(x_2) & ... & \\phi_{M-1}(x_2)  \\\\\n",
    ". & . & ... & .  \\\\\n",
    ". & . & ... & .  \\\\\n",
    ". & . & ... & .  \\\\\n",
    "\\phi_0(x_N) & \\phi_1(x_N) & ... & \\phi_{M-1}(x_N)  \\\\\n",
    "\\end{array}\n",
    "\\right\\}\n",
    "$$\n",
    "\n",
    "\n",
    "* $ \\phi w \\approx t $\n"
   ]
  },
  {
   "cell_type": "markdown",
   "metadata": {
    "slideshow": {
     "slide_type": "slide"
    }
   },
   "source": [
    "## The Gram Matrix\n",
    "\n",
    "* For regression, a key term is the MxM \"covariance\" matrix\n",
    "$$ \\Phi^T \\Phi $$\n",
    "\n",
    "\n",
    "* Here, we will use the NxN Gram matrix (*pairwise similarity*)\n",
    "$$ K = \\Phi \\Phi^T $$ \n",
    "\n",
    "\n",
    "* Note that $ K_{ij} = \\kappa(x_i, x_j) = \\phi(x_i)^T \\phi(x_j) $\n",
    "encapsulates the pairwise similarities of all the data points in the training set.\n",
    "\n",
    "\n",
    "* Note that kernel methods use only $ K$ , not $\\Phi$."
   ]
  },
  {
   "cell_type": "markdown",
   "metadata": {
    "slideshow": {
     "slide_type": "slide"
    }
   },
   "source": [
    "## Dual Representations for linear regression\n",
    "\n",
    "* Another way to minimize J(w) is\n",
    "$$ w = -\\frac{1}{\\lambda}\\sum_{n=1}^{N}\\left\\{w^T\\phi(x_n) - t_n)\\right\\} \\phi(x_n) \\\\\n",
    "= \\sum_{n=1}^{N}a_n\\phi(x_n) = \\Phi^Ta $$\n",
    "\n",
    "where $a_n = -\\frac{1}{\\lambda}\\left\\{w^T\\phi(x_n) - t_n)\\right\\}$\n"
   ]
  },
  {
   "cell_type": "markdown",
   "metadata": {
    "slideshow": {
     "slide_type": "subslide"
    }
   },
   "source": [
    "\n",
    "* Let $a$ be the parameter, instead of $w$.\n",
    "\n",
    "\n",
    "* Transform $J(w)$ to $J(a)$ by substituting $ w = \\Phi^T a$\n"
   ]
  },
  {
   "cell_type": "markdown",
   "metadata": {
    "slideshow": {
     "slide_type": "slide"
    }
   },
   "source": [
    "## Dual Representations for linear regression\n",
    "\n",
    "* Objective function\n",
    "$$ J(w) = \\frac{1}{2} \\sum_{n=1}^{N}\\left\\{w^T \\phi (x_n) - t_n\\right\\}^2 + \\frac{\\lambda}{2}w^Tw $$\n",
    "\n",
    "\n",
    "* Substitute $w = \\Phi^Ta$\n",
    "$$ J(a) = \\frac{1}{2}a^T\\Phi\\Phi^T\\Phi\\Phi^Ta - a\\Phi\\Phi^Tt + \\frac{1}{2}t^Tt + \\frac{\\lambda}{2}a^T\\Phi\\Phi^Ta \\\\\n",
    "= \\frac{1}{2}a^TKKa - aKt + \\frac{1}{2}t^Tt + \\frac{\\lambda}{2}a^TKa $$\n"
   ]
  },
  {
   "cell_type": "markdown",
   "metadata": {
    "slideshow": {
     "slide_type": "subslide"
    }
   },
   "source": [
    "\n",
    "\n",
    "* Solution/prediction:\n",
    "$$ y(x)  = w^T\\phi(x) = a^T \\Phi\\phi(x) = \\kappa(x)^T (K+\\lambda I_N)^{-1}t $$"
   ]
  },
  {
   "cell_type": "markdown",
   "metadata": {
    "slideshow": {
     "slide_type": "slide"
    }
   },
   "source": [
    "## Dual Representations for linear regression\n",
    "\n",
    "* Transform $J(w)$ to $J(a)$ by using $w = \\phi^Ta$ and the Gram matrix $K = \\Phi\\Phi^T$\n",
    "\n",
    "\n",
    "* Find $a$ to minimize $J(a)$: $a = (K+\\lambda I_N)^{-1}t$\n",
    "\n",
    "\n",
    "* For predictions (for query point/test example x):\n",
    "$$ y(x)  = w^T\\phi(x) = a^T \\Phi\\phi(x) = \\mathbf{k}(x)^T (K+\\lambda I_N)^{-1}t $$\n",
    "where $\\mathbf{k}(x)$ has elements $\\kappa_n(x) = \\kappa(x_n, x)$  "
   ]
  },
  {
   "cell_type": "markdown",
   "metadata": {
    "slideshow": {
     "slide_type": "slide"
    }
   },
   "source": [
    "## Primal versus Dual\n",
    "\n",
    "* **Primal**: $w = (\\Phi^T\\Phi + \\lambda I_M)^{-1} \\Phi^Tt $\n",
    "\n",
    "\n",
    "* **Dual**: $ a = (K + \\lambda I_N)^{-1}t $\n",
    "\n",
    "\n",
    "\n",
    "* Primal: invert M by M matrix (M = dim feature space), w vector of length M\n",
    "    - cheaper because usually $N > M$, but you need to explicitly construct features.\n",
    "    \n"
   ]
  },
  {
   "cell_type": "markdown",
   "metadata": {
    "slideshow": {
     "slide_type": "subslide"
    }
   },
   "source": [
    "   \n",
    "* Dual: invert N by N matrix (N = number of data points)\n",
    "    - can use the kernel trick (embed into very high dimensional feature space)\n",
    "    - Use kernels $\\kappa(x,x’)$ to represent similarity.\n",
    "    - Kernels can be defined over vectors, images, sequences, graphs, text, etc. \n"
   ]
  },
  {
   "cell_type": "markdown",
   "metadata": {
    "slideshow": {
     "slide_type": "slide"
    }
   },
   "source": [
    "## Constructing Kernels (1)\n",
    "\n",
    "* One can do kernel engineering to create kernels for particular purposes, expressing different kinds of similarity.\n",
    "\n",
    "\n",
    "\n",
    "* Method 1: One way is to define the feature space mapping $\\phi(x)$ and then define the **inner product kernel**\n",
    "$$ \\kappa(x,x') = \\phi(x)^T \\phi(x') = \\sum_{i=1}^{M}\\phi_i(x) \\phi_i(x') $$\n"
   ]
  },
  {
   "cell_type": "markdown",
   "metadata": {
    "slideshow": {
     "slide_type": "slide"
    }
   },
   "source": [
    "* Define a kernel function directly, such as \n",
    "$$ \\kappa(x,z) = (x^Tz)^2 $$\n",
    "\n",
    "\n",
    "* In 2D, we can explicitly identify the feature map \n",
    "$$ \\phi(x) = (x_1^2, \\sqrt2 x_1x_2, x_2^2) $$\n",
    "    - such that $ \\kappa(x,z) = \\phi(x)^T\\phi(z)$\n",
    "\n",
    "\n",
    "* Explicit feature mappings can be very complex.  \n",
    "    - Kernels help us avoid that complexity."
   ]
  },
  {
   "cell_type": "markdown",
   "metadata": {
    "slideshow": {
     "slide_type": "slide"
    }
   },
   "source": [
    "## Constructing Kernels (2)\n",
    "\n",
    "* A simpler way to test without having to construct $\\phi(x)$\n",
    "\n",
    "\n",
    "* Use the necessary and sufficient condition (**Mercer Theorem**) that for a function $\\kappa(x,x’)$ to be a inner product (valid) kernel:\n",
    "    - the Gram matrix $K$, whose elements are given by $\\kappa(x_n,x_m)$, should be **positive semidefinite** for all possible choices of the data set {$x_n$}\n",
    "    - i.e., $K$ is positive semidefinite:\n",
    "    $$ a^TKa := \\sum_{i}\\sum_{j}a_iK_{ij}a_j \\geq 0 \\forall a \\in \\R^n $$ \n"
   ]
  },
  {
   "cell_type": "markdown",
   "metadata": {
    "slideshow": {
     "slide_type": "slide"
    }
   },
   "source": [
    "### Techniques for Constructing New Kernels\n",
    "* There are a number of axioms that help us construct new, more complex kernels, from simpler known kernels. Several are listed in next page. Try to prove them all as an exercise.\n",
    "\n",
    "\n",
    "* Check out **PRML** book (Bishop), Chapter 6.\n",
    "<img src=\"prml.jpg\" width=300px, align=\"middle\">"
   ]
  },
  {
   "cell_type": "markdown",
   "metadata": {
    "slideshow": {
     "slide_type": "slide"
    }
   },
   "source": [
    "* Given valid kernels $\\kappa_1(x,x')$ and $\\kappa_2 (x, x')$, $c > 0$ is a constant, $f (·)$ is any function, $q(·)$ is a polynomial with non-negative coefficients, $\\phi(x)$ is a function from $x$ to $\\R^M$ , $\\kappa_3 (·,·)$ is a valid kernel in $\\R^M$, $\\bf{A}$ is a symmetric positive semidefinite matrix, $x_a$ and $x_b$ are variables (not necessarily disjoint) with $\\bf{x} = (x_a , x_b)$, and $\\kappa_a$ and $\\kappa_b$ are valid kernel functions over their respective spaces. \n"
   ]
  },
  {
   "cell_type": "markdown",
   "metadata": {
    "slideshow": {
     "slide_type": "subslide"
    }
   },
   "source": [
    "* The following new kernels will also be valid:\n",
    "$$\\kappa(x,x') = c\\kappa_1(x,x')$$\n",
    "$$\\kappa(x,x') = f(x) \\kappa_1(x,x')f(x') $$\n",
    "$$\\kappa(x,x') = q(\\kappa_1(x,x')) $$\n",
    "$$\\kappa(x,x') = exp(\\kappa_1(x, x')) $$\n",
    "$$\\kappa(x,x') = \\kappa_1 (x, x' ) + \\kappa_2 (x, x' ) $$\n",
    "$$\\kappa(x,x') = \\kappa_1 (x, x' ) \\kappa_2 (x, x' ) $$\n",
    "$$\\kappa(x,x') = \\kappa_3 (\\phi(x), \\phi(x')) $$\n",
    "$$\\kappa(x,x') = \\bf{x}^T \\bf{A x'} $$\n",
    "$$\\kappa(x,x') = \\kappa_a (x_a, x_a') + \\kappa_b (x_b, x_b') $$\n",
    "$$\\kappa(x,x') = \\kappa_a (x_a, x_a') \\kappa_b (x_b, x_b') $$"
   ]
  },
  {
   "cell_type": "markdown",
   "metadata": {
    "slideshow": {
     "slide_type": "slide"
    }
   },
   "source": [
    "## Most popular kernels\n",
    "\n",
    "* Simple Polynomial Kernel (terms of degree 2)\n",
    "$$\\kappa(x,z) = (x^Tz)^2 $$\n",
    "\n",
    "\n",
    "* Generalized Polynomial kernel - degree M\n",
    "$$\\kappa(x,z) = (x^Tz + c)^M, c > 0 $$\n",
    "\n",
    "\n",
    "* Gaussian Kernels\n",
    "$$ \\kappa(x,z) = exp \\left\\{-\\frac{||x-z||^2}{2\\sigma^2} \\right\\} $$"
   ]
  },
  {
   "cell_type": "markdown",
   "metadata": {
    "slideshow": {
     "slide_type": "slide"
    }
   },
   "source": [
    "## Gaussian kernel\n",
    "\n",
    "* **Not related to Gaussian pdf**\n",
    "\n",
    "\n",
    "* Translation invariant (depends only on distance between points)\n",
    "\n",
    "\n",
    "* Corresponds to an infinitely dimensional space! (PRML exercise 6.11)"
   ]
  },
  {
   "cell_type": "markdown",
   "metadata": {
    "slideshow": {
     "slide_type": "slide"
    }
   },
   "source": [
    "## Kernel regression\n",
    "\n",
    "* Using Gaussian kernel\n",
    "    - output: $\\frac{\\Sigma_i K(x,x^{(i)})t^{(i)}}{\\Sigma_i K(x,x^{(i)})} $\n",
    "    \n",
    "    where $ K(x, x^{(i)}) = exp \\left\\{-\\frac{||x- x^{(i)}||^2}{2\\sigma^2} \\right\\} $\n",
    "    \n",
    "    \n",
    "\n",
    "* More generally, any distance metric (other than L2 or Eucleidian distance) can be used.\n",
    "\n",
    "\n",
    "* Also, more general types of kernel function can be used."
   ]
  },
  {
   "cell_type": "markdown",
   "metadata": {
    "slideshow": {
     "slide_type": "slide"
    }
   },
   "source": [
    "## Examples\n",
    "\n"
   ]
  },
  {
   "cell_type": "code",
   "execution_count": 15,
   "metadata": {
    "collapsed": false,
    "slideshow": {
     "slide_type": "skip"
    }
   },
   "outputs": [
    {
     "name": "stderr",
     "output_type": "stream",
     "text": [
      "/home/syd/anaconda2/lib/python2.7/site-packages/ipykernel/__main__.py:9: DeprecationWarning: using a non-integer number instead of an integer will result in an error in the future\n"
     ]
    }
   ],
   "source": [
    "rng = np.random.RandomState(0)\n",
    "\n",
    "#############################################################################\n",
    "# Generate sample data\n",
    "X = 5 * rng.rand(10000, 1)\n",
    "y = np.sin(X).ravel()\n",
    "\n",
    "# Add noise to targets\n",
    "y[::5] += 3 * (0.5 - rng.rand(X.shape[0]/5))\n",
    "\n",
    "X_plot = np.linspace(0, 5, 100000)[:, None]\n",
    "\n",
    "#############################################################################\n",
    "# Fit regression model\n",
    "train_size = 100\n",
    "kr = GridSearchCV(KernelRidge(kernel='rbf', gamma=0.1), cv=5,\n",
    "                  param_grid={\"alpha\": [1e0, 0.1, 1e-2, 1e-3],\n",
    "                              \"gamma\": np.logspace(-2, 2, 5)})\n",
    "\n",
    "#############################################################################"
   ]
  },
  {
   "cell_type": "code",
   "execution_count": 31,
   "metadata": {
    "collapsed": false,
    "slideshow": {
     "slide_type": "fragment"
    }
   },
   "outputs": [
    {
     "data": {
      "text/plain": [
       "<matplotlib.figure.Figure at 0x7f68ebc8f850>"
      ]
     },
     "execution_count": 31,
     "metadata": {},
     "output_type": "execute_result"
    },
    {
     "data": {
      "image/png": "[encoded data removed]",
      "text/plain": [
       "<matplotlib.figure.Figure at 0x7f68eba78c90>"
      ]
     },
     "metadata": {},
     "output_type": "display_data"
    },
    {
     "data": {
      "text/plain": [
       "<matplotlib.figure.Figure at 0x7f68ebc8f850>"
      ]
     },
     "metadata": {},
     "output_type": "display_data"
    }
   ],
   "source": [
    "# plot results\n",
    "plt.scatter(X[:100], y[:100], c='k', label='data')\n",
    "plt.hold('on')\n",
    "plt.plot(X_plot, y_kr, c='g',label='KRR')\n",
    "plt.xlabel('data') \n",
    "plt.ylabel('target') \n",
    "plt.title('Kernel Ridge Regression')\n",
    "plt.legend()\n",
    "plt.figure()"
   ]
  },
  {
   "cell_type": "markdown",
   "metadata": {
    "slideshow": {
     "slide_type": "slide"
    }
   },
   "source": [
    "<img src=\"krr_1.png\" width=500px, align=\"middle\">\n"
   ]
  },
  {
   "cell_type": "markdown",
   "metadata": {
    "slideshow": {
     "slide_type": "subslide"
    }
   },
   "source": [
    "<img src=\"krr_2.png\" width=500px, align=\"middle\">\n"
   ]
  },
  {
   "cell_type": "markdown",
   "metadata": {
    "slideshow": {
     "slide_type": "subslide"
    }
   },
   "source": [
    "\n",
    "<img src=\"krr_3.png\" width=500px, align=\"middle\">"
   ]
  },
  {
   "cell_type": "markdown",
   "metadata": {
    "slideshow": {
     "slide_type": "slide"
    }
   },
   "source": [
    "## Kernel regression: Regression vs. Classification\n",
    "\n",
    "* Note: it is very easy to formulate kernel regression into regression/classification\n",
    "\n",
    "* Given training data $D = {x^{(i)}, t^{(i)}}$ , Kernel function $K(.,.)$  and input $x$ \n",
    "\n",
    "**Regression**: if $t \\in \\R$ , return weighted average:\n",
    "$$\\frac{\\Sigma_i K(x,x^{(i)})t^{(i)}}{\\Sigma_i K(x,x^{(i)})}$$\n",
    "\n",
    "\n",
    "**Classification** if $t \\in \\pm 1$ , return weighted majority:\n",
    "$$ sign(\\Sigma_i K(x,x^{(i)})t^{(i)}) $$\n"
   ]
  },
  {
   "cell_type": "markdown",
   "metadata": {
    "slideshow": {
     "slide_type": "slide"
    }
   },
   "source": [
    "## Locally-weighted Linear Regression vs. Kernel regression\n",
    "\n",
    "* Locally-weighted linear regression\n",
    "\n",
    "    - 1. Fit $w$ to minimize $\\Sigma_i r^{(i)}(t^{(i)} - w^T\\phi(x^{(i)}))^2$ \n",
    "    - 2. Output $w^T \\phi(x^{(i)}) $\n",
    "    \n",
    "    \n",
    "* Standard choice: $r^{(i)} = exp \\left\\{-\\frac{||x- x^{(i)}||^2}{2\\sigma^2} \\right\\}$"
   ]
  },
  {
   "cell_type": "markdown",
   "metadata": {
    "slideshow": {
     "slide_type": "slide"
    }
   },
   "source": [
    "** Similarities **\n",
    "* Both methods are “instance-based learning”.\n",
    "    - Only observations (training set) close to the query point are considered (highly weighted) for regression computation.\n",
    "    - Kernel determines how to assign weights to training examples (similarity to the query point x)\n",
    "    - Free to choose types of kernels\n",
    "    - Both can suffer when the input dimension is high.\n",
    "    "
   ]
  },
  {
   "cell_type": "code",
   "execution_count": 25,
   "metadata": {
    "collapsed": true,
    "slideshow": {
     "slide_type": "skip"
    }
   },
   "outputs": [],
   "source": [
    "class CreateTable(dict):\n",
    "    # Overridden dict class which takes a dict in the form {'a': 2, 'b': 3},\n",
    "    # and renders an HTML Table in IPython Notebook.\n",
    "    def _repr_html_(self):\n",
    "        html = [\"<table width=50%>\"]\n",
    "        for key, value in self.iteritems():\n",
    "            html.append(\"<tr>\")\n",
    "            html.append(\"<td>{0}</td>\".format(key))\n",
    "            html.append(\"<td>{0}</td>\".format(value))\n",
    "            html.append(\"</tr>\")\n",
    "        html.append(\"</table>\")\n",
    "        return ''.join(html)"
   ]
  },
  {
   "cell_type": "markdown",
   "metadata": {
    "slideshow": {
     "slide_type": "subslide"
    }
   },
   "source": [
    "** Differences **\n",
    "\n",
    "\n",
    "\\begin{array}{c|c} \n",
    "\\bf{Locally \\hspace{0.5em} weighted \\hspace{0.5em} regression} & \\bf{Kernel \\hspace{0.5em} regression}  \\\\ \n",
    "Weighted \\hspace{0.5em} regression & Weighted \\hspace{0.5em} mean  \\\\\n",
    "Slow, but \\hspace{0.5em} more \\hspace{0.5em} accurate & Faster, but \\hspace{0.5em} less \\hspace{0.5em} accurate  \\\\\n",
    "\\end{array}\n"
   ]
  },
  {
   "cell_type": "code",
   "execution_count": null,
   "metadata": {
    "collapsed": true
   },
   "outputs": [],
   "source": []
  }
 ],
 "metadata": {
  "celltoolbar": "Slideshow",
  "kernelspec": {
   "display_name": "Python 2",
   "language": "python",
   "name": "python2"
  },
  "language_info": {
   "codemirror_mode": {
    "name": "ipython",
    "version": 2
   },
   "file_extension": ".py",
   "mimetype": "text/x-python",
   "name": "python",
   "nbconvert_exporter": "python",
   "pygments_lexer": "ipython2",
   "version": "2.7.11"
  }
 },
 "nbformat": 4,
 "nbformat_minor": 0
}
