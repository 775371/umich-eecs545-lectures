{
 "cells": [
  {
   "cell_type": "markdown",
   "metadata": {
    "slideshow": {
     "slide_type": "skip"
    }
   },
   "source": [
    "$$ \\LaTeX \\text{ command declarations here.}\n",
    "\\newcommand{\\R}{\\mathbb{R}}\n",
    "\\renewcommand{\\vec}[1]{\\mathbf{#1}}\n",
    "$$"
   ]
  },
  {
   "cell_type": "code",
   "execution_count": 1,
   "metadata": {
    "collapsed": false,
    "slideshow": {
     "slide_type": "skip"
    }
   },
   "outputs": [],
   "source": [
    "from __future__ import division\n",
    "# plotting\n",
    "%matplotlib inline\n",
    "from matplotlib import pyplot as plt;\n",
    "\n",
    "# scientific\n",
    "import numpy as np;"
   ]
  },
  {
   "cell_type": "code",
   "execution_count": 2,
   "metadata": {
    "collapsed": false,
    "slideshow": {
     "slide_type": "skip"
    }
   },
   "outputs": [],
   "source": [
    "from notebook.services.config import ConfigManager\n",
    "cm = ConfigManager()\n",
    "cm.update('livereveal', {\n",
    "              'theme': 'simple',\n",
    "              'transition': 'none',\n",
    "              'start_slideshow_at': 'selected',\n",
    "});"
   ]
  },
  {
   "cell_type": "markdown",
   "metadata": {
    "slideshow": {
     "slide_type": "slide"
    }
   },
   "source": [
    "# EECS 545:  Machine Learning\n",
    "## Lecture 04:  Linear Regression I\n",
    "* Instructor:  **Jacob Abernethy**\n",
    "* Date:  January 20, 2015\n",
    "\n",
    "\n",
    "*Lecture Exposition Credit: Benjamin Bray*"
   ]
  },
  {
   "cell_type": "markdown",
   "metadata": {
    "slideshow": {
     "slide_type": "slide"
    }
   },
   "source": [
    "## Outline for this Lecture\n",
    "- Introduction to Regression\n",
    "- Solving Least Squares\n",
    "    - Gradient Descent Method\n",
    "    - Closed Form Solution\n",
    "\n",
    "\n",
    "## Reading List\n",
    "- Required:    \n",
    "    - **[PRML]**, §1.1: Polynomial Curve Fitting Example\n",
    "    - **[PRML]**, §3.1: Linear Basis Function Models\n",
    "- Optional:\n",
    "    - **[MLAPP]**, Chapter 7: Linear Regression"
   ]
  },
  {
   "cell_type": "markdown",
   "metadata": {
    "slideshow": {
     "slide_type": "skip"
    }
   },
   "source": [
    "> In this lecture, we will cover linear regression. First some basic concepts and examples of linear regression will be introduced. Then we will show solving linear regression can be done by solving least squares problem. To solve least squares problem, two methods will be given: *gradient descent method* and *closed form solution*. Finally, the concept of Moore-Penrose pseudoinverse is introduced which is highly related to least squares."
   ]
  },
  {
   "cell_type": "markdown",
   "metadata": {
    "slideshow": {
     "slide_type": "slide"
    }
   },
   "source": [
    "## Supervised Learning\n",
    "\n",
    "- Goal\n",
    "    - Given data $X$ in feature sapce and the labels $Y$\n",
    "    - Learn to predict $Y$ from $X$\n",
    "- Labels could be discrete or continuous\n",
    "    - Discrete-valued labels:  Classification\n",
    "    - Continuous-valued labels:  Regression\n",
    "    \n",
    "<img src=\"images/classification-regression.png\">"
   ]
  },
  {
   "cell_type": "markdown",
   "metadata": {
    "slideshow": {
     "slide_type": "slide"
    }
   },
   "source": [
    "## Notation\n",
    "\n",
    "- In this lecture, we will use\n",
    "    - Let vector $\\vec{x}_n \\in \\R^D$ denote the $i\\text{th}$ data. $D$ denotes number of attributes in dataset.\n",
    "    - Let vector $\\phi(\\vec{x}_n) \\in \\R^M$ denote features for data $\\vec{x}_n$. $\\phi_j(\\vec{x}_n)$ denotes the $j\\text{th}$ feature for data $x_n$.\n",
    "    - Feature $\\phi(\\vec{x}_n)$ is the *artificial* features which represents the preprocessing step. $\\phi(\\vec{x}_n)$ is usually some combination of transformations of $\\vec{x}_n$. For example, $\\phi(\\vec{x})$ could be vector constructed by $[\\vec{x}_n^T, \\cos(\\vec{x}_n)^T, \\exp(\\vec{x}_n)^T]^T$. If we do nothing to $\\vec{x}_n$, then $\\phi(\\vec{x}_n)=\\vec{x}_n$.\n",
    "    - Continuous-valued label vector $t \\in \\R^D$ (target values). $t_n \\in \\R$ denotes the target value for $i\\text{th}$ data."
   ]
  },
  {
   "cell_type": "markdown",
   "metadata": {
    "slideshow": {
     "slide_type": "slide"
    }
   },
   "source": [
    "### Notation: Example\n",
    "- The table below is a dataset describing acceleration of the aircraft along a runway. Based on our notations above, we have $D=7$. Regardless of the header row, target value $t$ is the first column and $x_n$ denote the data on the $n\\text{th}$ row, $2\\text{th}$ to $7\\text{th}$ columns.\n",
    "- We could manipulate the data to have our own features. For example,\n",
    "    - If we only choose the first three attributes as features, i.e. $\\phi(\\vec{x}_n)=\\vec{x}_n[1:3]$, then $M=3$\n",
    "    - If we let $\\phi(\\vec{x}_n)=[\\vec{x}_n^T, \\cos(\\vec{x}_n)^T, \\exp(\\vec{x}_n)^T]$, then  $M=3 \\times D=21$\n",
    "    - We could also let $\\phi(\\vec{x}_n)=\\vec{x}_n$, then $M=D=7$. This will occur frequently in later lectures.\n",
    "<center> <img src=\"http://www.flightdatacommunity.com/wp-content/uploads/2014/08/3rd-blog-on-linear-regression-table-1.png\"  style=\"width:600px;height:200px;\"> </center>\n",
    "<div align=\"right\"><span style=\"color:gray; font-size:10px\">(Example taken from [here](http://www.flightdatacommunity.com/linear-regression-applied-to-take-off/))</span></div>"
   ]
  },
  {
   "cell_type": "markdown",
   "metadata": {
    "slideshow": {
     "slide_type": "slide"
    }
   },
   "source": [
    "## Linear Regression "
   ]
  },
  {
   "cell_type": "markdown",
   "metadata": {
    "slideshow": {
     "slide_type": "-"
    }
   },
   "source": [
    "### Linear Regression (1D Inputs)\n",
    "\n",
    "- Consider 1D case (i.e. D=1)\n",
    "    - Given a set of observations $x_1, \\dots, x_N \\in \\R^M$\n",
    "    - and corresponding target values $t_1, \\dots, t_N$\n",
    "- We want to learn a function $y(x_n, \\vec{w}) \\approx t_n$ to predict future values.\n",
    "$$\n",
    "y(x_n, \\vec{w})\n",
    "= w_0 + w_1 x_n + w_2 x_n^2 + \\dots w_{M-1} x_n^{M-1}\n",
    "= \\sum_{k=0}^{M-1} w_k x_n^k\n",
    "= \\vec{w}^T\\phi(x_n)\n",
    "$$\n",
    "of which feature coefficient $\\vec{w}=[w_0, w_1, w_2, \\dots ,w_{M-1}]^T$, feature $\\phi(x_n)=[1, x_n, x_n^2, \\dots, x_n^{M-1}]$ (here we add a bias term $\\phi_0(x_n)=1$ to features)."
   ]
  },
  {
   "cell_type": "markdown",
   "metadata": {
    "collapsed": true,
    "slideshow": {
     "slide_type": "slide"
    }
   },
   "source": [
    "### Regression: Noisy Data"
   ]
  },
  {
   "cell_type": "code",
   "execution_count": 3,
   "metadata": {
    "collapsed": false,
    "slideshow": {
     "slide_type": "skip"
    }
   },
   "outputs": [],
   "source": [
    "def regression_example_draw(degree1, degree2, degree3, ifprint):\n",
    "    x = np.linspace(0, 2*np.pi, 13);\n",
    "    # np.random.randn generates gaussian samples\n",
    "    y = np.sin(x) + np.random.randn(x.shape[0]) * 0.2; \n",
    "    xx = np.linspace(0, 2*np.pi, 100);\n",
    "    plt.figure(figsize=(12,7.5))\n",
    "    plt.subplot(221)\n",
    "    plt.plot(xx, np.sin(xx), \"g\", linestyle='--'); plt.hold(True)\n",
    "    plt.plot(x, y, \"or\"); plt.hold(False)\n",
    "    plt.legend(['True Curve','Data']); plt.title('Data and True Curve');\n",
    "\n",
    "    # Here were are going to take advantage of numpy's 'polyfit' function\n",
    "    # This implements a \"polynomial fitting\" algorithm\n",
    "    # coeffs are the optimal coefficients of the polynomial\n",
    "    coeffs = np.polyfit(x, y, degree1); # 0 is the degree of the poly\n",
    "    # We construct poly(), the polynomial with \"learned\" coefficients\n",
    "    poly = np.poly1d(coeffs);\n",
    "    plt.subplot(222)\n",
    "    plt.plot(xx, np.sin(xx), \"g\", linestyle='--'); plt.hold(True)\n",
    "    plt.plot(x, y, \"or\");\n",
    "    plt.plot(xx, poly(xx), color='b', linestyle='-'); plt.hold(False)\n",
    "    plt.legend(['True Curve','Data','Learned Curve']); plt.title(str(degree1)+'th Order Polynomial')\n",
    "    exprsn1=''\n",
    "    for i in range(degree1+1):\n",
    "        if i>0 and coeffs[i]>0:\n",
    "            exprsn1 += '+%.3fx^%d' %(coeffs[i], i)\n",
    "        elif i==0:\n",
    "            exprsn1 += '%.3f' %(coeffs[i])\n",
    "        else:\n",
    "            exprsn1 += '%.3fx^%d' %(coeffs[i], i)            \n",
    "\n",
    "    coeffs = np.polyfit(x, y, degree2); # Now let's try degree = 1\n",
    "    poly = np.poly1d(coeffs);\n",
    "    plt.subplot(223)\n",
    "    plt.plot(xx, np.sin(xx), \"g\", linestyle='--'); plt.hold(True)\n",
    "    plt.plot(x, y, \"or\");\n",
    "    plt.plot(xx, poly(xx), color='b', linestyle='-'); plt.hold(False)\n",
    "    plt.legend(['True Curve','Data','Learned Curve']); plt.title(str(degree2)+'th Order Polynomial')\n",
    "    exprsn2 = ''\n",
    "    for i in range(degree2+1):\n",
    "        if i>0 and coeffs[i]>0:\n",
    "            exprsn2 += '+%.3fx^%d' %(coeffs[i], i)\n",
    "        elif i==0:\n",
    "            exprsn2 += '%.3f' %(coeffs[i])\n",
    "        else:\n",
    "            exprsn2 += '%.3fx^%d' %(coeffs[i], i)\n",
    "\n",
    "    coeffs = np.polyfit(x, y, degree3); # Now degree = 3\n",
    "    poly = np.poly1d(coeffs);\n",
    "    plt.subplot(224)\n",
    "    plt.plot(xx, np.sin(xx), \"g\", linestyle='--'); plt.hold(True)\n",
    "    plt.plot(x, y, \"or\");\n",
    "    plt.plot(xx, poly(xx), color='b', linestyle='-'); plt.hold(False)\n",
    "    plt.legend(['True Curve','Data','Learned Curve']); plt.title(str(degree3)+'th Order Polynomial')\n",
    "    plt.show()\n",
    "    exprsn3 = ''\n",
    "    for i in range(degree3+1):\n",
    "        if i>0 and coeffs[i]>0:\n",
    "            exprsn3 += '+%.3fx^%d' %(coeffs[i], i)\n",
    "        elif i==0:\n",
    "            exprsn3 += '%.3f' %(coeffs[i])\n",
    "        else:\n",
    "            exprsn3 += '%.3fx^%d' %(coeffs[i], i)\n",
    "    \n",
    "    if ifprint:\n",
    "        print 'The expression for the first polynomial is y=' + exprsn1\n",
    "        print 'The expression for the second polynomial is y=' + exprsn2\n",
    "        print 'The expression for the third polynomial is y=' + exprsn3"
   ]
  },
  {
   "cell_type": "code",
   "execution_count": 4,
   "metadata": {
    "collapsed": false,
    "scrolled": true,
    "slideshow": {
     "slide_type": "-"
    }
   },
   "outputs": [
    {
     "data": {
      "image/png": "[encoded data removed]",
      "text/plain": [
       "<matplotlib.figure.Figure at 0x68f92b0>"
      ]
     },
     "metadata": {},
     "output_type": "display_data"
    },
    {
     "name": "stdout",
     "output_type": "stream",
     "text": [
      "The expression for the first polynomial is y=0.008\n",
      "The expression for the second polynomial is y=-0.248+0.789x^1\n",
      "The expression for the third polynomial is y=0.083-0.796x^1+1.726x^2-0.080x^3\n"
     ]
    }
   ],
   "source": [
    "regression_example_draw(degree1=0,degree2=1,degree3=3, ifprint=True)"
   ]
  },
  {
   "cell_type": "markdown",
   "metadata": {
    "slideshow": {
     "slide_type": "skip"
    }
   },
   "source": [
    "> **Remark**\n",
    ">    - In the above image, we try to predict the true sinusoidal curve hidden in the data.\n",
    ">    - $0\\text{th}$ order means $\\phi(x_n)=1$\n",
    ">    - $1\\text{th}$ order means $\\phi(x_n)=[1, x_n]^T$\n",
    ">    - $3\\text{th}$ order means $\\phi(x_n)=[1, x_n, x_n^2, x_n^3]^T$\n",
    ">    - As the degree M increases, the learned curve matches the observed data better\n",
    ">    - In real world, the model for data label is usually $$t = z + \\epsilon$$ The true state/label is $z$, but it's corrupted by some noise $\\epsilon$ so what we observe is actually $z + \\epsilon$. Many machine tasks are essentially to infer $z$ of new observations based on $z + \\epsilon$ of training dataset."
   ]
  },
  {
   "cell_type": "markdown",
   "metadata": {
    "slideshow": {
     "slide_type": "slide"
    }
   },
   "source": [
    "### Basis Functions\n",
    "- For feature basis function, we used polynomial functions for example above. \n",
    "- In fact, we have multiple choices for basis function $\\phi_j(\\vec{x})$.\n",
    "- Different basis functions will produce different features, thus may have different performances in prediction."
   ]
  },
  {
   "cell_type": "code",
   "execution_count": 5,
   "metadata": {
    "collapsed": true,
    "slideshow": {
     "slide_type": "skip"
    }
   },
   "outputs": [],
   "source": [
    "def set_nice_plot_labels(axs):\n",
    "    axs[0].set_title(r\"$ \\phi_j(x) = x^j$\", fontsize=18, y=1.08);\n",
    "    axs[0].set_xlabel(\"Polynomial\", fontsize=18);\n",
    "    axs[1].set_title(r\"$ \\phi_j(x) = \\exp\\left( - \\frac{(x-\\mu_j)^2}{2s^2} \\right)$\", fontsize=18, y=1.08);\n",
    "    axs[1].set_xlabel(\"Gaussian\", fontsize=18);\n",
    "    axs[2].set_title(r\"$ \\phi_j(x) = (1  + \\exp\\left(\\frac{\\mu_j-x}{s}\\right))^{-1}$\", fontsize=18, y=1.08);\n",
    "    axs[2].set_xlabel(\"Sigmoid\", fontsize=18);\n",
    "    \n",
    "def basis_function_plot():    \n",
    "    x = np.linspace(-1,1,100);\n",
    "    f, axs = plt.subplots(1, 3, sharex=True, figsize=(12,4));\n",
    "    for j in range(8):\n",
    "        axs[0].plot(x, np.power(x,j));\n",
    "        axs[1].plot(x, np.exp( - (x - j/7 + 0.5)**2 / 2*5**2 ));\n",
    "        axs[2].plot(x, 1 / (1 + np.exp( - (x - j/5 + 0.5) * 5)) );\n",
    "\n",
    "    set_nice_plot_labels(axs) # I'm hiding some helper code that adds labels"
   ]
  },
  {
   "cell_type": "code",
   "execution_count": 6,
   "metadata": {
    "collapsed": false,
    "slideshow": {
     "slide_type": "-"
    }
   },
   "outputs": [
    {
     "data": {
      "image/png": "[encoded data removed]",
      "text/plain": [
       "<matplotlib.figure.Figure at 0x6c92198>"
      ]
     },
     "metadata": {},
     "output_type": "display_data"
    }
   ],
   "source": [
    "basis_function_plot()"
   ]
  },
  {
   "cell_type": "markdown",
   "metadata": {
    "slideshow": {
     "slide_type": "slide"
    }
   },
   "source": [
    "### Linear Regression (General Case)\n",
    "- The function $y(\\vec{x}_n, \\vec{w})$ is linear in parameters $\\vec{w}$.\n",
    "    - **Goal:** Find the best value for the weights $\\vec{w}$.\n",
    "    - For simplicity, add a **bias term** $\\phi_0(\\vec{x}_n) = 1$.\n",
    "$$\n",
    "\\begin{align}\n",
    "y(\\vec{x}_n, \\vec{w})\n",
    "&= w_0 \\phi_0(\\vec{x}_n)+w_1 \\phi_1(\\vec{x}_n)+ w_2 \\phi_2(\\vec{x}_n)+\\dots +w_{M-1} \\phi_{M-1}(\\vec{x}_n) \\\\\n",
    "&= \\sum_{j=0}^{M-1} w_j \\phi_j(\\vec{x}_n) \\\\\n",
    "&= \\vec{w}^T \\phi(\\vec{x}_n)\n",
    "\\end{align}\n",
    "$$\n",
    "of which $\\phi(\\vec{x}_n) = [\\phi_0(\\vec{x}_n),\\phi_1(\\vec{x}_n),\\phi_2(\\vec{x}_n), \\dots, \\phi_{M-1}(\\vec{x}_n)]^T$\n"
   ]
  },
  {
   "cell_type": "markdown",
   "metadata": {
    "slideshow": {
     "slide_type": "slide"
    }
   },
   "source": [
    "## Least Squares\n",
    "### Least Squares: Objective Function\n",
    "- We will find the solution $\\vec{w}$ to linear regression by minimizing a cost/objective function.\n",
    "- When the objective function is sum of squared errors (sum differences between target $t$ and prediction $y$ over entire training data), this approach is also called **least squares**.\n",
    "- The objective function is \n",
    "$$\n",
    "E(\\vec{w}) \n",
    "= \\frac12 \\sum_{n=1}^N (y(\\vec{x}_n, \\vec{w}) - t_n)^2\n",
    "= \\frac12 \\sum_{n=1}^N \\left( \\sum_{j=0}^{M-1} w_j\\phi_j(\\vec{x}_n) - t_n \\right)^2\n",
    "= \\frac12 \\sum_{n=1}^N \\left( \\vec{w}^T \\phi(\\vec{x}_n) - t_n \\right)^2\n",
    "$$\n",
    "<center> <img src=\"images/least-squares-objective.png\"  style=\"width:304px;height:228px;\"> </center>\n",
    "<center><span>(Minizing the objective function is equivalent to minimizing sum of squares of green segments.)</span></center>"
   ]
  },
  {
   "cell_type": "markdown",
   "metadata": {
    "slideshow": {
     "slide_type": "slide"
    }
   },
   "source": [
    "### How to Minimize the Objective Function?\n",
    "- We will solve the least square problem in two approaches:\n",
    "    - **Gradient Descent** Method: approach the solution step by step. We will show two ways when iterate:\n",
    "        - **Batch Gradient Descent**\n",
    "        - **Stochastic Gradient Descent**\n",
    "    - **Closed Form** Solution"
   ]
  },
  {
   "cell_type": "markdown",
   "metadata": {
    "slideshow": {
     "slide_type": "slide"
    }
   },
   "source": [
    "#### Method I: Gradient Descent—Gradient Calculation\n",
    "- To minimize the objective function, take derivative w.r.t coefficient vector $\\vec{w}$:\n",
    "$$\n",
    "\\begin{align}\n",
    "\\nabla_\\vec{w} E(\\vec{w})\n",
    "&= \\frac{\\partial}{\\partial \\vec{w}} \\left[ \\frac12 \\sum_{n=1}^N \\left( \\vec{w}^T \\phi(\\vec{x}_n) - t_n \\right)^2 \\right] \\\\\n",
    "&= \\sum_{n=1}^N \\frac{\\partial}{\\partial \\vec{w}} \\left[ \\frac12 \\left( \\vec{w}^T\\phi(x_n) - t_n \\right)^2 \\right] \\\\\n",
    "\\text{Applying chain rule:}\n",
    "&= \\sum_{n=1}^N \\left[ \\frac12 \\cdot 2 \\cdot  \\left( \\vec{w}^T\\phi(x_n) - t_n \\right) \\cdot \\frac{\\partial}{\\partial \\vec{w}} \\vec{w}^T\\phi(x_n) \\right] \\\\\n",
    "&= \\sum_{n=1}^N \\left( \\vec{w}^T\\phi(x_n) - t_n \\right)\\phi(x_n)\n",
    "\\end{align}\n",
    "$$\n",
    "- Since we are taking derivative of a scalar $E(\\vec{w})$ w.r.t a vector $\\vec{w}$, the derivative $\\nabla_\\vec{w} E(\\vec{w})$ will be a vector.\n",
    "- For details about matrix/vector derivative, please refer to appendix attached in the end of the slide."
   ]
  },
  {
   "cell_type": "markdown",
   "metadata": {
    "slideshow": {
     "slide_type": "slide"
    }
   },
   "source": [
    "#### Method I-1: Gradient Descent—Batch Gradient Descent\n",
    "- **Input**: Given dataset $\\{(\\vec{x}_n, t_n)\\}_{n=1}^N$\n",
    "- **Initialize**: $\\vec{w}_0$, learning rate $\\eta$\n",
    "- **Repeat** until convergence:\n",
    "    - $\\nabla_{\\vec{w}_{old}} E(\\vec{w}) = \\sum_{n=1}^N \\left( \\vec{w}_{old}^T\\phi(\\vec{x}_n) - t_n \\right)\\phi(\\vec{x}_n)$\n",
    "    - $\\vec{w}_{new} = \\vec{w}_{old}-\\eta \\nabla_{\\vec{w}_{old}} E(\\vec{w})$\n",
    "- **End**\n",
    "- **Output**: $\\vec{w}_{final}$"
   ]
  },
  {
   "cell_type": "markdown",
   "metadata": {
    "slideshow": {
     "slide_type": "slide"
    }
   },
   "source": [
    "#### Method I-2: Gradient Descent—Stochastic Gradient Descent\n",
    "**Main Idea:**  Instead of computing batch gradient (over entire training data), just compute gradient for individual training sample and update.\n",
    "\n",
    "- **Input**: Given dataset $\\{(\\vec{x}_n, t_n)\\}_{n=1}^N$\n",
    "- **Initialize**: $\\vec{w}_0$, learning rate $\\eta$\n",
    "- **Repeat** until convergence:\n",
    "    - Random shuffle $\\{(\\vec{x}_n, t_n)\\}_{n=1}^N$\n",
    "    - **For** $n=1,\\dots,N$ **do**:\n",
    "        - $\\nabla_{\\vec{w}_{old}}E(\\vec{w} | \\vec{x}_n) = \\left( \\vec{w}_{old}^T\\phi(\\vec{x}_n) - t_n \\right)\\phi(\\vec{x}_n)$\n",
    "        - $\\vec{w}_{new} = \\vec{w}_{old}-\\eta \\nabla_{\\vec{w}_{old}}E(\\vec{w} | \\vec{x}_n)$\n",
    "    - **End**\n",
    "- **End**\n",
    "- **Output**: $\\vec{w}_{final}$"
   ]
  },
  {
   "cell_type": "markdown",
   "metadata": {
    "slideshow": {
     "slide_type": "skip"
    }
   },
   "source": [
    "> **Remark   **\n",
    ">    - The derivative is computed as followimg:\n",
    "    $$\n",
    "    \\begin{align}\n",
    "    \\nabla_\\vec{w}E(\\vec{w} | \\vec{x}_n)\n",
    "    &= \\frac{\\partial}{\\partial \\vec{w}} \\left[ \\frac12 \\left( \\vec{w}^T \\phi(\\vec{x}_n) - t_n \\right)^2 \\right] \\\\\n",
    "    &= \\left( \\vec{w}^T\\phi(\\vec{x}_n) - t_n \\right)\\phi(\\vec{x}_n)\n",
    "    \\end{align}\n",
    "    $$\n",
    "\n",
    ">    - This derivative w.r.t individual sample is just one summand of gradient in batch gradient descent.\n",
    ">    - Sometimes, stochastic gradient descent has faster convergence than batch gradient descent."
   ]
  },
  {
   "cell_type": "markdown",
   "metadata": {
    "slideshow": {
     "slide_type": "slide"
    }
   },
   "source": [
    "#### Method II: Closed Form Solution\n",
    "**Main Idea:** Compute gradient and set to gradient to zero, solving in closed form.\n",
    "- Objective Function $E(\\vec{w}) = \\frac12 \\sum_{n=1}^N \\left( \\vec{w}^T \\phi(\\vec{x}_n) - t_n \\right)^2 = \\frac12 \\sum_{n=1}^N \\left( \\phi(\\vec{x}_n)^T \\vec{w} - t_n \\right)^2$\n",
    "- Let $\\vec{e} = [\\phi(\\vec{x}_1)^T \\vec{w} - t_1,\\quad \\phi(\\vec{x}_2)^T \\vec{w} - t_2, \\quad \\dots ,\\quad \\phi(\\vec{x}_N)^T \\vec{w} - t_N]^T$, we have $$E(\\vec{w}) = \\frac12 \\vec{e}^T \\vec{e} = \\frac12 \\parallel \\vec{e}\\ \\parallel^2$$\n",
    "- Look at $\\vec{e}$:\n",
    "$$\n",
    "\\vec{e} = \n",
    "\\begin{bmatrix}\n",
    "\\phi(\\vec{x}_1)^T\\\\ \n",
    "\\vdots\\\\\n",
    "\\phi(\\vec{x}_N)^T\n",
    "\\end{bmatrix}\n",
    "\\vec{w}-\n",
    "\\begin{bmatrix}\n",
    "t_1\\\\ \n",
    "\\vdots\\\\\n",
    "t_N\n",
    "\\end{bmatrix}\n",
    "\\triangleq \\Phi \\vec{w}-\\vec{t}\n",
    "$$\n",
    "Here $\\Phi \\in \\R^{N \\times M}$ is called **design matrix**. Each row represents one sample. Each column represents one feature\n",
    "$$\\Phi = \\begin{bmatrix}\n",
    "\\phi(\\vec{x}_1)^T\\\\ \n",
    "\\phi(\\vec{x}_2)^T\\\\ \n",
    "\\vdots\\\\\n",
    "\\phi(\\vec{x}_N)^T\n",
    "\\end{bmatrix}\n",
    "= \\begin{bmatrix}\n",
    "\\phi_0(\\vec{x}_1) & \\phi_1(\\vec{x}_1) & \\cdots & \\phi_{M-1}(\\vec{x}_1) \\\\\n",
    "\\phi_0(\\vec{x}_2) & \\phi_1(\\vec{x}_2) & \\cdots & \\phi_{M-1}(\\vec{x}_2) \\\\\n",
    "\\vdots & \\vdots & \\ddots & \\vdots \\\\\n",
    "\\phi_0(\\vec{x}_N) & \\phi_1(\\vec{x}_N) & \\cdots & \\phi_{M-1}(\\vec{x}_N) \\\\\n",
    "\\end{bmatrix}\n",
    "$$"
   ]
  },
  {
   "cell_type": "markdown",
   "metadata": {
    "slideshow": {
     "slide_type": "slide"
    }
   },
   "source": [
    "- From $E(\\vec{w}) = \\frac12 \\left \\| \\vec{e} \\right \\|^2 = \\frac12 \\vec{e}^T \\vec{e}$ and $\\vec{e}=\\Phi \\vec{w}-\\vec{t}$, we have\n",
    "$$\n",
    "\\begin{align}\n",
    "E(\\vec{w}) \n",
    "& = \\frac12 \\left \\| \\Phi \\vec{w}-\\vec{t} \\right \\|^2=\\frac12 (\\Phi \\vec{w}-\\vec{t})^T (\\Phi \\vec{w}-\\vec{t}) \\\\\n",
    "& = \\frac12 \\vec{w}^T \\Phi^T \\Phi \\vec{w} - \\vec{t}^T \\Phi \\vec{w} + \\frac12 \\vec{t}^T \\vec{t}\n",
    "\\end{align}\n",
    "$$\n",
    "- So the derivative is $$\\nabla_\\vec{w} E(\\vec{w}) = \\Phi^T\\Phi - \\Phi^T \\vec{t}$$"
   ]
  },
  {
   "cell_type": "markdown",
   "metadata": {
    "slideshow": {
     "slide_type": "skip"
    }
   },
   "source": [
    "> **Remark**\n",
    ">    - Note that this derivative can simply be obtained from the derivative we just derived in gradient descent method, which is\n",
    "$$\n",
    "\\begin{align}\n",
    "\\nabla_\\vec{w} E(\\vec{w}) \n",
    "&= \\sum_{n=1}^N \\left( \\vec{w}^T\\phi(x_n) - t_n \\right)\\phi(x_n) & \\text{non-matrix/vector form}  \\\\\n",
    "&= \\Phi^T\\Phi \\vec{w} - \\Phi^T \\vec{t} & \\text{matrix/vector form} \n",
    "\\end{align}\n",
    "$$\n",
    ">    - For gradient descent and closed form solution we obtain the derivative from two different perspectives, **non-matrix/vector** form and **matrix/vector** form. You could choose whichever you like when in use. We suggest matrix/vector form which is more neat.\n",
    ">    - From $\\vec{e}=\\Phi \\vec{w}-\\vec{t}$, we know that $\\Phi \\vec{w}$ is the prediction of training samples and $\\vec{e}$ is just the residual error. What we are doing in least squares is just making prediction of training samples as close to training labels as possible, i.e. $\\Phi \\vec{w} \\approx \\vec{t}$"
   ]
  },
  {
   "cell_type": "markdown",
   "metadata": {
    "slideshow": {
     "slide_type": "-"
    }
   },
   "source": [
    "- To minimize $E(\\vec{w})$, we need to let $\\nabla_\\vec{w} E(\\vec{w}) = \\Phi^T\\Phi \\vec{w} - \\Phi^T \\vec{t} = 0$, which is also $\\Phi^T\\Phi \\vec{w} = \\Phi^T \\vec{t}$\n",
    "- When $\\Phi^T \\Phi$ is **invertible** ($\\Phi$ has *linearly independent columns*), we simply have \n",
    "$$\n",
    "\\begin{align}\n",
    "\\hat{\\vec{w}}\n",
    "&=(\\Phi^T \\Phi)^{-1} \\Phi^T \\vec{t} \\\\\n",
    "&\\triangleq \\Phi^\\dagger \\vec{t}\n",
    "\\end{align}\n",
    "$$\n",
    "of which $\\Phi^\\dagger$ is called the **Moore-Penrose Pseudoinverse** of $\\Phi$.\n",
    "- We will talk about case $\\Phi^T \\Phi$ is **non-invertible** later."
   ]
  },
  {
   "cell_type": "markdown",
   "metadata": {
    "slideshow": {
     "slide_type": "skip"
    }
   },
   "source": [
    "> **Remark**\n",
    ">    - A common mistake is writing $\\hat{\\vec{w}}=(\\Phi^T \\Phi)^{-1} \\Phi^T \\vec{t}=\\Phi^{-1}(\\Phi^T)^{-1}\\Phi^T \\vec{t}=\\Phi^{-1} \\vec{t}$. This is wrong because $\\Phi$ is not necessarily square and invertible.\n",
    ">    - When $\\Phi$ is square and invertible, you are free to write that."
   ]
  },
  {
   "cell_type": "markdown",
   "metadata": {
    "slideshow": {
     "slide_type": "slide"
    }
   },
   "source": [
    "#### Digression: Moore-Penrose Pseudoinverse\n",
    "- When we have a matrix $A$ that is non-invertible or *not even square*, we might want to invert anyway\n",
    "- For these situations we use $A^\\dagger$, the **Moore-Penrose Pseudoinverse** of $A$\n",
    "- In general, we can get $A^\\dagger$ by SVD: if we write $A \\in \\R^{m \\times n} = U_{m \\times m} \\Sigma_{m \\times n} V_{n \\times n}^T$ then $A^\\dagger \\in \\R^{n \\times m} = V \\Sigma^\\dagger U^T$, where $\\Sigma^\\dagger \\in \\R^{n \\times m}$ is obtained by taking reciprocals of *non-zero entries* of $\\Sigma^T$.\n",
    "- Particularly, when $A$ has linearly independent columns then $A^\\dagger = (A^T A)^{-1} A^T$. When $A$ is invertible, then $A^\\dagger = A^{-1}$."
   ]
  },
  {
   "cell_type": "markdown",
   "metadata": {
    "slideshow": {
     "slide_type": "skip"
    }
   },
   "source": [
    "> **Remark**\n",
    ">- The solution to $A\\vec{x}=\\vec{b}$ is $\\hat{\\vec{x}}=A^{\\dagger}b$ in the sense that $\\left \\| A\\vec{x} - \\vec{b} \\right \\|^2$ is minimized. Meanwhile, among all the minimizers that achieve the same minimal value of $\\left \\| A\\vec{x} - \\vec{b} \\right \\|_2^2$, $\\hat{\\vec{x}}$ has the smallest norm $\\left \\| \\vec{x} \\right \\|_2$.\n",
    ">- $Ax$ **doesn't necessarily** equal $\\vec{b}$:\n",
    ">    - When $\\vec{b}$ is in the column space of $A$, $A\\vec{x} = \\vec{b}$.\n",
    ">    - When $\\vec{b}$ is **not** in the column space of $A$, $A\\vec{x} \\neq \\vec{b}$.        "
   ]
  },
  {
   "cell_type": "markdown",
   "metadata": {
    "slideshow": {
     "slide_type": "slide"
    }
   },
   "source": [
    "#### Back to Closed Form Solution\n",
    "- From previous derivation, we have $\\hat{w}=(\\Phi^T \\Phi)^{-1} \\Phi^T \\vec{t} \\triangleq \\Phi^\\dagger \\vec{t}$.\n",
    "- What if $\\Phi^T \\Phi$ is non-invertible? This corresponds to the case where $\\Phi$ doesn't have linearly independent columns. For dataset, this means the feature vector of certain sample is the linear combination of feature vectors of some other samples.\n",
    "- We could still resolve this using pseudoinverse.\n",
    "- To make $\\nabla_\\vec{w} E(\\vec{w}) = \\Phi^T\\Phi \\vec{w} - \\Phi^T \\vec{t} = 0$, we have\n",
    "$$ \\hat{\\vec{w}} = (\\Phi^T\\Phi)^\\dagger \\Phi^T \\vec{t} = \\Phi^\\dagger \\vec{t}$$\n",
    "of which $(\\Phi^T\\Phi)^\\dagger\\Phi^T = \\Phi^\\dagger$. This is left as an exercise. (**Hint:** use SVD)\n",
    "- Now we could conclude the optimal $\\vec{w}$ in the sense that minimizes sum of squared errors is $$\\boxed{\\hat{\\vec{w}} = \\Phi^\\dagger \\vec{t}}$$"
   ]
  },
  {
   "cell_type": "markdown",
   "metadata": {
    "slideshow": {
     "slide_type": "skip"
    }
   },
   "source": [
    ">**Remark**\n",
    "> - In the above derivation, we get $\\hat{\\vec{w}} = \\Phi^\\dagger \\vec{t}$ by letting the derivative $\\nabla_\\vec{w} E(\\vec{w})=0$. Actually, $\\hat{\\vec{w}}=\\Phi^\\dagger \\vec{t}$ is just the solution to $\\Phi \\vec{w} = \\vec{t}$ in the sense that $\\left \\| \\Phi\\vec{w} - \\vec{t} \\right \\|_2^2$ is minimized. Meanwhile, among all the minimizers that achieve the same minimal value of $\\left \\| \\Phi\\vec{w} - \\vec{t} \\right \\|_2^2$, $\\hat{\\vec{w}}$ has the smallest norm $\\left \\| \\vec{w} \\right \\|_2$.\n",
    "> - Now that we have neat and closed form solution to least squares, why do we introduce gradient descent method?\n",
    ">     - $\\hat{w}=(\\Phi^T \\Phi)^{-1} \\Phi^T \\vec{t}$ involves matrix inversion. It could be quite computationally expensive when the dimension $M$ is high. On the other hand, gradient descent involves nothing but matrix multiplication which can be computed much faster."
   ]
  },
  {
   "cell_type": "markdown",
   "metadata": {
    "slideshow": {
     "slide_type": "skip"
    }
   },
   "source": [
    "## Appendix I: Differential Operation in Matrix Calculus\n",
    "### General Gradient\n",
    "- Suppose that $f : \\R^{m \\times n} \\rightarrow \\R$, that is, the function $f$\n",
    "    - takes as input a matrix $A \\in \\R^{m\\times n} = [a_{ij}]$\n",
    "    - returns a real value\n",
    "\n",
    "- Then, the **gradient** of $f$ with respect to $A$ is:\n",
    "\n",
    "$$\n",
    "\\nabla_A f(A) \\in \\R^{m \\times n} = \\begin{bmatrix}\n",
    "%\n",
    "\\frac{\\partial f}{\\partial a_{11}}\n",
    "    & \\frac{\\partial f}{\\partial a_{12}} \n",
    "    & \\cdots \n",
    "    & \\frac{\\partial f}{\\partial a_{1n}} \\\\ \n",
    "%\n",
    "\\frac{\\partial f}{\\partial a_{21}}\n",
    "    & \\frac{\\partial f}{\\partial a_{22}} \n",
    "    & \\cdots \n",
    "    & \\frac{\\partial f}{\\partial a_{2n}} \\\\\n",
    "%\n",
    "\\vdots & \\vdots & \\ddots & \\vdots \\\\\n",
    "%\n",
    "\\frac{\\partial f}{\\partial a_{m1}}\n",
    "    & \\frac{\\partial f}{\\partial a_{m2}} \n",
    "    & \\cdots \n",
    "    & \\frac{\\partial f}{\\partial a_{mn}} \\\\ \n",
    "\\end{bmatrix}\n",
    "$$\n",
    "\n",
    "$$\n",
    "[\\nabla_A f(A)]_{ij} = \\frac{\\partial f}{\\partial a_{ij}}\n",
    "$$\n",
    "\n",
    "- Note that the size of $\\nabla_A f(A)$ is always the same as the size of $A$.  \n",
    "- In particular, if $A$ is a vector $\\vec{x} \\in \\R^n$,\n",
    "$$\n",
    "\\nabla_\\vec{x} f(\\vec{x}) = \\begin{bmatrix}\n",
    "    \\frac{\\partial f}{\\partial \\vec{x}_1} \\\\\n",
    "    \\frac{\\partial f}{\\partial \\vec{x}_2} \\\\\n",
    "    \\cdots \\\\\n",
    "    \\frac{\\partial f}{\\partial \\vec{x}_n}\n",
    "\\end{bmatrix}\n",
    "$$\n",
    "\n",
    "- The gradient is a **linear operator** from $\\R^n \\mapsto \\R^n$:\n",
    "    - $ \\nabla_x (f + g) = \\nabla_x f + \\nabla_x g $\n",
    "    - $ \\forall\\, c \\in \\R, \\nabla_x (c f) = c \\nabla_x f$\n",
    "\n",
    "### Gradient of Linear Functions\n",
    "- The gradient of the **linear function** $f(\\vec{x}) = \\sum_{k=1}^n b_k x_k = \\vec{b}^T \\vec{x}$ is\n",
    "$$\n",
    "\\frac{\\partial f}{\\partial x_k}\n",
    "= \\frac{\\partial}{\\partial x_k} \\sum_{k=1}^n b_k x_k\n",
    "= \\sum_{k=1}^n \\frac{\\partial}{\\partial x_k} b_k x_k\n",
    "= b_k\n",
    "$$\n",
    "- Compact form\n",
    "$$\n",
    "\\nabla_\\vec{x} \\vec{b}^T \\vec{x} = \\vec{b}\n",
    "$$\n",
    "- Similarly,\n",
    "$$\n",
    "\\nabla_\\vec{x} \\vec{x}^T \\vec{b} = \\vec{b}\n",
    "$$\n",
    "\n",
    "### Gradient of Quadratic Forms\n",
    "- Every symmetric $A \\in \\R^{n \\times n}$ corresponds to a **quadratic form**:\n",
    "    $$ f(x) = \\sum_{i=1}^n \\sum_{j=1}^n x_i A_{ij} x_j = \\vec{x}^T A \\vec{x} $$\n",
    "- The partial derivatives are\n",
    "    $$ \n",
    "    \\frac{\\partial f}{\\partial x_k}\n",
    "    = 2 \\sum_{j=1}^n A_{ij} x_j\n",
    "    = 2 [A\\vec{x}]_i\n",
    "    $$\n",
    "- Compact form $$\\nabla_\\vec{x} \\vec{x}^T A \\vec{x} = 2 A \\vec{x}$$"
   ]
  },
  {
   "cell_type": "markdown",
   "metadata": {
    "slideshow": {
     "slide_type": "skip"
    }
   },
   "source": [
    "## Appendix II:  Geometric Interpretation of Least Squares\n",
    "- Assume number of samples is much larger than number of features, i.e. $N>>M$ ($\\Phi \\in \\R^{N \\times M}$ is a *tall* matrix).\n",
    "- The columns of $\\Phi$ construct a $M$-dimensional subspace $\\mathcal{S}$.\n",
    "- Target $\\mathbf t = (t_1, \\dots, t_N)$ is a vector in $N$-dimensional space\n",
    "- Prediction $\\vec{y}(\\mathcal{D}, \\vec{w}) = \\Phi \\vec{w} \\in \\mathcal{S}$.\n",
    "- The prediction $\\hat{\\vec{y}} (\\mathcal{D}, \\hat{\\vec{w}})$ we get via least squares is the projection of $\\vec{t}$ onto $\\mathcal{S}$. In other words, of all $\\vec{w} \\in \\R^{M}$, $\\hat{\\vec{w}}$ has smallest $\\left \\| \\Phi \\vec{w} \\right \\|$.    \n",
    "<center> <img src=\"images/least-squares-projection.png\"  style=\"width:404px;height:228px;\"> </center>"
   ]
  },
  {
   "cell_type": "code",
   "execution_count": null,
   "metadata": {
    "collapsed": true
   },
   "outputs": [],
   "source": []
  }
 ],
 "metadata": {
  "celltoolbar": "Slideshow",
  "kernelspec": {
   "display_name": "Python 2",
   "language": "python",
   "name": "python2"
  },
  "language_info": {
   "codemirror_mode": {
    "name": "ipython",
    "version": 2
   },
   "file_extension": ".py",
   "mimetype": "text/x-python",
   "name": "python",
   "nbconvert_exporter": "python",
   "pygments_lexer": "ipython2",
   "version": "2.7.11"
  }
 },
 "nbformat": 4,
 "nbformat_minor": 0
}
